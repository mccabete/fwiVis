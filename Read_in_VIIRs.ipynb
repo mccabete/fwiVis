{
 "cells": [
  {
   "cell_type": "code",
   "execution_count": 1,
   "id": "139bf2dd-c917-4c4f-8e7d-735af488cb0c",
   "metadata": {
    "tags": []
   },
   "outputs": [],
   "source": [
    "#import fwiVis.fwiVis as fv\n",
    "import s3fs\n",
    "s3 = s3fs.S3FileSystem(anon=False)\n",
    "import pandas as pd\n",
    "import geopandas as gpd\n",
    "from datetime import date\n",
    "from shapely.geometry import Point, Polygon, MultiPolygon \n",
    "from shapely.ops import unary_union\n",
    "import sys\n",
    "sys.path.insert(0, '/projects/fireatlas_nrt/')\n",
    "import FireMain, FireGpkg, FireGpkg_sfs, FireIO"
   ]
  },
  {
   "cell_type": "code",
   "execution_count": 4,
   "id": "003d3880-7e6d-4c60-8502-f8a3be074390",
   "metadata": {
    "tags": []
   },
   "outputs": [
    {
     "data": {
      "text/plain": [
       "['maap-ops-workspace/shared/gsfc_landslides/FEDSinput/static_sources/',\n",
       " 'maap-ops-workspace/shared/gsfc_landslides/FEDSinput/static_sources/README.txt',\n",
       " 'maap-ops-workspace/shared/gsfc_landslides/FEDSinput/static_sources/VIIRS_Global_flaring_d.7_slope_0.029353_2017_web_v1.csv']"
      ]
     },
     "execution_count": 4,
     "metadata": {},
     "output_type": "execute_result"
    }
   ],
   "source": [
    "s3.ls(\"s3://maap-ops-workspace/shared/gsfc_landslides/FEDSinput/static_sources/\")"
   ]
  },
  {
   "cell_type": "code",
   "execution_count": 12,
   "id": "c57382eb-ba9f-42d9-8a7c-5a4fdadadd60",
   "metadata": {
    "tags": []
   },
   "outputs": [],
   "source": [
    "shape = pd.read_csv(\"s3://maap-ops-workspace/shared/gsfc_landslides/FEDSinput/static_sources/VIIRS_Global_flaring_d.7_slope_0.029353_2017_web_v1.csv\")\n",
    "\n",
    "shape =  gpd.GeoDataFrame(shape, geometry=gpd.points_from_xy(shape['Longitude'], shape['Latitude']))\n",
    "\n",
    "shape = shape.set_crs(\"EPSG:4326\")\n",
    "\n",
    "shape2 = shape.dropna().geometry\n",
    "static_sources = unary_union(shape2.geometry)"
   ]
  },
  {
   "cell_type": "code",
   "execution_count": 54,
   "id": "ad782fb5-890e-4a52-bf29-b08ec858c627",
   "metadata": {
    "tags": []
   },
   "outputs": [],
   "source": [
    "firesrc = \"SNPP\"  # source - ['SNPP', 'NOAA20', 'VIIRS', 'BAMOD']:\n",
    "firenrt = False # NRT - True, False\n",
    "firessr = \"viirs\"  # sensor - 'mcd64'\n",
    "#print(df)\n",
    "\n",
    "tst = (2019, 5, 1, \"PM\")\n",
    "ted = (2019, 5, 3, \"PM\")\n",
    "\n",
    "region = (\"Static_sources\", static_sources)\n",
    "\n"
   ]
  },
  {
   "cell_type": "code",
   "execution_count": 55,
   "id": "e5ae4660",
   "metadata": {
    "tags": []
   },
   "outputs": [
    {
     "name": "stdout",
     "output_type": "stream",
     "text": [
      "Temporary file not found: s3://maap-ops-workspace/shared/gsfc_landslides/FEDStemp-s3-conus/Static_sources_VNP14IMGML.201905.pkl.\n"
     ]
    }
   ],
   "source": [
    "t = tst\n",
    "\n",
    "sat=\"SNPP\"\n",
    "\n",
    "d = date(*t[:-1])\n",
    "if sat == \"SNPP\":\n",
    "    sathead = \"VNP14IMGML\"\n",
    "elif sat == \"NOAA20\":\n",
    "    sathead = \"VJ114IMGML\"\n",
    "else:\n",
    "    print(\"please set SNPP or NOAA20 for sat\")\n",
    "\n",
    "# load from pre-saved file\n",
    "df = FireIO.load_AFPtmp(d, head=region[0] + \"_\" + sathead + \".\")\n",
    "df"
   ]
  },
  {
   "cell_type": "code",
   "execution_count": null,
   "id": "34e74c5c",
   "metadata": {
    "tags": []
   },
   "outputs": [],
   "source": [
    "# if no pre-saved file, read from original VNP14IMGML file and do/save spatial filtering\n",
    "if df is None:\n",
    "    # read or form shape used for filtering active fires\n",
    "    shp_Reg = FireIO.get_reg_shp(region[1])\n",
    "\n",
    "    # read VJ114IMGML monthly file\n",
    "    if sat == \"SNPP\":\n",
    "        df = FireIO.read_VNP14IMGML(t[0], t[1])\n",
    "        df = df.loc[df[\"Type\"] == 0]  # type filtering\n",
    "    elif sat == \"NOAA20\":\n",
    "        df = FireIO.read_VJ114IMGML(t[0], t[1])\n",
    "        df = df.loc[df[\"mask\"] >= 7]\n",
    "    else:\n",
    "        print(\"please set SNPP or NOAA20 for sat\")\n",
    "\n",
    "    # do regional filtering\n",
    "    df = FireIO.AFP_regfilter(df, shp_Reg) ### Where the issue is. \n",
    "    print(df)\n",
    "    if len(df) == 0:\n",
    "        print(\"killed at filter\")\n",
    "    # set ampm\n",
    "    df = FireIO.AFP_setampm(df)\n",
    "    if len(df) == 0:\n",
    "        print(\"killed at am pm\")\n",
    "\n",
    "    # save to temporary file\n",
    "    FireIO.save_AFPtmp(df, d, head=region[0] + \"_\" + sathead + \".\")\n",
    "\n",
    "# extract active pixels at current time step  (day and ampm filter)\n",
    "#df = df.loc[(df[\"YYYYMMDD_HHMM\"].dt.day == t[2]) & (df[\"ampm\"] == t[-1])]\n",
    "\n",
    "# add the satellite information\n",
    "df[\"Sat\"] = sat\n",
    "\n",
    "# return selected columns; need to change column names first\n",
    "#df_AFP = df[cols]"
   ]
  },
  {
   "cell_type": "code",
   "execution_count": 103,
   "id": "08f008e3",
   "metadata": {},
   "outputs": [
    {
     "data": {
      "text/html": [
       "<div>\n",
       "<style scoped>\n",
       "    .dataframe tbody tr th:only-of-type {\n",
       "        vertical-align: middle;\n",
       "    }\n",
       "\n",
       "    .dataframe tbody tr th {\n",
       "        vertical-align: top;\n",
       "    }\n",
       "\n",
       "    .dataframe thead th {\n",
       "        text-align: right;\n",
       "    }\n",
       "</style>\n",
       "<table border=\"1\" class=\"dataframe\">\n",
       "  <thead>\n",
       "    <tr style=\"text-align: right;\">\n",
       "      <th></th>\n",
       "      <th>YYYYMMDD_HHMM</th>\n",
       "      <th>Lat</th>\n",
       "      <th>Lon</th>\n",
       "      <th>FRP</th>\n",
       "      <th>Confidence</th>\n",
       "      <th>DNFlag</th>\n",
       "      <th>Type</th>\n",
       "      <th>DT</th>\n",
       "      <th>DS</th>\n",
       "      <th>x</th>\n",
       "      <th>y</th>\n",
       "      <th>ampm</th>\n",
       "      <th>Sat</th>\n",
       "    </tr>\n",
       "  </thead>\n",
       "  <tbody>\n",
       "  </tbody>\n",
       "</table>\n",
       "</div>"
      ],
      "text/plain": [
       "Empty DataFrame\n",
       "Columns: [YYYYMMDD_HHMM, Lat, Lon, FRP, Confidence, DNFlag, Type, DT, DS, x, y, ampm, Sat]\n",
       "Index: []"
      ]
     },
     "execution_count": 103,
     "metadata": {},
     "output_type": "execute_result"
    }
   ],
   "source": [
    "df.loc[(df[\"YYYYMMDD_HHMM\"].dt.day == t[2]) & (df[\"ampm\"] == t[-1])]\n",
    "\n"
   ]
  },
  {
   "cell_type": "code",
   "execution_count": 21,
   "id": "21fe0104-821d-4e23-8a8c-d66571de8957",
   "metadata": {
    "tags": []
   },
   "outputs": [
    {
     "data": {
      "image/svg+xml": [
       "<svg xmlns=\"http://www.w3.org/2000/svg\" xmlns:xlink=\"http://www.w3.org/1999/xlink\" width=\"100.0\" height=\"100.0\" viewBox=\"46.283562 30.026022 2.0 1.9999999999999964\" preserveAspectRatio=\"xMinYMin meet\"><g transform=\"matrix(1,0,0,-1,0,62.052043999999995)\"><circle cx=\"47.283562\" cy=\"31.026022\" r=\"0.06\" stroke=\"#555555\" stroke-width=\"0.02\" fill=\"#66cc99\" opacity=\"0.6\" /></g></svg>"
      ],
      "text/plain": [
       "<shapely.geometry.point.Point at 0x7fe28af5fe80>"
      ]
     },
     "execution_count": 21,
     "metadata": {},
     "output_type": "execute_result"
    }
   ],
   "source": []
  }
 ],
 "metadata": {
  "kernelspec": {
   "display_name": "Python (env-feds)",
   "language": "python",
   "name": "env-feds"
  },
  "language_info": {
   "codemirror_mode": {
    "name": "ipython",
    "version": 3
   },
   "file_extension": ".py",
   "mimetype": "text/x-python",
   "name": "python",
   "nbconvert_exporter": "python",
   "pygments_lexer": "ipython3",
   "version": "3.10.6"
  }
 },
 "nbformat": 4,
 "nbformat_minor": 5
}
