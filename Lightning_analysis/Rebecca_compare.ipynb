{
 "cells": [
  {
   "cell_type": "code",
   "execution_count": 1,
   "id": "8003ff1f-86fd-499f-82d4-28c89de17a37",
   "metadata": {
    "tags": []
   },
   "outputs": [],
   "source": [
    "#import fwiVis.fwiVis as fv\n",
    "import s3fs\n",
    "s3 = s3fs.S3FileSystem(anon=False)\n",
    "from math import cos, asin, sqrt\n",
    "import re\n",
    "\n",
    "import numpy as np\n",
    "import geopandas as gpd\n",
    "import pandas as pd\n",
    "from matplotlib import pyplot as plt\n",
    "import os\n",
    "import rioxarray as rio\n",
    "import xarray as xr\n",
    "import rasterio\n",
    "import glob\n",
    "from shapely.errors import ShapelyDeprecationWarning\n",
    "from shapely.geometry import Point\n",
    "import warnings\n",
    "import folium\n",
    "import datetime\n",
    "import time\n",
    "from folium import plugins\n",
    "warnings.filterwarnings(\"ignore\", category=ShapelyDeprecationWarning) \n",
    "warnings.filterwarnings(\"ignore\", category=ShapelyDeprecationWarning) \n",
    "import contextily as cx\n",
    "from shapely.geometry import box\n",
    "import sys\n",
    "from datetime import datetime, timedelta\n",
    "from itertools import chain\n",
    "\n",
    "from datetime import date\n",
    "\n",
    "\n",
    "sys.path.insert(0, '/projects/old_shared/fire_weather_vis/base-fwi-vis/')\n",
    "import fwiVis.fwiVis as fv"
   ]
  },
  {
   "cell_type": "code",
   "execution_count": null,
   "id": "f33af609-b0a2-4300-89ec-0a21b0979c2d",
   "metadata": {
    "tags": []
   },
   "outputs": [],
   "source": [
    "abfa = gpd.read_file(\"/projects/old_shared/fire_weather_vis/Lightning_analysis/ABFA/final_viirs2023.gpkg\")"
   ]
  },
  {
   "cell_type": "code",
   "execution_count": null,
   "id": "cad39749-f7bb-4e52-9b94-c83beb14f918",
   "metadata": {
    "tags": []
   },
   "outputs": [],
   "source": [
    "abfa = abfa.cx[-48.45463578921794:-83.69877641421793, 62.94135765648493:44.25483911637959]"
   ]
  },
  {
   "cell_type": "code",
   "execution_count": null,
   "id": "f6a49f09-e323-44fa-b7ae-c3e694b617f9",
   "metadata": {
    "tags": []
   },
   "outputs": [],
   "source": [
    "abfa.explore()"
   ]
  },
  {
   "cell_type": "code",
   "execution_count": 7,
   "id": "74035549-23c6-4e2d-a721-8d1c815837ab",
   "metadata": {
    "tags": []
   },
   "outputs": [],
   "source": [
    "def prep_fire_files(path, crs = \"3571\"):\n",
    "    '''\n",
    "    Read in cvs of previously output GeoDataFrame as a GeoDataFrame with valid geometry column. \n",
    "    '''\n",
    "    fires = pd.read_csv(path)\n",
    "    fires = fires.rename(columns={\"geometry\":\"csv_geometry\"})\n",
    "    fires.t = fires.t.astype(\"str\")\n",
    "    fires.fireID  = fires.fireID.astype(\"str\")\n",
    "    #fires['csv_geometry'] =fires['csv_geometry'].apply(wkt.loads)\n",
    "    fires_geom = gpd.read_file(path, GEOM_POSSIBLE_NAMES=\"geometry\", KEEP_GEOM_COLUMNS=\"NO\")\n",
    "    fires_geom.t = fires_geom.t.astype(\"str\")\n",
    "    fires_geom.fireID  = fires_geom.fireID.astype(\"str\")\n",
    "    fires = fires_geom[[\"fireID\", \"t\", \"geometry\"]].merge(fires, on=[\"fireID\", \"t\"], how = \"left\")\n",
    "    fires = fires.set_crs(crs)\n",
    "    return (fires)\n",
    "\n",
    "\n",
    "path = \"/projects/old_shared/fire_weather_vis/Lightning_analysis/fwi_timeline_merge/Final_dataset_as_of_20240209.csv\" \n",
    "fires = prep_fire_files(path)"
   ]
  },
  {
   "cell_type": "code",
   "execution_count": 10,
   "id": "01d94994-d70e-4367-bf81-50a226d10830",
   "metadata": {
    "tags": []
   },
   "outputs": [],
   "source": [
    "fires.t = fires.t.astype(\"str\")"
   ]
  },
  {
   "cell_type": "code",
   "execution_count": null,
   "id": "1bceec34-457c-49d4-8284-b2298d0016d7",
   "metadata": {
    "tags": []
   },
   "outputs": [],
   "source": [
    "fires[[\"fireID\", \"geometry\", \"t\"]].explore(style_kwds = {\"fillOpacity\": 0})"
   ]
  },
  {
   "cell_type": "code",
   "execution_count": null,
   "id": "63ebeab6-b093-4d1f-9487-ec09285e6f32",
   "metadata": {},
   "outputs": [],
   "source": []
  }
 ],
 "metadata": {
  "kernelspec": {
   "display_name": "Python (fireatlas_oct4_2)",
   "language": "python",
   "name": "fireatlas_oct4"
  },
  "language_info": {
   "codemirror_mode": {
    "name": "ipython",
    "version": 3
   },
   "file_extension": ".py",
   "mimetype": "text/x-python",
   "name": "python",
   "nbconvert_exporter": "python",
   "pygments_lexer": "ipython3",
   "version": "3.11.7"
  }
 },
 "nbformat": 4,
 "nbformat_minor": 5
}
