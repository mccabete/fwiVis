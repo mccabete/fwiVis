{
 "cells": [
  {
   "cell_type": "code",
   "execution_count": 11,
   "id": "8b3142ce-a210-4809-a62c-666c5a826881",
   "metadata": {
    "tags": []
   },
   "outputs": [],
   "source": [
    "#import fwiVis.fwiVis as fv\n",
    "import s3fs\n",
    "s3 = s3fs.S3FileSystem(anon=False)\n",
    "from math import cos, asin, sqrt\n",
    "import re\n",
    "\n",
    "import numpy as np\n",
    "import geopandas as gpd\n",
    "import pandas as pd\n",
    "from matplotlib import pyplot as plt\n",
    "import os\n",
    "import rioxarray as rio\n",
    "import xarray as xr\n",
    "import rasterio\n",
    "import glob\n",
    "from shapely.errors import ShapelyDeprecationWarning\n",
    "from shapely.geometry import Point\n",
    "import warnings\n",
    "import folium\n",
    "import datetime\n",
    "import time\n",
    "from folium import plugins\n",
    "warnings.filterwarnings(\"ignore\", category=ShapelyDeprecationWarning) \n",
    "warnings.filterwarnings(\"ignore\", category=ShapelyDeprecationWarning) \n",
    "import contextily as cx\n",
    "from shapely.geometry import box\n",
    "import sys\n",
    "from datetime import datetime, timedelta\n",
    "from itertools import chain\n",
    "from bs4 import BeautifulSoup # I mamba installed bs4\n",
    "import requests\n",
    "\n",
    "from datetime import date\n",
    "\n",
    "\n",
    "sys.path.insert(0, '/projects/old_shared/fire_weather_vis/base-fwi-vis/')\n",
    "import fwiVis.fwiVis as fv\n",
    "\n"
   ]
  },
  {
   "cell_type": "markdown",
   "id": "589de7dc-72a8-482a-98bf-82f98f07092a",
   "metadata": {},
   "source": [
    "This is a notebook for extracting gridded FWI data assosiated with largefire files. This is differente from the \"Fire_timeline_extraction\" notebook because this notebook assumes two things:\n",
    "1) That the fire perimeters that are being assosiated with gridded FWI data are a big GDF generated from \"remerge fix\", where each fireID represents the *unmerged* portion of the fire. So if fires A and B will evenatually merge, the FWI will be assosiated with the centriod of \"A\", the centroid of \"B\" and eventually the centroid of \"A_B\". The DF of the centroids is \"old_shared/fire_weather_vis/Lightning_analysis/lf_centroids/March27_centroids_from_lf_kept_umerged_merged_seperate.csv\". \n",
    "\n",
    "2) That the fire perimeters only need to be assosiated with FWI, not the raw VIIRS timing, or candidate lightning strikes as the fire_Timeline_extraction function does. "
   ]
  },
  {
   "cell_type": "code",
   "execution_count": 2,
   "id": "4a640fc3-9f12-4149-89ee-6d39f7f1cadc",
   "metadata": {
    "tags": []
   },
   "outputs": [],
   "source": [
    "## Steps\n",
    "# - go into remerge_fix and write out the unmerged dataset (April_1_unmerged_fires.csv)\n",
    "# - read in\n",
    "# - steal the merging piece from the previously writen function -- might even eb easier honestly, and could be acomplished with just a bunch of merges? Maybe a groupby merge apply? \n",
    "# - Go re_do some of the supression stuff to see if it was sensitive to that\n",
    "# - be free!!!!!! Yay!!!"
   ]
  },
  {
   "cell_type": "code",
   "execution_count": 56,
   "id": "ad3a1286-d4ff-4402-a0b7-33ff7bbdf723",
   "metadata": {
    "tags": []
   },
   "outputs": [],
   "source": [
    "fires = fv.prep_fire_files(\"/projects/old_shared/fire_weather_vis/Lightning_analysis/fwi_timeline_only/April_1_unmerged_fires.csv\") \n",
    "#fires[fires.fireID.str.contains(\"_\")]"
   ]
  },
  {
   "cell_type": "code",
   "execution_count": null,
   "id": "2aaa89ea-624a-4d6c-9ea8-f7c96bbe70a6",
   "metadata": {
    "tags": []
   },
   "outputs": [],
   "source": [
    "#centroids = fv.prep_fire_files(\"/projects/old_shared/fire_weather_vis/Lightning_analysis/fwi_timeline_only/April_1_unmerged_fires.csv\")"
   ]
  },
  {
   "cell_type": "code",
   "execution_count": 58,
   "id": "346bafe6-82be-4ca0-a7b6-86f0f0cb6a9c",
   "metadata": {
    "tags": []
   },
   "outputs": [],
   "source": [
    "fires = fires[~fires.geometry.isna()] ## Woops, forgot to subset by just wheen the fires are active\n",
    "fires = fires[['fireID', 't', 'geometry','n_pixels',\n",
    "       'n_newpixels', 'farea', 'fperim', 'flinelen', 'duration', 'pixden',\n",
    "       'meanFRP']] # Lat and lon weren't really doing anything, were NaN. "
   ]
  },
  {
   "cell_type": "code",
   "execution_count": 59,
   "id": "57a9e4ea-8ab6-4741-a622-ff8ab7cc8aa0",
   "metadata": {
    "tags": []
   },
   "outputs": [
    {
     "data": {
      "text/plain": [
       "Index(['fireID', 't', 'geometry', 'n_pixels', 'n_newpixels', 'farea', 'fperim',\n",
       "       'flinelen', 'duration', 'pixden', 'meanFRP'],\n",
       "      dtype='object')"
      ]
     },
     "execution_count": 59,
     "metadata": {},
     "output_type": "execute_result"
    }
   ],
   "source": [
    "fires.columns"
   ]
  },
  {
   "cell_type": "code",
   "execution_count": 60,
   "id": "f1224e87-7c99-4575-bf65-9256641ccdac",
   "metadata": {
    "tags": []
   },
   "outputs": [],
   "source": [
    "def get_nccs_url(pattern, url = 'https://portal.nccs.nasa.gov/datashare/GlobalFWI/ForecastFWIEXPERIMENTAL/QuebecAllFires.Radius.25.km.401.biggestFires/GEOS-5/GEOS-5.IMERGEARLY/chicletDataNoSmoothing/', ext = 'csv'):    \n",
    "\n",
    "#url = 'https://portal.nccs.nasa.gov/datashare/GlobalFWI/ForecastFWIEXPERIMENTAL/QuebecAllFires.Radius.25.km.216.biggestFires/GEOS-5/GEOS-5.IMERGEARLY/chicletDataNoSmoothing/'\n",
    "#ext = 'csv'\n",
    "    pattern = pattern + \"_Lat\"\n",
    "    file_list = []\n",
    "    for file in listFD(url, ext):\n",
    "        file_list.append(file)\n",
    "\n",
    "    try_pd = pd.DataFrame(file_list, columns= [\"urls\"])\n",
    "    size = try_pd[try_pd.urls.str.contains(pattern)].urls.values.size\n",
    "    if(size == 0):\n",
    "        print(\"No matches found to pattern. Returning None.\")\n",
    "        return(None)\n",
    "    if(size >= 2):\n",
    "        print(\"Multiple matches found:\")\n",
    "        print(try_pd[try_pd.urls.str.contains(pattern)].urls.values)\n",
    "        raise ValueError()\n",
    "    url = try_pd[try_pd.urls.str.contains(pattern)].urls.values[0]\n",
    "    return(url)\n",
    "\n",
    "def get_gridded_fwi(fireID):\n",
    "    \n",
    "    # Get the URL for the file\n",
    "    fireID = str(fireID)\n",
    "    pattern = \"FWI.\" + fireID\n",
    "    url = get_nccs_url(pattern = pattern)\n",
    "    \n",
    "    if(url is not None):\n",
    "        \n",
    "        # Get the DF\n",
    "        grid_FWI = pd.read_csv(url)\n",
    "        # Change names\n",
    "        grid_FWI = grid_FWI.rename(columns={'INITDATE': 't', \n",
    "                                 \"0\":\"FWI\",\n",
    "                                 \"1\":\"FWI_lead_1\",\n",
    "                                 \"2\":\"FWI_lead_2\",\n",
    "                                 \"3\":\"FWI_lead_3\",\n",
    "                                 \"4\":\"FWI_lead_4\",\n",
    "                                 \"5\":\"FWI_lead_5\",\n",
    "                                 \"6\":\"FWI_lead_6\",\n",
    "                                 \"7\":\"FWI_lead_7\",\n",
    "                                 \"8\":\"FWI_lead_8\"\n",
    "                                })\n",
    "        # Change dates\n",
    "        grid_FWI.t = grid_FWI.t.astype(\"datetime64[ns]\").dt.strftime('%Y-%m-%d 12:00:00')\n",
    "\n",
    "        # return\n",
    "        return(grid_FWI)\n",
    "    else:\n",
    "        return(None)\n",
    "\n",
    "def listFD(url, ext=''):\n",
    "    page = requests.get(url).text\n",
    "    #print(page)\n",
    "    soup = BeautifulSoup(page, 'html.parser')\n",
    "    return [url + '/' + node.get('href') for node in soup.find_all('a') if node.get('href').endswith(ext)]\n",
    "    "
   ]
  },
  {
   "cell_type": "code",
   "execution_count": 68,
   "id": "10cdbc7d-2516-4724-ac30-30ad7c4b3027",
   "metadata": {
    "tags": []
   },
   "outputs": [],
   "source": [
    "### Define funciton for groupby apply\n",
    "\n",
    "def get_unmerged_gridded_fwi(df):\n",
    "    fid = str(*df.fireID.unique())\n",
    "    #print(fid)\n",
    "    gridded = get_gridded_fwi(fid)\n",
    "    gridded.t = gridded.t.astype(\"datetime64[ns]\")\n",
    "    gridded = gridded[gridded.t >= df.t.min()] # Only give me the parts of the timeseries that overlap with the fire itself\n",
    "    gridded = gridded[gridded.t <= df.t.max()]\n",
    "    df = df.merge(gridded, on = ['t'], how = 'outer')\n",
    "    return(df)\n",
    "\n",
    "\n",
    "### run the function \n",
    "fires.t = fires.t.astype(\"datetime64[ns]\")\n",
    "fires_fwi = fires.groupby(\"fireID\").apply(get_unmerged_gridded_fwi)\n",
    "    \n",
    "\n"
   ]
  },
  {
   "cell_type": "code",
   "execution_count": 70,
   "id": "be45a7ae-426a-4316-bd8a-93ebc356aa86",
   "metadata": {
    "tags": []
   },
   "outputs": [],
   "source": [
    "### Write out\n",
    "fires_fwi.to_csv(\"/projects/old_shared/fire_weather_vis/Lightning_analysis/fwi_timeline_only/April_1_unmerged_fires_with_FWI.csv\")"
   ]
  },
  {
   "cell_type": "code",
   "execution_count": 20,
   "id": "48d9c50d-ca9f-4173-ba0c-dcd4fbf8c815",
   "metadata": {
    "tags": []
   },
   "outputs": [
    {
     "data": {
      "text/plain": [
       "'9791'"
      ]
     },
     "execution_count": 20,
     "metadata": {},
     "output_type": "execute_result"
    }
   ],
   "source": [
    "str(*fires[fires.fireID == '9791'].fireID.unique())"
   ]
  },
  {
   "cell_type": "code",
   "execution_count": 41,
   "id": "863ebef6-2935-4174-850f-199394812a31",
   "metadata": {
    "tags": []
   },
   "outputs": [
    {
     "data": {
      "text/html": [
       "<div>\n",
       "<style scoped>\n",
       "    .dataframe tbody tr th:only-of-type {\n",
       "        vertical-align: middle;\n",
       "    }\n",
       "\n",
       "    .dataframe tbody tr th {\n",
       "        vertical-align: top;\n",
       "    }\n",
       "\n",
       "    .dataframe thead th {\n",
       "        text-align: right;\n",
       "    }\n",
       "</style>\n",
       "<table border=\"1\" class=\"dataframe\">\n",
       "  <thead>\n",
       "    <tr style=\"text-align: right;\">\n",
       "      <th></th>\n",
       "      <th>fireID</th>\n",
       "      <th>t</th>\n",
       "      <th>geometry</th>\n",
       "      <th>n_pixels</th>\n",
       "      <th>n_newpixels</th>\n",
       "      <th>farea</th>\n",
       "      <th>fperim</th>\n",
       "      <th>flinelen</th>\n",
       "      <th>duration</th>\n",
       "      <th>pixden</th>\n",
       "      <th>meanFRP</th>\n",
       "    </tr>\n",
       "  </thead>\n",
       "  <tbody>\n",
       "    <tr>\n",
       "      <th>98802</th>\n",
       "      <td>12156</td>\n",
       "      <td>2023-07-03 00:00:00</td>\n",
       "      <td>POLYGON ((3459232.273 1336913.119, 3459216.258...</td>\n",
       "      <td>62.0</td>\n",
       "      <td>62.0</td>\n",
       "      <td>7.982687</td>\n",
       "      <td>10.982714</td>\n",
       "      <td>10.815178</td>\n",
       "      <td>0.0</td>\n",
       "      <td>7.766809</td>\n",
       "      <td>1.898710</td>\n",
       "    </tr>\n",
       "    <tr>\n",
       "      <th>98803</th>\n",
       "      <td>12156</td>\n",
       "      <td>2023-07-03 12:00:00</td>\n",
       "      <td>MULTIPOLYGON (((3458707.167 1338743.537, 34587...</td>\n",
       "      <td>265.0</td>\n",
       "      <td>132.0</td>\n",
       "      <td>19.119226</td>\n",
       "      <td>24.109721</td>\n",
       "      <td>20.877198</td>\n",
       "      <td>0.5</td>\n",
       "      <td>13.860394</td>\n",
       "      <td>35.443561</td>\n",
       "    </tr>\n",
       "  </tbody>\n",
       "</table>\n",
       "</div>"
      ],
      "text/plain": [
       "      fireID                   t  \\\n",
       "98802  12156 2023-07-03 00:00:00   \n",
       "98803  12156 2023-07-03 12:00:00   \n",
       "\n",
       "                                                geometry  n_pixels  \\\n",
       "98802  POLYGON ((3459232.273 1336913.119, 3459216.258...      62.0   \n",
       "98803  MULTIPOLYGON (((3458707.167 1338743.537, 34587...     265.0   \n",
       "\n",
       "       n_newpixels      farea     fperim   flinelen  duration     pixden  \\\n",
       "98802         62.0   7.982687  10.982714  10.815178       0.0   7.766809   \n",
       "98803        132.0  19.119226  24.109721  20.877198       0.5  13.860394   \n",
       "\n",
       "         meanFRP  \n",
       "98802   1.898710  \n",
       "98803  35.443561  "
      ]
     },
     "execution_count": 41,
     "metadata": {},
     "output_type": "execute_result"
    }
   ],
   "source": [
    "fires[fires.fireID == \"12156\"]"
   ]
  },
  {
   "cell_type": "code",
   "execution_count": 55,
   "id": "a8c5a834-185c-418d-9961-9038ac344a24",
   "metadata": {
    "tags": []
   },
   "outputs": [
    {
     "data": {
      "text/plain": [
       "array(['10713_10054'], dtype=object)"
      ]
     },
     "execution_count": 55,
     "metadata": {},
     "output_type": "execute_result"
    }
   ],
   "source": [
    "fires[fires.fireID.str.contains(\"10713_10054\")].fireID.unique()"
   ]
  },
  {
   "cell_type": "code",
   "execution_count": 52,
   "id": "1955df5f-d81f-44ce-9813-326fd8689cd5",
   "metadata": {
    "tags": []
   },
   "outputs": [
    {
     "data": {
      "text/plain": [
       "348"
      ]
     },
     "execution_count": 52,
     "metadata": {},
     "output_type": "execute_result"
    }
   ],
   "source": [
    "len(fires.fireID.unique())"
   ]
  },
  {
   "cell_type": "code",
   "execution_count": 44,
   "id": "aead24be-c7d7-4244-b060-9074df5e18a5",
   "metadata": {
    "tags": []
   },
   "outputs": [
    {
     "data": {
      "text/html": [
       "<div>\n",
       "<style scoped>\n",
       "    .dataframe tbody tr th:only-of-type {\n",
       "        vertical-align: middle;\n",
       "    }\n",
       "\n",
       "    .dataframe tbody tr th {\n",
       "        vertical-align: top;\n",
       "    }\n",
       "\n",
       "    .dataframe thead th {\n",
       "        text-align: right;\n",
       "    }\n",
       "</style>\n",
       "<table border=\"1\" class=\"dataframe\">\n",
       "  <thead>\n",
       "    <tr style=\"text-align: right;\">\n",
       "      <th></th>\n",
       "      <th>fireID</th>\n",
       "      <th>t</th>\n",
       "      <th>geometry</th>\n",
       "      <th>n_pixels</th>\n",
       "      <th>n_newpixels</th>\n",
       "      <th>farea</th>\n",
       "      <th>fperim</th>\n",
       "      <th>flinelen</th>\n",
       "      <th>duration</th>\n",
       "      <th>pixden</th>\n",
       "      <th>meanFRP</th>\n",
       "    </tr>\n",
       "  </thead>\n",
       "  <tbody>\n",
       "  </tbody>\n",
       "</table>\n",
       "</div>"
      ],
      "text/plain": [
       "Empty GeoDataFrame\n",
       "Columns: [fireID, t, geometry, n_pixels, n_newpixels, farea, fperim, flinelen, duration, pixden, meanFRP]\n",
       "Index: []"
      ]
     },
     "execution_count": 44,
     "metadata": {},
     "output_type": "execute_result"
    }
   ],
   "source": [
    "fires[fires.fireID.str.contains(\"_\")]"
   ]
  },
  {
   "cell_type": "code",
   "execution_count": null,
   "id": "4240739d-5c73-45cd-bd62-f11dd1f836ed",
   "metadata": {},
   "outputs": [],
   "source": [
    "fires[fires.fireID.str.contains(\"_\")]"
   ]
  }
 ],
 "metadata": {
  "kernelspec": {
   "display_name": "Python (fireatlas_oct4_2)",
   "language": "python",
   "name": "fireatlas_oct4"
  },
  "language_info": {
   "codemirror_mode": {
    "name": "ipython",
    "version": 3
   },
   "file_extension": ".py",
   "mimetype": "text/x-python",
   "name": "python",
   "nbconvert_exporter": "python",
   "pygments_lexer": "ipython3",
   "version": "3.11.7"
  }
 },
 "nbformat": 4,
 "nbformat_minor": 5
}
