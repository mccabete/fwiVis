{
 "cells": [
  {
   "cell_type": "code",
   "execution_count": 1,
   "id": "7c0122fc-991d-4fc7-a7be-19683d1f3e1c",
   "metadata": {
    "tags": []
   },
   "outputs": [],
   "source": [
    "#import fwiVis.fwiVis as fv\n",
    "import s3fs\n",
    "s3 = s3fs.S3FileSystem(anon=False)\n",
    "from math import cos, asin, sqrt\n",
    "import re\n",
    "\n",
    "import numpy as np\n",
    "import geopandas as gpd\n",
    "import pandas as pd\n",
    "from matplotlib import pyplot as plt\n",
    "import os\n",
    "import rioxarray as rio\n",
    "import xarray as xr\n",
    "import rasterio\n",
    "import glob\n",
    "from shapely.errors import ShapelyDeprecationWarning\n",
    "from shapely.geometry import Point\n",
    "import warnings\n",
    "import folium\n",
    "import datetime\n",
    "import time\n",
    "from folium import plugins\n",
    "warnings.filterwarnings(\"ignore\", category=ShapelyDeprecationWarning) \n",
    "warnings.filterwarnings(\"ignore\", category=ShapelyDeprecationWarning) \n",
    "import contextily as cx\n",
    "from shapely.geometry import box\n",
    "import sys\n",
    "from datetime import datetime, timedelta\n",
    "from itertools import chain\n",
    "\n",
    "from datetime import date\n",
    "\n",
    "\n",
    "sys.path.insert(0, '/projects/old_shared/fire_weather_vis/base-fwi-vis/')\n",
    "import fwiVis.fwiVis as fv"
   ]
  },
  {
   "cell_type": "code",
   "execution_count": 2,
   "id": "1906065f-3a37-4752-aff4-209337b0f80b",
   "metadata": {
    "tags": []
   },
   "outputs": [
    {
     "name": "stdout",
     "output_type": "stream",
     "text": [
      "../Lightning_analysis/remerge_fix-low-mem.ipynb\n",
      "../Lightning_analysis/Fire_timeline_extraction.ipynb\n",
      "../Lightning_analysis/FWI_vs_farea_explore.ipynb\n",
      "../Lightning_analysis/remerge_make_fires_with_full_history.ipynb\n",
      "../Lightning_analysis/FWI_prediction.ipynb\n",
      "../Lightning_analysis/Untitled.ipynb\n",
      "../Lightning_analysis/heatmap_timeseries.ipynb\n",
      "../Lightning_analysis/Supression_explore.ipynb\n",
      "../Lightning_analysis/remerge_fix.ipynb\n",
      "../Lightning_analysis/Rebecca_compare.ipynb\n",
      "../Lightning_analysis/remerge_largefire.ipynb\n"
     ]
    }
   ],
   "source": [
    "pattern = '../**/*.ipynb' # extentions to look in\n",
    "query = 'Final_dataset_as_of_20240209.csv' ## Text to search for\n",
    "\n",
    "for filepath in glob.iglob(pattern, recursive=True):\n",
    "    with open(filepath) as file:\n",
    "        s = file.read()\n",
    "        if (s.find(query) > -1):\n",
    "            print(filepath)"
   ]
  },
  {
   "cell_type": "code",
   "execution_count": null,
   "id": "3c8a1569-7a1c-4f81-b01a-00d985f36e18",
   "metadata": {},
   "outputs": [],
   "source": []
  }
 ],
 "metadata": {
  "kernelspec": {
   "display_name": "Python (fireatlas_oct4_2)",
   "language": "python",
   "name": "fireatlas_oct4"
  },
  "language_info": {
   "codemirror_mode": {
    "name": "ipython",
    "version": 3
   },
   "file_extension": ".py",
   "mimetype": "text/x-python",
   "name": "python",
   "nbconvert_exporter": "python",
   "pygments_lexer": "ipython3",
   "version": "3.11.7"
  }
 },
 "nbformat": 4,
 "nbformat_minor": 5
}
