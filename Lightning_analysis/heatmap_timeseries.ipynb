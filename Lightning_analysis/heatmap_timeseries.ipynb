{
 "cells": [
  {
   "cell_type": "code",
   "execution_count": 1,
   "id": "49193766-5ea7-43cd-a111-f9c5810ab312",
   "metadata": {
    "tags": []
   },
   "outputs": [],
   "source": [
    "#import fwiVis.fwiVis as fv\n",
    "import s3fs\n",
    "s3 = s3fs.S3FileSystem(anon=False)\n",
    "from math import cos, asin, sqrt\n",
    "import re\n",
    "\n",
    "import numpy as np\n",
    "import geopandas as gpd\n",
    "import pandas as pd\n",
    "from matplotlib import pyplot as plt\n",
    "import os\n",
    "import rioxarray as rio\n",
    "import xarray as xr\n",
    "import rasterio\n",
    "import glob\n",
    "from shapely.errors import ShapelyDeprecationWarning\n",
    "from shapely.geometry import Point\n",
    "import warnings\n",
    "import folium\n",
    "import datetime\n",
    "import time\n",
    "from folium import plugins\n",
    "warnings.filterwarnings(\"ignore\", category=ShapelyDeprecationWarning) \n",
    "warnings.filterwarnings(\"ignore\", category=ShapelyDeprecationWarning) \n",
    "import contextily as cx\n",
    "from shapely.geometry import box\n",
    "import sys\n",
    "from datetime import datetime, timedelta\n",
    "from itertools import chain\n",
    "\n",
    "from datetime import date\n",
    "\n",
    "\n",
    "sys.path.insert(0, '/projects/old_shared/fire_weather_vis/base-fwi-vis/')\n",
    "import fwiVis.fwiVis as fv"
   ]
  },
  {
   "cell_type": "code",
   "execution_count": 3,
   "id": "2974045c-e938-45a3-a0ee-366054c7ecd6",
   "metadata": {
    "tags": []
   },
   "outputs": [],
   "source": [
    "#cwfis_perims = gpd.read_file(\"/projects/old_shared/fire_weather_vis/Lightning_analysis/CWFIS/perim_progression/progression.shp\")"
   ]
  },
  {
   "cell_type": "code",
   "execution_count": 4,
   "id": "42dae2d2-7ad9-4f0d-b42c-7310fbe90482",
   "metadata": {
    "tags": []
   },
   "outputs": [],
   "source": [
    "#cwfis_perims = cwfis_perims.set_crs(\"EPSG:4326\")\n"
   ]
  },
  {
   "cell_type": "code",
   "execution_count": 5,
   "id": "499c1316-6ce4-43c9-87d6-357797aac65e",
   "metadata": {
    "tags": []
   },
   "outputs": [],
   "source": [
    "#cwfis_perims[1:4].explore()"
   ]
  },
  {
   "cell_type": "code",
   "execution_count": 5,
   "id": "11d4f79d-e516-482d-8dea-acb17c7a2b7e",
   "metadata": {
    "tags": []
   },
   "outputs": [
    {
     "data": {
      "text/plain": [
       "Index(['CLUSTERID', 'DATE', 'AREA', 'C_AREA', 'FWI', 'CONSIS_ID', 'geometry'], dtype='object')"
      ]
     },
     "execution_count": 5,
     "metadata": {},
     "output_type": "execute_result"
    }
   ],
   "source": [
    "#cwfis_perims.columns"
   ]
  },
  {
   "cell_type": "code",
   "execution_count": 80,
   "id": "932377ce-7b1f-4366-9be1-eab34c42159c",
   "metadata": {
    "tags": []
   },
   "outputs": [],
   "source": [
    "import seaborn as sn"
   ]
  },
  {
   "cell_type": "code",
   "execution_count": 7,
   "id": "b6912180-06e0-40b9-aef7-5fa3aec95e12",
   "metadata": {
    "tags": []
   },
   "outputs": [
    {
     "data": {
      "text/plain": [
       "0        20230419.0\n",
       "1        20230420.0\n",
       "2        20230428.0\n",
       "3        20230428.0\n",
       "4        20230803.0\n",
       "            ...    \n",
       "12535    20231004.0\n",
       "12536    20231009.0\n",
       "12537    20231009.0\n",
       "12538    20231009.0\n",
       "12539    20231009.0\n",
       "Name: DATE, Length: 12540, dtype: float64"
      ]
     },
     "execution_count": 7,
     "metadata": {},
     "output_type": "execute_result"
    }
   ],
   "source": [
    "#cwfis_perims.DATE"
   ]
  },
  {
   "cell_type": "code",
   "execution_count": 6,
   "id": "9ad5790b-bd10-4550-b0b2-f405fb6be318",
   "metadata": {
    "tags": []
   },
   "outputs": [],
   "source": [
    "# cwfis_perims[\"log_area\"] = np.log(cwfis_perims.AREA)\n",
    "# cwfis_perims[\"better_format_date\"] = pd.to_datetime(cwfis_perims.DATE.astype(\"str\"), format=\"%Y%m%d.0\")\n",
    "# #cwfis_perims.DATE = cwfis_perims.DATE.astype(\"datetime64[ns]\")\n",
    "# cwfis_perims[\"better_format_date2\"] = cwfis_perims[\"better_format_date\"].astype(\"datetime64[ns]\").dt.strftime(\"%m-%d\")\n",
    "\n",
    "# heat = cwfis_perims[[\"CONSIS_ID\", \"log_area\", \"better_format_date2\"]].pivot(index=\"CONSIS_ID\", columns=\"better_format_date2\", values=\"log_area\")\n",
    "# ax = sn.heatmap(heat, cmap = \"YlOrBr\")\n",
    "# ax.set(xlabel=\"\", ylabel=\"\")"
   ]
  },
  {
   "cell_type": "code",
   "execution_count": 7,
   "id": "4c06775a-bc7c-428b-bbc9-f5e7206f33b3",
   "metadata": {},
   "outputs": [],
   "source": [
    "### Sort by lattitude \n",
    "\n",
    "# cwfis_perims[\"x_component\"] = cwfis_perims.geometry.centroid.x\n",
    "# cwfis_perims[\"y_component\"] = cwfis_perims.geometry.centroid.y\n",
    "\n",
    "# cwfis_perims = cwfis_perims.sort_values(by = \"y_component\")\n",
    "\n",
    "\n",
    "\n",
    "# cwfis_perims[\"log_area\"] = np.log(cwfis_perims.AREA)\n",
    "# cwfis_perims[\"better_format_date\"] = pd.to_datetime(cwfis_perims.DATE.astype(\"str\"), format=\"%Y%m%d.0\")\n",
    "# #cwfis_perims.DATE = cwfis_perims.DATE.astype(\"datetime64[ns]\")\n",
    "# cwfis_perims[\"better_format_date2\"] = cwfis_perims[\"better_format_date\"].astype(\"datetime64[ns]\").dt.strftime(\"%m-%d\")\n",
    "\n",
    "# heat = cwfis_perims[[\"CONSIS_ID\", \"log_area\", \"better_format_date2\", \"y_component\"]].pivot(index=\"CONSIS_ID\", columns=\"better_format_date2\", values=\"log_area\")\n",
    "# ax = sn.heatmap(heat, cmap = \"YlOrBr\")\n",
    "# ax.set(xlabel=\"\", ylabel=\"\")"
   ]
  },
  {
   "cell_type": "code",
   "execution_count": 8,
   "id": "9f693c71-6952-4e6e-a051-3f833fa482f1",
   "metadata": {},
   "outputs": [],
   "source": [
    "#cwfis_perims[[\"CONSIS_ID\", \"log_area\", \"better_format_date2\", \"y_component\"]]"
   ]
  },
  {
   "cell_type": "code",
   "execution_count": 11,
   "id": "b3c248b0-73c6-4c42-85ee-17076e82562f",
   "metadata": {
    "tags": []
   },
   "outputs": [],
   "source": [
    "#heat.sort_values()"
   ]
  },
  {
   "cell_type": "code",
   "execution_count": null,
   "id": "cde9c563-623c-4150-8847-324573fb4af9",
   "metadata": {
    "tags": []
   },
   "outputs": [],
   "source": []
  },
  {
   "cell_type": "code",
   "execution_count": 50,
   "id": "dddc3c01-9463-431a-a427-c95276d6582d",
   "metadata": {},
   "outputs": [],
   "source": [
    "### Now with feds perimeters\n",
    "\n",
    "#path = \"/projects/old_shared/fire_weather_vis/Lightning_analysis/fwi_timeline_merge/20_days_fire_stats_only_718270-99999_minT20230301_maxT20230830_BOREAL_NRT_3571_DPSstation20231120.csv\" ## looking for lightning 20 days before start\n",
    "\n",
    "#path = \"/projects/old_shared/fire_weather_vis/Lightning_analysis/fwi_timeline_only/April_1_unmerged_fires_with_FWI.csv\" ### The weirder fires. \n",
    "\n",
    "path = \"/projects/old_shared/fire_weather_vis/Lightning_analysis/fwi_timeline_merge/Quebec_all_fires_merged_together_06172024.csv\" # Fires with \"fixed' lf bug. \n",
    "fires = fv.prep_fire_files(path)"
   ]
  },
  {
   "cell_type": "code",
   "execution_count": 51,
   "id": "2ec3e6f3-963e-40ed-91ca-b448cfe2e8b5",
   "metadata": {},
   "outputs": [],
   "source": [
    "fires = fires.to_crs(4326)\n",
    "#fires = fv.remerge_largefire(fires) ### CAUSES ISSUES WITH AREA DIFFERENCING. "
   ]
  },
  {
   "cell_type": "code",
   "execution_count": 52,
   "id": "4c7bcedc-e856-49f9-baf2-af5d7cfc2c2f",
   "metadata": {},
   "outputs": [
    {
     "data": {
      "text/plain": [
       "Index(['fireID', 't', 'geometry', 'Unnamed: 0.2', 'csv_geometry',\n",
       "       'Unnamed: 0.1', 'csv_geometry', 'Unnamed: 0', 'InterCloud', 'lat',\n",
       "       'lon', 'current_mag', 'error_elps', 'num_station', 'num_candidates',\n",
       "       'num_strikes', 'num_strikes_10_days', 'no_strikes_in_time',\n",
       "       'viirs_pix_count', 'n_pixels', 'n_newpixels', 'farea', 'fperim',\n",
       "       'flinelen', 'duration', 'pixden', 'meanFRP', 'csv_geometry.1',\n",
       "       'lon_centroid', 'lat_centroid', 'GEOS-5.IMERGEARLY', 'FWI',\n",
       "       'FWI_lead_1', 'FWI_lead_2', 'FWI_lead_3', 'FWI_lead_4', 'FWI_lead_5',\n",
       "       'FWI_lead_6', 'FWI_lead_7', 'FWI_lead_8', 'pre_fire', 'composit_ids',\n",
       "       'rows_edited'],\n",
       "      dtype='object')"
      ]
     },
     "execution_count": 52,
     "metadata": {},
     "output_type": "execute_result"
    }
   ],
   "source": [
    "fires.columns"
   ]
  },
  {
   "cell_type": "code",
   "execution_count": 53,
   "id": "ba77c67d-70e0-49ba-8839-ce05c6fd8fe2",
   "metadata": {},
   "outputs": [
    {
     "data": {
      "text/plain": [
       "134"
      ]
     },
     "execution_count": 53,
     "metadata": {},
     "output_type": "execute_result"
    }
   ],
   "source": [
    "len(fires.fireID.unique())"
   ]
  },
  {
   "cell_type": "code",
   "execution_count": 54,
   "id": "273b1cd6-bf16-4f46-be43-7070089ea756",
   "metadata": {},
   "outputs": [],
   "source": [
    "fires = fires[~fires.geometry.isna()]"
   ]
  },
  {
   "cell_type": "code",
   "execution_count": 55,
   "id": "08764ec6-4548-4f06-9f6a-ecb91b96fdf5",
   "metadata": {
    "tags": []
   },
   "outputs": [],
   "source": [
    "fires = fires.sort_values(by = [\"fireID\", \"t\"])\n",
    "fires.farea = fires.farea.astype(\"int64\")\n",
    "fires[\"farea_diff\"] = fires.groupby(\"fireID\").farea.diff()"
   ]
  },
  {
   "cell_type": "code",
   "execution_count": 25,
   "id": "3eab95a7-73d7-4ebf-9cdf-bcf2d07ea9c8",
   "metadata": {
    "tags": []
   },
   "outputs": [],
   "source": [
    "#fires[fires.fireID == '12596']"
   ]
  },
  {
   "cell_type": "code",
   "execution_count": 26,
   "id": "09397727-5e90-4b92-9b34-4f5cebc98d5c",
   "metadata": {
    "tags": []
   },
   "outputs": [
    {
     "data": {
      "text/plain": [
       "Index(['fireID', 't', 'geometry', 'Unnamed: 0.2', 'csv_geometry',\n",
       "       'Unnamed: 0.1', 'csv_geometry', 'Unnamed: 0', 'InterCloud', 'lat',\n",
       "       'lon', 'current_mag', 'error_elps', 'num_station', 'num_candidates',\n",
       "       'num_strikes', 'num_strikes_10_days', 'no_strikes_in_time',\n",
       "       'viirs_pix_count', 'n_pixels', 'n_newpixels', 'farea', 'fperim',\n",
       "       'flinelen', 'duration', 'pixden', 'meanFRP', 'csv_geometry.1',\n",
       "       'lon_centroid', 'lat_centroid', 'GEOS-5.IMERGEARLY', 'FWI',\n",
       "       'FWI_lead_1', 'FWI_lead_2', 'FWI_lead_3', 'FWI_lead_4', 'FWI_lead_5',\n",
       "       'FWI_lead_6', 'FWI_lead_7', 'FWI_lead_8', 'pre_fire', 'composit_ids',\n",
       "       'rows_edited', 'farea_diff'],\n",
       "      dtype='object')"
      ]
     },
     "execution_count": 26,
     "metadata": {},
     "output_type": "execute_result"
    }
   ],
   "source": [
    "# weird_diff_ids = fires[fires.farea_diff< 0][[\"fireID\", \"t\", \"farea\", \"farea_diff\"]].fireID.unique()\n",
    "\n",
    "# fires[fires.fireID.isin(weird_diff_ids)][[\"fireID\", \"t\", \"farea\", \"farea_diff\"]]\n",
    "fires.columns\n"
   ]
  },
  {
   "cell_type": "code",
   "execution_count": 56,
   "id": "5db73a01-c427-4e98-bafc-8ebfb95780e9",
   "metadata": {
    "tags": []
   },
   "outputs": [
    {
     "data": {
      "text/plain": [
       "'2023-09-26 00:00:00'"
      ]
     },
     "execution_count": 56,
     "metadata": {},
     "output_type": "execute_result"
    }
   ],
   "source": [
    "fires.t.max()"
   ]
  },
  {
   "cell_type": "code",
   "execution_count": 57,
   "id": "ff218fb1-1358-45a8-8f5e-7c0522b5ecfd",
   "metadata": {
    "tags": []
   },
   "outputs": [],
   "source": [
    "def get_centroid(df):\n",
    "    df_tmp = df[~df.geometry.isnull()]\n",
    "    max_t = df_tmp.t.max()\n",
    "    lat = df_tmp[df_tmp.t == max_t].centroid.y\n",
    "    lon = df_tmp[df_tmp.t == max_t].centroid.x\n",
    "    #print(lat.iloc[0])\n",
    "    df[\"lat_centroid\"] = lat.iloc[0]\n",
    "    df[\"lon_centroid\"] = lon.iloc[0]\n",
    "    return(df)"
   ]
  },
  {
   "cell_type": "code",
   "execution_count": 58,
   "id": "fddf415d-2715-423c-bcea-a7d0261aba33",
   "metadata": {
    "tags": []
   },
   "outputs": [
    {
     "name": "stderr",
     "output_type": "stream",
     "text": [
      "/tmp/ipykernel_4395/669363377.py:4: UserWarning: Geometry is in a geographic CRS. Results from 'centroid' are likely incorrect. Use 'GeoSeries.to_crs()' to re-project geometries to a projected CRS before this operation.\n",
      "\n",
      "  lat = df_tmp[df_tmp.t == max_t].centroid.y\n",
      "/tmp/ipykernel_4395/669363377.py:5: UserWarning: Geometry is in a geographic CRS. Results from 'centroid' are likely incorrect. Use 'GeoSeries.to_crs()' to re-project geometries to a projected CRS before this operation.\n",
      "\n",
      "  lon = df_tmp[df_tmp.t == max_t].centroid.x\n",
      "/tmp/ipykernel_4395/669363377.py:4: UserWarning: Geometry is in a geographic CRS. Results from 'centroid' are likely incorrect. Use 'GeoSeries.to_crs()' to re-project geometries to a projected CRS before this operation.\n",
      "\n",
      "  lat = df_tmp[df_tmp.t == max_t].centroid.y\n",
      "/tmp/ipykernel_4395/669363377.py:5: UserWarning: Geometry is in a geographic CRS. Results from 'centroid' are likely incorrect. Use 'GeoSeries.to_crs()' to re-project geometries to a projected CRS before this operation.\n",
      "\n",
      "  lon = df_tmp[df_tmp.t == max_t].centroid.x\n",
      "/tmp/ipykernel_4395/669363377.py:4: UserWarning: Geometry is in a geographic CRS. Results from 'centroid' are likely incorrect. Use 'GeoSeries.to_crs()' to re-project geometries to a projected CRS before this operation.\n",
      "\n",
      "  lat = df_tmp[df_tmp.t == max_t].centroid.y\n",
      "/tmp/ipykernel_4395/669363377.py:5: UserWarning: Geometry is in a geographic CRS. Results from 'centroid' are likely incorrect. Use 'GeoSeries.to_crs()' to re-project geometries to a projected CRS before this operation.\n",
      "\n",
      "  lon = df_tmp[df_tmp.t == max_t].centroid.x\n",
      "/tmp/ipykernel_4395/669363377.py:4: UserWarning: Geometry is in a geographic CRS. Results from 'centroid' are likely incorrect. Use 'GeoSeries.to_crs()' to re-project geometries to a projected CRS before this operation.\n",
      "\n",
      "  lat = df_tmp[df_tmp.t == max_t].centroid.y\n",
      "/tmp/ipykernel_4395/669363377.py:5: UserWarning: Geometry is in a geographic CRS. Results from 'centroid' are likely incorrect. Use 'GeoSeries.to_crs()' to re-project geometries to a projected CRS before this operation.\n",
      "\n",
      "  lon = df_tmp[df_tmp.t == max_t].centroid.x\n",
      "/tmp/ipykernel_4395/669363377.py:4: UserWarning: Geometry is in a geographic CRS. Results from 'centroid' are likely incorrect. Use 'GeoSeries.to_crs()' to re-project geometries to a projected CRS before this operation.\n",
      "\n",
      "  lat = df_tmp[df_tmp.t == max_t].centroid.y\n",
      "/tmp/ipykernel_4395/669363377.py:5: UserWarning: Geometry is in a geographic CRS. Results from 'centroid' are likely incorrect. Use 'GeoSeries.to_crs()' to re-project geometries to a projected CRS before this operation.\n",
      "\n",
      "  lon = df_tmp[df_tmp.t == max_t].centroid.x\n",
      "/tmp/ipykernel_4395/669363377.py:4: UserWarning: Geometry is in a geographic CRS. Results from 'centroid' are likely incorrect. Use 'GeoSeries.to_crs()' to re-project geometries to a projected CRS before this operation.\n",
      "\n",
      "  lat = df_tmp[df_tmp.t == max_t].centroid.y\n",
      "/tmp/ipykernel_4395/669363377.py:5: UserWarning: Geometry is in a geographic CRS. Results from 'centroid' are likely incorrect. Use 'GeoSeries.to_crs()' to re-project geometries to a projected CRS before this operation.\n",
      "\n",
      "  lon = df_tmp[df_tmp.t == max_t].centroid.x\n",
      "/tmp/ipykernel_4395/669363377.py:4: UserWarning: Geometry is in a geographic CRS. Results from 'centroid' are likely incorrect. Use 'GeoSeries.to_crs()' to re-project geometries to a projected CRS before this operation.\n",
      "\n",
      "  lat = df_tmp[df_tmp.t == max_t].centroid.y\n",
      "/tmp/ipykernel_4395/669363377.py:5: UserWarning: Geometry is in a geographic CRS. Results from 'centroid' are likely incorrect. Use 'GeoSeries.to_crs()' to re-project geometries to a projected CRS before this operation.\n",
      "\n",
      "  lon = df_tmp[df_tmp.t == max_t].centroid.x\n",
      "/tmp/ipykernel_4395/669363377.py:4: UserWarning: Geometry is in a geographic CRS. Results from 'centroid' are likely incorrect. Use 'GeoSeries.to_crs()' to re-project geometries to a projected CRS before this operation.\n",
      "\n",
      "  lat = df_tmp[df_tmp.t == max_t].centroid.y\n",
      "/tmp/ipykernel_4395/669363377.py:5: UserWarning: Geometry is in a geographic CRS. Results from 'centroid' are likely incorrect. Use 'GeoSeries.to_crs()' to re-project geometries to a projected CRS before this operation.\n",
      "\n",
      "  lon = df_tmp[df_tmp.t == max_t].centroid.x\n",
      "/tmp/ipykernel_4395/669363377.py:4: UserWarning: Geometry is in a geographic CRS. Results from 'centroid' are likely incorrect. Use 'GeoSeries.to_crs()' to re-project geometries to a projected CRS before this operation.\n",
      "\n",
      "  lat = df_tmp[df_tmp.t == max_t].centroid.y\n",
      "/tmp/ipykernel_4395/669363377.py:5: UserWarning: Geometry is in a geographic CRS. Results from 'centroid' are likely incorrect. Use 'GeoSeries.to_crs()' to re-project geometries to a projected CRS before this operation.\n",
      "\n",
      "  lon = df_tmp[df_tmp.t == max_t].centroid.x\n",
      "/tmp/ipykernel_4395/669363377.py:4: UserWarning: Geometry is in a geographic CRS. Results from 'centroid' are likely incorrect. Use 'GeoSeries.to_crs()' to re-project geometries to a projected CRS before this operation.\n",
      "\n",
      "  lat = df_tmp[df_tmp.t == max_t].centroid.y\n",
      "/tmp/ipykernel_4395/669363377.py:5: UserWarning: Geometry is in a geographic CRS. Results from 'centroid' are likely incorrect. Use 'GeoSeries.to_crs()' to re-project geometries to a projected CRS before this operation.\n",
      "\n",
      "  lon = df_tmp[df_tmp.t == max_t].centroid.x\n",
      "/tmp/ipykernel_4395/669363377.py:4: UserWarning: Geometry is in a geographic CRS. Results from 'centroid' are likely incorrect. Use 'GeoSeries.to_crs()' to re-project geometries to a projected CRS before this operation.\n",
      "\n",
      "  lat = df_tmp[df_tmp.t == max_t].centroid.y\n",
      "/tmp/ipykernel_4395/669363377.py:5: UserWarning: Geometry is in a geographic CRS. Results from 'centroid' are likely incorrect. Use 'GeoSeries.to_crs()' to re-project geometries to a projected CRS before this operation.\n",
      "\n",
      "  lon = df_tmp[df_tmp.t == max_t].centroid.x\n",
      "/tmp/ipykernel_4395/669363377.py:4: UserWarning: Geometry is in a geographic CRS. Results from 'centroid' are likely incorrect. Use 'GeoSeries.to_crs()' to re-project geometries to a projected CRS before this operation.\n",
      "\n",
      "  lat = df_tmp[df_tmp.t == max_t].centroid.y\n",
      "/tmp/ipykernel_4395/669363377.py:5: UserWarning: Geometry is in a geographic CRS. Results from 'centroid' are likely incorrect. Use 'GeoSeries.to_crs()' to re-project geometries to a projected CRS before this operation.\n",
      "\n",
      "  lon = df_tmp[df_tmp.t == max_t].centroid.x\n",
      "/tmp/ipykernel_4395/669363377.py:4: UserWarning: Geometry is in a geographic CRS. Results from 'centroid' are likely incorrect. Use 'GeoSeries.to_crs()' to re-project geometries to a projected CRS before this operation.\n",
      "\n",
      "  lat = df_tmp[df_tmp.t == max_t].centroid.y\n",
      "/tmp/ipykernel_4395/669363377.py:5: UserWarning: Geometry is in a geographic CRS. Results from 'centroid' are likely incorrect. Use 'GeoSeries.to_crs()' to re-project geometries to a projected CRS before this operation.\n",
      "\n",
      "  lon = df_tmp[df_tmp.t == max_t].centroid.x\n",
      "/tmp/ipykernel_4395/669363377.py:4: UserWarning: Geometry is in a geographic CRS. Results from 'centroid' are likely incorrect. Use 'GeoSeries.to_crs()' to re-project geometries to a projected CRS before this operation.\n",
      "\n",
      "  lat = df_tmp[df_tmp.t == max_t].centroid.y\n",
      "/tmp/ipykernel_4395/669363377.py:5: UserWarning: Geometry is in a geographic CRS. Results from 'centroid' are likely incorrect. Use 'GeoSeries.to_crs()' to re-project geometries to a projected CRS before this operation.\n",
      "\n",
      "  lon = df_tmp[df_tmp.t == max_t].centroid.x\n",
      "/tmp/ipykernel_4395/669363377.py:4: UserWarning: Geometry is in a geographic CRS. Results from 'centroid' are likely incorrect. Use 'GeoSeries.to_crs()' to re-project geometries to a projected CRS before this operation.\n",
      "\n",
      "  lat = df_tmp[df_tmp.t == max_t].centroid.y\n",
      "/tmp/ipykernel_4395/669363377.py:5: UserWarning: Geometry is in a geographic CRS. Results from 'centroid' are likely incorrect. Use 'GeoSeries.to_crs()' to re-project geometries to a projected CRS before this operation.\n",
      "\n",
      "  lon = df_tmp[df_tmp.t == max_t].centroid.x\n",
      "/tmp/ipykernel_4395/669363377.py:4: UserWarning: Geometry is in a geographic CRS. Results from 'centroid' are likely incorrect. Use 'GeoSeries.to_crs()' to re-project geometries to a projected CRS before this operation.\n",
      "\n",
      "  lat = df_tmp[df_tmp.t == max_t].centroid.y\n",
      "/tmp/ipykernel_4395/669363377.py:5: UserWarning: Geometry is in a geographic CRS. Results from 'centroid' are likely incorrect. Use 'GeoSeries.to_crs()' to re-project geometries to a projected CRS before this operation.\n",
      "\n",
      "  lon = df_tmp[df_tmp.t == max_t].centroid.x\n",
      "/tmp/ipykernel_4395/669363377.py:4: UserWarning: Geometry is in a geographic CRS. Results from 'centroid' are likely incorrect. Use 'GeoSeries.to_crs()' to re-project geometries to a projected CRS before this operation.\n",
      "\n",
      "  lat = df_tmp[df_tmp.t == max_t].centroid.y\n",
      "/tmp/ipykernel_4395/669363377.py:5: UserWarning: Geometry is in a geographic CRS. Results from 'centroid' are likely incorrect. Use 'GeoSeries.to_crs()' to re-project geometries to a projected CRS before this operation.\n",
      "\n",
      "  lon = df_tmp[df_tmp.t == max_t].centroid.x\n",
      "/tmp/ipykernel_4395/669363377.py:4: UserWarning: Geometry is in a geographic CRS. Results from 'centroid' are likely incorrect. Use 'GeoSeries.to_crs()' to re-project geometries to a projected CRS before this operation.\n",
      "\n",
      "  lat = df_tmp[df_tmp.t == max_t].centroid.y\n",
      "/tmp/ipykernel_4395/669363377.py:5: UserWarning: Geometry is in a geographic CRS. Results from 'centroid' are likely incorrect. Use 'GeoSeries.to_crs()' to re-project geometries to a projected CRS before this operation.\n",
      "\n",
      "  lon = df_tmp[df_tmp.t == max_t].centroid.x\n",
      "/tmp/ipykernel_4395/669363377.py:4: UserWarning: Geometry is in a geographic CRS. Results from 'centroid' are likely incorrect. Use 'GeoSeries.to_crs()' to re-project geometries to a projected CRS before this operation.\n",
      "\n",
      "  lat = df_tmp[df_tmp.t == max_t].centroid.y\n",
      "/tmp/ipykernel_4395/669363377.py:5: UserWarning: Geometry is in a geographic CRS. Results from 'centroid' are likely incorrect. Use 'GeoSeries.to_crs()' to re-project geometries to a projected CRS before this operation.\n",
      "\n",
      "  lon = df_tmp[df_tmp.t == max_t].centroid.x\n",
      "/tmp/ipykernel_4395/669363377.py:4: UserWarning: Geometry is in a geographic CRS. Results from 'centroid' are likely incorrect. Use 'GeoSeries.to_crs()' to re-project geometries to a projected CRS before this operation.\n",
      "\n",
      "  lat = df_tmp[df_tmp.t == max_t].centroid.y\n",
      "/tmp/ipykernel_4395/669363377.py:5: UserWarning: Geometry is in a geographic CRS. Results from 'centroid' are likely incorrect. Use 'GeoSeries.to_crs()' to re-project geometries to a projected CRS before this operation.\n",
      "\n",
      "  lon = df_tmp[df_tmp.t == max_t].centroid.x\n",
      "/tmp/ipykernel_4395/669363377.py:4: UserWarning: Geometry is in a geographic CRS. Results from 'centroid' are likely incorrect. Use 'GeoSeries.to_crs()' to re-project geometries to a projected CRS before this operation.\n",
      "\n",
      "  lat = df_tmp[df_tmp.t == max_t].centroid.y\n",
      "/tmp/ipykernel_4395/669363377.py:5: UserWarning: Geometry is in a geographic CRS. Results from 'centroid' are likely incorrect. Use 'GeoSeries.to_crs()' to re-project geometries to a projected CRS before this operation.\n",
      "\n",
      "  lon = df_tmp[df_tmp.t == max_t].centroid.x\n",
      "/tmp/ipykernel_4395/669363377.py:4: UserWarning: Geometry is in a geographic CRS. Results from 'centroid' are likely incorrect. Use 'GeoSeries.to_crs()' to re-project geometries to a projected CRS before this operation.\n",
      "\n",
      "  lat = df_tmp[df_tmp.t == max_t].centroid.y\n",
      "/tmp/ipykernel_4395/669363377.py:5: UserWarning: Geometry is in a geographic CRS. Results from 'centroid' are likely incorrect. Use 'GeoSeries.to_crs()' to re-project geometries to a projected CRS before this operation.\n",
      "\n",
      "  lon = df_tmp[df_tmp.t == max_t].centroid.x\n",
      "/tmp/ipykernel_4395/669363377.py:4: UserWarning: Geometry is in a geographic CRS. Results from 'centroid' are likely incorrect. Use 'GeoSeries.to_crs()' to re-project geometries to a projected CRS before this operation.\n",
      "\n",
      "  lat = df_tmp[df_tmp.t == max_t].centroid.y\n",
      "/tmp/ipykernel_4395/669363377.py:5: UserWarning: Geometry is in a geographic CRS. Results from 'centroid' are likely incorrect. Use 'GeoSeries.to_crs()' to re-project geometries to a projected CRS before this operation.\n",
      "\n",
      "  lon = df_tmp[df_tmp.t == max_t].centroid.x\n",
      "/tmp/ipykernel_4395/669363377.py:4: UserWarning: Geometry is in a geographic CRS. Results from 'centroid' are likely incorrect. Use 'GeoSeries.to_crs()' to re-project geometries to a projected CRS before this operation.\n",
      "\n",
      "  lat = df_tmp[df_tmp.t == max_t].centroid.y\n",
      "/tmp/ipykernel_4395/669363377.py:5: UserWarning: Geometry is in a geographic CRS. Results from 'centroid' are likely incorrect. Use 'GeoSeries.to_crs()' to re-project geometries to a projected CRS before this operation.\n",
      "\n",
      "  lon = df_tmp[df_tmp.t == max_t].centroid.x\n",
      "/tmp/ipykernel_4395/669363377.py:4: UserWarning: Geometry is in a geographic CRS. Results from 'centroid' are likely incorrect. Use 'GeoSeries.to_crs()' to re-project geometries to a projected CRS before this operation.\n",
      "\n",
      "  lat = df_tmp[df_tmp.t == max_t].centroid.y\n",
      "/tmp/ipykernel_4395/669363377.py:5: UserWarning: Geometry is in a geographic CRS. Results from 'centroid' are likely incorrect. Use 'GeoSeries.to_crs()' to re-project geometries to a projected CRS before this operation.\n",
      "\n",
      "  lon = df_tmp[df_tmp.t == max_t].centroid.x\n",
      "/tmp/ipykernel_4395/669363377.py:4: UserWarning: Geometry is in a geographic CRS. Results from 'centroid' are likely incorrect. Use 'GeoSeries.to_crs()' to re-project geometries to a projected CRS before this operation.\n",
      "\n",
      "  lat = df_tmp[df_tmp.t == max_t].centroid.y\n",
      "/tmp/ipykernel_4395/669363377.py:5: UserWarning: Geometry is in a geographic CRS. Results from 'centroid' are likely incorrect. Use 'GeoSeries.to_crs()' to re-project geometries to a projected CRS before this operation.\n",
      "\n",
      "  lon = df_tmp[df_tmp.t == max_t].centroid.x\n",
      "/tmp/ipykernel_4395/669363377.py:4: UserWarning: Geometry is in a geographic CRS. Results from 'centroid' are likely incorrect. Use 'GeoSeries.to_crs()' to re-project geometries to a projected CRS before this operation.\n",
      "\n",
      "  lat = df_tmp[df_tmp.t == max_t].centroid.y\n",
      "/tmp/ipykernel_4395/669363377.py:5: UserWarning: Geometry is in a geographic CRS. Results from 'centroid' are likely incorrect. Use 'GeoSeries.to_crs()' to re-project geometries to a projected CRS before this operation.\n",
      "\n",
      "  lon = df_tmp[df_tmp.t == max_t].centroid.x\n",
      "/tmp/ipykernel_4395/669363377.py:4: UserWarning: Geometry is in a geographic CRS. Results from 'centroid' are likely incorrect. Use 'GeoSeries.to_crs()' to re-project geometries to a projected CRS before this operation.\n",
      "\n",
      "  lat = df_tmp[df_tmp.t == max_t].centroid.y\n",
      "/tmp/ipykernel_4395/669363377.py:5: UserWarning: Geometry is in a geographic CRS. Results from 'centroid' are likely incorrect. Use 'GeoSeries.to_crs()' to re-project geometries to a projected CRS before this operation.\n",
      "\n",
      "  lon = df_tmp[df_tmp.t == max_t].centroid.x\n",
      "/tmp/ipykernel_4395/669363377.py:4: UserWarning: Geometry is in a geographic CRS. Results from 'centroid' are likely incorrect. Use 'GeoSeries.to_crs()' to re-project geometries to a projected CRS before this operation.\n",
      "\n",
      "  lat = df_tmp[df_tmp.t == max_t].centroid.y\n",
      "/tmp/ipykernel_4395/669363377.py:5: UserWarning: Geometry is in a geographic CRS. Results from 'centroid' are likely incorrect. Use 'GeoSeries.to_crs()' to re-project geometries to a projected CRS before this operation.\n",
      "\n",
      "  lon = df_tmp[df_tmp.t == max_t].centroid.x\n",
      "/tmp/ipykernel_4395/669363377.py:4: UserWarning: Geometry is in a geographic CRS. Results from 'centroid' are likely incorrect. Use 'GeoSeries.to_crs()' to re-project geometries to a projected CRS before this operation.\n",
      "\n",
      "  lat = df_tmp[df_tmp.t == max_t].centroid.y\n",
      "/tmp/ipykernel_4395/669363377.py:5: UserWarning: Geometry is in a geographic CRS. Results from 'centroid' are likely incorrect. Use 'GeoSeries.to_crs()' to re-project geometries to a projected CRS before this operation.\n",
      "\n",
      "  lon = df_tmp[df_tmp.t == max_t].centroid.x\n",
      "/tmp/ipykernel_4395/669363377.py:4: UserWarning: Geometry is in a geographic CRS. Results from 'centroid' are likely incorrect. Use 'GeoSeries.to_crs()' to re-project geometries to a projected CRS before this operation.\n",
      "\n",
      "  lat = df_tmp[df_tmp.t == max_t].centroid.y\n",
      "/tmp/ipykernel_4395/669363377.py:5: UserWarning: Geometry is in a geographic CRS. Results from 'centroid' are likely incorrect. Use 'GeoSeries.to_crs()' to re-project geometries to a projected CRS before this operation.\n",
      "\n",
      "  lon = df_tmp[df_tmp.t == max_t].centroid.x\n",
      "/tmp/ipykernel_4395/669363377.py:4: UserWarning: Geometry is in a geographic CRS. Results from 'centroid' are likely incorrect. Use 'GeoSeries.to_crs()' to re-project geometries to a projected CRS before this operation.\n",
      "\n",
      "  lat = df_tmp[df_tmp.t == max_t].centroid.y\n",
      "/tmp/ipykernel_4395/669363377.py:5: UserWarning: Geometry is in a geographic CRS. Results from 'centroid' are likely incorrect. Use 'GeoSeries.to_crs()' to re-project geometries to a projected CRS before this operation.\n",
      "\n",
      "  lon = df_tmp[df_tmp.t == max_t].centroid.x\n",
      "/tmp/ipykernel_4395/669363377.py:4: UserWarning: Geometry is in a geographic CRS. Results from 'centroid' are likely incorrect. Use 'GeoSeries.to_crs()' to re-project geometries to a projected CRS before this operation.\n",
      "\n",
      "  lat = df_tmp[df_tmp.t == max_t].centroid.y\n",
      "/tmp/ipykernel_4395/669363377.py:5: UserWarning: Geometry is in a geographic CRS. Results from 'centroid' are likely incorrect. Use 'GeoSeries.to_crs()' to re-project geometries to a projected CRS before this operation.\n",
      "\n",
      "  lon = df_tmp[df_tmp.t == max_t].centroid.x\n",
      "/tmp/ipykernel_4395/669363377.py:4: UserWarning: Geometry is in a geographic CRS. Results from 'centroid' are likely incorrect. Use 'GeoSeries.to_crs()' to re-project geometries to a projected CRS before this operation.\n",
      "\n",
      "  lat = df_tmp[df_tmp.t == max_t].centroid.y\n",
      "/tmp/ipykernel_4395/669363377.py:5: UserWarning: Geometry is in a geographic CRS. Results from 'centroid' are likely incorrect. Use 'GeoSeries.to_crs()' to re-project geometries to a projected CRS before this operation.\n",
      "\n",
      "  lon = df_tmp[df_tmp.t == max_t].centroid.x\n",
      "/tmp/ipykernel_4395/669363377.py:4: UserWarning: Geometry is in a geographic CRS. Results from 'centroid' are likely incorrect. Use 'GeoSeries.to_crs()' to re-project geometries to a projected CRS before this operation.\n",
      "\n",
      "  lat = df_tmp[df_tmp.t == max_t].centroid.y\n",
      "/tmp/ipykernel_4395/669363377.py:5: UserWarning: Geometry is in a geographic CRS. Results from 'centroid' are likely incorrect. Use 'GeoSeries.to_crs()' to re-project geometries to a projected CRS before this operation.\n",
      "\n",
      "  lon = df_tmp[df_tmp.t == max_t].centroid.x\n",
      "/tmp/ipykernel_4395/669363377.py:4: UserWarning: Geometry is in a geographic CRS. Results from 'centroid' are likely incorrect. Use 'GeoSeries.to_crs()' to re-project geometries to a projected CRS before this operation.\n",
      "\n",
      "  lat = df_tmp[df_tmp.t == max_t].centroid.y\n",
      "/tmp/ipykernel_4395/669363377.py:5: UserWarning: Geometry is in a geographic CRS. Results from 'centroid' are likely incorrect. Use 'GeoSeries.to_crs()' to re-project geometries to a projected CRS before this operation.\n",
      "\n",
      "  lon = df_tmp[df_tmp.t == max_t].centroid.x\n",
      "/tmp/ipykernel_4395/669363377.py:4: UserWarning: Geometry is in a geographic CRS. Results from 'centroid' are likely incorrect. Use 'GeoSeries.to_crs()' to re-project geometries to a projected CRS before this operation.\n",
      "\n",
      "  lat = df_tmp[df_tmp.t == max_t].centroid.y\n",
      "/tmp/ipykernel_4395/669363377.py:5: UserWarning: Geometry is in a geographic CRS. Results from 'centroid' are likely incorrect. Use 'GeoSeries.to_crs()' to re-project geometries to a projected CRS before this operation.\n",
      "\n",
      "  lon = df_tmp[df_tmp.t == max_t].centroid.x\n",
      "/tmp/ipykernel_4395/669363377.py:4: UserWarning: Geometry is in a geographic CRS. Results from 'centroid' are likely incorrect. Use 'GeoSeries.to_crs()' to re-project geometries to a projected CRS before this operation.\n",
      "\n",
      "  lat = df_tmp[df_tmp.t == max_t].centroid.y\n",
      "/tmp/ipykernel_4395/669363377.py:5: UserWarning: Geometry is in a geographic CRS. Results from 'centroid' are likely incorrect. Use 'GeoSeries.to_crs()' to re-project geometries to a projected CRS before this operation.\n",
      "\n",
      "  lon = df_tmp[df_tmp.t == max_t].centroid.x\n",
      "/tmp/ipykernel_4395/669363377.py:4: UserWarning: Geometry is in a geographic CRS. Results from 'centroid' are likely incorrect. Use 'GeoSeries.to_crs()' to re-project geometries to a projected CRS before this operation.\n",
      "\n",
      "  lat = df_tmp[df_tmp.t == max_t].centroid.y\n",
      "/tmp/ipykernel_4395/669363377.py:5: UserWarning: Geometry is in a geographic CRS. Results from 'centroid' are likely incorrect. Use 'GeoSeries.to_crs()' to re-project geometries to a projected CRS before this operation.\n",
      "\n",
      "  lon = df_tmp[df_tmp.t == max_t].centroid.x\n",
      "/tmp/ipykernel_4395/669363377.py:4: UserWarning: Geometry is in a geographic CRS. Results from 'centroid' are likely incorrect. Use 'GeoSeries.to_crs()' to re-project geometries to a projected CRS before this operation.\n",
      "\n",
      "  lat = df_tmp[df_tmp.t == max_t].centroid.y\n",
      "/tmp/ipykernel_4395/669363377.py:5: UserWarning: Geometry is in a geographic CRS. Results from 'centroid' are likely incorrect. Use 'GeoSeries.to_crs()' to re-project geometries to a projected CRS before this operation.\n",
      "\n",
      "  lon = df_tmp[df_tmp.t == max_t].centroid.x\n",
      "/tmp/ipykernel_4395/669363377.py:4: UserWarning: Geometry is in a geographic CRS. Results from 'centroid' are likely incorrect. Use 'GeoSeries.to_crs()' to re-project geometries to a projected CRS before this operation.\n",
      "\n",
      "  lat = df_tmp[df_tmp.t == max_t].centroid.y\n",
      "/tmp/ipykernel_4395/669363377.py:5: UserWarning: Geometry is in a geographic CRS. Results from 'centroid' are likely incorrect. Use 'GeoSeries.to_crs()' to re-project geometries to a projected CRS before this operation.\n",
      "\n",
      "  lon = df_tmp[df_tmp.t == max_t].centroid.x\n",
      "/tmp/ipykernel_4395/669363377.py:4: UserWarning: Geometry is in a geographic CRS. Results from 'centroid' are likely incorrect. Use 'GeoSeries.to_crs()' to re-project geometries to a projected CRS before this operation.\n",
      "\n",
      "  lat = df_tmp[df_tmp.t == max_t].centroid.y\n",
      "/tmp/ipykernel_4395/669363377.py:5: UserWarning: Geometry is in a geographic CRS. Results from 'centroid' are likely incorrect. Use 'GeoSeries.to_crs()' to re-project geometries to a projected CRS before this operation.\n",
      "\n",
      "  lon = df_tmp[df_tmp.t == max_t].centroid.x\n",
      "/tmp/ipykernel_4395/669363377.py:4: UserWarning: Geometry is in a geographic CRS. Results from 'centroid' are likely incorrect. Use 'GeoSeries.to_crs()' to re-project geometries to a projected CRS before this operation.\n",
      "\n",
      "  lat = df_tmp[df_tmp.t == max_t].centroid.y\n",
      "/tmp/ipykernel_4395/669363377.py:5: UserWarning: Geometry is in a geographic CRS. Results from 'centroid' are likely incorrect. Use 'GeoSeries.to_crs()' to re-project geometries to a projected CRS before this operation.\n",
      "\n",
      "  lon = df_tmp[df_tmp.t == max_t].centroid.x\n",
      "/tmp/ipykernel_4395/669363377.py:4: UserWarning: Geometry is in a geographic CRS. Results from 'centroid' are likely incorrect. Use 'GeoSeries.to_crs()' to re-project geometries to a projected CRS before this operation.\n",
      "\n",
      "  lat = df_tmp[df_tmp.t == max_t].centroid.y\n",
      "/tmp/ipykernel_4395/669363377.py:5: UserWarning: Geometry is in a geographic CRS. Results from 'centroid' are likely incorrect. Use 'GeoSeries.to_crs()' to re-project geometries to a projected CRS before this operation.\n",
      "\n",
      "  lon = df_tmp[df_tmp.t == max_t].centroid.x\n",
      "/tmp/ipykernel_4395/669363377.py:4: UserWarning: Geometry is in a geographic CRS. Results from 'centroid' are likely incorrect. Use 'GeoSeries.to_crs()' to re-project geometries to a projected CRS before this operation.\n",
      "\n",
      "  lat = df_tmp[df_tmp.t == max_t].centroid.y\n",
      "/tmp/ipykernel_4395/669363377.py:5: UserWarning: Geometry is in a geographic CRS. Results from 'centroid' are likely incorrect. Use 'GeoSeries.to_crs()' to re-project geometries to a projected CRS before this operation.\n",
      "\n",
      "  lon = df_tmp[df_tmp.t == max_t].centroid.x\n",
      "/tmp/ipykernel_4395/669363377.py:4: UserWarning: Geometry is in a geographic CRS. Results from 'centroid' are likely incorrect. Use 'GeoSeries.to_crs()' to re-project geometries to a projected CRS before this operation.\n",
      "\n",
      "  lat = df_tmp[df_tmp.t == max_t].centroid.y\n",
      "/tmp/ipykernel_4395/669363377.py:5: UserWarning: Geometry is in a geographic CRS. Results from 'centroid' are likely incorrect. Use 'GeoSeries.to_crs()' to re-project geometries to a projected CRS before this operation.\n",
      "\n",
      "  lon = df_tmp[df_tmp.t == max_t].centroid.x\n",
      "/tmp/ipykernel_4395/669363377.py:4: UserWarning: Geometry is in a geographic CRS. Results from 'centroid' are likely incorrect. Use 'GeoSeries.to_crs()' to re-project geometries to a projected CRS before this operation.\n",
      "\n",
      "  lat = df_tmp[df_tmp.t == max_t].centroid.y\n",
      "/tmp/ipykernel_4395/669363377.py:5: UserWarning: Geometry is in a geographic CRS. Results from 'centroid' are likely incorrect. Use 'GeoSeries.to_crs()' to re-project geometries to a projected CRS before this operation.\n",
      "\n",
      "  lon = df_tmp[df_tmp.t == max_t].centroid.x\n",
      "/tmp/ipykernel_4395/669363377.py:4: UserWarning: Geometry is in a geographic CRS. Results from 'centroid' are likely incorrect. Use 'GeoSeries.to_crs()' to re-project geometries to a projected CRS before this operation.\n",
      "\n",
      "  lat = df_tmp[df_tmp.t == max_t].centroid.y\n",
      "/tmp/ipykernel_4395/669363377.py:5: UserWarning: Geometry is in a geographic CRS. Results from 'centroid' are likely incorrect. Use 'GeoSeries.to_crs()' to re-project geometries to a projected CRS before this operation.\n",
      "\n",
      "  lon = df_tmp[df_tmp.t == max_t].centroid.x\n",
      "/tmp/ipykernel_4395/669363377.py:4: UserWarning: Geometry is in a geographic CRS. Results from 'centroid' are likely incorrect. Use 'GeoSeries.to_crs()' to re-project geometries to a projected CRS before this operation.\n",
      "\n",
      "  lat = df_tmp[df_tmp.t == max_t].centroid.y\n",
      "/tmp/ipykernel_4395/669363377.py:5: UserWarning: Geometry is in a geographic CRS. Results from 'centroid' are likely incorrect. Use 'GeoSeries.to_crs()' to re-project geometries to a projected CRS before this operation.\n",
      "\n",
      "  lon = df_tmp[df_tmp.t == max_t].centroid.x\n",
      "/tmp/ipykernel_4395/669363377.py:4: UserWarning: Geometry is in a geographic CRS. Results from 'centroid' are likely incorrect. Use 'GeoSeries.to_crs()' to re-project geometries to a projected CRS before this operation.\n",
      "\n",
      "  lat = df_tmp[df_tmp.t == max_t].centroid.y\n",
      "/tmp/ipykernel_4395/669363377.py:5: UserWarning: Geometry is in a geographic CRS. Results from 'centroid' are likely incorrect. Use 'GeoSeries.to_crs()' to re-project geometries to a projected CRS before this operation.\n",
      "\n",
      "  lon = df_tmp[df_tmp.t == max_t].centroid.x\n",
      "/tmp/ipykernel_4395/669363377.py:4: UserWarning: Geometry is in a geographic CRS. Results from 'centroid' are likely incorrect. Use 'GeoSeries.to_crs()' to re-project geometries to a projected CRS before this operation.\n",
      "\n",
      "  lat = df_tmp[df_tmp.t == max_t].centroid.y\n",
      "/tmp/ipykernel_4395/669363377.py:5: UserWarning: Geometry is in a geographic CRS. Results from 'centroid' are likely incorrect. Use 'GeoSeries.to_crs()' to re-project geometries to a projected CRS before this operation.\n",
      "\n",
      "  lon = df_tmp[df_tmp.t == max_t].centroid.x\n",
      "/tmp/ipykernel_4395/669363377.py:4: UserWarning: Geometry is in a geographic CRS. Results from 'centroid' are likely incorrect. Use 'GeoSeries.to_crs()' to re-project geometries to a projected CRS before this operation.\n",
      "\n",
      "  lat = df_tmp[df_tmp.t == max_t].centroid.y\n",
      "/tmp/ipykernel_4395/669363377.py:5: UserWarning: Geometry is in a geographic CRS. Results from 'centroid' are likely incorrect. Use 'GeoSeries.to_crs()' to re-project geometries to a projected CRS before this operation.\n",
      "\n",
      "  lon = df_tmp[df_tmp.t == max_t].centroid.x\n",
      "/tmp/ipykernel_4395/669363377.py:4: UserWarning: Geometry is in a geographic CRS. Results from 'centroid' are likely incorrect. Use 'GeoSeries.to_crs()' to re-project geometries to a projected CRS before this operation.\n",
      "\n",
      "  lat = df_tmp[df_tmp.t == max_t].centroid.y\n",
      "/tmp/ipykernel_4395/669363377.py:5: UserWarning: Geometry is in a geographic CRS. Results from 'centroid' are likely incorrect. Use 'GeoSeries.to_crs()' to re-project geometries to a projected CRS before this operation.\n",
      "\n",
      "  lon = df_tmp[df_tmp.t == max_t].centroid.x\n",
      "/tmp/ipykernel_4395/669363377.py:4: UserWarning: Geometry is in a geographic CRS. Results from 'centroid' are likely incorrect. Use 'GeoSeries.to_crs()' to re-project geometries to a projected CRS before this operation.\n",
      "\n",
      "  lat = df_tmp[df_tmp.t == max_t].centroid.y\n",
      "/tmp/ipykernel_4395/669363377.py:5: UserWarning: Geometry is in a geographic CRS. Results from 'centroid' are likely incorrect. Use 'GeoSeries.to_crs()' to re-project geometries to a projected CRS before this operation.\n",
      "\n",
      "  lon = df_tmp[df_tmp.t == max_t].centroid.x\n",
      "/tmp/ipykernel_4395/669363377.py:4: UserWarning: Geometry is in a geographic CRS. Results from 'centroid' are likely incorrect. Use 'GeoSeries.to_crs()' to re-project geometries to a projected CRS before this operation.\n",
      "\n",
      "  lat = df_tmp[df_tmp.t == max_t].centroid.y\n",
      "/tmp/ipykernel_4395/669363377.py:5: UserWarning: Geometry is in a geographic CRS. Results from 'centroid' are likely incorrect. Use 'GeoSeries.to_crs()' to re-project geometries to a projected CRS before this operation.\n",
      "\n",
      "  lon = df_tmp[df_tmp.t == max_t].centroid.x\n",
      "/tmp/ipykernel_4395/669363377.py:4: UserWarning: Geometry is in a geographic CRS. Results from 'centroid' are likely incorrect. Use 'GeoSeries.to_crs()' to re-project geometries to a projected CRS before this operation.\n",
      "\n",
      "  lat = df_tmp[df_tmp.t == max_t].centroid.y\n",
      "/tmp/ipykernel_4395/669363377.py:5: UserWarning: Geometry is in a geographic CRS. Results from 'centroid' are likely incorrect. Use 'GeoSeries.to_crs()' to re-project geometries to a projected CRS before this operation.\n",
      "\n",
      "  lon = df_tmp[df_tmp.t == max_t].centroid.x\n",
      "/tmp/ipykernel_4395/669363377.py:4: UserWarning: Geometry is in a geographic CRS. Results from 'centroid' are likely incorrect. Use 'GeoSeries.to_crs()' to re-project geometries to a projected CRS before this operation.\n",
      "\n",
      "  lat = df_tmp[df_tmp.t == max_t].centroid.y\n",
      "/tmp/ipykernel_4395/669363377.py:5: UserWarning: Geometry is in a geographic CRS. Results from 'centroid' are likely incorrect. Use 'GeoSeries.to_crs()' to re-project geometries to a projected CRS before this operation.\n",
      "\n",
      "  lon = df_tmp[df_tmp.t == max_t].centroid.x\n",
      "/tmp/ipykernel_4395/669363377.py:4: UserWarning: Geometry is in a geographic CRS. Results from 'centroid' are likely incorrect. Use 'GeoSeries.to_crs()' to re-project geometries to a projected CRS before this operation.\n",
      "\n",
      "  lat = df_tmp[df_tmp.t == max_t].centroid.y\n",
      "/tmp/ipykernel_4395/669363377.py:5: UserWarning: Geometry is in a geographic CRS. Results from 'centroid' are likely incorrect. Use 'GeoSeries.to_crs()' to re-project geometries to a projected CRS before this operation.\n",
      "\n",
      "  lon = df_tmp[df_tmp.t == max_t].centroid.x\n",
      "/tmp/ipykernel_4395/669363377.py:4: UserWarning: Geometry is in a geographic CRS. Results from 'centroid' are likely incorrect. Use 'GeoSeries.to_crs()' to re-project geometries to a projected CRS before this operation.\n",
      "\n",
      "  lat = df_tmp[df_tmp.t == max_t].centroid.y\n",
      "/tmp/ipykernel_4395/669363377.py:5: UserWarning: Geometry is in a geographic CRS. Results from 'centroid' are likely incorrect. Use 'GeoSeries.to_crs()' to re-project geometries to a projected CRS before this operation.\n",
      "\n",
      "  lon = df_tmp[df_tmp.t == max_t].centroid.x\n",
      "/tmp/ipykernel_4395/669363377.py:4: UserWarning: Geometry is in a geographic CRS. Results from 'centroid' are likely incorrect. Use 'GeoSeries.to_crs()' to re-project geometries to a projected CRS before this operation.\n",
      "\n",
      "  lat = df_tmp[df_tmp.t == max_t].centroid.y\n",
      "/tmp/ipykernel_4395/669363377.py:5: UserWarning: Geometry is in a geographic CRS. Results from 'centroid' are likely incorrect. Use 'GeoSeries.to_crs()' to re-project geometries to a projected CRS before this operation.\n",
      "\n",
      "  lon = df_tmp[df_tmp.t == max_t].centroid.x\n",
      "/tmp/ipykernel_4395/669363377.py:4: UserWarning: Geometry is in a geographic CRS. Results from 'centroid' are likely incorrect. Use 'GeoSeries.to_crs()' to re-project geometries to a projected CRS before this operation.\n",
      "\n",
      "  lat = df_tmp[df_tmp.t == max_t].centroid.y\n",
      "/tmp/ipykernel_4395/669363377.py:5: UserWarning: Geometry is in a geographic CRS. Results from 'centroid' are likely incorrect. Use 'GeoSeries.to_crs()' to re-project geometries to a projected CRS before this operation.\n",
      "\n",
      "  lon = df_tmp[df_tmp.t == max_t].centroid.x\n",
      "/tmp/ipykernel_4395/669363377.py:4: UserWarning: Geometry is in a geographic CRS. Results from 'centroid' are likely incorrect. Use 'GeoSeries.to_crs()' to re-project geometries to a projected CRS before this operation.\n",
      "\n",
      "  lat = df_tmp[df_tmp.t == max_t].centroid.y\n",
      "/tmp/ipykernel_4395/669363377.py:5: UserWarning: Geometry is in a geographic CRS. Results from 'centroid' are likely incorrect. Use 'GeoSeries.to_crs()' to re-project geometries to a projected CRS before this operation.\n",
      "\n",
      "  lon = df_tmp[df_tmp.t == max_t].centroid.x\n",
      "/tmp/ipykernel_4395/669363377.py:4: UserWarning: Geometry is in a geographic CRS. Results from 'centroid' are likely incorrect. Use 'GeoSeries.to_crs()' to re-project geometries to a projected CRS before this operation.\n",
      "\n",
      "  lat = df_tmp[df_tmp.t == max_t].centroid.y\n",
      "/tmp/ipykernel_4395/669363377.py:5: UserWarning: Geometry is in a geographic CRS. Results from 'centroid' are likely incorrect. Use 'GeoSeries.to_crs()' to re-project geometries to a projected CRS before this operation.\n",
      "\n",
      "  lon = df_tmp[df_tmp.t == max_t].centroid.x\n",
      "/tmp/ipykernel_4395/669363377.py:4: UserWarning: Geometry is in a geographic CRS. Results from 'centroid' are likely incorrect. Use 'GeoSeries.to_crs()' to re-project geometries to a projected CRS before this operation.\n",
      "\n",
      "  lat = df_tmp[df_tmp.t == max_t].centroid.y\n",
      "/tmp/ipykernel_4395/669363377.py:5: UserWarning: Geometry is in a geographic CRS. Results from 'centroid' are likely incorrect. Use 'GeoSeries.to_crs()' to re-project geometries to a projected CRS before this operation.\n",
      "\n",
      "  lon = df_tmp[df_tmp.t == max_t].centroid.x\n",
      "/tmp/ipykernel_4395/669363377.py:4: UserWarning: Geometry is in a geographic CRS. Results from 'centroid' are likely incorrect. Use 'GeoSeries.to_crs()' to re-project geometries to a projected CRS before this operation.\n",
      "\n",
      "  lat = df_tmp[df_tmp.t == max_t].centroid.y\n",
      "/tmp/ipykernel_4395/669363377.py:5: UserWarning: Geometry is in a geographic CRS. Results from 'centroid' are likely incorrect. Use 'GeoSeries.to_crs()' to re-project geometries to a projected CRS before this operation.\n",
      "\n",
      "  lon = df_tmp[df_tmp.t == max_t].centroid.x\n",
      "/tmp/ipykernel_4395/669363377.py:4: UserWarning: Geometry is in a geographic CRS. Results from 'centroid' are likely incorrect. Use 'GeoSeries.to_crs()' to re-project geometries to a projected CRS before this operation.\n",
      "\n",
      "  lat = df_tmp[df_tmp.t == max_t].centroid.y\n",
      "/tmp/ipykernel_4395/669363377.py:5: UserWarning: Geometry is in a geographic CRS. Results from 'centroid' are likely incorrect. Use 'GeoSeries.to_crs()' to re-project geometries to a projected CRS before this operation.\n",
      "\n",
      "  lon = df_tmp[df_tmp.t == max_t].centroid.x\n",
      "/tmp/ipykernel_4395/669363377.py:4: UserWarning: Geometry is in a geographic CRS. Results from 'centroid' are likely incorrect. Use 'GeoSeries.to_crs()' to re-project geometries to a projected CRS before this operation.\n",
      "\n",
      "  lat = df_tmp[df_tmp.t == max_t].centroid.y\n",
      "/tmp/ipykernel_4395/669363377.py:5: UserWarning: Geometry is in a geographic CRS. Results from 'centroid' are likely incorrect. Use 'GeoSeries.to_crs()' to re-project geometries to a projected CRS before this operation.\n",
      "\n",
      "  lon = df_tmp[df_tmp.t == max_t].centroid.x\n",
      "/tmp/ipykernel_4395/669363377.py:4: UserWarning: Geometry is in a geographic CRS. Results from 'centroid' are likely incorrect. Use 'GeoSeries.to_crs()' to re-project geometries to a projected CRS before this operation.\n",
      "\n",
      "  lat = df_tmp[df_tmp.t == max_t].centroid.y\n",
      "/tmp/ipykernel_4395/669363377.py:5: UserWarning: Geometry is in a geographic CRS. Results from 'centroid' are likely incorrect. Use 'GeoSeries.to_crs()' to re-project geometries to a projected CRS before this operation.\n",
      "\n",
      "  lon = df_tmp[df_tmp.t == max_t].centroid.x\n",
      "/tmp/ipykernel_4395/669363377.py:4: UserWarning: Geometry is in a geographic CRS. Results from 'centroid' are likely incorrect. Use 'GeoSeries.to_crs()' to re-project geometries to a projected CRS before this operation.\n",
      "\n",
      "  lat = df_tmp[df_tmp.t == max_t].centroid.y\n",
      "/tmp/ipykernel_4395/669363377.py:5: UserWarning: Geometry is in a geographic CRS. Results from 'centroid' are likely incorrect. Use 'GeoSeries.to_crs()' to re-project geometries to a projected CRS before this operation.\n",
      "\n",
      "  lon = df_tmp[df_tmp.t == max_t].centroid.x\n",
      "/tmp/ipykernel_4395/669363377.py:4: UserWarning: Geometry is in a geographic CRS. Results from 'centroid' are likely incorrect. Use 'GeoSeries.to_crs()' to re-project geometries to a projected CRS before this operation.\n",
      "\n",
      "  lat = df_tmp[df_tmp.t == max_t].centroid.y\n",
      "/tmp/ipykernel_4395/669363377.py:5: UserWarning: Geometry is in a geographic CRS. Results from 'centroid' are likely incorrect. Use 'GeoSeries.to_crs()' to re-project geometries to a projected CRS before this operation.\n",
      "\n",
      "  lon = df_tmp[df_tmp.t == max_t].centroid.x\n",
      "/tmp/ipykernel_4395/669363377.py:4: UserWarning: Geometry is in a geographic CRS. Results from 'centroid' are likely incorrect. Use 'GeoSeries.to_crs()' to re-project geometries to a projected CRS before this operation.\n",
      "\n",
      "  lat = df_tmp[df_tmp.t == max_t].centroid.y\n",
      "/tmp/ipykernel_4395/669363377.py:5: UserWarning: Geometry is in a geographic CRS. Results from 'centroid' are likely incorrect. Use 'GeoSeries.to_crs()' to re-project geometries to a projected CRS before this operation.\n",
      "\n",
      "  lon = df_tmp[df_tmp.t == max_t].centroid.x\n",
      "/tmp/ipykernel_4395/669363377.py:4: UserWarning: Geometry is in a geographic CRS. Results from 'centroid' are likely incorrect. Use 'GeoSeries.to_crs()' to re-project geometries to a projected CRS before this operation.\n",
      "\n",
      "  lat = df_tmp[df_tmp.t == max_t].centroid.y\n",
      "/tmp/ipykernel_4395/669363377.py:5: UserWarning: Geometry is in a geographic CRS. Results from 'centroid' are likely incorrect. Use 'GeoSeries.to_crs()' to re-project geometries to a projected CRS before this operation.\n",
      "\n",
      "  lon = df_tmp[df_tmp.t == max_t].centroid.x\n",
      "/tmp/ipykernel_4395/669363377.py:4: UserWarning: Geometry is in a geographic CRS. Results from 'centroid' are likely incorrect. Use 'GeoSeries.to_crs()' to re-project geometries to a projected CRS before this operation.\n",
      "\n",
      "  lat = df_tmp[df_tmp.t == max_t].centroid.y\n",
      "/tmp/ipykernel_4395/669363377.py:5: UserWarning: Geometry is in a geographic CRS. Results from 'centroid' are likely incorrect. Use 'GeoSeries.to_crs()' to re-project geometries to a projected CRS before this operation.\n",
      "\n",
      "  lon = df_tmp[df_tmp.t == max_t].centroid.x\n",
      "/tmp/ipykernel_4395/669363377.py:4: UserWarning: Geometry is in a geographic CRS. Results from 'centroid' are likely incorrect. Use 'GeoSeries.to_crs()' to re-project geometries to a projected CRS before this operation.\n",
      "\n",
      "  lat = df_tmp[df_tmp.t == max_t].centroid.y\n",
      "/tmp/ipykernel_4395/669363377.py:5: UserWarning: Geometry is in a geographic CRS. Results from 'centroid' are likely incorrect. Use 'GeoSeries.to_crs()' to re-project geometries to a projected CRS before this operation.\n",
      "\n",
      "  lon = df_tmp[df_tmp.t == max_t].centroid.x\n",
      "/tmp/ipykernel_4395/669363377.py:4: UserWarning: Geometry is in a geographic CRS. Results from 'centroid' are likely incorrect. Use 'GeoSeries.to_crs()' to re-project geometries to a projected CRS before this operation.\n",
      "\n",
      "  lat = df_tmp[df_tmp.t == max_t].centroid.y\n",
      "/tmp/ipykernel_4395/669363377.py:5: UserWarning: Geometry is in a geographic CRS. Results from 'centroid' are likely incorrect. Use 'GeoSeries.to_crs()' to re-project geometries to a projected CRS before this operation.\n",
      "\n",
      "  lon = df_tmp[df_tmp.t == max_t].centroid.x\n",
      "/tmp/ipykernel_4395/669363377.py:4: UserWarning: Geometry is in a geographic CRS. Results from 'centroid' are likely incorrect. Use 'GeoSeries.to_crs()' to re-project geometries to a projected CRS before this operation.\n",
      "\n",
      "  lat = df_tmp[df_tmp.t == max_t].centroid.y\n",
      "/tmp/ipykernel_4395/669363377.py:5: UserWarning: Geometry is in a geographic CRS. Results from 'centroid' are likely incorrect. Use 'GeoSeries.to_crs()' to re-project geometries to a projected CRS before this operation.\n",
      "\n",
      "  lon = df_tmp[df_tmp.t == max_t].centroid.x\n",
      "/tmp/ipykernel_4395/669363377.py:4: UserWarning: Geometry is in a geographic CRS. Results from 'centroid' are likely incorrect. Use 'GeoSeries.to_crs()' to re-project geometries to a projected CRS before this operation.\n",
      "\n",
      "  lat = df_tmp[df_tmp.t == max_t].centroid.y\n",
      "/tmp/ipykernel_4395/669363377.py:5: UserWarning: Geometry is in a geographic CRS. Results from 'centroid' are likely incorrect. Use 'GeoSeries.to_crs()' to re-project geometries to a projected CRS before this operation.\n",
      "\n",
      "  lon = df_tmp[df_tmp.t == max_t].centroid.x\n",
      "/tmp/ipykernel_4395/669363377.py:4: UserWarning: Geometry is in a geographic CRS. Results from 'centroid' are likely incorrect. Use 'GeoSeries.to_crs()' to re-project geometries to a projected CRS before this operation.\n",
      "\n",
      "  lat = df_tmp[df_tmp.t == max_t].centroid.y\n",
      "/tmp/ipykernel_4395/669363377.py:5: UserWarning: Geometry is in a geographic CRS. Results from 'centroid' are likely incorrect. Use 'GeoSeries.to_crs()' to re-project geometries to a projected CRS before this operation.\n",
      "\n",
      "  lon = df_tmp[df_tmp.t == max_t].centroid.x\n",
      "/tmp/ipykernel_4395/669363377.py:4: UserWarning: Geometry is in a geographic CRS. Results from 'centroid' are likely incorrect. Use 'GeoSeries.to_crs()' to re-project geometries to a projected CRS before this operation.\n",
      "\n",
      "  lat = df_tmp[df_tmp.t == max_t].centroid.y\n",
      "/tmp/ipykernel_4395/669363377.py:5: UserWarning: Geometry is in a geographic CRS. Results from 'centroid' are likely incorrect. Use 'GeoSeries.to_crs()' to re-project geometries to a projected CRS before this operation.\n",
      "\n",
      "  lon = df_tmp[df_tmp.t == max_t].centroid.x\n",
      "/tmp/ipykernel_4395/669363377.py:4: UserWarning: Geometry is in a geographic CRS. Results from 'centroid' are likely incorrect. Use 'GeoSeries.to_crs()' to re-project geometries to a projected CRS before this operation.\n",
      "\n",
      "  lat = df_tmp[df_tmp.t == max_t].centroid.y\n",
      "/tmp/ipykernel_4395/669363377.py:5: UserWarning: Geometry is in a geographic CRS. Results from 'centroid' are likely incorrect. Use 'GeoSeries.to_crs()' to re-project geometries to a projected CRS before this operation.\n",
      "\n",
      "  lon = df_tmp[df_tmp.t == max_t].centroid.x\n",
      "/tmp/ipykernel_4395/669363377.py:4: UserWarning: Geometry is in a geographic CRS. Results from 'centroid' are likely incorrect. Use 'GeoSeries.to_crs()' to re-project geometries to a projected CRS before this operation.\n",
      "\n",
      "  lat = df_tmp[df_tmp.t == max_t].centroid.y\n",
      "/tmp/ipykernel_4395/669363377.py:5: UserWarning: Geometry is in a geographic CRS. Results from 'centroid' are likely incorrect. Use 'GeoSeries.to_crs()' to re-project geometries to a projected CRS before this operation.\n",
      "\n",
      "  lon = df_tmp[df_tmp.t == max_t].centroid.x\n",
      "/tmp/ipykernel_4395/669363377.py:4: UserWarning: Geometry is in a geographic CRS. Results from 'centroid' are likely incorrect. Use 'GeoSeries.to_crs()' to re-project geometries to a projected CRS before this operation.\n",
      "\n",
      "  lat = df_tmp[df_tmp.t == max_t].centroid.y\n",
      "/tmp/ipykernel_4395/669363377.py:5: UserWarning: Geometry is in a geographic CRS. Results from 'centroid' are likely incorrect. Use 'GeoSeries.to_crs()' to re-project geometries to a projected CRS before this operation.\n",
      "\n",
      "  lon = df_tmp[df_tmp.t == max_t].centroid.x\n",
      "/tmp/ipykernel_4395/669363377.py:4: UserWarning: Geometry is in a geographic CRS. Results from 'centroid' are likely incorrect. Use 'GeoSeries.to_crs()' to re-project geometries to a projected CRS before this operation.\n",
      "\n",
      "  lat = df_tmp[df_tmp.t == max_t].centroid.y\n",
      "/tmp/ipykernel_4395/669363377.py:5: UserWarning: Geometry is in a geographic CRS. Results from 'centroid' are likely incorrect. Use 'GeoSeries.to_crs()' to re-project geometries to a projected CRS before this operation.\n",
      "\n",
      "  lon = df_tmp[df_tmp.t == max_t].centroid.x\n",
      "/tmp/ipykernel_4395/669363377.py:4: UserWarning: Geometry is in a geographic CRS. Results from 'centroid' are likely incorrect. Use 'GeoSeries.to_crs()' to re-project geometries to a projected CRS before this operation.\n",
      "\n",
      "  lat = df_tmp[df_tmp.t == max_t].centroid.y\n",
      "/tmp/ipykernel_4395/669363377.py:5: UserWarning: Geometry is in a geographic CRS. Results from 'centroid' are likely incorrect. Use 'GeoSeries.to_crs()' to re-project geometries to a projected CRS before this operation.\n",
      "\n",
      "  lon = df_tmp[df_tmp.t == max_t].centroid.x\n",
      "/tmp/ipykernel_4395/669363377.py:4: UserWarning: Geometry is in a geographic CRS. Results from 'centroid' are likely incorrect. Use 'GeoSeries.to_crs()' to re-project geometries to a projected CRS before this operation.\n",
      "\n",
      "  lat = df_tmp[df_tmp.t == max_t].centroid.y\n",
      "/tmp/ipykernel_4395/669363377.py:5: UserWarning: Geometry is in a geographic CRS. Results from 'centroid' are likely incorrect. Use 'GeoSeries.to_crs()' to re-project geometries to a projected CRS before this operation.\n",
      "\n",
      "  lon = df_tmp[df_tmp.t == max_t].centroid.x\n",
      "/tmp/ipykernel_4395/669363377.py:4: UserWarning: Geometry is in a geographic CRS. Results from 'centroid' are likely incorrect. Use 'GeoSeries.to_crs()' to re-project geometries to a projected CRS before this operation.\n",
      "\n",
      "  lat = df_tmp[df_tmp.t == max_t].centroid.y\n",
      "/tmp/ipykernel_4395/669363377.py:5: UserWarning: Geometry is in a geographic CRS. Results from 'centroid' are likely incorrect. Use 'GeoSeries.to_crs()' to re-project geometries to a projected CRS before this operation.\n",
      "\n",
      "  lon = df_tmp[df_tmp.t == max_t].centroid.x\n",
      "/tmp/ipykernel_4395/669363377.py:4: UserWarning: Geometry is in a geographic CRS. Results from 'centroid' are likely incorrect. Use 'GeoSeries.to_crs()' to re-project geometries to a projected CRS before this operation.\n",
      "\n",
      "  lat = df_tmp[df_tmp.t == max_t].centroid.y\n",
      "/tmp/ipykernel_4395/669363377.py:5: UserWarning: Geometry is in a geographic CRS. Results from 'centroid' are likely incorrect. Use 'GeoSeries.to_crs()' to re-project geometries to a projected CRS before this operation.\n",
      "\n",
      "  lon = df_tmp[df_tmp.t == max_t].centroid.x\n",
      "/tmp/ipykernel_4395/669363377.py:4: UserWarning: Geometry is in a geographic CRS. Results from 'centroid' are likely incorrect. Use 'GeoSeries.to_crs()' to re-project geometries to a projected CRS before this operation.\n",
      "\n",
      "  lat = df_tmp[df_tmp.t == max_t].centroid.y\n",
      "/tmp/ipykernel_4395/669363377.py:5: UserWarning: Geometry is in a geographic CRS. Results from 'centroid' are likely incorrect. Use 'GeoSeries.to_crs()' to re-project geometries to a projected CRS before this operation.\n",
      "\n",
      "  lon = df_tmp[df_tmp.t == max_t].centroid.x\n",
      "/tmp/ipykernel_4395/669363377.py:4: UserWarning: Geometry is in a geographic CRS. Results from 'centroid' are likely incorrect. Use 'GeoSeries.to_crs()' to re-project geometries to a projected CRS before this operation.\n",
      "\n",
      "  lat = df_tmp[df_tmp.t == max_t].centroid.y\n",
      "/tmp/ipykernel_4395/669363377.py:5: UserWarning: Geometry is in a geographic CRS. Results from 'centroid' are likely incorrect. Use 'GeoSeries.to_crs()' to re-project geometries to a projected CRS before this operation.\n",
      "\n",
      "  lon = df_tmp[df_tmp.t == max_t].centroid.x\n",
      "/tmp/ipykernel_4395/669363377.py:4: UserWarning: Geometry is in a geographic CRS. Results from 'centroid' are likely incorrect. Use 'GeoSeries.to_crs()' to re-project geometries to a projected CRS before this operation.\n",
      "\n",
      "  lat = df_tmp[df_tmp.t == max_t].centroid.y\n",
      "/tmp/ipykernel_4395/669363377.py:5: UserWarning: Geometry is in a geographic CRS. Results from 'centroid' are likely incorrect. Use 'GeoSeries.to_crs()' to re-project geometries to a projected CRS before this operation.\n",
      "\n",
      "  lon = df_tmp[df_tmp.t == max_t].centroid.x\n",
      "/tmp/ipykernel_4395/669363377.py:4: UserWarning: Geometry is in a geographic CRS. Results from 'centroid' are likely incorrect. Use 'GeoSeries.to_crs()' to re-project geometries to a projected CRS before this operation.\n",
      "\n",
      "  lat = df_tmp[df_tmp.t == max_t].centroid.y\n",
      "/tmp/ipykernel_4395/669363377.py:5: UserWarning: Geometry is in a geographic CRS. Results from 'centroid' are likely incorrect. Use 'GeoSeries.to_crs()' to re-project geometries to a projected CRS before this operation.\n",
      "\n",
      "  lon = df_tmp[df_tmp.t == max_t].centroid.x\n",
      "/tmp/ipykernel_4395/669363377.py:4: UserWarning: Geometry is in a geographic CRS. Results from 'centroid' are likely incorrect. Use 'GeoSeries.to_crs()' to re-project geometries to a projected CRS before this operation.\n",
      "\n",
      "  lat = df_tmp[df_tmp.t == max_t].centroid.y\n",
      "/tmp/ipykernel_4395/669363377.py:5: UserWarning: Geometry is in a geographic CRS. Results from 'centroid' are likely incorrect. Use 'GeoSeries.to_crs()' to re-project geometries to a projected CRS before this operation.\n",
      "\n",
      "  lon = df_tmp[df_tmp.t == max_t].centroid.x\n",
      "/tmp/ipykernel_4395/669363377.py:4: UserWarning: Geometry is in a geographic CRS. Results from 'centroid' are likely incorrect. Use 'GeoSeries.to_crs()' to re-project geometries to a projected CRS before this operation.\n",
      "\n",
      "  lat = df_tmp[df_tmp.t == max_t].centroid.y\n",
      "/tmp/ipykernel_4395/669363377.py:5: UserWarning: Geometry is in a geographic CRS. Results from 'centroid' are likely incorrect. Use 'GeoSeries.to_crs()' to re-project geometries to a projected CRS before this operation.\n",
      "\n",
      "  lon = df_tmp[df_tmp.t == max_t].centroid.x\n",
      "/tmp/ipykernel_4395/669363377.py:4: UserWarning: Geometry is in a geographic CRS. Results from 'centroid' are likely incorrect. Use 'GeoSeries.to_crs()' to re-project geometries to a projected CRS before this operation.\n",
      "\n",
      "  lat = df_tmp[df_tmp.t == max_t].centroid.y\n",
      "/tmp/ipykernel_4395/669363377.py:5: UserWarning: Geometry is in a geographic CRS. Results from 'centroid' are likely incorrect. Use 'GeoSeries.to_crs()' to re-project geometries to a projected CRS before this operation.\n",
      "\n",
      "  lon = df_tmp[df_tmp.t == max_t].centroid.x\n",
      "/tmp/ipykernel_4395/669363377.py:4: UserWarning: Geometry is in a geographic CRS. Results from 'centroid' are likely incorrect. Use 'GeoSeries.to_crs()' to re-project geometries to a projected CRS before this operation.\n",
      "\n",
      "  lat = df_tmp[df_tmp.t == max_t].centroid.y\n",
      "/tmp/ipykernel_4395/669363377.py:5: UserWarning: Geometry is in a geographic CRS. Results from 'centroid' are likely incorrect. Use 'GeoSeries.to_crs()' to re-project geometries to a projected CRS before this operation.\n",
      "\n",
      "  lon = df_tmp[df_tmp.t == max_t].centroid.x\n",
      "/tmp/ipykernel_4395/669363377.py:4: UserWarning: Geometry is in a geographic CRS. Results from 'centroid' are likely incorrect. Use 'GeoSeries.to_crs()' to re-project geometries to a projected CRS before this operation.\n",
      "\n",
      "  lat = df_tmp[df_tmp.t == max_t].centroid.y\n",
      "/tmp/ipykernel_4395/669363377.py:5: UserWarning: Geometry is in a geographic CRS. Results from 'centroid' are likely incorrect. Use 'GeoSeries.to_crs()' to re-project geometries to a projected CRS before this operation.\n",
      "\n",
      "  lon = df_tmp[df_tmp.t == max_t].centroid.x\n",
      "/tmp/ipykernel_4395/669363377.py:4: UserWarning: Geometry is in a geographic CRS. Results from 'centroid' are likely incorrect. Use 'GeoSeries.to_crs()' to re-project geometries to a projected CRS before this operation.\n",
      "\n",
      "  lat = df_tmp[df_tmp.t == max_t].centroid.y\n",
      "/tmp/ipykernel_4395/669363377.py:5: UserWarning: Geometry is in a geographic CRS. Results from 'centroid' are likely incorrect. Use 'GeoSeries.to_crs()' to re-project geometries to a projected CRS before this operation.\n",
      "\n",
      "  lon = df_tmp[df_tmp.t == max_t].centroid.x\n",
      "/tmp/ipykernel_4395/669363377.py:4: UserWarning: Geometry is in a geographic CRS. Results from 'centroid' are likely incorrect. Use 'GeoSeries.to_crs()' to re-project geometries to a projected CRS before this operation.\n",
      "\n",
      "  lat = df_tmp[df_tmp.t == max_t].centroid.y\n",
      "/tmp/ipykernel_4395/669363377.py:5: UserWarning: Geometry is in a geographic CRS. Results from 'centroid' are likely incorrect. Use 'GeoSeries.to_crs()' to re-project geometries to a projected CRS before this operation.\n",
      "\n",
      "  lon = df_tmp[df_tmp.t == max_t].centroid.x\n",
      "/tmp/ipykernel_4395/669363377.py:4: UserWarning: Geometry is in a geographic CRS. Results from 'centroid' are likely incorrect. Use 'GeoSeries.to_crs()' to re-project geometries to a projected CRS before this operation.\n",
      "\n",
      "  lat = df_tmp[df_tmp.t == max_t].centroid.y\n",
      "/tmp/ipykernel_4395/669363377.py:5: UserWarning: Geometry is in a geographic CRS. Results from 'centroid' are likely incorrect. Use 'GeoSeries.to_crs()' to re-project geometries to a projected CRS before this operation.\n",
      "\n",
      "  lon = df_tmp[df_tmp.t == max_t].centroid.x\n",
      "/tmp/ipykernel_4395/669363377.py:4: UserWarning: Geometry is in a geographic CRS. Results from 'centroid' are likely incorrect. Use 'GeoSeries.to_crs()' to re-project geometries to a projected CRS before this operation.\n",
      "\n",
      "  lat = df_tmp[df_tmp.t == max_t].centroid.y\n",
      "/tmp/ipykernel_4395/669363377.py:5: UserWarning: Geometry is in a geographic CRS. Results from 'centroid' are likely incorrect. Use 'GeoSeries.to_crs()' to re-project geometries to a projected CRS before this operation.\n",
      "\n",
      "  lon = df_tmp[df_tmp.t == max_t].centroid.x\n",
      "/tmp/ipykernel_4395/669363377.py:4: UserWarning: Geometry is in a geographic CRS. Results from 'centroid' are likely incorrect. Use 'GeoSeries.to_crs()' to re-project geometries to a projected CRS before this operation.\n",
      "\n",
      "  lat = df_tmp[df_tmp.t == max_t].centroid.y\n",
      "/tmp/ipykernel_4395/669363377.py:5: UserWarning: Geometry is in a geographic CRS. Results from 'centroid' are likely incorrect. Use 'GeoSeries.to_crs()' to re-project geometries to a projected CRS before this operation.\n",
      "\n",
      "  lon = df_tmp[df_tmp.t == max_t].centroid.x\n",
      "/tmp/ipykernel_4395/669363377.py:4: UserWarning: Geometry is in a geographic CRS. Results from 'centroid' are likely incorrect. Use 'GeoSeries.to_crs()' to re-project geometries to a projected CRS before this operation.\n",
      "\n",
      "  lat = df_tmp[df_tmp.t == max_t].centroid.y\n",
      "/tmp/ipykernel_4395/669363377.py:5: UserWarning: Geometry is in a geographic CRS. Results from 'centroid' are likely incorrect. Use 'GeoSeries.to_crs()' to re-project geometries to a projected CRS before this operation.\n",
      "\n",
      "  lon = df_tmp[df_tmp.t == max_t].centroid.x\n",
      "/tmp/ipykernel_4395/669363377.py:4: UserWarning: Geometry is in a geographic CRS. Results from 'centroid' are likely incorrect. Use 'GeoSeries.to_crs()' to re-project geometries to a projected CRS before this operation.\n",
      "\n",
      "  lat = df_tmp[df_tmp.t == max_t].centroid.y\n",
      "/tmp/ipykernel_4395/669363377.py:5: UserWarning: Geometry is in a geographic CRS. Results from 'centroid' are likely incorrect. Use 'GeoSeries.to_crs()' to re-project geometries to a projected CRS before this operation.\n",
      "\n",
      "  lon = df_tmp[df_tmp.t == max_t].centroid.x\n",
      "/tmp/ipykernel_4395/669363377.py:4: UserWarning: Geometry is in a geographic CRS. Results from 'centroid' are likely incorrect. Use 'GeoSeries.to_crs()' to re-project geometries to a projected CRS before this operation.\n",
      "\n",
      "  lat = df_tmp[df_tmp.t == max_t].centroid.y\n",
      "/tmp/ipykernel_4395/669363377.py:5: UserWarning: Geometry is in a geographic CRS. Results from 'centroid' are likely incorrect. Use 'GeoSeries.to_crs()' to re-project geometries to a projected CRS before this operation.\n",
      "\n",
      "  lon = df_tmp[df_tmp.t == max_t].centroid.x\n",
      "/tmp/ipykernel_4395/669363377.py:4: UserWarning: Geometry is in a geographic CRS. Results from 'centroid' are likely incorrect. Use 'GeoSeries.to_crs()' to re-project geometries to a projected CRS before this operation.\n",
      "\n",
      "  lat = df_tmp[df_tmp.t == max_t].centroid.y\n",
      "/tmp/ipykernel_4395/669363377.py:5: UserWarning: Geometry is in a geographic CRS. Results from 'centroid' are likely incorrect. Use 'GeoSeries.to_crs()' to re-project geometries to a projected CRS before this operation.\n",
      "\n",
      "  lon = df_tmp[df_tmp.t == max_t].centroid.x\n",
      "/tmp/ipykernel_4395/669363377.py:4: UserWarning: Geometry is in a geographic CRS. Results from 'centroid' are likely incorrect. Use 'GeoSeries.to_crs()' to re-project geometries to a projected CRS before this operation.\n",
      "\n",
      "  lat = df_tmp[df_tmp.t == max_t].centroid.y\n",
      "/tmp/ipykernel_4395/669363377.py:5: UserWarning: Geometry is in a geographic CRS. Results from 'centroid' are likely incorrect. Use 'GeoSeries.to_crs()' to re-project geometries to a projected CRS before this operation.\n",
      "\n",
      "  lon = df_tmp[df_tmp.t == max_t].centroid.x\n",
      "/tmp/ipykernel_4395/669363377.py:4: UserWarning: Geometry is in a geographic CRS. Results from 'centroid' are likely incorrect. Use 'GeoSeries.to_crs()' to re-project geometries to a projected CRS before this operation.\n",
      "\n",
      "  lat = df_tmp[df_tmp.t == max_t].centroid.y\n",
      "/tmp/ipykernel_4395/669363377.py:5: UserWarning: Geometry is in a geographic CRS. Results from 'centroid' are likely incorrect. Use 'GeoSeries.to_crs()' to re-project geometries to a projected CRS before this operation.\n",
      "\n",
      "  lon = df_tmp[df_tmp.t == max_t].centroid.x\n",
      "/tmp/ipykernel_4395/669363377.py:4: UserWarning: Geometry is in a geographic CRS. Results from 'centroid' are likely incorrect. Use 'GeoSeries.to_crs()' to re-project geometries to a projected CRS before this operation.\n",
      "\n",
      "  lat = df_tmp[df_tmp.t == max_t].centroid.y\n",
      "/tmp/ipykernel_4395/669363377.py:5: UserWarning: Geometry is in a geographic CRS. Results from 'centroid' are likely incorrect. Use 'GeoSeries.to_crs()' to re-project geometries to a projected CRS before this operation.\n",
      "\n",
      "  lon = df_tmp[df_tmp.t == max_t].centroid.x\n",
      "/tmp/ipykernel_4395/669363377.py:4: UserWarning: Geometry is in a geographic CRS. Results from 'centroid' are likely incorrect. Use 'GeoSeries.to_crs()' to re-project geometries to a projected CRS before this operation.\n",
      "\n",
      "  lat = df_tmp[df_tmp.t == max_t].centroid.y\n",
      "/tmp/ipykernel_4395/669363377.py:5: UserWarning: Geometry is in a geographic CRS. Results from 'centroid' are likely incorrect. Use 'GeoSeries.to_crs()' to re-project geometries to a projected CRS before this operation.\n",
      "\n",
      "  lon = df_tmp[df_tmp.t == max_t].centroid.x\n",
      "/tmp/ipykernel_4395/669363377.py:4: UserWarning: Geometry is in a geographic CRS. Results from 'centroid' are likely incorrect. Use 'GeoSeries.to_crs()' to re-project geometries to a projected CRS before this operation.\n",
      "\n",
      "  lat = df_tmp[df_tmp.t == max_t].centroid.y\n",
      "/tmp/ipykernel_4395/669363377.py:5: UserWarning: Geometry is in a geographic CRS. Results from 'centroid' are likely incorrect. Use 'GeoSeries.to_crs()' to re-project geometries to a projected CRS before this operation.\n",
      "\n",
      "  lon = df_tmp[df_tmp.t == max_t].centroid.x\n",
      "/tmp/ipykernel_4395/669363377.py:4: UserWarning: Geometry is in a geographic CRS. Results from 'centroid' are likely incorrect. Use 'GeoSeries.to_crs()' to re-project geometries to a projected CRS before this operation.\n",
      "\n",
      "  lat = df_tmp[df_tmp.t == max_t].centroid.y\n",
      "/tmp/ipykernel_4395/669363377.py:5: UserWarning: Geometry is in a geographic CRS. Results from 'centroid' are likely incorrect. Use 'GeoSeries.to_crs()' to re-project geometries to a projected CRS before this operation.\n",
      "\n",
      "  lon = df_tmp[df_tmp.t == max_t].centroid.x\n",
      "/tmp/ipykernel_4395/669363377.py:4: UserWarning: Geometry is in a geographic CRS. Results from 'centroid' are likely incorrect. Use 'GeoSeries.to_crs()' to re-project geometries to a projected CRS before this operation.\n",
      "\n",
      "  lat = df_tmp[df_tmp.t == max_t].centroid.y\n",
      "/tmp/ipykernel_4395/669363377.py:5: UserWarning: Geometry is in a geographic CRS. Results from 'centroid' are likely incorrect. Use 'GeoSeries.to_crs()' to re-project geometries to a projected CRS before this operation.\n",
      "\n",
      "  lon = df_tmp[df_tmp.t == max_t].centroid.x\n",
      "/tmp/ipykernel_4395/669363377.py:4: UserWarning: Geometry is in a geographic CRS. Results from 'centroid' are likely incorrect. Use 'GeoSeries.to_crs()' to re-project geometries to a projected CRS before this operation.\n",
      "\n",
      "  lat = df_tmp[df_tmp.t == max_t].centroid.y\n",
      "/tmp/ipykernel_4395/669363377.py:5: UserWarning: Geometry is in a geographic CRS. Results from 'centroid' are likely incorrect. Use 'GeoSeries.to_crs()' to re-project geometries to a projected CRS before this operation.\n",
      "\n",
      "  lon = df_tmp[df_tmp.t == max_t].centroid.x\n",
      "/tmp/ipykernel_4395/669363377.py:4: UserWarning: Geometry is in a geographic CRS. Results from 'centroid' are likely incorrect. Use 'GeoSeries.to_crs()' to re-project geometries to a projected CRS before this operation.\n",
      "\n",
      "  lat = df_tmp[df_tmp.t == max_t].centroid.y\n",
      "/tmp/ipykernel_4395/669363377.py:5: UserWarning: Geometry is in a geographic CRS. Results from 'centroid' are likely incorrect. Use 'GeoSeries.to_crs()' to re-project geometries to a projected CRS before this operation.\n",
      "\n",
      "  lon = df_tmp[df_tmp.t == max_t].centroid.x\n",
      "/tmp/ipykernel_4395/669363377.py:4: UserWarning: Geometry is in a geographic CRS. Results from 'centroid' are likely incorrect. Use 'GeoSeries.to_crs()' to re-project geometries to a projected CRS before this operation.\n",
      "\n",
      "  lat = df_tmp[df_tmp.t == max_t].centroid.y\n",
      "/tmp/ipykernel_4395/669363377.py:5: UserWarning: Geometry is in a geographic CRS. Results from 'centroid' are likely incorrect. Use 'GeoSeries.to_crs()' to re-project geometries to a projected CRS before this operation.\n",
      "\n",
      "  lon = df_tmp[df_tmp.t == max_t].centroid.x\n",
      "/tmp/ipykernel_4395/669363377.py:4: UserWarning: Geometry is in a geographic CRS. Results from 'centroid' are likely incorrect. Use 'GeoSeries.to_crs()' to re-project geometries to a projected CRS before this operation.\n",
      "\n",
      "  lat = df_tmp[df_tmp.t == max_t].centroid.y\n",
      "/tmp/ipykernel_4395/669363377.py:5: UserWarning: Geometry is in a geographic CRS. Results from 'centroid' are likely incorrect. Use 'GeoSeries.to_crs()' to re-project geometries to a projected CRS before this operation.\n",
      "\n",
      "  lon = df_tmp[df_tmp.t == max_t].centroid.x\n",
      "/tmp/ipykernel_4395/669363377.py:4: UserWarning: Geometry is in a geographic CRS. Results from 'centroid' are likely incorrect. Use 'GeoSeries.to_crs()' to re-project geometries to a projected CRS before this operation.\n",
      "\n",
      "  lat = df_tmp[df_tmp.t == max_t].centroid.y\n",
      "/tmp/ipykernel_4395/669363377.py:5: UserWarning: Geometry is in a geographic CRS. Results from 'centroid' are likely incorrect. Use 'GeoSeries.to_crs()' to re-project geometries to a projected CRS before this operation.\n",
      "\n",
      "  lon = df_tmp[df_tmp.t == max_t].centroid.x\n",
      "/tmp/ipykernel_4395/669363377.py:4: UserWarning: Geometry is in a geographic CRS. Results from 'centroid' are likely incorrect. Use 'GeoSeries.to_crs()' to re-project geometries to a projected CRS before this operation.\n",
      "\n",
      "  lat = df_tmp[df_tmp.t == max_t].centroid.y\n",
      "/tmp/ipykernel_4395/669363377.py:5: UserWarning: Geometry is in a geographic CRS. Results from 'centroid' are likely incorrect. Use 'GeoSeries.to_crs()' to re-project geometries to a projected CRS before this operation.\n",
      "\n",
      "  lon = df_tmp[df_tmp.t == max_t].centroid.x\n",
      "/tmp/ipykernel_4395/669363377.py:4: UserWarning: Geometry is in a geographic CRS. Results from 'centroid' are likely incorrect. Use 'GeoSeries.to_crs()' to re-project geometries to a projected CRS before this operation.\n",
      "\n",
      "  lat = df_tmp[df_tmp.t == max_t].centroid.y\n",
      "/tmp/ipykernel_4395/669363377.py:5: UserWarning: Geometry is in a geographic CRS. Results from 'centroid' are likely incorrect. Use 'GeoSeries.to_crs()' to re-project geometries to a projected CRS before this operation.\n",
      "\n",
      "  lon = df_tmp[df_tmp.t == max_t].centroid.x\n",
      "/tmp/ipykernel_4395/669363377.py:4: UserWarning: Geometry is in a geographic CRS. Results from 'centroid' are likely incorrect. Use 'GeoSeries.to_crs()' to re-project geometries to a projected CRS before this operation.\n",
      "\n",
      "  lat = df_tmp[df_tmp.t == max_t].centroid.y\n",
      "/tmp/ipykernel_4395/669363377.py:5: UserWarning: Geometry is in a geographic CRS. Results from 'centroid' are likely incorrect. Use 'GeoSeries.to_crs()' to re-project geometries to a projected CRS before this operation.\n",
      "\n",
      "  lon = df_tmp[df_tmp.t == max_t].centroid.x\n",
      "/tmp/ipykernel_4395/669363377.py:4: UserWarning: Geometry is in a geographic CRS. Results from 'centroid' are likely incorrect. Use 'GeoSeries.to_crs()' to re-project geometries to a projected CRS before this operation.\n",
      "\n",
      "  lat = df_tmp[df_tmp.t == max_t].centroid.y\n",
      "/tmp/ipykernel_4395/669363377.py:5: UserWarning: Geometry is in a geographic CRS. Results from 'centroid' are likely incorrect. Use 'GeoSeries.to_crs()' to re-project geometries to a projected CRS before this operation.\n",
      "\n",
      "  lon = df_tmp[df_tmp.t == max_t].centroid.x\n",
      "/tmp/ipykernel_4395/669363377.py:4: UserWarning: Geometry is in a geographic CRS. Results from 'centroid' are likely incorrect. Use 'GeoSeries.to_crs()' to re-project geometries to a projected CRS before this operation.\n",
      "\n",
      "  lat = df_tmp[df_tmp.t == max_t].centroid.y\n",
      "/tmp/ipykernel_4395/669363377.py:5: UserWarning: Geometry is in a geographic CRS. Results from 'centroid' are likely incorrect. Use 'GeoSeries.to_crs()' to re-project geometries to a projected CRS before this operation.\n",
      "\n",
      "  lon = df_tmp[df_tmp.t == max_t].centroid.x\n",
      "/tmp/ipykernel_4395/669363377.py:4: UserWarning: Geometry is in a geographic CRS. Results from 'centroid' are likely incorrect. Use 'GeoSeries.to_crs()' to re-project geometries to a projected CRS before this operation.\n",
      "\n",
      "  lat = df_tmp[df_tmp.t == max_t].centroid.y\n",
      "/tmp/ipykernel_4395/669363377.py:5: UserWarning: Geometry is in a geographic CRS. Results from 'centroid' are likely incorrect. Use 'GeoSeries.to_crs()' to re-project geometries to a projected CRS before this operation.\n",
      "\n",
      "  lon = df_tmp[df_tmp.t == max_t].centroid.x\n",
      "/tmp/ipykernel_4395/669363377.py:4: UserWarning: Geometry is in a geographic CRS. Results from 'centroid' are likely incorrect. Use 'GeoSeries.to_crs()' to re-project geometries to a projected CRS before this operation.\n",
      "\n",
      "  lat = df_tmp[df_tmp.t == max_t].centroid.y\n",
      "/tmp/ipykernel_4395/669363377.py:5: UserWarning: Geometry is in a geographic CRS. Results from 'centroid' are likely incorrect. Use 'GeoSeries.to_crs()' to re-project geometries to a projected CRS before this operation.\n",
      "\n",
      "  lon = df_tmp[df_tmp.t == max_t].centroid.x\n",
      "/tmp/ipykernel_4395/669363377.py:4: UserWarning: Geometry is in a geographic CRS. Results from 'centroid' are likely incorrect. Use 'GeoSeries.to_crs()' to re-project geometries to a projected CRS before this operation.\n",
      "\n",
      "  lat = df_tmp[df_tmp.t == max_t].centroid.y\n",
      "/tmp/ipykernel_4395/669363377.py:5: UserWarning: Geometry is in a geographic CRS. Results from 'centroid' are likely incorrect. Use 'GeoSeries.to_crs()' to re-project geometries to a projected CRS before this operation.\n",
      "\n",
      "  lon = df_tmp[df_tmp.t == max_t].centroid.x\n",
      "/tmp/ipykernel_4395/669363377.py:4: UserWarning: Geometry is in a geographic CRS. Results from 'centroid' are likely incorrect. Use 'GeoSeries.to_crs()' to re-project geometries to a projected CRS before this operation.\n",
      "\n",
      "  lat = df_tmp[df_tmp.t == max_t].centroid.y\n",
      "/tmp/ipykernel_4395/669363377.py:5: UserWarning: Geometry is in a geographic CRS. Results from 'centroid' are likely incorrect. Use 'GeoSeries.to_crs()' to re-project geometries to a projected CRS before this operation.\n",
      "\n",
      "  lon = df_tmp[df_tmp.t == max_t].centroid.x\n",
      "/tmp/ipykernel_4395/669363377.py:4: UserWarning: Geometry is in a geographic CRS. Results from 'centroid' are likely incorrect. Use 'GeoSeries.to_crs()' to re-project geometries to a projected CRS before this operation.\n",
      "\n",
      "  lat = df_tmp[df_tmp.t == max_t].centroid.y\n",
      "/tmp/ipykernel_4395/669363377.py:5: UserWarning: Geometry is in a geographic CRS. Results from 'centroid' are likely incorrect. Use 'GeoSeries.to_crs()' to re-project geometries to a projected CRS before this operation.\n",
      "\n",
      "  lon = df_tmp[df_tmp.t == max_t].centroid.x\n",
      "/tmp/ipykernel_4395/669363377.py:4: UserWarning: Geometry is in a geographic CRS. Results from 'centroid' are likely incorrect. Use 'GeoSeries.to_crs()' to re-project geometries to a projected CRS before this operation.\n",
      "\n",
      "  lat = df_tmp[df_tmp.t == max_t].centroid.y\n",
      "/tmp/ipykernel_4395/669363377.py:5: UserWarning: Geometry is in a geographic CRS. Results from 'centroid' are likely incorrect. Use 'GeoSeries.to_crs()' to re-project geometries to a projected CRS before this operation.\n",
      "\n",
      "  lon = df_tmp[df_tmp.t == max_t].centroid.x\n",
      "/tmp/ipykernel_4395/669363377.py:4: UserWarning: Geometry is in a geographic CRS. Results from 'centroid' are likely incorrect. Use 'GeoSeries.to_crs()' to re-project geometries to a projected CRS before this operation.\n",
      "\n",
      "  lat = df_tmp[df_tmp.t == max_t].centroid.y\n",
      "/tmp/ipykernel_4395/669363377.py:5: UserWarning: Geometry is in a geographic CRS. Results from 'centroid' are likely incorrect. Use 'GeoSeries.to_crs()' to re-project geometries to a projected CRS before this operation.\n",
      "\n",
      "  lon = df_tmp[df_tmp.t == max_t].centroid.x\n",
      "/tmp/ipykernel_4395/669363377.py:4: UserWarning: Geometry is in a geographic CRS. Results from 'centroid' are likely incorrect. Use 'GeoSeries.to_crs()' to re-project geometries to a projected CRS before this operation.\n",
      "\n",
      "  lat = df_tmp[df_tmp.t == max_t].centroid.y\n",
      "/tmp/ipykernel_4395/669363377.py:5: UserWarning: Geometry is in a geographic CRS. Results from 'centroid' are likely incorrect. Use 'GeoSeries.to_crs()' to re-project geometries to a projected CRS before this operation.\n",
      "\n",
      "  lon = df_tmp[df_tmp.t == max_t].centroid.x\n",
      "/tmp/ipykernel_4395/669363377.py:4: UserWarning: Geometry is in a geographic CRS. Results from 'centroid' are likely incorrect. Use 'GeoSeries.to_crs()' to re-project geometries to a projected CRS before this operation.\n",
      "\n",
      "  lat = df_tmp[df_tmp.t == max_t].centroid.y\n",
      "/tmp/ipykernel_4395/669363377.py:5: UserWarning: Geometry is in a geographic CRS. Results from 'centroid' are likely incorrect. Use 'GeoSeries.to_crs()' to re-project geometries to a projected CRS before this operation.\n",
      "\n",
      "  lon = df_tmp[df_tmp.t == max_t].centroid.x\n",
      "/tmp/ipykernel_4395/669363377.py:4: UserWarning: Geometry is in a geographic CRS. Results from 'centroid' are likely incorrect. Use 'GeoSeries.to_crs()' to re-project geometries to a projected CRS before this operation.\n",
      "\n",
      "  lat = df_tmp[df_tmp.t == max_t].centroid.y\n",
      "/tmp/ipykernel_4395/669363377.py:5: UserWarning: Geometry is in a geographic CRS. Results from 'centroid' are likely incorrect. Use 'GeoSeries.to_crs()' to re-project geometries to a projected CRS before this operation.\n",
      "\n",
      "  lon = df_tmp[df_tmp.t == max_t].centroid.x\n",
      "/tmp/ipykernel_4395/669363377.py:4: UserWarning: Geometry is in a geographic CRS. Results from 'centroid' are likely incorrect. Use 'GeoSeries.to_crs()' to re-project geometries to a projected CRS before this operation.\n",
      "\n",
      "  lat = df_tmp[df_tmp.t == max_t].centroid.y\n",
      "/tmp/ipykernel_4395/669363377.py:5: UserWarning: Geometry is in a geographic CRS. Results from 'centroid' are likely incorrect. Use 'GeoSeries.to_crs()' to re-project geometries to a projected CRS before this operation.\n",
      "\n",
      "  lon = df_tmp[df_tmp.t == max_t].centroid.x\n",
      "/tmp/ipykernel_4395/669363377.py:4: UserWarning: Geometry is in a geographic CRS. Results from 'centroid' are likely incorrect. Use 'GeoSeries.to_crs()' to re-project geometries to a projected CRS before this operation.\n",
      "\n",
      "  lat = df_tmp[df_tmp.t == max_t].centroid.y\n",
      "/tmp/ipykernel_4395/669363377.py:5: UserWarning: Geometry is in a geographic CRS. Results from 'centroid' are likely incorrect. Use 'GeoSeries.to_crs()' to re-project geometries to a projected CRS before this operation.\n",
      "\n",
      "  lon = df_tmp[df_tmp.t == max_t].centroid.x\n"
     ]
    }
   ],
   "source": [
    "fires = fires.groupby(\"fireID\").apply(get_centroid)"
   ]
  },
  {
   "cell_type": "code",
   "execution_count": 59,
   "id": "2c20fca4-ba92-4049-a48d-ed8080ac0abb",
   "metadata": {
    "tags": []
   },
   "outputs": [],
   "source": [
    "#fires[\"log_area\"] = np.log(fires.farea)\n",
    "\n",
    "fires.t = pd.to_datetime(fires.t, format='ISO8601')\n",
    "#fires.better_format_date.astype(\"datetime64[ns]\")\n",
    "fires[\"pretty_date_format\"] = fires.t.astype(\"datetime64[ns]\").dt.strftime(\"%m-%d %p\")\n",
    "#fires[\"better_format_date\"] = pd.to_datetime(fires.t.astype(\"str\"), format=\"%Y%m%d.0\")\n",
    "#cwfis_perims.DATE = cwfis_perims.DATE.astype(\"datetime64[ns]\")\n",
    "#cwfis_perims[\"better_format_date2\"] = cwfis_perims[\"better_format_date\"].astype(\"datetime64[ns]\").dt.strftime(\"%m-%d\")\n",
    "no_dupes = fires[[\"fireID\", \"pretty_date_format\", \"farea_diff\", \"lat_centroid\", \"t\"]]\n",
    "#no_dupes[no_dupes.fireID == '9203']"
   ]
  },
  {
   "cell_type": "code",
   "execution_count": 60,
   "id": "1dac6b4c-33c5-4fa8-ac52-ddea68ce4d58",
   "metadata": {
    "tags": []
   },
   "outputs": [],
   "source": [
    "#no_dupes[no_dupes.farea_diff < 0]"
   ]
  },
  {
   "cell_type": "code",
   "execution_count": 61,
   "id": "6a30a408-db81-4b66-b90d-5d6f7e0f0b13",
   "metadata": {
    "tags": []
   },
   "outputs": [],
   "source": [
    "# heat = no_dupes.reset_index().pivot_table(index =no_dupes.index ,  columns=[\"fireID\",\"t\"], values=\"log_area\")\n",
    "# ax = sn.heatmap(heat, cmap = \"YlOrBr\")\n",
    "# ax.set(xlabel=\"\", ylabel=\"\")"
   ]
  },
  {
   "cell_type": "code",
   "execution_count": 62,
   "id": "9e71e73f-1815-423c-afcc-bdf8c4571b9a",
   "metadata": {
    "tags": []
   },
   "outputs": [
    {
     "name": "stderr",
     "output_type": "stream",
     "text": [
      "/projects/myenvs/fireatlas_oct4/lib/python3.11/site-packages/pandas/core/arraylike.py:396: RuntimeWarning: divide by zero encountered in log\n",
      "  result = getattr(ufunc, method)(*inputs, **kwargs)\n",
      "/projects/myenvs/fireatlas_oct4/lib/python3.11/site-packages/pandas/core/arraylike.py:396: RuntimeWarning: invalid value encountered in log\n",
      "  result = getattr(ufunc, method)(*inputs, **kwargs)\n"
     ]
    }
   ],
   "source": [
    "# no_dupes.t = no_dupes.t.astype('datetime64[ns]')\n",
    "# no_dupes.fireID = no_dupes.fireID.astype(\"int64\")\n",
    "\n",
    "no_dupes = no_dupes.dropna()\n",
    "no_dupes = no_dupes.drop_duplicates(subset = [\"fireID\", \"t\"])\n",
    "no_dupes[\"log_difference\"] = np.log(no_dupes.farea_diff)"
   ]
  },
  {
   "cell_type": "code",
   "execution_count": 63,
   "id": "66cc040f-0811-46bd-bc96-487db4576558",
   "metadata": {
    "tags": []
   },
   "outputs": [
    {
     "data": {
      "text/plain": [
       "Index(['fireID', 'pretty_date_format', 'farea_diff', 'lat_centroid', 't',\n",
       "       'log_difference'],\n",
       "      dtype='object')"
      ]
     },
     "execution_count": 63,
     "metadata": {},
     "output_type": "execute_result"
    }
   ],
   "source": [
    "no_dupes.columns"
   ]
  },
  {
   "cell_type": "code",
   "execution_count": 64,
   "id": "f3b7d120-7d6c-464d-8cba-a6734175206a",
   "metadata": {
    "tags": []
   },
   "outputs": [
    {
     "data": {
      "text/html": [
       "<div>\n",
       "<style scoped>\n",
       "    .dataframe tbody tr th:only-of-type {\n",
       "        vertical-align: middle;\n",
       "    }\n",
       "\n",
       "    .dataframe tbody tr th {\n",
       "        vertical-align: top;\n",
       "    }\n",
       "\n",
       "    .dataframe thead th {\n",
       "        text-align: right;\n",
       "    }\n",
       "</style>\n",
       "<table border=\"1\" class=\"dataframe\">\n",
       "  <thead>\n",
       "    <tr style=\"text-align: right;\">\n",
       "      <th></th>\n",
       "      <th>fireID</th>\n",
       "      <th>lat_centroid</th>\n",
       "    </tr>\n",
       "  </thead>\n",
       "  <tbody>\n",
       "    <tr>\n",
       "      <th>0</th>\n",
       "      <td>10013</td>\n",
       "      <td>52.516399</td>\n",
       "    </tr>\n",
       "    <tr>\n",
       "      <th>1</th>\n",
       "      <td>10056</td>\n",
       "      <td>51.139423</td>\n",
       "    </tr>\n",
       "    <tr>\n",
       "      <th>2</th>\n",
       "      <td>10140</td>\n",
       "      <td>49.389034</td>\n",
       "    </tr>\n",
       "    <tr>\n",
       "      <th>3</th>\n",
       "      <td>10286</td>\n",
       "      <td>54.224434</td>\n",
       "    </tr>\n",
       "    <tr>\n",
       "      <th>4</th>\n",
       "      <td>10435</td>\n",
       "      <td>49.053532</td>\n",
       "    </tr>\n",
       "    <tr>\n",
       "      <th>...</th>\n",
       "      <td>...</td>\n",
       "      <td>...</td>\n",
       "    </tr>\n",
       "    <tr>\n",
       "      <th>129</th>\n",
       "      <td>9188</td>\n",
       "      <td>50.617260</td>\n",
       "    </tr>\n",
       "    <tr>\n",
       "      <th>130</th>\n",
       "      <td>9266</td>\n",
       "      <td>50.388105</td>\n",
       "    </tr>\n",
       "    <tr>\n",
       "      <th>131</th>\n",
       "      <td>9275</td>\n",
       "      <td>49.756406</td>\n",
       "    </tr>\n",
       "    <tr>\n",
       "      <th>132</th>\n",
       "      <td>9791</td>\n",
       "      <td>50.796113</td>\n",
       "    </tr>\n",
       "    <tr>\n",
       "      <th>133</th>\n",
       "      <td>9843</td>\n",
       "      <td>54.005703</td>\n",
       "    </tr>\n",
       "  </tbody>\n",
       "</table>\n",
       "<p>134 rows × 2 columns</p>\n",
       "</div>"
      ],
      "text/plain": [
       "    fireID  lat_centroid\n",
       "0    10013     52.516399\n",
       "1    10056     51.139423\n",
       "2    10140     49.389034\n",
       "3    10286     54.224434\n",
       "4    10435     49.053532\n",
       "..     ...           ...\n",
       "129   9188     50.617260\n",
       "130   9266     50.388105\n",
       "131   9275     49.756406\n",
       "132   9791     50.796113\n",
       "133   9843     54.005703\n",
       "\n",
       "[134 rows x 2 columns]"
      ]
     },
     "execution_count": 64,
     "metadata": {},
     "output_type": "execute_result"
    }
   ],
   "source": [
    "# Get the mean centroid point per fireID\n",
    "\n",
    "lats = no_dupes[['pretty_date_format', 'farea_diff', 'lat_centroid', 't',\n",
    "       'log_difference']].groupby(\"fireID\").lat_centroid.mean().reset_index()\n",
    "lats"
   ]
  },
  {
   "cell_type": "code",
   "execution_count": 65,
   "id": "0bbc66e0-ff98-47ed-bbe2-ea0359f35722",
   "metadata": {
    "tags": []
   },
   "outputs": [],
   "source": [
    "from matplotlib.colors import LogNorm, Normalize\n",
    "from matplotlib.ticker import MaxNLocator\n",
    "\n",
    "#no_dupes = no_dupes[['fireID', 'pretty_date_format', 'farea_diff', 'log_difference', 't']].merge(lats, on = [\"fireID\"])\n",
    "no_dupes = no_dupes[['pretty_date_format', 'farea_diff', 'log_difference', 't']].reset_index().merge(lats, on = [\"fireID\"])"
   ]
  },
  {
   "cell_type": "code",
   "execution_count": 66,
   "id": "1ef4665d-f249-4427-82e3-9a32c6d7e1b1",
   "metadata": {
    "tags": []
   },
   "outputs": [],
   "source": [
    "#no_dupes.farea_diff = no_dupes.farea_diff"
   ]
  },
  {
   "cell_type": "code",
   "execution_count": 67,
   "id": "16b37cc2-b606-4281-84c3-72b2c0cb271a",
   "metadata": {
    "tags": []
   },
   "outputs": [],
   "source": [
    "#heat = no_dupes.pivot(index =[\"fireID\", \"lat_centroid\"],  columns=[\"pretty_date_format\"], values=\"farea_diff\")\n",
    "heat = no_dupes.pivot(index =[\"lat_centroid\"],  columns=['pretty_date_format'], values=\"farea_diff\")"
   ]
  },
  {
   "cell_type": "code",
   "execution_count": 68,
   "id": "30341daf-8e57-4cae-a767-af9257d2b6fc",
   "metadata": {
    "tags": []
   },
   "outputs": [],
   "source": [
    "heat = heat.sort_values(by = \"lat_centroid\", ascending= False)\n",
    "heat.index = heat.index.astype(\"float64\")\n",
    "\n",
    "heat.index = heat.index.values.round(2)\n",
    "\n"
   ]
  },
  {
   "cell_type": "code",
   "execution_count": 69,
   "id": "1710c308-34ea-4dcc-b440-d63982e0a8a6",
   "metadata": {
    "tags": []
   },
   "outputs": [],
   "source": [
    "#cwfis_perims[[\"CONSIS_ID\", \"log_area\", \"better_format_date2\", \"y_component\"]][cwfis_perims.CONSIS_ID == 56414]"
   ]
  },
  {
   "cell_type": "code",
   "execution_count": 70,
   "id": "c73a6ef9-bfc2-440d-b2e8-8a5fdbc45fba",
   "metadata": {
    "tags": []
   },
   "outputs": [],
   "source": [
    "#no_dupes = no_dupes.set_index(['fireID', 'pretty_date_format', 'farea_diff'], append=True)"
   ]
  },
  {
   "cell_type": "code",
   "execution_count": 71,
   "id": "59e5c305-9e73-49f4-b56c-ed6490ba053d",
   "metadata": {
    "tags": []
   },
   "outputs": [],
   "source": [
    "# heat = no_dupes[2485:2500].pivot(index = \"fireID\", columns=[\"pretty_date_format\"], values=\"farea_diff\")\n",
    "# ax = sn.heatmap(heat, cmap = \"YlOrBr\")\n",
    "# ax.set(xlabel=\"\", ylabel=\"\")"
   ]
  },
  {
   "cell_type": "code",
   "execution_count": 72,
   "id": "f107c482-d955-4e26-988c-b387e0b19688",
   "metadata": {
    "tags": []
   },
   "outputs": [
    {
     "data": {
      "text/plain": [
       "['veda-data-store-staging/EIS/other/gridded-FWI/QuebecBigRegions/._FireZoneMap.nZones.2.png',\n",
       " 'veda-data-store-staging/EIS/other/gridded-FWI/QuebecBigRegions/._FireZoneMap.nZones.3.png',\n",
       " 'veda-data-store-staging/EIS/other/gridded-FWI/QuebecBigRegions/._SNPPVIIRS.Counts.nZones.3.csv',\n",
       " 'veda-data-store-staging/EIS/other/gridded-FWI/QuebecBigRegions/FireZoneMap.nZones.2.png',\n",
       " 'veda-data-store-staging/EIS/other/gridded-FWI/QuebecBigRegions/FireZoneMap.nZones.3.png',\n",
       " 'veda-data-store-staging/EIS/other/gridded-FWI/QuebecBigRegions/GEOS-5',\n",
       " 'veda-data-store-staging/EIS/other/gridded-FWI/QuebecBigRegions/SNPPVIIRS.Counts.nZones.2.csv',\n",
       " 'veda-data-store-staging/EIS/other/gridded-FWI/QuebecBigRegions/SNPPVIIRS.Counts.nZones.3.csv']"
      ]
     },
     "execution_count": 72,
     "metadata": {},
     "output_type": "execute_result"
    }
   ],
   "source": [
    "s3.ls(\"s3://veda-data-store-staging/EIS/other/gridded-FWI/QuebecBigRegions/\")"
   ]
  },
  {
   "cell_type": "code",
   "execution_count": 73,
   "id": "85830726-c0a7-47f7-bd89-a376013f4e11",
   "metadata": {
    "tags": []
   },
   "outputs": [
    {
     "data": {
      "text/plain": [
       "['veda-data-store-staging/EIS/other/gridded-FWI/QuebecBigRegions/GEOS-5/GEOS-5.IMERGEARLY/chicletDataNoSmoothing/1.DC.NorthernQuebec.raw.chiclet.csv',\n",
       " 'veda-data-store-staging/EIS/other/gridded-FWI/QuebecBigRegions/GEOS-5/GEOS-5.IMERGEARLY/chicletDataNoSmoothing/1.FWI.NorthernQuebec.raw.chiclet.csv',\n",
       " 'veda-data-store-staging/EIS/other/gridded-FWI/QuebecBigRegions/GEOS-5/GEOS-5.IMERGEARLY/chicletDataNoSmoothing/2.DC.CentralQuebec.raw.chiclet.csv',\n",
       " 'veda-data-store-staging/EIS/other/gridded-FWI/QuebecBigRegions/GEOS-5/GEOS-5.IMERGEARLY/chicletDataNoSmoothing/2.DC.SouthernQuebec.raw.chiclet.csv',\n",
       " 'veda-data-store-staging/EIS/other/gridded-FWI/QuebecBigRegions/GEOS-5/GEOS-5.IMERGEARLY/chicletDataNoSmoothing/2.FWI.CentralQuebec.raw.chiclet.csv',\n",
       " 'veda-data-store-staging/EIS/other/gridded-FWI/QuebecBigRegions/GEOS-5/GEOS-5.IMERGEARLY/chicletDataNoSmoothing/2.FWI.SouthernQuebec.raw.chiclet.csv',\n",
       " 'veda-data-store-staging/EIS/other/gridded-FWI/QuebecBigRegions/GEOS-5/GEOS-5.IMERGEARLY/chicletDataNoSmoothing/3.DC.SouthernQuebec.raw.chiclet.csv',\n",
       " 'veda-data-store-staging/EIS/other/gridded-FWI/QuebecBigRegions/GEOS-5/GEOS-5.IMERGEARLY/chicletDataNoSmoothing/3.FWI.SouthernQuebec.raw.chiclet.csv']"
      ]
     },
     "execution_count": 73,
     "metadata": {},
     "output_type": "execute_result"
    }
   ],
   "source": [
    "s3.ls(\"s3://veda-data-store-staging/EIS/other/gridded-FWI/QuebecBigRegions/GEOS-5/GEOS-5.IMERGEARLY/chicletDataNoSmoothing\")"
   ]
  },
  {
   "cell_type": "code",
   "execution_count": 74,
   "id": "f86408a3-f6e9-4ee0-96df-3d1bde93347f",
   "metadata": {
    "tags": []
   },
   "outputs": [],
   "source": [
    "FWI_data_south = pd.read_csv(\"s3://veda-data-store-staging/EIS/other/gridded-FWI/QuebecBigRegions/GEOS-5/GEOS-5.IMERGEARLY/chicletDataNoSmoothing/2.FWI.SouthernQuebec.raw.chiclet.csv\")\n",
    "\n",
    "FWI_data_north = pd.read_csv(\"s3://veda-data-store-staging/EIS/other/gridded-FWI/QuebecBigRegions/GEOS-5/GEOS-5.IMERGEARLY/chicletDataNoSmoothing/1.FWI.NorthernQuebec.raw.chiclet.csv\")"
   ]
  },
  {
   "cell_type": "code",
   "execution_count": 75,
   "id": "bb01ba87-92a1-4947-bdae-f6af2517e31b",
   "metadata": {
    "tags": []
   },
   "outputs": [],
   "source": [
    "fwis = FWI_data_south[[\"INITDATE\", \"0\"]]\n",
    "fwis = fwis.rename(columns={\"0\":\"GEOS_5\"})\n",
    "\n",
    "fwin = FWI_data_north[[\"INITDATE\", \"0\"]]\n",
    "fwin = fwin.rename(columns={\"0\":\"GEOS_5\"})"
   ]
  },
  {
   "cell_type": "code",
   "execution_count": 76,
   "id": "2e94aac7-268f-4134-b5ea-f943686d5da0",
   "metadata": {
    "tags": []
   },
   "outputs": [
    {
     "data": {
      "text/plain": [
       "Text(0, 0.5, 'FWI')"
      ]
     },
     "execution_count": 76,
     "metadata": {},
     "output_type": "execute_result"
    },
    {
     "data": {
      "image/png": "[encoded data removed]",
      "text/plain": [
       "<Figure size 640x480 with 1 Axes>"
      ]
     },
     "metadata": {},
     "output_type": "display_data"
    }
   ],
   "source": [
    "plt.plot(fwis.INITDATE.astype(\"datetime64[ns]\"),fwis.GEOS_5)\n",
    "plt.ylabel(\"FWI\")"
   ]
  },
  {
   "cell_type": "code",
   "execution_count": 77,
   "id": "cbda9f62-f647-4461-ae81-937390613873",
   "metadata": {},
   "outputs": [
    {
     "data": {
      "text/plain": [
       "Text(0, 0.5, 'FWI')"
      ]
     },
     "execution_count": 77,
     "metadata": {},
     "output_type": "execute_result"
    },
    {
     "data": {
      "image/png": "[encoded data removed]",
      "text/plain": [
       "<Figure size 640x480 with 2 Axes>"
      ]
     },
     "metadata": {},
     "output_type": "display_data"
    }
   ],
   "source": [
    "fig, (ax, ax2) = plt.subplots(2)\n",
    "ax.plot(fwis.INITDATE.astype(\"datetime64[ns]\"),fwis.GEOS_5)\n",
    "ax.set_xlim(no_dupes.t.astype(\"datetime64[ns]\").min(), no_dupes.t.astype(\"datetime64[ns]\").max())\n",
    "ax.set_ylabel(\"FWI\")"
   ]
  },
  {
   "cell_type": "code",
   "execution_count": 78,
   "id": "f1bbe69f-8c27-4128-a4b7-09df63ab3672",
   "metadata": {
    "tags": []
   },
   "outputs": [
    {
     "data": {
      "text/plain": [
       "Index(['fireID', 'level_1', 'pretty_date_format', 'farea_diff',\n",
       "       'log_difference', 't', 'lat_centroid'],\n",
       "      dtype='object')"
      ]
     },
     "execution_count": 78,
     "metadata": {},
     "output_type": "execute_result"
    }
   ],
   "source": [
    "no_dupes.columns"
   ]
  },
  {
   "cell_type": "code",
   "execution_count": 81,
   "id": "05f5bbd9-682f-4f42-8ef3-f39df107d444",
   "metadata": {},
   "outputs": [
    {
     "data": {
      "text/plain": [
       "Text(55.847222222222214, 0.5, 'FWI')"
      ]
     },
     "execution_count": 81,
     "metadata": {},
     "output_type": "execute_result"
    },
    {
     "data": {
      "image/png": "[encoded data removed]",
      "text/plain": [
       "<Figure size 640x480 with 3 Axes>"
      ]
     },
     "metadata": {},
     "output_type": "display_data"
    }
   ],
   "source": [
    "import matplotlib.dates as mdates\n",
    "\n",
    "fig, (ax, ax2) = plt.subplots(2, gridspec_kw={'height_ratios': [1, 6]})\n",
    "#fig.suptitle('Aligning x-axis using sharex')\n",
    "ax2 = sn.heatmap(heat, cmap = \"YlOrBr\", norm=LogNorm(), cbar_kws={'label': 'Fire Area Growth Km^2'}, fmt='.1f')#, \n",
    "               #yticklabels=heat.index.values.round(0))\n",
    "ax2.set(xlabel=\"\", ylabel=\"Latitude of Fire Event\")\n",
    "\n",
    "ax.xaxis.set_major_formatter(mdates.DateFormatter('%m-%d'))\n",
    "ax.plot(fwis.INITDATE.astype(\"datetime64[ns]\"),fwis.GEOS_5)\n",
    "ax.set_xlim(no_dupes.t.astype(\"datetime64[ns]\").min(), no_dupes.t.astype(\"datetime64[ns]\").max())\n",
    "ax.set_ylabel(\"FWI\")\n",
    "#plt.savefig('Regional_fire_growth_FWI.png')"
   ]
  },
  {
   "cell_type": "code",
   "execution_count": 90,
   "id": "7061ac3d-ff5d-45ef-af95-c3f28011f4b8",
   "metadata": {},
   "outputs": [
    {
     "name": "stdout",
     "output_type": "stream",
     "text": [
      "239\n",
      "239\n"
     ]
    }
   ],
   "source": [
    "# dates = heat.columns.values.astype('datetime64[ns]')\n",
    "# dates.values.astype('datetime64[ns]')\n",
    "\n",
    "dates = no_dupes['t'].astype('datetime64[ns]')\n",
    "dates = dates.drop_duplicates()\n",
    "print(len(dates.dt.strftime('%-m-%-d')))\n",
    "print(len(heat.columns))"
   ]
  },
  {
   "cell_type": "code",
   "execution_count": 91,
   "id": "ff22b3ce-6112-4d03-8829-3c541e0c019c",
   "metadata": {},
   "outputs": [
    {
     "data": {
      "image/png": "[encoded data removed]",
      "text/plain": [
       "<Figure size 640x480 with 4 Axes>"
      ]
     },
     "metadata": {},
     "output_type": "display_data"
    }
   ],
   "source": [
    "import matplotlib.dates as mdates\n",
    "import matplotlib as mpl\n",
    "# fig, ax  = plt.subplots(2, 2, sharex='col', gridspec_kw={'width_ratios':[100,5]})\n",
    "# ax[0,1].remove()  # remove unused upper right axes\n",
    "# ax[0,0].plot(x+0.5,L_1,'-', marker='o',color='tab:orange')\n",
    "# sn.heatmap(M_1, cmap=cmap, vmax=np.max(M_1), center=np.max(M_1)/2., square=False, ax=ax[1,0], cbar_ax=ax[1,1])\n",
    "\n",
    "#plt.style.use('dark_background')\n",
    "with mpl.rc_context({'font.size': 14}):\n",
    "    fig, ([ax, ax2], [ax3, ax4], [ax5, ax6]) = plt.subplots(3,2, gridspec_kw={'width_ratios':[100,4], 'height_ratios': [1,1, 5]}, constrained_layout=True)\n",
    "    #fig.suptitle('Aligning x-axis using sharex')\n",
    "\n",
    "    #ax.xaxis.set_major_formatter(mdates.DateFormatter('%m-%d'))\n",
    "\n",
    "    ax.plot(fwin.INITDATE.astype(\"datetime64[ns]\"),fwin.GEOS_5)\n",
    "    ax.set_xlim(no_dupes.t.astype(\"datetime64[ns]\").min(), no_dupes.t.astype(\"datetime64[ns]\").max())\n",
    "    ax.set_ylabel(\"North\")\n",
    "    ax.set_xticklabels(\"\")\n",
    "    ax.set_yticklabels(\"\")\n",
    "\n",
    "\n",
    "    ax3.xaxis.set_major_formatter(mdates.DateFormatter('%-m-%-d'))\n",
    "    ax3.plot(fwis.INITDATE.astype(\"datetime64[ns]\"),fwis.GEOS_5)\n",
    "    ax3.set_xlim(no_dupes.t.astype(\"datetime64[ns]\").min(), no_dupes.t.astype(\"datetime64[ns]\").max())\n",
    "    ax3.set_ylabel(\"South\")\n",
    "    ax3.set_yticklabels(\"\")\n",
    "\n",
    "\n",
    "\n",
    "    #ax3 = \n",
    "    sn.heatmap(heat, cmap = \"YlOrBr\", norm=LogNorm(), cbar_kws={'label': 'Fire Area Growth Km^2'}, ax = ax5, cbar_ax=ax6, square=False)#,fmt='.1f', \n",
    "    ax5.set(xlabel=\"\", ylabel=\"Latitude of Fire Event\")\n",
    "    ax2.remove()\n",
    "    ax4.remove()\n",
    "\n",
    "    #plt.gcf().subplots_adjust(bottom=0.15)\n",
    "    #plt.tight_layout()\n",
    "    #plt.show()\n",
    "    plt.savefig('Regional_fire_growth_FWI.png', dpi = 900, transparent = False)"
   ]
  },
  {
   "cell_type": "code",
   "execution_count": 42,
   "id": "d9d8d708-7123-406c-8dfa-3cb30497469b",
   "metadata": {},
   "outputs": [],
   "source": [
    "#plt.savefig?"
   ]
  },
  {
   "cell_type": "code",
   "execution_count": 43,
   "id": "a583b7dd-5b0d-4d2e-b3a9-d4907d94846c",
   "metadata": {
    "tags": []
   },
   "outputs": [
    {
     "data": {
      "image/png": "[encoded data removed]",
      "text/plain": [
       "<Figure size 640x480 with 3 Axes>"
      ]
     },
     "metadata": {},
     "output_type": "display_data"
    }
   ],
   "source": [
    "\n",
    "\n",
    "fig, ax  = plt.subplots(2, 2, sharex='col', gridspec_kw={'width_ratios':[100,5], 'height_ratios': [1, 4]}, constrained_layout=True)\n",
    "  # remove unused upper right axes\n",
    "\n",
    "ax[0,0].plot(fwis.INITDATE.astype(\"datetime64[ns]\"), fwis.GEOS_5)\n",
    "ax[0,0].set_xlim(no_dupes.t.astype(\"datetime64[ns]\").min(), no_dupes.t.astype(\"datetime64[ns]\").max())\n",
    "ax[0,0].set_ylabel(\"FWI\")\n",
    "ax[0,0].xaxis.set_major_formatter(mdates.DateFormatter('%m-%d'))\n",
    "\n",
    "\n",
    "sn.heatmap(heat, cmap = \"YlOrBr\", norm=LogNorm(), cbar_kws={'label': 'Fire Area Growth Km^2'}, fmt='.1f', square=False, ax=ax[1,0], cbar_ax=ax[1,1])\n",
    "ax[1,0].set_ylabel(\"Latitude of Fire Event\")\n",
    "ax[1,0].set_xlabel(\" \")\n",
    "\n",
    "ax[0,1].remove()\n",
    "\n"
   ]
  },
  {
   "cell_type": "code",
   "execution_count": null,
   "id": "4c8f6a94-5a71-439d-affd-83ea1770e252",
   "metadata": {
    "tags": []
   },
   "outputs": [],
   "source": [
    "plt.plot(fwis.INITDATE.astype(\"datetime64[ns]\"), fwis.GEOS_5)"
   ]
  },
  {
   "cell_type": "code",
   "execution_count": null,
   "id": "5e31a62e-b0ac-4c54-a923-5f4f7368199c",
   "metadata": {
    "tags": []
   },
   "outputs": [],
   "source": [
    "plt.plot(fwin.INITDATE.astype(\"datetime64[ns]\"), fwin.GEOS_5)"
   ]
  },
  {
   "cell_type": "code",
   "execution_count": null,
   "id": "45d3944b-2d99-4e72-8deb-9f45880d8f2d",
   "metadata": {},
   "outputs": [],
   "source": [
    "### Tess trying to make equivilant plot but using FWI instead of fire area\n",
    "\n",
    "## SEEMS LIKE THE COLORS SCALE A LITTLE BIT DIFFERENLTLY, MONSTER FIRE SCALED DOWN? NOT THERE???? \n",
    "\n",
    "#path = \"/projects/old_shared/fire_weather_vis/Lightning_analysis/fwi_timeline_merge/Quebec_only_GRIDDED_20_days_BOREAL_NRT_3571_DPSgridded20240122.csv\" ## looking for lightning 20 days before start\n",
    "path = \"/projects/old_shared/fire_weather_vis/Lightning_analysis/fwi_timeline_merge/Final_dataset_as_of_20240209.csv\"\n",
    "\n",
    "fire2 = fv.prep_fire_files(path)\n",
    "fire_tmp = fire2"
   ]
  },
  {
   "cell_type": "code",
   "execution_count": null,
   "id": "1c910f33-e1d8-48de-a234-d58e34dea131",
   "metadata": {},
   "outputs": [],
   "source": [
    "fire_tmp.fireID.unique()"
   ]
  },
  {
   "cell_type": "code",
   "execution_count": null,
   "id": "dc4e9eaa-1a4e-4907-a4d2-e153dea79111",
   "metadata": {},
   "outputs": [],
   "source": [
    "fire_id = fire_tmp[fire_tmp.fireID == '8553']\n",
    "fire_id.t = fire_id.t.astype('datetime64[ns]')\n",
    "fire_id = fire_id.sort_values(by = [\"fireID\", \"t\"])\n",
    "plt.plot(fire_id.t, fire_id.FWI)\n",
    "print(min(fire_id.t))\n",
    "print(max(fire_id.t))"
   ]
  },
  {
   "cell_type": "code",
   "execution_count": null,
   "id": "66eb35e1-e1b6-494d-8ef3-aeddcb5b1426",
   "metadata": {},
   "outputs": [],
   "source": [
    "fire2 = fire2[~fire2.geometry.isna()]\n",
    "\n",
    "fire2 = fire2.sort_values(by = [\"fireID\", \"t\"])\n",
    "fire2.farea = fire2.farea.astype(\"int64\")\n",
    "fire2[\"farea_diff\"] = fire2.groupby(\"fireID\").farea.diff()\n",
    "\n",
    "fire2.t[~fire2.t.str.contains(\".000\")] = fire2.t[~fire2.t.str.contains(\".000\")] + \".000\""
   ]
  },
  {
   "cell_type": "code",
   "execution_count": null,
   "id": "978c73cf-3d7a-4cd1-b72b-0297b6a0b018",
   "metadata": {},
   "outputs": [],
   "source": []
  },
  {
   "cell_type": "code",
   "execution_count": null,
   "id": "9ecf5718-9255-483e-85a8-0df12689cd38",
   "metadata": {},
   "outputs": [],
   "source": [
    "fire2[\"pretty_date_format\"] = fire2.t.astype(\"datetime64[ns]\").dt.strftime(\"%m-%d %p\")\n",
    "no_dupes = fire2[[\"fireID\", \"pretty_date_format\", \"farea_diff\", \"lat_centroid\", \"t\"]]\n",
    "no_dupes = no_dupes.dropna()\n",
    "no_dupes = no_dupes.drop_duplicates(subset = [\"fireID\", \"t\"])\n",
    "no_dupes[\"log_difference\"] = np.log(no_dupes.farea_diff)\n",
    "lats = no_dupes.groupby(\"fireID\").lat_centroid.mean().reset_index()\n",
    "\n",
    "\n",
    "from matplotlib.colors import LogNorm, Normalize\n",
    "from matplotlib.ticker import MaxNLocator\n",
    "\n",
    "no_dupes = no_dupes[['fireID', 'pretty_date_format', 'farea_diff', 'log_difference', 't']].merge(lats, on = [\"fireID\"])\n",
    "\n",
    "#heat = no_dupes.pivot(index =[\"fireID\", \"lat_centroid\"],  columns=[\"pretty_date_format\"], values=\"farea_diff\")\n",
    "heat = no_dupes.pivot(index =[\"lat_centroid\"],  columns=['pretty_date_format'], values=\"farea_diff\")\n",
    "\n",
    "heat = heat.sort_values(by = \"lat_centroid\", ascending= False)\n",
    "heat.index = heat.index.astype(\"float64\")\n",
    "\n",
    "heat.index = heat.index.values.round(2)"
   ]
  },
  {
   "cell_type": "code",
   "execution_count": null,
   "id": "8301b743-66e4-4474-961e-65af3d360dad",
   "metadata": {},
   "outputs": [],
   "source": [
    "#fire3"
   ]
  },
  {
   "cell_type": "code",
   "execution_count": null,
   "id": "094264b4-f599-4faa-b060-5476b062bbc1",
   "metadata": {},
   "outputs": [],
   "source": [
    "# #path = \"/projects/old_shared/fire_weather_vis/Lightning_analysis/fwi_timeline_merge/againQuebec_only_GRIDDED_20_days_BOREAL_NRT_3571_DPSgridded20240122.csv\" \n",
    "# path = \"/projects/old_shared/fire_weather_vis/Lightning_analysis/fwi_timeline_merge/Final_dataset_as_of_20240209.csv\"\n",
    "# fire3 = fv.prep_fire_files(path)\n",
    "# fire3 = fire3[~fire3.geometry.isna()]\n",
    "\n",
    "# fire3 = fire3.sort_values(by = [\"fireID\", \"t\"])\n",
    "# fire3.farea = fire3.farea.astype(\"int64\")\n",
    "# fire3[\"farea_diff\"] = fire3.groupby(\"fireID\").farea.diff()\n",
    "\n",
    "# fire3.t[~fire3.t.str.contains(\".000\")] = fire3.t[~fire3.t.str.contains(\".000\")] + \".000\""
   ]
  },
  {
   "cell_type": "code",
   "execution_count": null,
   "id": "c91fa527-66bd-4d99-81b7-0cec1d435951",
   "metadata": {},
   "outputs": [],
   "source": [
    "# fire3[\"pretty_date_format\"] = fire3.t.astype(\"datetime64[ns]\").dt.strftime(\"%m-%d %p\")\n",
    "# no_dupes = fire3[[\"fireID\", \"pretty_date_format\", \"farea_diff\", \"lat_centroid\", \"t\"]]\n",
    "# no_dupes = no_dupes.dropna()\n",
    "# no_dupes = no_dupes.drop_duplicates(subset = [\"fireID\", \"t\"])\n",
    "# no_dupes[\"log_difference\"] = np.log(no_dupes.farea_diff)\n",
    "# lats = no_dupes.groupby(\"fireID\").lat_centroid.mean().reset_index()\n",
    "\n",
    "\n",
    "# from matplotlib.colors import LogNorm, Normalize\n",
    "# from matplotlib.ticker import MaxNLocator\n",
    "\n",
    "# no_dupes = no_dupes[['fireID', 'pretty_date_format', 'farea_diff', 'log_difference', 't']].merge(lats, on = [\"fireID\"])\n",
    "\n",
    "# #heat = no_dupes.pivot(index =[\"fireID\", \"lat_centroid\"],  columns=[\"pretty_date_format\"], values=\"farea_diff\")\n",
    "# heat = no_dupes.pivot(index =[\"lat_centroid\"],  columns=['pretty_date_format'], values=\"farea_diff\")\n",
    "\n",
    "# heat = heat.sort_values(by = \"lat_centroid\", ascending= False)\n",
    "# heat.index = heat.index.astype(\"float64\")\n",
    "\n",
    "# heat.index = heat.index.values.round(2)"
   ]
  },
  {
   "cell_type": "code",
   "execution_count": null,
   "id": "23ca422c-255b-453d-aae8-f37f6dfc1d27",
   "metadata": {},
   "outputs": [],
   "source": [
    "import matplotlib.dates as mdates\n",
    "import seaborn as sn\n",
    "\n",
    "fig, (ax, ax2) = plt.subplots(2, gridspec_kw={'height_ratios': [1, 6]})\n",
    "#fig.suptitle('Aligning x-axis using sharex')\n",
    "ax2 = sn.heatmap(heat, cmap = \"YlOrBr\", norm=LogNorm(), cbar_kws={'label': 'Fire Area Growth Km^2'}, fmt='.1f')#, \n",
    "               #yticklabels=heat.index.values.round(0))\n",
    "ax2.set(xlabel=\"\", ylabel=\"Latitude of Fire Event\")\n",
    "\n",
    "ax.xaxis.set_major_formatter(mdates.DateFormatter('%m-%d'))\n",
    "#ax.plot(fwis.INITDATE.astype(\"datetime64[ns]\"),fwis.GEOS_5)\n",
    "ax.set_xlim(no_dupes.t.astype(\"datetime64[ns]\").min(), no_dupes.t.astype(\"datetime64[ns]\").max())\n",
    "ax.set_ylabel(\"FWI\")\n",
    "plt.savefig('Regional_fire_growth_FWI.png')"
   ]
  },
  {
   "cell_type": "code",
   "execution_count": null,
   "id": "dadb2439-fe9a-411a-a6ce-1e9ffb3a7a5e",
   "metadata": {
    "tags": []
   },
   "outputs": [],
   "source": [
    "# ## Try with FWI:\n",
    "#fire_tmp[fire_tmp.t == \"2023-11-27 12:00:00\"]\n",
    "#fire_tmp[fire_tmp.t.str.contains(\"12:00:00\") & (~fire_tmp.t.str.contains(\".000\"))]\n",
    "\n",
    "## Lightning timestamps at higher resolution, trying to drop just them\n",
    "\n",
    "fire_tmp = fire_tmp[fire_tmp.InterCloud.isnull()]\n",
    "\n",
    "# fire_id = fire_tmp[fire_tmp.fireID == '8553']\n",
    "# fire_id.t = fire_id.t.astype('datetime64[ns]')\n",
    "# fire_id = fire_id.sort_values(by = [\"fireID\", \"t\"])\n",
    "# plt.plot(fire_id.t, fire_id.FWI)\n",
    "# print(min(fire_id.t))\n",
    "# print(max(fire_id.t))"
   ]
  },
  {
   "cell_type": "code",
   "execution_count": null,
   "id": "8cc56685-22e3-4d95-840b-252d283ce5fe",
   "metadata": {
    "tags": []
   },
   "outputs": [],
   "source": [
    "# mask = fire_tmp.t.str.contains(\"12:00:00\") & (~fire_tmp.t.str.contains(\".000\"))\n",
    "# # mask = ~fire_tmp.t.str.contains(\".\")\n",
    "# fire_tmp.loc[mask, \"t\"] = fire_tmp.loc[mask, \"t\"] + \".000\"\n",
    "# #fire_tmp.loc[mask, \"t\"]\n",
    "\n",
    "mask = fire_tmp.t.str.contains(\"0.0\")\n",
    "# mask = ~fire_tmp.t.str.contains(\".\")\n",
    "fire_tmp.loc[~mask, \"t\"] = fire_tmp.loc[~mask, \"t\"] + \".000\"\n",
    "#fire_tmp.loc[mask, \"t\"]\n",
    "fire_tmp[~fire_tmp.t.str.contains(\"0.0\")].t.unique()\n",
    "\n",
    "# fire_id = fire_tmp[fire_tmp.fireID == '8553']\n",
    "# fire_id.t = fire_id.t.astype('datetime64[ns]')\n",
    "# fire_id = fire_id.sort_values(by = [\"fireID\", \"t\"])\n",
    "# plt.plot(fire_id.t, fire_id.FWI)\n",
    "# print(min(fire_id.t))\n",
    "# print(max(fire_id.t))"
   ]
  },
  {
   "cell_type": "code",
   "execution_count": null,
   "id": "9a7b055a-1e84-4330-b3b5-665e2b904d07",
   "metadata": {
    "tags": []
   },
   "outputs": [],
   "source": [
    "mask = fire_tmp.t.str.contains(\"0.000\")\n",
    "fire_tmp.loc[~mask, \"t\"] = fire_tmp.loc[~mask, \"t\"] + \".000\"\n",
    "fire_tmp[~fire_tmp.t.str.contains(\"0.000\")].t.unique()\n",
    "\n",
    "# fire_id = fire_tmp[fire_tmp.fireID == '8553']\n",
    "# fire_id.t = fire_id.t.astype('datetime64[ns]')\n",
    "# fire_id = fire_id.sort_values(by = [\"fireID\", \"t\"])\n",
    "# plt.plot(fire_id.t, fire_id.FWI)\n",
    "# print(min(fire_id.t))\n",
    "# print(max(fire_id.t))"
   ]
  },
  {
   "cell_type": "code",
   "execution_count": null,
   "id": "5ba64bcb-3a8b-4cf3-b077-a698c3806313",
   "metadata": {
    "tags": []
   },
   "outputs": [],
   "source": [
    "fire_tmp[fire_tmp.t.str.contains(\"12:00:00\")].t.unique()\n",
    "fire_tmp[~fire_tmp.t.str.contains(\"0.000\")].t.unique()"
   ]
  },
  {
   "cell_type": "code",
   "execution_count": null,
   "id": "052ea441-88d9-42ad-86b6-68981479874c",
   "metadata": {
    "tags": []
   },
   "outputs": [],
   "source": [
    "#fire_tmp[\"max_t\"] = fire_tmp.groupby('fireID').t.max()\n",
    "\n",
    "\n",
    "\n",
    "fire_id = fire_id.to_crs(\"4326\")\n",
    "fire_id[['fireID', 't', 'lat_centroid']]\n",
    "foo = get_centroid(fire_id)\n",
    "foo[['fireID', 't', 'lat_centroid']]"
   ]
  },
  {
   "cell_type": "code",
   "execution_count": null,
   "id": "2dd4ef33-e32f-4111-a15f-973568950521",
   "metadata": {
    "tags": []
   },
   "outputs": [],
   "source": [
    "# fire_tmp = fire_tmp.to_crs(\"4326\")\n",
    "# test = fire_tmp.groupby(['fireID']).apply(get_centroid)\n",
    "# test"
   ]
  },
  {
   "cell_type": "code",
   "execution_count": null,
   "id": "b83881eb-3047-4393-b7a9-927e37042006",
   "metadata": {
    "tags": []
   },
   "outputs": [],
   "source": [
    "test = test.reset_index(drop = True)"
   ]
  },
  {
   "cell_type": "code",
   "execution_count": null,
   "id": "a479bd8b-d388-429a-b2f9-2b412f743f3e",
   "metadata": {
    "tags": []
   },
   "outputs": [],
   "source": [
    "fire_tmp = test\n",
    "\n",
    "fire_id = fire_tmp[fire_tmp.fireID == '8553']\n",
    "fire_id.t = fire_id.t.astype('datetime64[ns]')\n",
    "fire_id = fire_id.sort_values(by = [\"fireID\", \"t\"])\n",
    "plt.plot(fire_id.t, fire_id.FWI)\n",
    "print(min(fire_id.t))\n",
    "print(max(fire_id.t))"
   ]
  },
  {
   "cell_type": "code",
   "execution_count": null,
   "id": "7fbfb934-f757-4b37-b869-3ae541bfb981",
   "metadata": {
    "tags": []
   },
   "outputs": [],
   "source": [
    "#fire_tmp.loc[~fire_tmp.t.str.contains(\".\"), [\"t\"]] = fire_tmp.t[~fire_tmp.t.str.contains(\".\"), [\"t\"]] + \".000\"\n",
    "\n",
    "#fire_tmp.t[~fire_tmp.t.str.contains(\".\")] = fire_tmp.t[~fire_tmp.t.str.contains(\".\")] + \".000\"\n",
    "#fire_tmp.t[fire_tmp.t ==  \"2023-11-27 12:00:00\"] = \"2023-11-27 12:00:00\" + \".000\"\n",
    "#fire_tmp[fire_tmp.t.str.contains(\"12:00:00\") & (~fire_tmp.t.str.contains(\".000\"))].t = fire_tmp[fire_tmp.t.str.contains(\"12:00:00\") & (~fire_tmp.t.str.contains(\".000\"))].t.astype('str') + '.000'\n",
    "\n",
    "fire_tmp[\"pretty_date_format\"] = fire_tmp.t.astype(\"datetime64[ns]\").dt.strftime(\"%m-%d %p\")\n",
    "#no_dupes2 = fire_tmp[[\"fireID\", \"pretty_date_format\", \"FWI\", \"lat_centroid\", \"t\"]]\n",
    "#no_dupes2 = no_dupes2.dropna()\n",
    "#no_dupes2 = no_dupes2.drop_duplicates(subset = [\"fireID\", \"t\"])\n",
    "no_dupes2 = fire_tmp[[\"fireID\", \"pretty_date_format\", \"FWI\", \"lat_centroid\", \"t\"]]\n",
    "no_dupes2 = no_dupes2.dropna()\n",
    "#no_dupes2 = no_dupes2.drop_duplicates(subset = [\"lat_centroid\", \"pretty_date_format\"])\n",
    "no_dupes2 = no_dupes2.drop_duplicates(subset = [\"fireID\", \"t\"])"
   ]
  },
  {
   "cell_type": "code",
   "execution_count": null,
   "id": "036a36bd-4b4d-4653-a2c9-1cd9a1347a35",
   "metadata": {
    "tags": []
   },
   "outputs": [],
   "source": [
    "#no_dupes2.lat_centroid[0]\n",
    "#no_dupes2[no_dupes2.lat_centroid == 52.516399]\n",
    "no_dupes2[no_dupes2.lat_centroid == 52.516399219991065].FWI.unique()\n",
    "plt.plot(no_dupes2[no_dupes2.lat_centroid == 52.516399219991065].pretty_date_format, no_dupes2[no_dupes2.lat_centroid == 52.516399219991065].FWI)\n",
    "print(min(no_dupes2[no_dupes2.lat_centroid == 52.516399219991065].pretty_date_format))\n",
    "print(max(no_dupes2[no_dupes2.lat_centroid == 52.516399219991065].pretty_date_format))"
   ]
  },
  {
   "cell_type": "code",
   "execution_count": null,
   "id": "ec03acff-2607-4fca-858c-a4e0f740f7bb",
   "metadata": {
    "tags": []
   },
   "outputs": [],
   "source": [
    "lats2 = no_dupes2.groupby(\"fireID\").lat_centroid.mean().reset_index()\n",
    "\n",
    "\n",
    "from matplotlib.colors import LogNorm, Normalize\n",
    "from matplotlib.ticker import MaxNLocator\n",
    "\n",
    "no_dupes2 = no_dupes2[['fireID', 'pretty_date_format', \"FWI\", 't']].merge(lats2, on = [\"fireID\"])\n",
    "\n",
    "#heat = no_dupes.pivot(index =[\"fireID\", \"lat_centroid\"],  columns=[\"pretty_date_format\"], values=\"farea_diff\")\n",
    "heat2 = no_dupes2.pivot(index =[\"lat_centroid\"],  columns=['pretty_date_format'], values=\"FWI\")\n",
    "\n",
    "heat2 = heat2.sort_values(by = \"lat_centroid\", ascending= False)\n",
    "\n",
    "heat2.index = heat2.index.astype(\"float64\")\n",
    "heat2.index = heat2.index.values.round(2)"
   ]
  },
  {
   "cell_type": "code",
   "execution_count": null,
   "id": "d8834b4a-7f34-4ff3-bc40-672b68555eb0",
   "metadata": {},
   "outputs": [],
   "source": [
    "#len(heat2.index.values.astype(\"float64\"))"
   ]
  },
  {
   "cell_type": "code",
   "execution_count": null,
   "id": "ca3b65fa-6bae-4b10-aecf-0302826a39ef",
   "metadata": {
    "tags": []
   },
   "outputs": [],
   "source": [
    "#fire2[[\"fireID\", \"pretty_date_format\", \"FWI\", \"lat_centroid\", \"t\"]].dropna()"
   ]
  },
  {
   "cell_type": "code",
   "execution_count": null,
   "id": "546fc24a-8215-4ea3-b645-238c6b9795d8",
   "metadata": {
    "tags": []
   },
   "outputs": [],
   "source": [
    "import matplotlib.dates as mdates\n",
    "import seaborn as sn\n",
    "\n",
    "fig, (ax, ax2) = plt.subplots(2, gridspec_kw={'height_ratios': [1, 6]})\n",
    "#fig.suptitle('Aligning x-axis using sharex')\n",
    "ax2 = sn.heatmap(heat2, cmap = \"cool\", cbar_kws={'label': 'Fire Weather Index'}, fmt='.1f')#, \n",
    "               #yticklabels=heat.index.values.round(0))\n",
    "ax2.set(xlabel=\"\", ylabel=\"Latitude of Fire Event\")\n",
    "\n",
    "ax.xaxis.set_major_formatter(mdates.DateFormatter('%m-%d'))\n",
    "#ax.plot(fwis.INITDATE.astype(\"datetime64[ns]\"),fwis.GEOS_5)\n",
    "ax.set_xlim(no_dupes.t.astype(\"datetime64[ns]\").min(), no_dupes.t.astype(\"datetime64[ns]\").max())\n",
    "ax.set_ylabel(\"FWI\")\n"
   ]
  },
  {
   "cell_type": "code",
   "execution_count": null,
   "id": "0dff1c19-a86c-42ef-9f09-0f93688538f8",
   "metadata": {},
   "outputs": [],
   "source": [
    "#heat2.index[(heat2.index > 52.52) & (heat2.index < 53.03)] #53.01, 52.95, 52.95, 52.92 ,52.9, 52.9\n",
    "\n",
    "heat2[heat2.index == 52.92].dropna(axis = 1)"
   ]
  },
  {
   "cell_type": "code",
   "execution_count": null,
   "id": "ec39e547-30d2-4f34-9b21-f84d60bb6198",
   "metadata": {},
   "outputs": [],
   "source": [
    "no_dupes2[(no_dupes2.lat_centroid > 52.90) & (no_dupes2.lat_centroid < 52.95)]"
   ]
  },
  {
   "cell_type": "code",
   "execution_count": null,
   "id": "67e8ec5f-e307-454c-8737-8e52179c72a8",
   "metadata": {},
   "outputs": [],
   "source": [
    "### Check differences in the two \"fire\" objects\n",
    "\n",
    "fires[fires.farea == fires.farea.max()].fireID.unique()"
   ]
  },
  {
   "cell_type": "code",
   "execution_count": null,
   "id": "c2687035-132a-4514-9fe5-da64bb03a177",
   "metadata": {
    "tags": []
   },
   "outputs": [],
   "source": [
    "#fire2[fire2.farea == fire2.farea.max()].fireID.unique()"
   ]
  },
  {
   "cell_type": "code",
   "execution_count": null,
   "id": "4095ebdc-3b8c-4812-b351-8556d276af37",
   "metadata": {
    "tags": []
   },
   "outputs": [],
   "source": [
    "#fire2[fire2.fireID == \"8495\"] ## That ID is missing, WHY? Merged into new? Butthe fire2 fire is smaller. "
   ]
  },
  {
   "cell_type": "code",
   "execution_count": null,
   "id": "fc9ea1ac-5a3c-4e4e-a7af-c985c8430c79",
   "metadata": {
    "tags": []
   },
   "outputs": [],
   "source": [
    "fires[fires.farea == fires.farea.max()].farea.unique()"
   ]
  },
  {
   "cell_type": "code",
   "execution_count": null,
   "id": "9f62beca-8467-4256-95c8-8f0c0ead9f05",
   "metadata": {
    "tags": []
   },
   "outputs": [],
   "source": [
    "fire3[fire3.farea == fire3.farea.max()].fireID.unique()"
   ]
  },
  {
   "cell_type": "code",
   "execution_count": null,
   "id": "539df653-d82c-4d8c-aae9-321b322d374b",
   "metadata": {},
   "outputs": [],
   "source": [
    "print(\"IDS in fires but not in fire3\", fires[~fires.fireID.isin(fire3.fireID)].fireID.unique())\n",
    "print(\"______________________\")\n",
    "print(\"IDS in fire3 but not in fires\", fire3[~fire3.fireID.isin(fires.fireID)].fireID.unique())\n",
    "print(\"______________________\")\n",
    "print(\"IDS in fires but not in fire2\", fires[~fires.fireID.isin(fire2.fireID)].fireID.unique())\n",
    "print(\"______________________\")\n",
    "print(\"IDS in fire2 but not in fire3\", fire2[~fire2.fireID.isin(fire3.fireID)].fireID.unique())\n",
    "print(\"______________________\")\n",
    "print(\"IDS in fire3 but not in fire2\", fire3[~fire3.fireID.isin(fire2.fireID)].fireID.unique())\n",
    "\n"
   ]
  },
  {
   "cell_type": "code",
   "execution_count": null,
   "id": "3e7f5cdd-7e6d-4a96-86a7-faa9df045fc2",
   "metadata": {
    "tags": []
   },
   "outputs": [],
   "source": [
    "## Check if any of the fire objects have the same IDS as the IDS fed into the for loop\n",
    "\n",
    "def lf_ids(year = None, regnm = 'BOREAL_NRT_3571_DPS'):\n",
    "    \n",
    "    diroutdata = \"s3://maap-ops-workspace/shared/gsfc_landslides/FEDSoutput-s3-conus/\"\n",
    "\n",
    "    if year == None:\n",
    "        year = date.today().year\n",
    "\n",
    "    if diroutdata.startswith(\"s3://\"):\n",
    "        # Can't use glob for S3. Use s3.ls instead.\n",
    "        s3 = s3fs.S3FileSystem(anon=False)\n",
    "        s3path = os.path.join(diroutdata, regnm, str(year), \"Largefire\")\n",
    "        fnms = [f for f in s3.ls(s3path)]\n",
    "\n",
    "\n",
    "    fnms.sort()\n",
    "    ids = []\n",
    "    for f in fnms:\n",
    "        fnm_lts = os.path.basename(f) \n",
    "        one_id = fnm_lts[1:-11]\n",
    "        ids.append(one_id)\n",
    "    tmp_ids = pd.DataFrame(ids, columns=[\"ids\"])\n",
    "    tmp_ids = tmp_ids.ids.unique()\n",
    "    return(tmp_ids)\n",
    "\n",
    "def unique(list1):\n",
    " \n",
    "    # insert the list to the set\n",
    "    list_set = set(list1)\n",
    "    # convert the set to the list\n",
    "    unique_list = (list(list_set))\n",
    "    return(unique_list)\n",
    "\n",
    "def get_listed_ids(quebec_stats):\n",
    "    newlist = [x.strip('][\\n').split(' ') for x in quebec_stats.fireID.unique()]\n",
    "    newlist = list(chain(*newlist))\n",
    "    newlist = [x.replace('\\n', ' ') for x in newlist]\n",
    "    newlist = unique(newlist)\n",
    "    return(newlist)\n",
    "\n",
    "def concat_subsets(files):\n",
    "    df = []\n",
    "    for f in files:\n",
    "        #manyfr = pd.read_csv(f, parse_dates=['t'], date_parser=dateparse)\n",
    "        manyfr = pd.read_csv(f)\n",
    "        manyfr = gpd.GeoDataFrame(manyfr)\n",
    "        \n",
    "        \n",
    "        manyfr.t[~manyfr.t.str.contains(\"12:00:00\")] = manyfr.t[~manyfr.t.str.contains(\"12:00:00\")] + \" 00:00:00\"\n",
    "        #print(manyfr.t[~manyfr.t.str.contains(\"12:00:00\")])\n",
    "        \n",
    "        manyfr.t = manyfr.t.astype(\"datetime64[ns]\")\n",
    "        #manyfr.t = manyfr.t.astype(\"str\")\n",
    "\n",
    "        \n",
    "        #manyfr.t.tz(\"UCT\")\n",
    "        df.append(manyfr)\n",
    "    df = pd.concat(df)\n",
    "    #df.t = df.t.astype(\"datetime64[ns]\")\n",
    "    return(df)\n"
   ]
  },
  {
   "cell_type": "code",
   "execution_count": null,
   "id": "09719560-2909-4b15-8623-a894b5cb034c",
   "metadata": {
    "tags": []
   },
   "outputs": [],
   "source": [
    "files = glob.glob(\"/projects/old_shared/fire_weather_vis/Lightning_analysis/snap_stats//boreal_snapstats*.csv\")\n",
    "\n",
    "\n",
    "fire_stats = concat_subsets(files)\n",
    "\n",
    "fire_stats.t.max()\n",
    "\n",
    "### Subsetting fire stats by largefire record, so don't waste time looking for IDs that we haven't got yet. Wait, not worth it, size a bigger thing anyway.\n",
    "#fire_stats = fire_stats[fire_stats.t < \"2023-07-20 12:00:00\"]\n",
    "\n",
    "#fire_stats = pd.read_csv(\"/projects/old_shared/fire_weather_vis/Lightning_analysis/snap_stats/boreal_snapstats_20231024.csv\")\n",
    "\n",
    "quebec_stats = fire_stats[fire_stats.prov_name_en == \"Quebec\"]\n",
    "\n",
    "tmp_list = get_listed_ids(quebec_stats)\n",
    "\n",
    "ids_lf = lf_ids( year = \"2023\")\n",
    "\n",
    "tmp_list = list(set(tmp_list).intersection(ids_lf))"
   ]
  },
  {
   "cell_type": "code",
   "execution_count": null,
   "id": "25aa412a-34bc-4292-b8d2-93fc5f5d0533",
   "metadata": {
    "tags": []
   },
   "outputs": [],
   "source": [
    "print(\"IDS in fires but not in tmp_list\", fires[~fires.fireID.isin(tmp_list)].fireID.unique())\n",
    "print(\"______________________\")\n",
    "print(\"IDS in fire3 but not in tmp_list\", fire3[~fire3.fireID.isin(tmp_list)].fireID.unique())\n",
    "print(\"______________________\")\n",
    "print(\"IDS in fire2 but not in tmp_list\", fire2[~fire2.fireID.isin(tmp_list)].fireID.unique())\n",
    "print(\"______________________\")\n",
    "\n",
    "\n"
   ]
  },
  {
   "cell_type": "code",
   "execution_count": null,
   "id": "ce3ede5b-d764-4f87-b78a-ac42fe87f223",
   "metadata": {
    "tags": []
   },
   "outputs": [],
   "source": [
    "set(tmp_list).symmetric_difference(fire3.fireID.unique())"
   ]
  },
  {
   "cell_type": "code",
   "execution_count": null,
   "id": "93bf2760-c782-40fb-9923-db8985b67390",
   "metadata": {
    "tags": []
   },
   "outputs": [],
   "source": [
    "set([1,2,3,4]).symmetric_difference([1,2])"
   ]
  },
  {
   "cell_type": "code",
   "execution_count": null,
   "id": "1df343f1-e8fa-476e-a5ac-d6ae4b226624",
   "metadata": {
    "tags": []
   },
   "outputs": [],
   "source": [
    "set([1,2]).symmetric_difference([1,2,3,4])"
   ]
  },
  {
   "cell_type": "code",
   "execution_count": null,
   "id": "d520c724-f208-4310-a5df-f93ca898cfb1",
   "metadata": {
    "tags": []
   },
   "outputs": [],
   "source": [
    "fire3[fire3.fireID == '8553']"
   ]
  },
  {
   "cell_type": "code",
   "execution_count": null,
   "id": "fdd6e61c-a1fd-4311-bf7a-cc8e15a13c84",
   "metadata": {
    "tags": []
   },
   "outputs": [],
   "source": [
    "len(fire3.fireID.unique())"
   ]
  },
  {
   "cell_type": "code",
   "execution_count": null,
   "id": "90ef918c-aeac-4eff-8e52-15b91a377429",
   "metadata": {},
   "outputs": [],
   "source": []
  }
 ],
 "metadata": {
  "kernelspec": {
   "display_name": "Python (fireatlas_oct4_2)",
   "language": "python",
   "name": "fireatlas_oct4"
  },
  "language_info": {
   "codemirror_mode": {
    "name": "ipython",
    "version": 3
   },
   "file_extension": ".py",
   "mimetype": "text/x-python",
   "name": "python",
   "nbconvert_exporter": "python",
   "pygments_lexer": "ipython3",
   "version": "3.11.7"
  }
 },
 "nbformat": 4,
 "nbformat_minor": 5
}
