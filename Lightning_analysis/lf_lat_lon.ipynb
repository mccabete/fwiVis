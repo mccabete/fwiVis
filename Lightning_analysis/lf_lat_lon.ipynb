{
 "cells": [
  {
   "cell_type": "code",
   "execution_count": 5,
   "id": "f566dd8f-d765-4525-b34a-37029ba40acc",
   "metadata": {
    "tags": []
   },
   "outputs": [],
   "source": [
    "#import fwiVis.fwiVis as fv\n",
    "import s3fs\n",
    "s3 = s3fs.S3FileSystem(anon=False)\n",
    "from math import cos, asin, sqrt\n",
    "import re\n",
    "\n",
    "import numpy as np\n",
    "import geopandas as gpd\n",
    "import pandas as pd\n",
    "from matplotlib import pyplot as plt\n",
    "import os\n",
    "import rioxarray as rio\n",
    "import xarray as xr\n",
    "import rasterio\n",
    "import glob\n",
    "from shapely.errors import ShapelyDeprecationWarning\n",
    "from shapely.geometry import Point\n",
    "import warnings\n",
    "import folium\n",
    "import datetime\n",
    "import time\n",
    "from folium import plugins\n",
    "warnings.filterwarnings(\"ignore\", category=ShapelyDeprecationWarning) \n",
    "import contextily as cx\n",
    "from shapely.geometry import box\n",
    "import sys\n",
    "from datetime import datetime, timedelta\n",
    "from itertools import chain\n",
    "\n",
    "sys.path.insert(0, '/projects/old_shared/fire_weather_vis/base-fwi-vis/')\n",
    "import fwiVis.fwiVis as fv"
   ]
  },
  {
   "cell_type": "code",
   "execution_count": 9,
   "id": "93a713e5-f398-4ce5-b2d1-510030b2fc57",
   "metadata": {
    "tags": []
   },
   "outputs": [],
   "source": [
    "def centroid_fire(fireID, year = '2023', path_region = \"BOREAL_NRT_3571_DPS\" ):\n",
    "    fr = fv.load_large_fire(fireID, year = year, path_region= path_region, s3_path = True)\n",
    "    fr = fr[fr.t == fr.t.max()]\n",
    "    tmp = pd.DataFrame([[fr.lat.iloc[0], fr.lon.iloc[0], fr.farea.iloc[0], path_region, fireID]], columns= [\"lat\", \"lon\", \"farea\", \"data_source\", \"fireID\"])\n",
    "    return(tmp)\n",
    "\n",
    "# def concat_subsets(files):\n",
    "#     df = []\n",
    "#     for f in files:\n",
    "#         manyfr = pd.read_csv(f)\n",
    "\n",
    "#         manyfr = gpd.GeoDataFrame(manyfr)\n",
    "\n",
    "#         manyfr.t = manyfr.t.astype(\"datetime64[ns]\")\n",
    "#         df.append(manyfr)\n",
    "#     df = pd.concat(df)\n",
    "#     return(df)\n",
    "\n",
    "def concat_subsets(files):\n",
    "    df = []\n",
    "    for f in files:\n",
    "        #manyfr = pd.read_csv(f, parse_dates=['t'], date_parser=dateparse)\n",
    "        manyfr = pd.read_csv(f)\n",
    "        manyfr = gpd.GeoDataFrame(manyfr)\n",
    "        \n",
    "        \n",
    "        manyfr.t[~manyfr.t.str.contains(\"12:00:00\")] = manyfr.t[~manyfr.t.str.contains(\"12:00:00\")] + \" 00:00:00\"\n",
    "        #print(manyfr.t[~manyfr.t.str.contains(\"12:00:00\")])\n",
    "        \n",
    "        manyfr.t = manyfr.t.astype(\"datetime64[ns]\")\n",
    "        #manyfr.t = manyfr.t.astype(\"str\")\n",
    "\n",
    "        \n",
    "        #manyfr.t.tz(\"UCT\")\n",
    "        df.append(manyfr)\n",
    "    df = pd.concat(df)\n",
    "    #df.t = df.t.astype(\"datetime64[ns]\")\n",
    "    return(df)"
   ]
  },
  {
   "cell_type": "code",
   "execution_count": 14,
   "id": "b78485ee-65e7-4690-ab17-ac7031e492f4",
   "metadata": {
    "tags": []
   },
   "outputs": [],
   "source": [
    " \n",
    "#fr = fv.load_large_fire('4049', year = '2023', path_region= 'backup_BOREAL_NRT_3571_DPS_largefire') #"
   ]
  },
  {
   "cell_type": "code",
   "execution_count": 13,
   "id": "8edea132-a792-4344-9da6-778051a88ab5",
   "metadata": {
    "tags": []
   },
   "outputs": [
    {
     "name": "stdout",
     "output_type": "stream",
     "text": [
      "['/projects/shared-buckets/gsfc_landslides/FEDSoutput-s3-conus/backup_BOREAL_NRT_3571_DPS_largefire/2023/Largefire/F4049_20230430AM', '/projects/shared-buckets/gsfc_landslides/FEDSoutput-s3-conus/backup_BOREAL_NRT_3571_DPS_largefire/2023/Largefire/F4049_20230430PM', '/projects/shared-buckets/gsfc_landslides/FEDSoutput-s3-conus/backup_BOREAL_NRT_3571_DPS_largefire/2023/Largefire/F4049_20230501AM', '/projects/shared-buckets/gsfc_landslides/FEDSoutput-s3-conus/backup_BOREAL_NRT_3571_DPS_largefire/2023/Largefire/F4049_20230501PM', '/projects/shared-buckets/gsfc_landslides/FEDSoutput-s3-conus/backup_BOREAL_NRT_3571_DPS_largefire/2023/Largefire/F4049_20230502AM', '/projects/shared-buckets/gsfc_landslides/FEDSoutput-s3-conus/backup_BOREAL_NRT_3571_DPS_largefire/2023/Largefire/F4049_20230502PM', '/projects/shared-buckets/gsfc_landslides/FEDSoutput-s3-conus/backup_BOREAL_NRT_3571_DPS_largefire/2023/Largefire/F4049_20230503AM', '/projects/shared-buckets/gsfc_landslides/FEDSoutput-s3-conus/backup_BOREAL_NRT_3571_DPS_largefire/2023/Largefire/F4049_20230503PM', '/projects/shared-buckets/gsfc_landslides/FEDSoutput-s3-conus/backup_BOREAL_NRT_3571_DPS_largefire/2023/Largefire/F4049_20230504AM', '/projects/shared-buckets/gsfc_landslides/FEDSoutput-s3-conus/backup_BOREAL_NRT_3571_DPS_largefire/2023/Largefire/F4049_20230504PM', '/projects/shared-buckets/gsfc_landslides/FEDSoutput-s3-conus/backup_BOREAL_NRT_3571_DPS_largefire/2023/Largefire/F4049_20230505AM', '/projects/shared-buckets/gsfc_landslides/FEDSoutput-s3-conus/backup_BOREAL_NRT_3571_DPS_largefire/2023/Largefire/F4049_20230505PM']\n"
     ]
    },
    {
     "name": "stderr",
     "output_type": "stream",
     "text": [
      "/projects/old_shared/fire_weather_vis/base-fwi-vis/fwiVis/fwiVis.py:584: UserWarning: Geometry is in a geographic CRS. Results from 'centroid' are likely incorrect. Use 'GeoSeries.to_crs()' to re-project geometries to a projected CRS before this operation.\n",
      "\n",
      "  gdf['lon'] = gdf.centroid.x\n",
      "/projects/old_shared/fire_weather_vis/base-fwi-vis/fwiVis/fwiVis.py:585: UserWarning: Geometry is in a geographic CRS. Results from 'centroid' are likely incorrect. Use 'GeoSeries.to_crs()' to re-project geometries to a projected CRS before this operation.\n",
      "\n",
      "  gdf['lat'] = gdf.centroid.y\n"
     ]
    },
    {
     "data": {
      "text/html": [
       "<div>\n",
       "<style scoped>\n",
       "    .dataframe tbody tr th:only-of-type {\n",
       "        vertical-align: middle;\n",
       "    }\n",
       "\n",
       "    .dataframe tbody tr th {\n",
       "        vertical-align: top;\n",
       "    }\n",
       "\n",
       "    .dataframe thead th {\n",
       "        text-align: right;\n",
       "    }\n",
       "</style>\n",
       "<table border=\"1\" class=\"dataframe\">\n",
       "  <thead>\n",
       "    <tr style=\"text-align: right;\">\n",
       "      <th></th>\n",
       "      <th>lat</th>\n",
       "      <th>lon</th>\n",
       "      <th>farea</th>\n",
       "    </tr>\n",
       "  </thead>\n",
       "  <tbody>\n",
       "    <tr>\n",
       "      <th>0</th>\n",
       "      <td>53.659499</td>\n",
       "      <td>-115.145972</td>\n",
       "      <td>36.93166</td>\n",
       "    </tr>\n",
       "  </tbody>\n",
       "</table>\n",
       "</div>"
      ],
      "text/plain": [
       "         lat         lon     farea\n",
       "0  53.659499 -115.145972  36.93166"
      ]
     },
     "execution_count": 13,
     "metadata": {},
     "output_type": "execute_result"
    }
   ],
   "source": [
    "#centroid_fire('4049')"
   ]
  },
  {
   "cell_type": "code",
   "execution_count": 7,
   "id": "1d626f0f-f6ea-43d7-a5df-65fa7f9c07ad",
   "metadata": {},
   "outputs": [],
   "source": [
    "#\n",
    "\n",
    "from datetime import date\n",
    "import os\n",
    "\n",
    "year = None\n",
    "regnm = 'BOREAL_NRT_3571_DPS'\n",
    "\n",
    "\n",
    "def lf_ids(year = None, regnm = 'BOREAL_NRT_3571_DPS'):\n",
    "    \n",
    "    diroutdata = \"s3://maap-ops-workspace/shared/gsfc_landslides/FEDSoutput-s3-conus/\"\n",
    "\n",
    "    if year == None:\n",
    "        year = date.today().year\n",
    "\n",
    "    if diroutdata.startswith(\"s3://\"):\n",
    "        # Can't use glob for S3. Use s3.ls instead.\n",
    "        import s3fs\n",
    "        s3 = s3fs.S3FileSystem(anon=False)\n",
    "        s3path = os.path.join(diroutdata, regnm, str(year), \"Largefire\")\n",
    "        fnms = [f for f in s3.ls(s3path)]\n",
    "\n",
    "\n",
    "    fnms.sort()\n",
    "    ids = []\n",
    "    for f in fnms:\n",
    "        fnm_lts = os.path.basename(f) \n",
    "        one_id = fnm_lts[1:-11]\n",
    "        ids.append(one_id)\n",
    "    tmp_ids = pd.DataFrame(ids, columns=[\"ids\"])\n",
    "    tmp_ids = tmp_ids.ids.unique()\n",
    "    return(tmp_ids)\n",
    "\n",
    "\n",
    "def unique(list1):\n",
    " \n",
    "    # insert the list to the set\n",
    "    list_set = set(list1)\n",
    "    # convert the set to the list\n",
    "    unique_list = (list(list_set))\n",
    "    return(unique_list)\n",
    "\n",
    "def get_listed_ids(quebec_stats):\n",
    "    newlist = [x.strip('][\\n').split(' ') for x in quebec_stats.fireID.unique()]\n",
    "    newlist = list(chain(*newlist))\n",
    "    newlist = [x.replace('\\n', ' ') for x in newlist]\n",
    "    newlist = unique(newlist)\n",
    "    return(newlist)"
   ]
  },
  {
   "cell_type": "code",
   "execution_count": 49,
   "id": "c0a8c4ea-8589-443f-8129-e1cfb86564d8",
   "metadata": {
    "tags": []
   },
   "outputs": [
    {
     "data": {
      "text/plain": [
       "'s3://maap-ops-workspace/shared/gsfc_landslides/FEDSoutput-s3-conus/backup_BOREAL_NRT_3571_DPS_largefire/2023/Largefire'"
      ]
     },
     "execution_count": 49,
     "metadata": {},
     "output_type": "execute_result"
    }
   ],
   "source": [
    "\n",
    "#/projects/shared-buckets/gsfc_landslides/FEDSoutput-s3-conus/backup_BOREAL_NRT_3571_DPS_largefire/2023/Largefire/"
   ]
  },
  {
   "cell_type": "code",
   "execution_count": 50,
   "id": "0f1240b8-9c9f-4d2b-9f77-4a157e47be55",
   "metadata": {
    "tags": []
   },
   "outputs": [],
   "source": [
    "#fnm_lts = os.path.basename(f)"
   ]
  },
  {
   "cell_type": "code",
   "execution_count": 8,
   "id": "10fc8eb0-7b56-4bf4-9056-12643b13dbe0",
   "metadata": {
    "tags": []
   },
   "outputs": [],
   "source": [
    "#fnm_lts"
   ]
  },
  {
   "cell_type": "code",
   "execution_count": 51,
   "id": "589d5f0d-b4dc-45ff-a977-11c79f6f0e95",
   "metadata": {
    "tags": []
   },
   "outputs": [],
   "source": [
    "ids = lf_ids()\n",
    "\n",
    "files = glob.glob(\"/projects/old_shared/fire_weather_vis/Lightning_analysis/snap_stats//boreal_snapstats*.csv\")\n",
    "\n",
    "fire_stats = concat_subsets(files)\n",
    "\n",
    "#fire_stats.t.max()\n",
    "\n",
    "### Subsetting fire stats by largefire record, so don't waste time looking for IDs that we haven't got yet. Wait, not worth it, size a bigger thing anyway.\n",
    "#fire_stats = fire_stats[fire_stats.t < \"2023-07-20 12:00:00\"]\n",
    "\n",
    "#fire_stats = pd.read_csv(\"/projects/old_shared/fire_weather_vis/Lightning_analysis/snap_stats/boreal_snapstats_20231024.csv\")\n",
    "\n",
    "quebec_stats = fire_stats[fire_stats.prov_name_en == \"Quebec\"]\n",
    "\n",
    "tmp_list = get_listed_ids(quebec_stats)\n",
    "\n",
    "tmp_list = list(set(tmp_list).intersection(ids))"
   ]
  },
  {
   "cell_type": "code",
   "execution_count": 52,
   "id": "8ebb85c3-5efd-408f-af3b-997ffbbcac09",
   "metadata": {
    "tags": []
   },
   "outputs": [],
   "source": [
    "#fv.load_large_fire('10009', year = '2023', path_region = \"BOREAL_NRT_3571_DPS\", s3_path= True)"
   ]
  },
  {
   "cell_type": "code",
   "execution_count": 53,
   "id": "559baa12-1c2c-4fc6-8e79-f37c8867edba",
   "metadata": {
    "tags": []
   },
   "outputs": [],
   "source": [
    "#fires = pd.DataFrame([[None, None, None, None]], columns= [\"lat\", \"lon\", \"farea\", \"data_source\"])\n",
    "fires = []\n",
    "for n,i in enumerate(tmp_list, start = 0):\n",
    "    try:\n",
    "        foo = centroid_fire(i)\n",
    "\n",
    "    except Exception as e:\n",
    "        print(\"Error at ID: \",i, e)\n",
    "        continue\n",
    "\n",
    "    fires.append([foo.lat.iloc[0], foo.lon.iloc[0], foo.farea.iloc[0], foo.data_source.iloc[0], foo.fireID.iloc[0]])\n",
    "    #print(fires)\n",
    "    if((n%5 == 0) | (n == (len(ids) -1))):\n",
    "        print(i)\n",
    "        fr_pd = pd.DataFrame(fires, columns=[\"lat\", \"lon\", \"farea\", \"data_source\", \"fireID\"])\n",
    "        fr_pd.to_csv(\"/projects/old_shared/fire_weather_vis/Lightning_analysis/lf_centroids/\"+\"fire_centroids_Quebec_from_boreal_snapstats\" + regnm +\".csv\")\n",
    "   "
   ]
  },
  {
   "cell_type": "code",
   "execution_count": 12,
   "id": "78e24a4a-a386-411e-b80f-5fc0c5a9e332",
   "metadata": {
    "tags": []
   },
   "outputs": [
    {
     "name": "stderr",
     "output_type": "stream",
     "text": [
      "/tmp/ipykernel_1465/609185162.py:27: SettingWithCopyWarning: \n",
      "A value is trying to be set on a copy of a slice from a DataFrame\n",
      "\n",
      "See the caveats in the documentation: https://pandas.pydata.org/pandas-docs/stable/user_guide/indexing.html#returning-a-view-versus-a-copy\n",
      "  manyfr.t[~manyfr.t.str.contains(\"12:00:00\")] = manyfr.t[~manyfr.t.str.contains(\"12:00:00\")] + \" 00:00:00\"\n",
      "/tmp/ipykernel_1465/609185162.py:27: SettingWithCopyWarning: \n",
      "A value is trying to be set on a copy of a slice from a DataFrame\n",
      "\n",
      "See the caveats in the documentation: https://pandas.pydata.org/pandas-docs/stable/user_guide/indexing.html#returning-a-view-versus-a-copy\n",
      "  manyfr.t[~manyfr.t.str.contains(\"12:00:00\")] = manyfr.t[~manyfr.t.str.contains(\"12:00:00\")] + \" 00:00:00\"\n",
      "/tmp/ipykernel_1465/609185162.py:27: SettingWithCopyWarning: \n",
      "A value is trying to be set on a copy of a slice from a DataFrame\n",
      "\n",
      "See the caveats in the documentation: https://pandas.pydata.org/pandas-docs/stable/user_guide/indexing.html#returning-a-view-versus-a-copy\n",
      "  manyfr.t[~manyfr.t.str.contains(\"12:00:00\")] = manyfr.t[~manyfr.t.str.contains(\"12:00:00\")] + \" 00:00:00\"\n"
     ]
    },
    {
     "name": "stdout",
     "output_type": "stream",
     "text": [
      "['F16417']\n"
     ]
    },
    {
     "name": "stderr",
     "output_type": "stream",
     "text": [
      "/projects/old_shared/fire_weather_vis/base-fwi-vis/fwiVis/fwiVis.py:595: UserWarning: Geometry is in a geographic CRS. Results from 'centroid' are likely incorrect. Use 'GeoSeries.to_crs()' to re-project geometries to a projected CRS before this operation.\n",
      "\n",
      "  gdf['lon'] = gdf.centroid.x\n",
      "/projects/old_shared/fire_weather_vis/base-fwi-vis/fwiVis/fwiVis.py:596: UserWarning: Geometry is in a geographic CRS. Results from 'centroid' are likely incorrect. Use 'GeoSeries.to_crs()' to re-project geometries to a projected CRS before this operation.\n",
      "\n",
      "  gdf['lat'] = gdf.centroid.y\n"
     ]
    },
    {
     "name": "stdout",
     "output_type": "stream",
     "text": [
      "['F16441']\n"
     ]
    },
    {
     "name": "stderr",
     "output_type": "stream",
     "text": [
      "/projects/old_shared/fire_weather_vis/base-fwi-vis/fwiVis/fwiVis.py:595: UserWarning: Geometry is in a geographic CRS. Results from 'centroid' are likely incorrect. Use 'GeoSeries.to_crs()' to re-project geometries to a projected CRS before this operation.\n",
      "\n",
      "  gdf['lon'] = gdf.centroid.x\n",
      "/projects/old_shared/fire_weather_vis/base-fwi-vis/fwiVis/fwiVis.py:596: UserWarning: Geometry is in a geographic CRS. Results from 'centroid' are likely incorrect. Use 'GeoSeries.to_crs()' to re-project geometries to a projected CRS before this operation.\n",
      "\n",
      "  gdf['lat'] = gdf.centroid.y\n"
     ]
    },
    {
     "name": "stdout",
     "output_type": "stream",
     "text": [
      "['F12146']\n"
     ]
    },
    {
     "name": "stderr",
     "output_type": "stream",
     "text": [
      "/projects/old_shared/fire_weather_vis/base-fwi-vis/fwiVis/fwiVis.py:595: UserWarning: Geometry is in a geographic CRS. Results from 'centroid' are likely incorrect. Use 'GeoSeries.to_crs()' to re-project geometries to a projected CRS before this operation.\n",
      "\n",
      "  gdf['lon'] = gdf.centroid.x\n",
      "/projects/old_shared/fire_weather_vis/base-fwi-vis/fwiVis/fwiVis.py:596: UserWarning: Geometry is in a geographic CRS. Results from 'centroid' are likely incorrect. Use 'GeoSeries.to_crs()' to re-project geometries to a projected CRS before this operation.\n",
      "\n",
      "  gdf['lat'] = gdf.centroid.y\n"
     ]
    },
    {
     "name": "stdout",
     "output_type": "stream",
     "text": [
      "['F16141']\n"
     ]
    },
    {
     "name": "stderr",
     "output_type": "stream",
     "text": [
      "/projects/old_shared/fire_weather_vis/base-fwi-vis/fwiVis/fwiVis.py:595: UserWarning: Geometry is in a geographic CRS. Results from 'centroid' are likely incorrect. Use 'GeoSeries.to_crs()' to re-project geometries to a projected CRS before this operation.\n",
      "\n",
      "  gdf['lon'] = gdf.centroid.x\n",
      "/projects/old_shared/fire_weather_vis/base-fwi-vis/fwiVis/fwiVis.py:596: UserWarning: Geometry is in a geographic CRS. Results from 'centroid' are likely incorrect. Use 'GeoSeries.to_crs()' to re-project geometries to a projected CRS before this operation.\n",
      "\n",
      "  gdf['lat'] = gdf.centroid.y\n"
     ]
    },
    {
     "name": "stdout",
     "output_type": "stream",
     "text": [
      "['F16459']\n"
     ]
    },
    {
     "name": "stderr",
     "output_type": "stream",
     "text": [
      "/projects/old_shared/fire_weather_vis/base-fwi-vis/fwiVis/fwiVis.py:595: UserWarning: Geometry is in a geographic CRS. Results from 'centroid' are likely incorrect. Use 'GeoSeries.to_crs()' to re-project geometries to a projected CRS before this operation.\n",
      "\n",
      "  gdf['lon'] = gdf.centroid.x\n",
      "/projects/old_shared/fire_weather_vis/base-fwi-vis/fwiVis/fwiVis.py:596: UserWarning: Geometry is in a geographic CRS. Results from 'centroid' are likely incorrect. Use 'GeoSeries.to_crs()' to re-project geometries to a projected CRS before this operation.\n",
      "\n",
      "  gdf['lat'] = gdf.centroid.y\n"
     ]
    },
    {
     "name": "stdout",
     "output_type": "stream",
     "text": [
      "['F16456']\n"
     ]
    },
    {
     "name": "stderr",
     "output_type": "stream",
     "text": [
      "/projects/old_shared/fire_weather_vis/base-fwi-vis/fwiVis/fwiVis.py:595: UserWarning: Geometry is in a geographic CRS. Results from 'centroid' are likely incorrect. Use 'GeoSeries.to_crs()' to re-project geometries to a projected CRS before this operation.\n",
      "\n",
      "  gdf['lon'] = gdf.centroid.x\n",
      "/projects/old_shared/fire_weather_vis/base-fwi-vis/fwiVis/fwiVis.py:596: UserWarning: Geometry is in a geographic CRS. Results from 'centroid' are likely incorrect. Use 'GeoSeries.to_crs()' to re-project geometries to a projected CRS before this operation.\n",
      "\n",
      "  gdf['lat'] = gdf.centroid.y\n"
     ]
    },
    {
     "name": "stdout",
     "output_type": "stream",
     "text": [
      "['F16520']\n"
     ]
    },
    {
     "name": "stderr",
     "output_type": "stream",
     "text": [
      "/projects/old_shared/fire_weather_vis/base-fwi-vis/fwiVis/fwiVis.py:595: UserWarning: Geometry is in a geographic CRS. Results from 'centroid' are likely incorrect. Use 'GeoSeries.to_crs()' to re-project geometries to a projected CRS before this operation.\n",
      "\n",
      "  gdf['lon'] = gdf.centroid.x\n",
      "/projects/old_shared/fire_weather_vis/base-fwi-vis/fwiVis/fwiVis.py:596: UserWarning: Geometry is in a geographic CRS. Results from 'centroid' are likely incorrect. Use 'GeoSeries.to_crs()' to re-project geometries to a projected CRS before this operation.\n",
      "\n",
      "  gdf['lat'] = gdf.centroid.y\n"
     ]
    },
    {
     "name": "stdout",
     "output_type": "stream",
     "text": [
      "['F17644']\n"
     ]
    },
    {
     "name": "stderr",
     "output_type": "stream",
     "text": [
      "/projects/old_shared/fire_weather_vis/base-fwi-vis/fwiVis/fwiVis.py:595: UserWarning: Geometry is in a geographic CRS. Results from 'centroid' are likely incorrect. Use 'GeoSeries.to_crs()' to re-project geometries to a projected CRS before this operation.\n",
      "\n",
      "  gdf['lon'] = gdf.centroid.x\n",
      "/projects/old_shared/fire_weather_vis/base-fwi-vis/fwiVis/fwiVis.py:596: UserWarning: Geometry is in a geographic CRS. Results from 'centroid' are likely incorrect. Use 'GeoSeries.to_crs()' to re-project geometries to a projected CRS before this operation.\n",
      "\n",
      "  gdf['lat'] = gdf.centroid.y\n"
     ]
    },
    {
     "name": "stdout",
     "output_type": "stream",
     "text": [
      "['F16447']\n"
     ]
    },
    {
     "name": "stderr",
     "output_type": "stream",
     "text": [
      "/projects/old_shared/fire_weather_vis/base-fwi-vis/fwiVis/fwiVis.py:595: UserWarning: Geometry is in a geographic CRS. Results from 'centroid' are likely incorrect. Use 'GeoSeries.to_crs()' to re-project geometries to a projected CRS before this operation.\n",
      "\n",
      "  gdf['lon'] = gdf.centroid.x\n",
      "/projects/old_shared/fire_weather_vis/base-fwi-vis/fwiVis/fwiVis.py:596: UserWarning: Geometry is in a geographic CRS. Results from 'centroid' are likely incorrect. Use 'GeoSeries.to_crs()' to re-project geometries to a projected CRS before this operation.\n",
      "\n",
      "  gdf['lat'] = gdf.centroid.y\n"
     ]
    },
    {
     "name": "stdout",
     "output_type": "stream",
     "text": [
      "['F16038']\n"
     ]
    },
    {
     "name": "stderr",
     "output_type": "stream",
     "text": [
      "/projects/old_shared/fire_weather_vis/base-fwi-vis/fwiVis/fwiVis.py:595: UserWarning: Geometry is in a geographic CRS. Results from 'centroid' are likely incorrect. Use 'GeoSeries.to_crs()' to re-project geometries to a projected CRS before this operation.\n",
      "\n",
      "  gdf['lon'] = gdf.centroid.x\n",
      "/projects/old_shared/fire_weather_vis/base-fwi-vis/fwiVis/fwiVis.py:596: UserWarning: Geometry is in a geographic CRS. Results from 'centroid' are likely incorrect. Use 'GeoSeries.to_crs()' to re-project geometries to a projected CRS before this operation.\n",
      "\n",
      "  gdf['lat'] = gdf.centroid.y\n"
     ]
    },
    {
     "name": "stdout",
     "output_type": "stream",
     "text": [
      "['F17369']\n"
     ]
    },
    {
     "name": "stderr",
     "output_type": "stream",
     "text": [
      "/projects/old_shared/fire_weather_vis/base-fwi-vis/fwiVis/fwiVis.py:595: UserWarning: Geometry is in a geographic CRS. Results from 'centroid' are likely incorrect. Use 'GeoSeries.to_crs()' to re-project geometries to a projected CRS before this operation.\n",
      "\n",
      "  gdf['lon'] = gdf.centroid.x\n",
      "/projects/old_shared/fire_weather_vis/base-fwi-vis/fwiVis/fwiVis.py:596: UserWarning: Geometry is in a geographic CRS. Results from 'centroid' are likely incorrect. Use 'GeoSeries.to_crs()' to re-project geometries to a projected CRS before this operation.\n",
      "\n",
      "  gdf['lat'] = gdf.centroid.y\n"
     ]
    },
    {
     "name": "stdout",
     "output_type": "stream",
     "text": [
      "['F17368']\n"
     ]
    },
    {
     "name": "stderr",
     "output_type": "stream",
     "text": [
      "/projects/old_shared/fire_weather_vis/base-fwi-vis/fwiVis/fwiVis.py:595: UserWarning: Geometry is in a geographic CRS. Results from 'centroid' are likely incorrect. Use 'GeoSeries.to_crs()' to re-project geometries to a projected CRS before this operation.\n",
      "\n",
      "  gdf['lon'] = gdf.centroid.x\n",
      "/projects/old_shared/fire_weather_vis/base-fwi-vis/fwiVis/fwiVis.py:596: UserWarning: Geometry is in a geographic CRS. Results from 'centroid' are likely incorrect. Use 'GeoSeries.to_crs()' to re-project geometries to a projected CRS before this operation.\n",
      "\n",
      "  gdf['lat'] = gdf.centroid.y\n"
     ]
    },
    {
     "name": "stdout",
     "output_type": "stream",
     "text": [
      "['F16730']\n"
     ]
    },
    {
     "name": "stderr",
     "output_type": "stream",
     "text": [
      "/projects/old_shared/fire_weather_vis/base-fwi-vis/fwiVis/fwiVis.py:595: UserWarning: Geometry is in a geographic CRS. Results from 'centroid' are likely incorrect. Use 'GeoSeries.to_crs()' to re-project geometries to a projected CRS before this operation.\n",
      "\n",
      "  gdf['lon'] = gdf.centroid.x\n",
      "/projects/old_shared/fire_weather_vis/base-fwi-vis/fwiVis/fwiVis.py:596: UserWarning: Geometry is in a geographic CRS. Results from 'centroid' are likely incorrect. Use 'GeoSeries.to_crs()' to re-project geometries to a projected CRS before this operation.\n",
      "\n",
      "  gdf['lat'] = gdf.centroid.y\n"
     ]
    },
    {
     "name": "stdout",
     "output_type": "stream",
     "text": [
      "['F16457']\n"
     ]
    },
    {
     "name": "stderr",
     "output_type": "stream",
     "text": [
      "/projects/old_shared/fire_weather_vis/base-fwi-vis/fwiVis/fwiVis.py:595: UserWarning: Geometry is in a geographic CRS. Results from 'centroid' are likely incorrect. Use 'GeoSeries.to_crs()' to re-project geometries to a projected CRS before this operation.\n",
      "\n",
      "  gdf['lon'] = gdf.centroid.x\n",
      "/projects/old_shared/fire_weather_vis/base-fwi-vis/fwiVis/fwiVis.py:596: UserWarning: Geometry is in a geographic CRS. Results from 'centroid' are likely incorrect. Use 'GeoSeries.to_crs()' to re-project geometries to a projected CRS before this operation.\n",
      "\n",
      "  gdf['lat'] = gdf.centroid.y\n"
     ]
    },
    {
     "name": "stdout",
     "output_type": "stream",
     "text": [
      "['F16049']\n"
     ]
    },
    {
     "name": "stderr",
     "output_type": "stream",
     "text": [
      "/projects/old_shared/fire_weather_vis/base-fwi-vis/fwiVis/fwiVis.py:595: UserWarning: Geometry is in a geographic CRS. Results from 'centroid' are likely incorrect. Use 'GeoSeries.to_crs()' to re-project geometries to a projected CRS before this operation.\n",
      "\n",
      "  gdf['lon'] = gdf.centroid.x\n",
      "/projects/old_shared/fire_weather_vis/base-fwi-vis/fwiVis/fwiVis.py:596: UserWarning: Geometry is in a geographic CRS. Results from 'centroid' are likely incorrect. Use 'GeoSeries.to_crs()' to re-project geometries to a projected CRS before this operation.\n",
      "\n",
      "  gdf['lat'] = gdf.centroid.y\n"
     ]
    },
    {
     "name": "stdout",
     "output_type": "stream",
     "text": [
      "['F16644']\n"
     ]
    },
    {
     "name": "stderr",
     "output_type": "stream",
     "text": [
      "/projects/old_shared/fire_weather_vis/base-fwi-vis/fwiVis/fwiVis.py:595: UserWarning: Geometry is in a geographic CRS. Results from 'centroid' are likely incorrect. Use 'GeoSeries.to_crs()' to re-project geometries to a projected CRS before this operation.\n",
      "\n",
      "  gdf['lon'] = gdf.centroid.x\n",
      "/projects/old_shared/fire_weather_vis/base-fwi-vis/fwiVis/fwiVis.py:596: UserWarning: Geometry is in a geographic CRS. Results from 'centroid' are likely incorrect. Use 'GeoSeries.to_crs()' to re-project geometries to a projected CRS before this operation.\n",
      "\n",
      "  gdf['lat'] = gdf.centroid.y\n"
     ]
    },
    {
     "name": "stdout",
     "output_type": "stream",
     "text": [
      "['F16321']\n"
     ]
    },
    {
     "name": "stderr",
     "output_type": "stream",
     "text": [
      "/projects/old_shared/fire_weather_vis/base-fwi-vis/fwiVis/fwiVis.py:595: UserWarning: Geometry is in a geographic CRS. Results from 'centroid' are likely incorrect. Use 'GeoSeries.to_crs()' to re-project geometries to a projected CRS before this operation.\n",
      "\n",
      "  gdf['lon'] = gdf.centroid.x\n",
      "/projects/old_shared/fire_weather_vis/base-fwi-vis/fwiVis/fwiVis.py:596: UserWarning: Geometry is in a geographic CRS. Results from 'centroid' are likely incorrect. Use 'GeoSeries.to_crs()' to re-project geometries to a projected CRS before this operation.\n",
      "\n",
      "  gdf['lat'] = gdf.centroid.y\n"
     ]
    },
    {
     "name": "stdout",
     "output_type": "stream",
     "text": [
      "['F16045']\n"
     ]
    },
    {
     "name": "stderr",
     "output_type": "stream",
     "text": [
      "/projects/old_shared/fire_weather_vis/base-fwi-vis/fwiVis/fwiVis.py:595: UserWarning: Geometry is in a geographic CRS. Results from 'centroid' are likely incorrect. Use 'GeoSeries.to_crs()' to re-project geometries to a projected CRS before this operation.\n",
      "\n",
      "  gdf['lon'] = gdf.centroid.x\n",
      "/projects/old_shared/fire_weather_vis/base-fwi-vis/fwiVis/fwiVis.py:596: UserWarning: Geometry is in a geographic CRS. Results from 'centroid' are likely incorrect. Use 'GeoSeries.to_crs()' to re-project geometries to a projected CRS before this operation.\n",
      "\n",
      "  gdf['lat'] = gdf.centroid.y\n"
     ]
    },
    {
     "name": "stdout",
     "output_type": "stream",
     "text": [
      "['F16112']\n"
     ]
    },
    {
     "name": "stderr",
     "output_type": "stream",
     "text": [
      "/projects/old_shared/fire_weather_vis/base-fwi-vis/fwiVis/fwiVis.py:595: UserWarning: Geometry is in a geographic CRS. Results from 'centroid' are likely incorrect. Use 'GeoSeries.to_crs()' to re-project geometries to a projected CRS before this operation.\n",
      "\n",
      "  gdf['lon'] = gdf.centroid.x\n",
      "/projects/old_shared/fire_weather_vis/base-fwi-vis/fwiVis/fwiVis.py:596: UserWarning: Geometry is in a geographic CRS. Results from 'centroid' are likely incorrect. Use 'GeoSeries.to_crs()' to re-project geometries to a projected CRS before this operation.\n",
      "\n",
      "  gdf['lat'] = gdf.centroid.y\n"
     ]
    },
    {
     "name": "stdout",
     "output_type": "stream",
     "text": [
      "['F16519']\n"
     ]
    },
    {
     "name": "stderr",
     "output_type": "stream",
     "text": [
      "/projects/old_shared/fire_weather_vis/base-fwi-vis/fwiVis/fwiVis.py:595: UserWarning: Geometry is in a geographic CRS. Results from 'centroid' are likely incorrect. Use 'GeoSeries.to_crs()' to re-project geometries to a projected CRS before this operation.\n",
      "\n",
      "  gdf['lon'] = gdf.centroid.x\n",
      "/projects/old_shared/fire_weather_vis/base-fwi-vis/fwiVis/fwiVis.py:596: UserWarning: Geometry is in a geographic CRS. Results from 'centroid' are likely incorrect. Use 'GeoSeries.to_crs()' to re-project geometries to a projected CRS before this operation.\n",
      "\n",
      "  gdf['lat'] = gdf.centroid.y\n"
     ]
    },
    {
     "name": "stdout",
     "output_type": "stream",
     "text": [
      "['F16433']\n"
     ]
    },
    {
     "name": "stderr",
     "output_type": "stream",
     "text": [
      "/projects/old_shared/fire_weather_vis/base-fwi-vis/fwiVis/fwiVis.py:595: UserWarning: Geometry is in a geographic CRS. Results from 'centroid' are likely incorrect. Use 'GeoSeries.to_crs()' to re-project geometries to a projected CRS before this operation.\n",
      "\n",
      "  gdf['lon'] = gdf.centroid.x\n",
      "/projects/old_shared/fire_weather_vis/base-fwi-vis/fwiVis/fwiVis.py:596: UserWarning: Geometry is in a geographic CRS. Results from 'centroid' are likely incorrect. Use 'GeoSeries.to_crs()' to re-project geometries to a projected CRS before this operation.\n",
      "\n",
      "  gdf['lat'] = gdf.centroid.y\n"
     ]
    },
    {
     "name": "stdout",
     "output_type": "stream",
     "text": [
      "['F16113']\n"
     ]
    },
    {
     "name": "stderr",
     "output_type": "stream",
     "text": [
      "/projects/old_shared/fire_weather_vis/base-fwi-vis/fwiVis/fwiVis.py:595: UserWarning: Geometry is in a geographic CRS. Results from 'centroid' are likely incorrect. Use 'GeoSeries.to_crs()' to re-project geometries to a projected CRS before this operation.\n",
      "\n",
      "  gdf['lon'] = gdf.centroid.x\n",
      "/projects/old_shared/fire_weather_vis/base-fwi-vis/fwiVis/fwiVis.py:596: UserWarning: Geometry is in a geographic CRS. Results from 'centroid' are likely incorrect. Use 'GeoSeries.to_crs()' to re-project geometries to a projected CRS before this operation.\n",
      "\n",
      "  gdf['lat'] = gdf.centroid.y\n"
     ]
    },
    {
     "name": "stdout",
     "output_type": "stream",
     "text": [
      "['F16109']\n"
     ]
    },
    {
     "name": "stderr",
     "output_type": "stream",
     "text": [
      "/projects/old_shared/fire_weather_vis/base-fwi-vis/fwiVis/fwiVis.py:595: UserWarning: Geometry is in a geographic CRS. Results from 'centroid' are likely incorrect. Use 'GeoSeries.to_crs()' to re-project geometries to a projected CRS before this operation.\n",
      "\n",
      "  gdf['lon'] = gdf.centroid.x\n",
      "/projects/old_shared/fire_weather_vis/base-fwi-vis/fwiVis/fwiVis.py:596: UserWarning: Geometry is in a geographic CRS. Results from 'centroid' are likely incorrect. Use 'GeoSeries.to_crs()' to re-project geometries to a projected CRS before this operation.\n",
      "\n",
      "  gdf['lat'] = gdf.centroid.y\n"
     ]
    },
    {
     "name": "stdout",
     "output_type": "stream",
     "text": [
      "['F16062']\n"
     ]
    },
    {
     "name": "stderr",
     "output_type": "stream",
     "text": [
      "/projects/old_shared/fire_weather_vis/base-fwi-vis/fwiVis/fwiVis.py:595: UserWarning: Geometry is in a geographic CRS. Results from 'centroid' are likely incorrect. Use 'GeoSeries.to_crs()' to re-project geometries to a projected CRS before this operation.\n",
      "\n",
      "  gdf['lon'] = gdf.centroid.x\n",
      "/projects/old_shared/fire_weather_vis/base-fwi-vis/fwiVis/fwiVis.py:596: UserWarning: Geometry is in a geographic CRS. Results from 'centroid' are likely incorrect. Use 'GeoSeries.to_crs()' to re-project geometries to a projected CRS before this operation.\n",
      "\n",
      "  gdf['lat'] = gdf.centroid.y\n"
     ]
    },
    {
     "name": "stdout",
     "output_type": "stream",
     "text": [
      "['F8553']\n"
     ]
    },
    {
     "name": "stderr",
     "output_type": "stream",
     "text": [
      "/projects/old_shared/fire_weather_vis/base-fwi-vis/fwiVis/fwiVis.py:595: UserWarning: Geometry is in a geographic CRS. Results from 'centroid' are likely incorrect. Use 'GeoSeries.to_crs()' to re-project geometries to a projected CRS before this operation.\n",
      "\n",
      "  gdf['lon'] = gdf.centroid.x\n",
      "/projects/old_shared/fire_weather_vis/base-fwi-vis/fwiVis/fwiVis.py:596: UserWarning: Geometry is in a geographic CRS. Results from 'centroid' are likely incorrect. Use 'GeoSeries.to_crs()' to re-project geometries to a projected CRS before this operation.\n",
      "\n",
      "  gdf['lat'] = gdf.centroid.y\n"
     ]
    },
    {
     "name": "stdout",
     "output_type": "stream",
     "text": [
      "['F16065']\n"
     ]
    },
    {
     "name": "stderr",
     "output_type": "stream",
     "text": [
      "/projects/old_shared/fire_weather_vis/base-fwi-vis/fwiVis/fwiVis.py:595: UserWarning: Geometry is in a geographic CRS. Results from 'centroid' are likely incorrect. Use 'GeoSeries.to_crs()' to re-project geometries to a projected CRS before this operation.\n",
      "\n",
      "  gdf['lon'] = gdf.centroid.x\n",
      "/projects/old_shared/fire_weather_vis/base-fwi-vis/fwiVis/fwiVis.py:596: UserWarning: Geometry is in a geographic CRS. Results from 'centroid' are likely incorrect. Use 'GeoSeries.to_crs()' to re-project geometries to a projected CRS before this operation.\n",
      "\n",
      "  gdf['lat'] = gdf.centroid.y\n"
     ]
    },
    {
     "name": "stdout",
     "output_type": "stream",
     "text": [
      "['F10546']\n"
     ]
    },
    {
     "name": "stderr",
     "output_type": "stream",
     "text": [
      "/projects/old_shared/fire_weather_vis/base-fwi-vis/fwiVis/fwiVis.py:595: UserWarning: Geometry is in a geographic CRS. Results from 'centroid' are likely incorrect. Use 'GeoSeries.to_crs()' to re-project geometries to a projected CRS before this operation.\n",
      "\n",
      "  gdf['lon'] = gdf.centroid.x\n",
      "/projects/old_shared/fire_weather_vis/base-fwi-vis/fwiVis/fwiVis.py:596: UserWarning: Geometry is in a geographic CRS. Results from 'centroid' are likely incorrect. Use 'GeoSeries.to_crs()' to re-project geometries to a projected CRS before this operation.\n",
      "\n",
      "  gdf['lat'] = gdf.centroid.y\n"
     ]
    },
    {
     "name": "stdout",
     "output_type": "stream",
     "text": [
      "['F16963']\n"
     ]
    },
    {
     "name": "stderr",
     "output_type": "stream",
     "text": [
      "/projects/old_shared/fire_weather_vis/base-fwi-vis/fwiVis/fwiVis.py:595: UserWarning: Geometry is in a geographic CRS. Results from 'centroid' are likely incorrect. Use 'GeoSeries.to_crs()' to re-project geometries to a projected CRS before this operation.\n",
      "\n",
      "  gdf['lon'] = gdf.centroid.x\n",
      "/projects/old_shared/fire_weather_vis/base-fwi-vis/fwiVis/fwiVis.py:596: UserWarning: Geometry is in a geographic CRS. Results from 'centroid' are likely incorrect. Use 'GeoSeries.to_crs()' to re-project geometries to a projected CRS before this operation.\n",
      "\n",
      "  gdf['lat'] = gdf.centroid.y\n"
     ]
    },
    {
     "name": "stdout",
     "output_type": "stream",
     "text": [
      "['F16227']\n"
     ]
    },
    {
     "name": "stderr",
     "output_type": "stream",
     "text": [
      "/projects/old_shared/fire_weather_vis/base-fwi-vis/fwiVis/fwiVis.py:595: UserWarning: Geometry is in a geographic CRS. Results from 'centroid' are likely incorrect. Use 'GeoSeries.to_crs()' to re-project geometries to a projected CRS before this operation.\n",
      "\n",
      "  gdf['lon'] = gdf.centroid.x\n",
      "/projects/old_shared/fire_weather_vis/base-fwi-vis/fwiVis/fwiVis.py:596: UserWarning: Geometry is in a geographic CRS. Results from 'centroid' are likely incorrect. Use 'GeoSeries.to_crs()' to re-project geometries to a projected CRS before this operation.\n",
      "\n",
      "  gdf['lat'] = gdf.centroid.y\n"
     ]
    },
    {
     "name": "stdout",
     "output_type": "stream",
     "text": [
      "['F16528']\n"
     ]
    },
    {
     "name": "stderr",
     "output_type": "stream",
     "text": [
      "/projects/old_shared/fire_weather_vis/base-fwi-vis/fwiVis/fwiVis.py:595: UserWarning: Geometry is in a geographic CRS. Results from 'centroid' are likely incorrect. Use 'GeoSeries.to_crs()' to re-project geometries to a projected CRS before this operation.\n",
      "\n",
      "  gdf['lon'] = gdf.centroid.x\n",
      "/projects/old_shared/fire_weather_vis/base-fwi-vis/fwiVis/fwiVis.py:596: UserWarning: Geometry is in a geographic CRS. Results from 'centroid' are likely incorrect. Use 'GeoSeries.to_crs()' to re-project geometries to a projected CRS before this operation.\n",
      "\n",
      "  gdf['lat'] = gdf.centroid.y\n"
     ]
    },
    {
     "name": "stdout",
     "output_type": "stream",
     "text": [
      "['F16046']\n"
     ]
    },
    {
     "name": "stderr",
     "output_type": "stream",
     "text": [
      "/projects/old_shared/fire_weather_vis/base-fwi-vis/fwiVis/fwiVis.py:595: UserWarning: Geometry is in a geographic CRS. Results from 'centroid' are likely incorrect. Use 'GeoSeries.to_crs()' to re-project geometries to a projected CRS before this operation.\n",
      "\n",
      "  gdf['lon'] = gdf.centroid.x\n",
      "/projects/old_shared/fire_weather_vis/base-fwi-vis/fwiVis/fwiVis.py:596: UserWarning: Geometry is in a geographic CRS. Results from 'centroid' are likely incorrect. Use 'GeoSeries.to_crs()' to re-project geometries to a projected CRS before this operation.\n",
      "\n",
      "  gdf['lat'] = gdf.centroid.y\n"
     ]
    },
    {
     "name": "stdout",
     "output_type": "stream",
     "text": [
      "['F16143']\n"
     ]
    },
    {
     "name": "stderr",
     "output_type": "stream",
     "text": [
      "/projects/old_shared/fire_weather_vis/base-fwi-vis/fwiVis/fwiVis.py:595: UserWarning: Geometry is in a geographic CRS. Results from 'centroid' are likely incorrect. Use 'GeoSeries.to_crs()' to re-project geometries to a projected CRS before this operation.\n",
      "\n",
      "  gdf['lon'] = gdf.centroid.x\n",
      "/projects/old_shared/fire_weather_vis/base-fwi-vis/fwiVis/fwiVis.py:596: UserWarning: Geometry is in a geographic CRS. Results from 'centroid' are likely incorrect. Use 'GeoSeries.to_crs()' to re-project geometries to a projected CRS before this operation.\n",
      "\n",
      "  gdf['lat'] = gdf.centroid.y\n"
     ]
    }
   ],
   "source": [
    "### Outputting a new list of centroids based on IDS that I saw were \"missing\" from the intersection of LF ids and snapshot IDS. It's totally possible that these IDS were not in LF form by the time I did this extraction back in november. \n",
    "\n",
    "# Get IDs. These IDs come from csvs made by old_shared/fire_weather_vis/Lightning_analysis/snap_prov_lightning.ipynb\n",
    "# by going through the snapshot files, doing a spatial join, and collecting IDs. \n",
    "\n",
    "files = glob.glob(\"/projects/old_shared/fire_weather_vis/Lightning_analysis/snap_stats//boreal_snapstats*.csv\")\n",
    "\n",
    "\n",
    "fire_stats = concat_subsets(files)\n",
    "\n",
    "fire_stats.t.max()\n",
    "\n",
    "### Subsetting fire stats by largefire record, so don't waste time looking for IDs that we haven't got yet. Wait, not worth it, size a bigger thing anyway.\n",
    "#fire_stats = fire_stats[fire_stats.t < \"2023-07-20 12:00:00\"]\n",
    "\n",
    "#fire_stats = pd.read_csv(\"/projects/old_shared/fire_weather_vis/Lightning_analysis/snap_stats/boreal_snapstats_20231024.csv\")\n",
    "\n",
    "quebec_stats = fire_stats[fire_stats.prov_name_en == \"Quebec\"]\n",
    "\n",
    "tmp_list = get_listed_ids(quebec_stats)\n",
    "\n",
    "ids_lf = lf_ids( year = \"2023\")\n",
    "\n",
    "tmp_list = list(set(tmp_list).intersection(ids_lf))\n",
    "\n",
    "# Check what IDS are missing an re-run\n",
    "\n",
    "path = \"/projects/old_shared/fire_weather_vis/Lightning_analysis/fwi_timeline_merge/againQuebec_only_GRIDDED_20_days_BOREAL_NRT_3571_DPSgridded20240122.csv\" ## looking for lightning 20 days before start\n",
    "tmp_fires = fv.prep_fire_files(path)\n",
    "\n",
    "missed_ids = set(tmp_list).symmetric_difference(tmp_fires.fireID.unique())\n",
    "\n",
    "ids = missed_ids\n",
    "fires = []\n",
    "for n,i in enumerate(ids, start = 0):\n",
    "    try:\n",
    "        foo = centroid_fire(i)\n",
    "\n",
    "    except Exception as e:\n",
    "        print(\"Error at ID: \",i, e)\n",
    "        continue\n",
    "\n",
    "    fires.append([foo.lat.iloc[0], foo.lon.iloc[0], foo.farea.iloc[0], foo.data_source.iloc[0], foo.fireID.iloc[0]])\n",
    "    #print(fires)\n",
    "    fr_pd = pd.DataFrame(fires, columns=[\"lat\", \"lon\", \"farea\", \"data_source\", \"fireID\"])\n",
    "    fr_pd.to_csv(\"/projects/old_shared/fire_weather_vis/Lightning_analysis/lf_centroids/\"+  \"Generate_missing_lf\" +\"fire_centroids_Quebec_from_boreal_snapstats\"  +\".csv\")\n",
    "    "
   ]
  },
  {
   "cell_type": "code",
   "execution_count": 92,
   "id": "48ebd0e4-2d53-4bcb-89e0-78de650855c9",
   "metadata": {
    "tags": []
   },
   "outputs": [
    {
     "data": {
      "text/html": [
       "<div>\n",
       "<style scoped>\n",
       "    .dataframe tbody tr th:only-of-type {\n",
       "        vertical-align: middle;\n",
       "    }\n",
       "\n",
       "    .dataframe tbody tr th {\n",
       "        vertical-align: top;\n",
       "    }\n",
       "\n",
       "    .dataframe thead th {\n",
       "        text-align: right;\n",
       "    }\n",
       "</style>\n",
       "<table border=\"1\" class=\"dataframe\">\n",
       "  <thead>\n",
       "    <tr style=\"text-align: right;\">\n",
       "      <th></th>\n",
       "      <th>0</th>\n",
       "      <th>1</th>\n",
       "      <th>2</th>\n",
       "      <th>3</th>\n",
       "      <th>4</th>\n",
       "    </tr>\n",
       "  </thead>\n",
       "  <tbody>\n",
       "    <tr>\n",
       "      <th>0</th>\n",
       "      <td>lat         lon     farea            ...</td>\n",
       "      <td>lat         lon     farea            ...</td>\n",
       "      <td>lat        lon       farea           ...</td>\n",
       "      <td>lat         lon     farea            ...</td>\n",
       "      <td>lat         lon       farea          ...</td>\n",
       "    </tr>\n",
       "  </tbody>\n",
       "</table>\n",
       "</div>"
      ],
      "text/plain": [
       "                                                   0  \\\n",
       "0           lat         lon     farea            ...   \n",
       "\n",
       "                                                   1  \\\n",
       "0           lat         lon     farea            ...   \n",
       "\n",
       "                                                   2  \\\n",
       "0           lat        lon       farea           ...   \n",
       "\n",
       "                                                   3  \\\n",
       "0           lat         lon     farea            ...   \n",
       "\n",
       "                                                   4  \n",
       "0           lat         lon       farea          ...  "
      ]
     },
     "execution_count": 92,
     "metadata": {},
     "output_type": "execute_result"
    }
   ],
   "source": [
    "fr_pd = pd.DataFrame(fires)\n",
    "fr_pd"
   ]
  },
  {
   "cell_type": "code",
   "execution_count": 84,
   "id": "51d9e788-2785-4c47-96eb-6bfe2696eec4",
   "metadata": {
    "tags": []
   },
   "outputs": [
    {
     "ename": "ValueError",
     "evalue": "Must pass 2-d input. shape=(2, 1, 4)",
     "output_type": "error",
     "traceback": [
      "\u001b[0;31m---------------------------------------------------------------------------\u001b[0m",
      "\u001b[0;31mValueError\u001b[0m                                Traceback (most recent call last)",
      "Cell \u001b[0;32mIn [84], line 1\u001b[0m\n\u001b[0;32m----> 1\u001b[0m pd\u001b[38;5;241m.\u001b[39mDataFrame([fires[\u001b[38;5;241m1\u001b[39m], fires[\u001b[38;5;241m0\u001b[39m]])\n",
      "File \u001b[0;32m~/myenvs/fireatlas_oct4/lib/python3.8/site-packages/pandas/core/frame.py:760\u001b[0m, in \u001b[0;36mDataFrame.__init__\u001b[0;34m(self, data, index, columns, dtype, copy)\u001b[0m\n\u001b[1;32m    752\u001b[0m         mgr \u001b[38;5;241m=\u001b[39m arrays_to_mgr(\n\u001b[1;32m    753\u001b[0m             arrays,\n\u001b[1;32m    754\u001b[0m             columns,\n\u001b[0;32m   (...)\u001b[0m\n\u001b[1;32m    757\u001b[0m             typ\u001b[38;5;241m=\u001b[39mmanager,\n\u001b[1;32m    758\u001b[0m         )\n\u001b[1;32m    759\u001b[0m     \u001b[38;5;28;01melse\u001b[39;00m:\n\u001b[0;32m--> 760\u001b[0m         mgr \u001b[38;5;241m=\u001b[39m \u001b[43mndarray_to_mgr\u001b[49m\u001b[43m(\u001b[49m\n\u001b[1;32m    761\u001b[0m \u001b[43m            \u001b[49m\u001b[43mdata\u001b[49m\u001b[43m,\u001b[49m\n\u001b[1;32m    762\u001b[0m \u001b[43m            \u001b[49m\u001b[43mindex\u001b[49m\u001b[43m,\u001b[49m\n\u001b[1;32m    763\u001b[0m \u001b[43m            \u001b[49m\u001b[43mcolumns\u001b[49m\u001b[43m,\u001b[49m\n\u001b[1;32m    764\u001b[0m \u001b[43m            \u001b[49m\u001b[43mdtype\u001b[49m\u001b[38;5;241;43m=\u001b[39;49m\u001b[43mdtype\u001b[49m\u001b[43m,\u001b[49m\n\u001b[1;32m    765\u001b[0m \u001b[43m            \u001b[49m\u001b[43mcopy\u001b[49m\u001b[38;5;241;43m=\u001b[39;49m\u001b[43mcopy\u001b[49m\u001b[43m,\u001b[49m\n\u001b[1;32m    766\u001b[0m \u001b[43m            \u001b[49m\u001b[43mtyp\u001b[49m\u001b[38;5;241;43m=\u001b[39;49m\u001b[43mmanager\u001b[49m\u001b[43m,\u001b[49m\n\u001b[1;32m    767\u001b[0m \u001b[43m        \u001b[49m\u001b[43m)\u001b[49m\n\u001b[1;32m    768\u001b[0m \u001b[38;5;28;01melse\u001b[39;00m:\n\u001b[1;32m    769\u001b[0m     mgr \u001b[38;5;241m=\u001b[39m dict_to_mgr(\n\u001b[1;32m    770\u001b[0m         {},\n\u001b[1;32m    771\u001b[0m         index,\n\u001b[0;32m   (...)\u001b[0m\n\u001b[1;32m    774\u001b[0m         typ\u001b[38;5;241m=\u001b[39mmanager,\n\u001b[1;32m    775\u001b[0m     )\n",
      "File \u001b[0;32m~/myenvs/fireatlas_oct4/lib/python3.8/site-packages/pandas/core/internals/construction.py:329\u001b[0m, in \u001b[0;36mndarray_to_mgr\u001b[0;34m(values, index, columns, dtype, copy, typ)\u001b[0m\n\u001b[1;32m    324\u001b[0m         values \u001b[38;5;241m=\u001b[39m values\u001b[38;5;241m.\u001b[39mreshape(\u001b[38;5;241m-\u001b[39m\u001b[38;5;241m1\u001b[39m, \u001b[38;5;241m1\u001b[39m)\n\u001b[1;32m    326\u001b[0m \u001b[38;5;28;01melse\u001b[39;00m:\n\u001b[1;32m    327\u001b[0m     \u001b[38;5;66;03m# by definition an array here\u001b[39;00m\n\u001b[1;32m    328\u001b[0m     \u001b[38;5;66;03m# the dtypes will be coerced to a single dtype\u001b[39;00m\n\u001b[0;32m--> 329\u001b[0m     values \u001b[38;5;241m=\u001b[39m \u001b[43m_prep_ndarraylike\u001b[49m\u001b[43m(\u001b[49m\u001b[43mvalues\u001b[49m\u001b[43m,\u001b[49m\u001b[43m \u001b[49m\u001b[43mcopy\u001b[49m\u001b[38;5;241;43m=\u001b[39;49m\u001b[43mcopy_on_sanitize\u001b[49m\u001b[43m)\u001b[49m\n\u001b[1;32m    331\u001b[0m \u001b[38;5;28;01mif\u001b[39;00m dtype \u001b[38;5;129;01mis\u001b[39;00m \u001b[38;5;129;01mnot\u001b[39;00m \u001b[38;5;28;01mNone\u001b[39;00m \u001b[38;5;129;01mand\u001b[39;00m \u001b[38;5;129;01mnot\u001b[39;00m is_dtype_equal(values\u001b[38;5;241m.\u001b[39mdtype, dtype):\n\u001b[1;32m    332\u001b[0m     \u001b[38;5;66;03m# GH#40110 see similar check inside sanitize_array\u001b[39;00m\n\u001b[1;32m    333\u001b[0m     rcf \u001b[38;5;241m=\u001b[39m \u001b[38;5;129;01mnot\u001b[39;00m (is_integer_dtype(dtype) \u001b[38;5;129;01mand\u001b[39;00m values\u001b[38;5;241m.\u001b[39mdtype\u001b[38;5;241m.\u001b[39mkind \u001b[38;5;241m==\u001b[39m \u001b[38;5;124m\"\u001b[39m\u001b[38;5;124mf\u001b[39m\u001b[38;5;124m\"\u001b[39m)\n",
      "File \u001b[0;32m~/myenvs/fireatlas_oct4/lib/python3.8/site-packages/pandas/core/internals/construction.py:583\u001b[0m, in \u001b[0;36m_prep_ndarraylike\u001b[0;34m(values, copy)\u001b[0m\n\u001b[1;32m    581\u001b[0m     values \u001b[38;5;241m=\u001b[39m values\u001b[38;5;241m.\u001b[39mreshape((values\u001b[38;5;241m.\u001b[39mshape[\u001b[38;5;241m0\u001b[39m], \u001b[38;5;241m1\u001b[39m))\n\u001b[1;32m    582\u001b[0m \u001b[38;5;28;01melif\u001b[39;00m values\u001b[38;5;241m.\u001b[39mndim \u001b[38;5;241m!=\u001b[39m \u001b[38;5;241m2\u001b[39m:\n\u001b[0;32m--> 583\u001b[0m     \u001b[38;5;28;01mraise\u001b[39;00m \u001b[38;5;167;01mValueError\u001b[39;00m(\u001b[38;5;124mf\u001b[39m\u001b[38;5;124m\"\u001b[39m\u001b[38;5;124mMust pass 2-d input. shape=\u001b[39m\u001b[38;5;132;01m{\u001b[39;00mvalues\u001b[38;5;241m.\u001b[39mshape\u001b[38;5;132;01m}\u001b[39;00m\u001b[38;5;124m\"\u001b[39m)\n\u001b[1;32m    585\u001b[0m \u001b[38;5;28;01mreturn\u001b[39;00m values\n",
      "\u001b[0;31mValueError\u001b[0m: Must pass 2-d input. shape=(2, 1, 4)"
     ]
    }
   ],
   "source": [
    "pd.DataFrame([fires[1], fires[0]])"
   ]
  },
  {
   "cell_type": "code",
   "execution_count": null,
   "id": "dd46ca3b-cd5d-4c47-9e9d-ba96e002dad0",
   "metadata": {},
   "outputs": [],
   "source": []
  }
 ],
 "metadata": {
  "kernelspec": {
   "display_name": "Python (fireatlas_oct4_2)",
   "language": "python",
   "name": "fireatlas_oct4"
  },
  "language_info": {
   "codemirror_mode": {
    "name": "ipython",
    "version": 3
   },
   "file_extension": ".py",
   "mimetype": "text/x-python",
   "name": "python",
   "nbconvert_exporter": "python",
   "pygments_lexer": "ipython3",
   "version": "3.11.7"
  }
 },
 "nbformat": 4,
 "nbformat_minor": 5
}
