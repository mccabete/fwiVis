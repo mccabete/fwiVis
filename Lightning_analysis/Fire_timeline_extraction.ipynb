{
 "cells": [
  {
   "cell_type": "code",
   "execution_count": 1,
   "id": "75d26207-ff3c-4ae6-8e94-99a050364c95",
   "metadata": {
    "tags": []
   },
   "outputs": [],
   "source": [
    "#import fwiVis.fwiVis as fv\n",
    "import s3fs\n",
    "s3 = s3fs.S3FileSystem(anon=False)\n",
    "from math import cos, asin, sqrt\n",
    "import re\n",
    "\n",
    "import numpy as np\n",
    "import geopandas as gpd\n",
    "import pandas as pd\n",
    "from matplotlib import pyplot as plt\n",
    "import os\n",
    "import rioxarray as rio\n",
    "import xarray as xr\n",
    "import rasterio\n",
    "import glob\n",
    "from shapely.errors import ShapelyDeprecationWarning\n",
    "from shapely.geometry import Point\n",
    "import warnings\n",
    "import folium\n",
    "import datetime\n",
    "import time\n",
    "from folium import plugins\n",
    "warnings.filterwarnings(\"ignore\", category=ShapelyDeprecationWarning) \n",
    "warnings.filterwarnings(\"ignore\", category=ShapelyDeprecationWarning) \n",
    "import contextily as cx\n",
    "from shapely.geometry import box\n",
    "import sys\n",
    "from datetime import datetime, timedelta\n",
    "from itertools import chain\n",
    "\n",
    "from datetime import date\n",
    "\n",
    "\n",
    "sys.path.insert(0, '/projects/old_shared/fire_weather_vis/base-fwi-vis/')\n",
    "import fwiVis.fwiVis as fv"
   ]
  },
  {
   "cell_type": "code",
   "execution_count": 2,
   "id": "b11ec36a-4d09-4bd4-8acc-5cd7eaf09d8e",
   "metadata": {},
   "outputs": [],
   "source": [
    "### Function fire_timeline\n",
    "\n",
    "def concat_subsets(files):\n",
    "    df = []\n",
    "    for f in files:\n",
    "        manyfr = pd.read_csv(f)\n",
    "\n",
    "        manyfr = gpd.GeoDataFrame(manyfr)\n",
    "\n",
    "        manyfr.t = manyfr.t.astype(\"datetime64[ns]\")\n",
    "        df.append(manyfr)\n",
    "    df = pd.concat(df)\n",
    "    return(df)\n",
    "\n",
    "def get_lt(lt_string = \"Lt_CA_Boreal_\"):\n",
    "    files = glob.glob(\"/projects/old_shared/fire_weather_vis/Lightning_analysis/computed_data/\" + lt_string +\"*.csv\")\n",
    "    return(concat_subsets(files))\n",
    "\n",
    "\n",
    "def fire_timeline(fireID, \n",
    "                  lt,\n",
    "                  year = '2023',\n",
    "                  path_region=\"QuebecGlobalNRT_3571\" , \n",
    "                  check_last = False, \n",
    "                  FWI_source = \"station\" ):\n",
    "    \n",
    "    '''\n",
    "    '''\n",
    "    \n",
    "    ## Read in the largefire file of the fireID\n",
    "    try:\n",
    "        fr = fv.load_large_fire(fireID, year = year, path_region= path_region) ## Cluster of 2 fires. \n",
    "    except Exception as e:\n",
    "        print(\"Fire ID cannot be opened:\",fireID)\n",
    "        print(e)\n",
    "        return(None)\n",
    "        ## TO DO Filter? \n",
    "            ## VIIRS Static source filter?\n",
    "            ## WUI filter? \n",
    "            \n",
    "    ## Subset lightning by time and space\n",
    "    fr = fr.to_crs(\"3571\")\n",
    "    \n",
    "    ## TO DO: Figure out which CA ecoregion/province the fire is in and subset lighting by that? \n",
    "    print(\"Not yet subseting spatially beyond quebec. Assuming quebec bounding box\")\n",
    "    \n",
    "    min_threshold = fr.t.astype('datetime64[ns]').min() - timedelta(days = 10)\n",
    "    possible_lt = lt[lt.t <= fr.t.min()]\n",
    "    possible_lt = possible_lt[possible_lt.t >= min_threshold]\n",
    "\n",
    "    oldest_perim = fr[fr.t == fr.t.max()]\n",
    "    first_perim = fr[fr.t == fr.t.min()]\n",
    "    first_perim.geometry = first_perim.buffer(750*2) ## Two viirs pixels???\n",
    "    join_lt = gpd.sjoin(possible_lt, first_perim, predicate = 'within', how = \"inner\")\n",
    "    \n",
    "    if len(join_lt) == 0:\n",
    "        join_lt[\"num_candidates\"] = 0\n",
    "        join_lt[\"num_strikes\"] = len(possible_lt)\n",
    "        join_lt[\"num_strikes_10_days\"] = len(possible_lt)\n",
    "    else:\n",
    "        ## Extract \"denominator\" or the # of trikes from same period\n",
    "        denominator = possible_lt[possible_lt.t >= join_lt.t_left.min()]\n",
    "        denominator = denominator[denominator.t <= join_lt.t_left.max()]\n",
    "        join_lt[\"num_candidates\"] = len(join_lt)\n",
    "        join_lt[\"num_strikes\"] = len(denominator)\n",
    "        join_lt[\"num_strikes_10_days\"] = len(possible_lt)\n",
    "        \n",
    "    ## Get distance to individuals ignitions\n",
    "    # fr[\"perim_rank\"] = fr.t.rank()\n",
    "    # first_geom = fr[fr.perim_rank == 1].geometry\n",
    "    # first_geom = first_geom.iloc[0]\n",
    "    # num_starts = len(first_geom.geoms)\n",
    "    # for i in range(0, num_starts):\n",
    "    #     join_lt[\"dist_start_\" + str(i)] = join_lt.distance(first_geom.geoms[i].centroid)\n",
    "    #     print(fr[fr.perim_rank == 1].to_crs(\"4326\").geometry.iloc[0].geoms[i].centroid)\n",
    "        \n",
    "    ## Rank candidate by distance\n",
    "    # range_geoms = list(range(0, num_starts))\n",
    "    # string = \"dist_start_\"\n",
    "    # columns_dists = [string + str(x) for x in range_geoms]\n",
    "    # top = len(join_lt) * 1 # Top 100%. Could cut to smaller range\n",
    "    # dist_bool = join_lt[columns_dists].rank() <= top ## NEED a max distance cutoff. \n",
    "    # join_lt[\"candidate\"] = dist_bool.any(axis = 1)\n",
    "    \n",
    "    ## Get raw VIIRS pixel timing\n",
    "    date_string = fr.t.astype(\"datetime64[ns]\").max().strftime(\"%Y%m%d%p\")\n",
    "    print(date_string)\n",
    "    raw_obs_times = fv.raw_pixel_times(int(fireID), date_string = date_string, path_region = path_region)\n",
    "    raw_obs_times = raw_obs_times.reset_index()\n",
    "    \n",
    "    ## get station data\n",
    "    if(FWI_source == \"station\"):\n",
    "        print(\"Assuming Single Quebec Station. 718270-99999.\")\n",
    "        st = pd.read_csv(\"s3://veda-data-store-staging/EIS/other/station-FWI/19900101.NRT/FWI/718270-99999.linear.HourlyFWIFromHourlyInterpContinuous.csv\") ## Corrected record from Robert\n",
    "        st.HH = st.HH.astype(\"int\")\n",
    "        st.YYYY = st.YYYY.astype(\"int\")\n",
    "        st.MM = st.MM.astype(\"int\")\n",
    "        st.DD = st.DD.astype(\"int\")\n",
    "        st = fv.date_convert(st)\n",
    "        \n",
    "        st_rm = st[[\"time\", \"TEMP_C\", 'RH_PERC', 'VPD_HPA', 'WDSPD_KPH',\n",
    "       'PREC_MM', 'SNOWD_M', 'VIS_KM', 'FFMC', 'DMC', 'DC', 'BUI', 'ISI',\n",
    "       'FWI', 'OBSMINUTEDIFF_TEMP', 'OBSMINUTEDIFF_RH', 'OBSMINUTEDIFF_WDSPD',\n",
    "       'ISPRECREPORTED', 'OBSMINUTEDIFF_SNOW', 'OBSMINUTEDIFF_VIS']]\n",
    "        st_rm = st_rm.rename(columns = {\"time\":\"t\"})\n",
    "        #### Subset station data by time. \n",
    "        st_rm = st_rm[st_rm.t >= min_threshold]\n",
    "        st_rm = st_rm[st_rm.t <= fr.t.max()]\n",
    "        \n",
    "    else:\n",
    "        #print(\"No other FWI extraction method ready. Sorry. \")\n",
    "        raise Exception(\"No other FWI extraction method ready. Sorry. \")\n",
    "    \n",
    "    ## Do merging of all dfs \n",
    "    foo = join_lt[[\"InterCloud\", \"t_left\", \"lat_left\", \"lon_left\", \"current_mag\", \"error_elps\", \"num_station\"]]\n",
    "    foo = foo.rename(columns = {\"t_left\":\"t\", \"lat_left\":\"lat\", \"lon_left\":\"lon\"})\n",
    "    foo.t = foo.t.astype('datetime64[ns]')\n",
    "    raw_obs_times = raw_obs_times.rename(columns={\"count\": \"viirs_pix_count\"}) \n",
    "    raw_obs_times.t = raw_obs_times.t.astype(\"datetime64[ns]\")\n",
    "    merged = foo.merge(raw_obs_times, on = [\"t\"], how = \"outer\")\n",
    "        \n",
    "    fr_rm = fr.rename(columns = {\"lat\":\"lat_centroid\", \"lon\":\"lon_centroid\"})\n",
    "    fr_rm.t = fr_rm.t.astype(\"datetime64[ns]\")\n",
    "    merged = merged.merge(fr_rm, on = [\"t\"], how = \"outer\")\n",
    "    \n",
    "    merged = merged.merge(st_rm, on = [\"t\"], how = \"outer\")\n",
    "    merged[\"fireID\"] = fireID\n",
    "    \n",
    "    return(merged)\n",
    "    \n",
    "\n",
    "def lf_ids(year = None, regnm = 'BOREAL_NRT_3571_DPS'):\n",
    "    \n",
    "    diroutdata = \"s3://maap-ops-workspace/shared/gsfc_landslides/FEDSoutput-s3-conus/\"\n",
    "\n",
    "    if year == None:\n",
    "        year = date.today().year\n",
    "\n",
    "    if diroutdata.startswith(\"s3://\"):\n",
    "        # Can't use glob for S3. Use s3.ls instead.\n",
    "        import s3fs\n",
    "        s3 = s3fs.S3FileSystem(anon=False)\n",
    "        s3path = os.path.join(diroutdata, regnm, str(year), \"Largefire\")\n",
    "        fnms = [f for f in s3.ls(s3path)]\n",
    "\n",
    "\n",
    "    fnms.sort()\n",
    "    ids = []\n",
    "    for f in fnms:\n",
    "        fnm_lts = os.path.basename(f) \n",
    "        one_id = fnm_lts[1:-11]\n",
    "        ids.append(one_id)\n",
    "    tmp_ids = pd.DataFrame(ids, columns=[\"ids\"])\n",
    "    tmp_ids = tmp_ids.ids.unique()\n",
    "    return(tmp_ids)\n",
    "\n",
    "def unique(list1):\n",
    " \n",
    "    # insert the list to the set\n",
    "    list_set = set(list1)\n",
    "    # convert the set to the list\n",
    "    unique_list = (list(list_set))\n",
    "    return(unique_list)\n",
    "\n",
    "def get_listed_ids(quebec_stats):\n",
    "    newlist = [x.strip('][\\n').split(' ') for x in quebec_stats.fireID.unique()]\n",
    "    newlist = list(chain(*newlist))\n",
    "    newlist = [x.replace('\\n', ' ') for x in newlist]\n",
    "    newlist = unique(newlist)\n",
    "    return(newlist)\n",
    "\n",
    "# def lf_ids(regnm = 'BOREAL_NRT_3571_DPS', year = None):\n",
    "    \n",
    "#     diroutdata = \"s3://maap-ops-workspace/shared/gsfc_landslides/FEDSoutput-s3-conus/\"\n",
    "\n",
    "#     if year == None:\n",
    "#         year = date.today().year\n",
    "\n",
    "#     if diroutdata.startswith(\"s3://\"):\n",
    "#         # Can't use glob for S3. Use s3.ls instead.\n",
    "#         import s3fs\n",
    "#         s3 = s3fs.S3FileSystem(anon=False)\n",
    "#         s3path = os.path.join(diroutdata, regnm, str(year), \"Largefire\")\n",
    "#         fnms = [f for f in s3.ls(s3path)]\n",
    "#     else:\n",
    "#         fnms = glob(os.path.join(diroutdata, regnm, str(year), \"Largefire\"))\n",
    "\n",
    "#     if len(fnms) > 0:\n",
    "#         #print(\"yeah\")\n",
    "#         fnms.sort()\n",
    "#         ids = []\n",
    "#         for f in fnms:\n",
    "#             fnm_lts = os.path.basename(f) ## Can't work, no ordering\n",
    "#             ids.append(fnm_lts[1:-11])\n",
    "\n",
    "#     ids = unique(ids)\n",
    "#     return(ids)\n",
    "    "
   ]
  },
  {
   "cell_type": "code",
   "execution_count": 3,
   "id": "d5018ea5-924a-490e-993f-556b55bca5a7",
   "metadata": {},
   "outputs": [],
   "source": [
    "lt = get_lt() "
   ]
  },
  {
   "cell_type": "code",
   "execution_count": 4,
   "id": "a9d031c1-7a85-4e1b-b298-11cde4805117",
   "metadata": {},
   "outputs": [],
   "source": [
    "lt = gpd.GeoDataFrame(lt, geometry=gpd.points_from_xy(lt.lon, lt.lat), crs=4326) #4674\n",
    "lt = lt.to_crs(\"3571\")"
   ]
  },
  {
   "cell_type": "code",
   "execution_count": 5,
   "id": "b2dbc3e1-6ad9-49ef-9b4b-6eb9d1c9b3d4",
   "metadata": {},
   "outputs": [],
   "source": [
    "     \n",
    "\n",
    "#tmp = fire_timeline('615', lt = lt, path_region=\"QuebecGlobalNRT_DPS\") #QuebecGlobalNRT_3571"
   ]
  },
  {
   "cell_type": "code",
   "execution_count": null,
   "id": "22c44fb6-230f-4627-89b8-2fda277d98e4",
   "metadata": {},
   "outputs": [],
   "source": [
    "\n",
    "    "
   ]
  },
  {
   "cell_type": "code",
   "execution_count": 6,
   "id": "41082c31-b143-4b7c-b996-3326877f5c84",
   "metadata": {},
   "outputs": [],
   "source": [
    "# date_range = pd.date_range(start = \"2023-05-01 12:00:00\", end = \"2023-07-01 12:00:00\", freq=\"12H\")\n",
    "# #date_range_format = datetime.strptime(date_rage, \n",
    "# date_snap = date_range.strftime(\"%Y%m%d%p\")"
   ]
  },
  {
   "cell_type": "code",
   "execution_count": 7,
   "id": "516c575c-787d-4a87-961d-92fe5727da5f",
   "metadata": {},
   "outputs": [
    {
     "data": {
      "text/plain": [
       "Timestamp('2023-08-30 12:00:00')"
      ]
     },
     "execution_count": 7,
     "metadata": {},
     "output_type": "execute_result"
    }
   ],
   "source": [
    "## Get IDs. These IDs come from csvs made by old_shared/fire_weather_vis/Lightning_analysis/snap_prov_lightning.ipynb\n",
    "# by going through the snapshot files, doing a spatial join, and collecting IDs. \n",
    "\n",
    "files = glob.glob(\"/projects/old_shared/fire_weather_vis/Lightning_analysis/snap_stats//boreal_snapstats*.csv\")\n",
    "\n",
    "fire_stats = concat_subsets(files)\n",
    "\n",
    "fire_stats.t.max()\n",
    "\n",
    "### Subsetting fire stats by largefire record, so don't waste time looking for IDs that we haven't got yet. Wait, not worth it, size a bigger thing anyway.\n",
    "#fire_stats = fire_stats[fire_stats.t < \"2023-07-20 12:00:00\"]\n",
    "\n",
    "#fire_stats = pd.read_csv(\"/projects/old_shared/fire_weather_vis/Lightning_analysis/snap_stats/boreal_snapstats_20231024.csv\")"
   ]
  },
  {
   "cell_type": "code",
   "execution_count": 8,
   "id": "591830b0-ffb2-4e19-a6f8-c7eac599e8d9",
   "metadata": {},
   "outputs": [],
   "source": [
    "quebec_stats = fire_stats[fire_stats.prov_name_en == \"Quebec\"]\n",
    "\n",
    "tmp_list = get_listed_ids(quebec_stats)"
   ]
  },
  {
   "cell_type": "code",
   "execution_count": 9,
   "id": "e0e8bd63-62d3-4068-a520-ca971c35c97b",
   "metadata": {},
   "outputs": [],
   "source": [
    "ids_lf = lf_ids()\n",
    "\n",
    "tmp_list = list(set(tmp_list).intersection(ids_lf))\n",
    "#tmp_list"
   ]
  },
  {
   "cell_type": "code",
   "execution_count": 10,
   "id": "5962bfa4-1399-477c-be46-c98d02a85b2a",
   "metadata": {},
   "outputs": [
    {
     "data": {
      "text/plain": [
       "'20231031'"
      ]
     },
     "execution_count": 10,
     "metadata": {},
     "output_type": "execute_result"
    }
   ],
   "source": [
    "from datetime import date\n",
    "str(date.today().strftime(\"%Y%m%d\"))"
   ]
  },
  {
   "cell_type": "code",
   "execution_count": 62,
   "id": "88dafc97-01ec-4309-9065-cd983f312992",
   "metadata": {},
   "outputs": [],
   "source": [
    "# #ids = ['12641', '12690','10896','9346']\n",
    "\n",
    "# ids = tmp_list\n",
    "\n",
    "# max_t = \"maxT\" + str(fire_stats.t.max()) + \"_\"\n",
    "# min_t = \"minT\" + str(fire_stats.t.min()) + \"_\"\n",
    "# year = '2023'\n",
    "# path_region= \"BOREAL_NRT_3571_DPS\" \n",
    "# check_last = False \n",
    "# FWI_source = \"station\" \n",
    "\n",
    "# fires = pd.DataFrame()\n",
    "# for n,i in enumerate(ids, start = 0):\n",
    "#     try:\n",
    "#         foo = fire_timeline(i, lt = lt, year = year, path_region= path_region, check_last = False, FWI_source = FWI_source)\n",
    "#     except Exception as e:\n",
    "#         print(\"Error at ID: \",i)\n",
    "#         print(e)\n",
    "#         continue\n",
    "#     ## Extract the period between \n",
    "#     fires = pd.concat([fires, foo])\n",
    "#     #print(fires)\n",
    "#         #fr_pd = pd.DataFrame(fires, columns=[\"lat\", \"lon\", \"farea\", \"data_source\"])\n",
    "#     fires.to_csv(\"/projects/old_shared/fire_weather_vis/Lightning_analysis/fwi_timeline_merge/\"+\"fire_stats_only_718270-99999_\" +min_t + max_t + path_region + FWI_source + str(date.today().strftime(\"%Y%m%d\"))+  \".csv\")"
   ]
  },
  {
   "cell_type": "code",
   "execution_count": 63,
   "id": "7c1f3e46-eaa2-495b-96d1-b9e74bd26ce3",
   "metadata": {
    "tags": []
   },
   "outputs": [
    {
     "name": "stdout",
     "output_type": "stream",
     "text": [
      "[]\n",
      "Fire ID cannot be opened: 13165\n",
      "No objects to concatenate\n"
     ]
    }
   ],
   "source": [
    "fire_timeline(fireID = '13165' , lt = lt, year = year, path_region= path_region , check_last = False, FWI_source = FWI_source)"
   ]
  },
  {
   "cell_type": "code",
   "execution_count": null,
   "id": "cee65f0d-5dcb-4434-b086-89c42eba5533",
   "metadata": {
    "tags": []
   },
   "outputs": [],
   "source": [
    "# \"20230720PM\"\n",
    "\n",
    "# raw_obs_times = fv.raw_pixel_times(int(12641), date_string = \"20230720PM\", path_region = \"BOREAL_NRT_3571_DPS\")"
   ]
  },
  {
   "cell_type": "code",
   "execution_count": null,
   "id": "f8419e3b-81e2-4e37-9f18-6ddcc1796b96",
   "metadata": {
    "tags": []
   },
   "outputs": [],
   "source": [
    "# # import pickle\n",
    "\n",
    "# fireID = '12641'\n",
    "# file = open('/projects/shared-buckets/gsfc_landslides/FEDSoutput-s3-conus/BOREAL_NRT_3571_DPS/2023/Serialization/20230720PM.pkl', 'rb')\n",
    "\n",
    "# # dump information to that file\n",
    "# data = pickle.load(file)\n",
    "\n",
    "# # close the file\n",
    "# file.close()\n",
    "\n",
    "# fireID = int(fireID)\n",
    "\n",
    "# times = []\n",
    "# for i in range(0, len(data.fires[fireID].pixels)):\n",
    "#     #print(i)\n",
    "#     times.append(data.fires[fireID].pixels[i].datetime)"
   ]
  },
  {
   "cell_type": "code",
   "execution_count": null,
   "id": "008bdc72-f7c0-4423-89bc-878990372412",
   "metadata": {
    "tags": []
   },
   "outputs": [],
   "source": [
    "#len(data.fires)"
   ]
  },
  {
   "cell_type": "code",
   "execution_count": null,
   "id": "3e831b5e-db01-4a80-a55d-803af5c7c1ad",
   "metadata": {
    "tags": []
   },
   "outputs": [],
   "source": [
    "#len(data.fires[fireID].pixels)"
   ]
  },
  {
   "cell_type": "code",
   "execution_count": 12,
   "id": "440864b2-7980-4399-844c-b4d3ed38cd48",
   "metadata": {
    "tags": []
   },
   "outputs": [
    {
     "data": {
      "text/plain": [
       "array(['10373', '12151', '12150', '10580', '8570', '12149', '12201',\n",
       "       '8562', '12160', '8502', '8644', '8613', '12467', '12655', '13135',\n",
       "       '8555', '12375', '12276', '12381', '12595', '13021', '12154',\n",
       "       '10978', '12144'], dtype=object)"
      ]
     },
     "execution_count": 12,
     "metadata": {},
     "output_type": "execute_result"
    }
   ],
   "source": [
    "fires.fireID.unique()"
   ]
  },
  {
   "cell_type": "code",
   "execution_count": null,
   "id": "d07c5337-7a32-408a-9bc9-cc166d88cedb",
   "metadata": {
    "tags": []
   },
   "outputs": [],
   "source": [
    "new_fire = fires.groupby(\"fireID\")"
   ]
  },
  {
   "cell_type": "code",
   "execution_count": 42,
   "id": "17d1d12f-5bc0-44c5-b104-d09ad20718f6",
   "metadata": {
    "tags": []
   },
   "outputs": [
    {
     "data": {
      "text/plain": [
       "fireID\n",
       "12375   2023-07-05 10:16:09.925\n",
       "12467   2023-07-01 03:16:05.704\n",
       "12595   2023-07-05 12:02:10.601\n",
       "12655   2023-07-05 13:47:56.871\n",
       "13021   2023-07-05 19:39:55.798\n",
       "13135   2023-07-05 19:01:33.248\n",
       "Name: t, dtype: datetime64[ns]"
      ]
     },
     "execution_count": 42,
     "metadata": {},
     "output_type": "execute_result"
    }
   ],
   "source": [
    "group_first_ig = fires[~fires.InterCloud.isna()].groupby(\"fireID\").t.min() #.reset_index()\n",
    "group_first_ig"
   ]
  },
  {
   "cell_type": "code",
   "execution_count": 43,
   "id": "77defeb1-fbbd-4109-9cd7-eaba44ae156f",
   "metadata": {
    "tags": []
   },
   "outputs": [
    {
     "data": {
      "text/plain": [
       "fireID\n",
       "10373   2023-06-16 17:02:00\n",
       "10580   2023-06-20 17:28:00\n",
       "10978   2023-06-22 17:41:00\n",
       "12144   2023-07-03 05:12:00\n",
       "12149   2023-07-03 06:03:00\n",
       "12150   2023-07-03 06:03:00\n",
       "12151   2023-07-03 06:03:00\n",
       "12154   2023-07-03 06:03:00\n",
       "12160   2023-07-03 06:54:00\n",
       "12201   2023-07-03 16:43:00\n",
       "12276   2023-07-04 16:26:00\n",
       "12375   2023-07-05 17:45:00\n",
       "12381   2023-07-05 16:56:00\n",
       "12467   2023-07-06 06:50:00\n",
       "12595   2023-07-07 06:29:00\n",
       "12655   2023-07-07 18:00:00\n",
       "13021   2023-07-10 16:13:00\n",
       "13135   2023-07-11 06:03:00\n",
       "8502    2023-06-01 16:41:00\n",
       "8555    2023-06-02 06:35:00\n",
       "8562    2023-06-02 06:37:00\n",
       "8570    2023-06-02 06:37:00\n",
       "8613    2023-06-02 16:24:00\n",
       "8644    2023-06-02 17:15:00\n",
       "Name: t, dtype: datetime64[ns]"
      ]
     },
     "execution_count": 43,
     "metadata": {},
     "output_type": "execute_result"
    }
   ],
   "source": [
    "group_first_detect = fires[~fires.viirs_pix_count.isna()].groupby(\"fireID\").t.min() #.reset_index()\n",
    "group_first_detect"
   ]
  },
  {
   "cell_type": "code",
   "execution_count": null,
   "id": "b15e13f0-7208-4475-90fd-1ab07a2e38a4",
   "metadata": {
    "tags": []
   },
   "outputs": [],
   "source": []
  },
  {
   "cell_type": "code",
   "execution_count": 31,
   "id": "ffd5c542-88aa-4265-9ea3-e360e4f15afc",
   "metadata": {
    "tags": []
   },
   "outputs": [
    {
     "data": {
      "text/html": [
       "<div>\n",
       "<style scoped>\n",
       "    .dataframe tbody tr th:only-of-type {\n",
       "        vertical-align: middle;\n",
       "    }\n",
       "\n",
       "    .dataframe tbody tr th {\n",
       "        vertical-align: top;\n",
       "    }\n",
       "\n",
       "    .dataframe thead th {\n",
       "        text-align: right;\n",
       "    }\n",
       "</style>\n",
       "<table border=\"1\" class=\"dataframe\">\n",
       "  <thead>\n",
       "    <tr style=\"text-align: right;\">\n",
       "      <th></th>\n",
       "      <th>fireID</th>\n",
       "      <th>t</th>\n",
       "    </tr>\n",
       "  </thead>\n",
       "  <tbody>\n",
       "    <tr>\n",
       "      <th>0</th>\n",
       "      <td>12375</td>\n",
       "      <td>2023-07-05 10:16:09.925</td>\n",
       "    </tr>\n",
       "    <tr>\n",
       "      <th>1</th>\n",
       "      <td>12467</td>\n",
       "      <td>2023-07-01 03:16:05.704</td>\n",
       "    </tr>\n",
       "    <tr>\n",
       "      <th>2</th>\n",
       "      <td>12595</td>\n",
       "      <td>2023-07-05 12:02:10.601</td>\n",
       "    </tr>\n",
       "    <tr>\n",
       "      <th>3</th>\n",
       "      <td>12655</td>\n",
       "      <td>2023-07-05 13:47:56.871</td>\n",
       "    </tr>\n",
       "    <tr>\n",
       "      <th>4</th>\n",
       "      <td>13021</td>\n",
       "      <td>2023-07-05 19:39:55.798</td>\n",
       "    </tr>\n",
       "    <tr>\n",
       "      <th>5</th>\n",
       "      <td>13135</td>\n",
       "      <td>2023-07-05 19:01:33.248</td>\n",
       "    </tr>\n",
       "  </tbody>\n",
       "</table>\n",
       "</div>"
      ],
      "text/plain": [
       "  fireID                       t\n",
       "0  12375 2023-07-05 10:16:09.925\n",
       "1  12467 2023-07-01 03:16:05.704\n",
       "2  12595 2023-07-05 12:02:10.601\n",
       "3  12655 2023-07-05 13:47:56.871\n",
       "4  13021 2023-07-05 19:39:55.798\n",
       "5  13135 2023-07-05 19:01:33.248"
      ]
     },
     "execution_count": 31,
     "metadata": {},
     "output_type": "execute_result"
    }
   ],
   "source": [
    "smol[\"pre_fire\"] = ((smol.t >= last_ig) & (smol.t <=  first_detection))"
   ]
  },
  {
   "cell_type": "code",
   "execution_count": null,
   "id": "baa80d9f-bcb4-4a7a-8b2c-b0a1278aec18",
   "metadata": {
    "tags": []
   },
   "outputs": [],
   "source": [
    "fires.columns"
   ]
  },
  {
   "cell_type": "code",
   "execution_count": null,
   "id": "ec03d58a-02e9-4f1c-838e-8a930d79e166",
   "metadata": {
    "tags": []
   },
   "outputs": [],
   "source": [
    "fires.groupby('fireID').t[\"Inter\"]"
   ]
  },
  {
   "cell_type": "code",
   "execution_count": null,
   "id": "7a8e6db4-b5de-42cf-b1ee-50d125665a2e",
   "metadata": {
    "tags": []
   },
   "outputs": [],
   "source": [
    "fires.fireID.unique()"
   ]
  },
  {
   "cell_type": "code",
   "execution_count": 38,
   "id": "bed045a7-d12c-497d-a1df-80e7f78c7e42",
   "metadata": {
    "tags": []
   },
   "outputs": [],
   "source": [
    "smol = fires[fires.fireID == '12375']"
   ]
  },
  {
   "cell_type": "code",
   "execution_count": 48,
   "id": "89b2283c-4633-4695-b0ca-b1e9abbc111a",
   "metadata": {
    "tags": []
   },
   "outputs": [],
   "source": [
    "subset_group_first_detect = group_first_detect[group_first_detect.index.isin(group_first_ig.index)]"
   ]
  },
  {
   "cell_type": "code",
   "execution_count": 50,
   "id": "4d20f650-6d81-4f3a-b309-a88a917ef6d6",
   "metadata": {
    "tags": []
   },
   "outputs": [
    {
     "ename": "ValueError",
     "evalue": "Lengths must match",
     "output_type": "error",
     "traceback": [
      "\u001b[0;31m---------------------------------------------------------------------------\u001b[0m",
      "\u001b[0;31mValueError\u001b[0m                                Traceback (most recent call last)",
      "Cell \u001b[0;32mIn [50], line 1\u001b[0m\n\u001b[0;32m----> 1\u001b[0m fires\u001b[38;5;241m.\u001b[39mgroupby(\u001b[38;5;124m'\u001b[39m\u001b[38;5;124mfireID\u001b[39m\u001b[38;5;124m'\u001b[39m)\u001b[38;5;241m.\u001b[39mt \u001b[38;5;241m>\u001b[39m\u001b[38;5;241m=\u001b[39m group_first_ig\n",
      "File \u001b[0;32m~/myenvs/fireatlas_oct4/lib/python3.8/site-packages/pandas/core/ops/common.py:72\u001b[0m, in \u001b[0;36m_unpack_zerodim_and_defer.<locals>.new_method\u001b[0;34m(self, other)\u001b[0m\n\u001b[1;32m     68\u001b[0m             \u001b[38;5;28;01mreturn\u001b[39;00m \u001b[38;5;28mNotImplemented\u001b[39m\n\u001b[1;32m     70\u001b[0m other \u001b[38;5;241m=\u001b[39m item_from_zerodim(other)\n\u001b[0;32m---> 72\u001b[0m \u001b[38;5;28;01mreturn\u001b[39;00m \u001b[43mmethod\u001b[49m\u001b[43m(\u001b[49m\u001b[38;5;28;43mself\u001b[39;49m\u001b[43m,\u001b[49m\u001b[43m \u001b[49m\u001b[43mother\u001b[49m\u001b[43m)\u001b[49m\n",
      "File \u001b[0;32m~/myenvs/fireatlas_oct4/lib/python3.8/site-packages/pandas/core/arraylike.py:54\u001b[0m, in \u001b[0;36mOpsMixin.__le__\u001b[0;34m(self, other)\u001b[0m\n\u001b[1;32m     52\u001b[0m \u001b[38;5;129m@unpack_zerodim_and_defer\u001b[39m(\u001b[38;5;124m\"\u001b[39m\u001b[38;5;124m__le__\u001b[39m\u001b[38;5;124m\"\u001b[39m)\n\u001b[1;32m     53\u001b[0m \u001b[38;5;28;01mdef\u001b[39;00m \u001b[38;5;21m__le__\u001b[39m(\u001b[38;5;28mself\u001b[39m, other):\n\u001b[0;32m---> 54\u001b[0m     \u001b[38;5;28;01mreturn\u001b[39;00m \u001b[38;5;28;43mself\u001b[39;49m\u001b[38;5;241;43m.\u001b[39;49m\u001b[43m_cmp_method\u001b[49m\u001b[43m(\u001b[49m\u001b[43mother\u001b[49m\u001b[43m,\u001b[49m\u001b[43m \u001b[49m\u001b[43moperator\u001b[49m\u001b[38;5;241;43m.\u001b[39;49m\u001b[43mle\u001b[49m\u001b[43m)\u001b[49m\n",
      "File \u001b[0;32m~/myenvs/fireatlas_oct4/lib/python3.8/site-packages/pandas/core/series.py:6243\u001b[0m, in \u001b[0;36mSeries._cmp_method\u001b[0;34m(self, other, op)\u001b[0m\n\u001b[1;32m   6240\u001b[0m rvalues \u001b[38;5;241m=\u001b[39m extract_array(other, extract_numpy\u001b[38;5;241m=\u001b[39m\u001b[38;5;28;01mTrue\u001b[39;00m, extract_range\u001b[38;5;241m=\u001b[39m\u001b[38;5;28;01mTrue\u001b[39;00m)\n\u001b[1;32m   6242\u001b[0m \u001b[38;5;28;01mwith\u001b[39;00m np\u001b[38;5;241m.\u001b[39merrstate(\u001b[38;5;28mall\u001b[39m\u001b[38;5;241m=\u001b[39m\u001b[38;5;124m\"\u001b[39m\u001b[38;5;124mignore\u001b[39m\u001b[38;5;124m\"\u001b[39m):\n\u001b[0;32m-> 6243\u001b[0m     res_values \u001b[38;5;241m=\u001b[39m \u001b[43mops\u001b[49m\u001b[38;5;241;43m.\u001b[39;49m\u001b[43mcomparison_op\u001b[49m\u001b[43m(\u001b[49m\u001b[43mlvalues\u001b[49m\u001b[43m,\u001b[49m\u001b[43m \u001b[49m\u001b[43mrvalues\u001b[49m\u001b[43m,\u001b[49m\u001b[43m \u001b[49m\u001b[43mop\u001b[49m\u001b[43m)\u001b[49m\n\u001b[1;32m   6245\u001b[0m \u001b[38;5;28;01mreturn\u001b[39;00m \u001b[38;5;28mself\u001b[39m\u001b[38;5;241m.\u001b[39m_construct_result(res_values, name\u001b[38;5;241m=\u001b[39mres_name)\n",
      "File \u001b[0;32m~/myenvs/fireatlas_oct4/lib/python3.8/site-packages/pandas/core/ops/array_ops.py:273\u001b[0m, in \u001b[0;36mcomparison_op\u001b[0;34m(left, right, op)\u001b[0m\n\u001b[1;32m    264\u001b[0m         \u001b[38;5;28;01mraise\u001b[39;00m \u001b[38;5;167;01mValueError\u001b[39;00m(\n\u001b[1;32m    265\u001b[0m             \u001b[38;5;124m\"\u001b[39m\u001b[38;5;124mLengths must match to compare\u001b[39m\u001b[38;5;124m\"\u001b[39m, lvalues\u001b[38;5;241m.\u001b[39mshape, rvalues\u001b[38;5;241m.\u001b[39mshape\n\u001b[1;32m    266\u001b[0m         )\n\u001b[1;32m    268\u001b[0m \u001b[38;5;28;01mif\u001b[39;00m should_extension_dispatch(lvalues, rvalues) \u001b[38;5;129;01mor\u001b[39;00m (\n\u001b[1;32m    269\u001b[0m     (\u001b[38;5;28misinstance\u001b[39m(rvalues, (Timedelta, BaseOffset, Timestamp)) \u001b[38;5;129;01mor\u001b[39;00m right \u001b[38;5;129;01mis\u001b[39;00m NaT)\n\u001b[1;32m    270\u001b[0m     \u001b[38;5;129;01mand\u001b[39;00m \u001b[38;5;129;01mnot\u001b[39;00m is_object_dtype(lvalues\u001b[38;5;241m.\u001b[39mdtype)\n\u001b[1;32m    271\u001b[0m ):\n\u001b[1;32m    272\u001b[0m     \u001b[38;5;66;03m# Call the method on lvalues\u001b[39;00m\n\u001b[0;32m--> 273\u001b[0m     res_values \u001b[38;5;241m=\u001b[39m \u001b[43mop\u001b[49m\u001b[43m(\u001b[49m\u001b[43mlvalues\u001b[49m\u001b[43m,\u001b[49m\u001b[43m \u001b[49m\u001b[43mrvalues\u001b[49m\u001b[43m)\u001b[49m\n\u001b[1;32m    275\u001b[0m \u001b[38;5;28;01melif\u001b[39;00m is_scalar(rvalues) \u001b[38;5;129;01mand\u001b[39;00m isna(rvalues):  \u001b[38;5;66;03m# TODO: but not pd.NA?\u001b[39;00m\n\u001b[1;32m    276\u001b[0m     \u001b[38;5;66;03m# numpy does not like comparisons vs None\u001b[39;00m\n\u001b[1;32m    277\u001b[0m     \u001b[38;5;28;01mif\u001b[39;00m op \u001b[38;5;129;01mis\u001b[39;00m operator\u001b[38;5;241m.\u001b[39mne:\n",
      "File \u001b[0;32m~/myenvs/fireatlas_oct4/lib/python3.8/site-packages/pandas/core/ops/common.py:72\u001b[0m, in \u001b[0;36m_unpack_zerodim_and_defer.<locals>.new_method\u001b[0;34m(self, other)\u001b[0m\n\u001b[1;32m     68\u001b[0m             \u001b[38;5;28;01mreturn\u001b[39;00m \u001b[38;5;28mNotImplemented\u001b[39m\n\u001b[1;32m     70\u001b[0m other \u001b[38;5;241m=\u001b[39m item_from_zerodim(other)\n\u001b[0;32m---> 72\u001b[0m \u001b[38;5;28;01mreturn\u001b[39;00m \u001b[43mmethod\u001b[49m\u001b[43m(\u001b[49m\u001b[38;5;28;43mself\u001b[39;49m\u001b[43m,\u001b[49m\u001b[43m \u001b[49m\u001b[43mother\u001b[49m\u001b[43m)\u001b[49m\n",
      "File \u001b[0;32m~/myenvs/fireatlas_oct4/lib/python3.8/site-packages/pandas/core/arraylike.py:54\u001b[0m, in \u001b[0;36mOpsMixin.__le__\u001b[0;34m(self, other)\u001b[0m\n\u001b[1;32m     52\u001b[0m \u001b[38;5;129m@unpack_zerodim_and_defer\u001b[39m(\u001b[38;5;124m\"\u001b[39m\u001b[38;5;124m__le__\u001b[39m\u001b[38;5;124m\"\u001b[39m)\n\u001b[1;32m     53\u001b[0m \u001b[38;5;28;01mdef\u001b[39;00m \u001b[38;5;21m__le__\u001b[39m(\u001b[38;5;28mself\u001b[39m, other):\n\u001b[0;32m---> 54\u001b[0m     \u001b[38;5;28;01mreturn\u001b[39;00m \u001b[38;5;28;43mself\u001b[39;49m\u001b[38;5;241;43m.\u001b[39;49m\u001b[43m_cmp_method\u001b[49m\u001b[43m(\u001b[49m\u001b[43mother\u001b[49m\u001b[43m,\u001b[49m\u001b[43m \u001b[49m\u001b[43moperator\u001b[49m\u001b[38;5;241;43m.\u001b[39;49m\u001b[43mle\u001b[49m\u001b[43m)\u001b[49m\n",
      "File \u001b[0;32m~/myenvs/fireatlas_oct4/lib/python3.8/site-packages/pandas/core/arrays/datetimelike.py:1054\u001b[0m, in \u001b[0;36mDatetimeLikeArrayMixin._cmp_method\u001b[0;34m(self, other, op)\u001b[0m\n\u001b[1;32m   1051\u001b[0m     \u001b[38;5;28;01mreturn\u001b[39;00m op(\u001b[38;5;28mself\u001b[39m\u001b[38;5;241m.\u001b[39mravel(), other\u001b[38;5;241m.\u001b[39mravel())\u001b[38;5;241m.\u001b[39mreshape(\u001b[38;5;28mself\u001b[39m\u001b[38;5;241m.\u001b[39mshape)\n\u001b[1;32m   1053\u001b[0m \u001b[38;5;28;01mtry\u001b[39;00m:\n\u001b[0;32m-> 1054\u001b[0m     other \u001b[38;5;241m=\u001b[39m \u001b[38;5;28;43mself\u001b[39;49m\u001b[38;5;241;43m.\u001b[39;49m\u001b[43m_validate_comparison_value\u001b[49m\u001b[43m(\u001b[49m\u001b[43mother\u001b[49m\u001b[43m)\u001b[49m\n\u001b[1;32m   1055\u001b[0m \u001b[38;5;28;01mexcept\u001b[39;00m InvalidComparison:\n\u001b[1;32m   1056\u001b[0m     \u001b[38;5;28;01mreturn\u001b[39;00m invalid_comparison(\u001b[38;5;28mself\u001b[39m, other, op)\n",
      "File \u001b[0;32m~/myenvs/fireatlas_oct4/lib/python3.8/site-packages/pandas/core/arrays/datetimelike.py:591\u001b[0m, in \u001b[0;36mDatetimeLikeArrayMixin._validate_comparison_value\u001b[0;34m(self, other)\u001b[0m\n\u001b[1;32m    588\u001b[0m     \u001b[38;5;28;01mraise\u001b[39;00m InvalidComparison(other)\n\u001b[1;32m    590\u001b[0m \u001b[38;5;28;01melif\u001b[39;00m \u001b[38;5;28mlen\u001b[39m(other) \u001b[38;5;241m!=\u001b[39m \u001b[38;5;28mlen\u001b[39m(\u001b[38;5;28mself\u001b[39m):\n\u001b[0;32m--> 591\u001b[0m     \u001b[38;5;28;01mraise\u001b[39;00m \u001b[38;5;167;01mValueError\u001b[39;00m(\u001b[38;5;124m\"\u001b[39m\u001b[38;5;124mLengths must match\u001b[39m\u001b[38;5;124m\"\u001b[39m)\n\u001b[1;32m    593\u001b[0m \u001b[38;5;28;01melse\u001b[39;00m:\n\u001b[1;32m    594\u001b[0m     \u001b[38;5;28;01mtry\u001b[39;00m:\n",
      "\u001b[0;31mValueError\u001b[0m: Lengths must match"
     ]
    }
   ],
   "source": [
    "fires.groupby('fireID').t >= group_first_ig"
   ]
  },
  {
   "cell_type": "code",
   "execution_count": null,
   "id": "9eae973c-fdd1-41d4-9604-51b20ff986a7",
   "metadata": {
    "tags": []
   },
   "outputs": [],
   "source": []
  },
  {
   "cell_type": "code",
   "execution_count": 40,
   "id": "5bd4bd04-a645-4639-8d1e-c3891f6dc68d",
   "metadata": {
    "tags": []
   },
   "outputs": [
    {
     "name": "stdout",
     "output_type": "stream",
     "text": [
      "2023-07-05 10:16:09.925000\n",
      "2023-07-05 10:25:15.219000\n",
      "2023-07-05 17:45:00\n",
      "2023-07-05 12:00:00\n"
     ]
    },
    {
     "name": "stderr",
     "output_type": "stream",
     "text": [
      "/tmp/ipykernel_177/162921546.py:17: SettingWithCopyWarning: \n",
      "A value is trying to be set on a copy of a slice from a DataFrame.\n",
      "Try using .loc[row_indexer,col_indexer] = value instead\n",
      "\n",
      "See the caveats in the documentation: https://pandas.pydata.org/pandas-docs/stable/user_guide/indexing.html#returning-a-view-versus-a-copy\n",
      "  smol[\"pre_fire\"] = ((smol.t >= last_ig) & (smol.t <=  first_detection)) #### first_ig better????????????\n"
     ]
    }
   ],
   "source": [
    "first_ig = smol[~smol.InterCloud.isna()].t.min()\n",
    "print(first_ig)\n",
    "last_ig = smol[~smol.InterCloud.isna()].t.max()\n",
    "print(last_ig)\n",
    "\n",
    "\n",
    "first_detection = smol[~smol.viirs_pix_count.isna()].t.min()\n",
    "print(first_detection)\n",
    "\n",
    "feds_start = smol[~smol.farea.isna()].t.min()\n",
    "print(feds_start)\n",
    "\n",
    "### Growht threshold\n",
    "\n",
    "\n",
    "\n",
    "smol[\"pre_fire\"] = ((smol.t >= last_ig) & (smol.t <=  first_detection)) #### first_ig better????????????\n"
   ]
  },
  {
   "cell_type": "code",
   "execution_count": 27,
   "id": "330135c6-46ae-40ae-81ba-ef8e7388f87c",
   "metadata": {
    "tags": []
   },
   "outputs": [
    {
     "data": {
      "text/plain": [
       "True"
      ]
     },
     "execution_count": 27,
     "metadata": {},
     "output_type": "execute_result"
    }
   ],
   "source": [
    "pd.isnull(first_ig)"
   ]
  },
  {
   "cell_type": "code",
   "execution_count": null,
   "id": "10bbe980-48b5-442f-8847-40eeae2e95e3",
   "metadata": {
    "tags": []
   },
   "outputs": [],
   "source": [
    "fires[~fires.viirs_pix_count.isna()].t.unique()"
   ]
  },
  {
   "cell_type": "code",
   "execution_count": null,
   "id": "a12f3540-1360-481b-9d40-0847b190f8b6",
   "metadata": {},
   "outputs": [],
   "source": [
    "# fr = fr.sort_values(by = ['t'])\n",
    "\n",
    "# fig, ax = plt.subplots()\n",
    "# ax.fill_between(upper.index, upper.FWI.rolling(1).mean(), lower.FWI.rolling(5).mean(), \n",
    "#                 facecolor='grey', \n",
    "#                 alpha=0.2,\n",
    "#                 label= \"95th Percentile\")\n",
    "# ax.fill_between(mid_upper.index, mid_upper.FWI.rolling(1).mean(), mid_lower.FWI.rolling(5).mean(), \n",
    "#                 facecolor='grey', \n",
    "#                 alpha=0.4,\n",
    "#                 label= \"25th Percentile\")\n",
    "# ax.plot(mean_quant.index, mean_quant.FWI.rolling(1).mean(), \n",
    "#         color = \"black\",\n",
    "#         label= \"Historic Mean Per Day\")\n",
    "# ax.plot(st[(st.time >= \"2023-05-01\")].time.astype('datetime64[ns]'), st[(st.time >= \"2023-05-01\")].FWI)\n",
    "# ax.set_ylabel(\"Fire Weather Index\")\n",
    "# ax.set_title(\"2023 Fire Weather Index (FWI) for La Grande Rivière, Quebec, Canada (WMO ID 718270)\")\n",
    "# #ax.legend()\n",
    "# ax2 = ax.twinx()\n",
    "# ax2.scatter(candidate.t_left.astype(\"datetime64[ns]\"), candidate.candidate, color = \"purple\")\n",
    "# ax2.set_yticklabels(\"\")\n",
    "# #ax2.plot(fire_stats.t, fire_stats.num_active_fires, color = \"red\", label = \"Number of Fires in Quebec\")\n",
    "# #ax2.legend(loc = 0.5)\n",
    "# ax3 = ax.twinx()\n",
    "# #ax3.spines.right.set_position((\"axes\", 1.2))\n",
    "# ax3.plot(fr.t.astype(\"datetime64[ns]\"), fr.farea, color = \"red\")\n",
    "# #ax3.plot(day_strike.index.astype(\"datetime64[ns]\"), day_strike.InterCloud, color = \"orange\")\n",
    "\n",
    "# ax4 = ax.twinx()\n",
    "# ax4.spines.right.set_position((\"axes\", 1.2))\n",
    "# ax4.scatter(raw_obs_times.index, raw_obs_times['count'], color = \"orange\")\n",
    "\n",
    "# fig.autofmt_xdate()\n",
    "\n",
    "# # print(\"First detection: \" + str(fr.t.astype(\"datetime64[ns]\").min()) )\n",
    "# print(candidate.t_left.min())\n",
    "# print(candidate.t_left.max())"
   ]
  },
  {
   "cell_type": "code",
   "execution_count": 83,
   "id": "47b0491f-4a6b-47a5-a580-d05f251d814d",
   "metadata": {},
   "outputs": [],
   "source": [
    "def gpd_read_file(filename, parquet=False, **kwargs):\n",
    "    itry = 0\n",
    "    maxtries = 5\n",
    "    fun = gpd.read_parquet if parquet else gpd.read_file\n",
    "    while itry < maxtries:\n",
    "        try:\n",
    "            dat = fun(filename, **kwargs)\n",
    "            return dat\n",
    "        except Exception as e:\n",
    "            itry += 1\n",
    "            print(f\"Attempt {itry}/{maxtries} failed.\")\n",
    "            if not itry < maxtries:\n",
    "                raise e\n",
    "\n",
    "\n",
    "\n",
    "def load_large_fire(fireID, year = \"2019\", path_region = \"WesternUS\", layer='perimeter', s3_path = False):\n",
    "    '''\n",
    "    loads in largefire file based on fireID and layer, then preps it for \"explore\" by adding centriod data. Currently limited to one year. \n",
    "    \n",
    "    INPUTS:\n",
    "        \n",
    "        fireID (str): fireID offire of interest. Can be found in gdf files read in by prep_gdf and load_file. Can be selected interactivly form a gdf if use gdf.explore()\n",
    "        year (str): Year that fires took place. Default to 2019. Availible options differ by path_region. \n",
    "        path_region (str): This constructs the path that the fires are stored in. WesternUS and CONUS availible. \n",
    "        layer (str): The largefire layer to load. Options are 'perimeter', 'nfplist', 'fireline', and 'newfirepix'. \n",
    "    '''\n",
    "    if(s3_path == True):\n",
    "        tmp = s3.glob('s3://maap-ops-workspace/shared/gsfc_landslides/FEDSoutput-s3-conus/' + path_region +'/'+ year +'/Largefire/F' + fireID + '_*')\n",
    "        lf_files =  [\"s3://\" + t for t in tmp]\n",
    "    \n",
    "    else:\n",
    "        lf_files = glob.glob('/projects/shared-buckets/gsfc_landslides/FEDSoutput-s3-conus/' + path_region +'/'+ year +'/Largefire/F' + fireID + '_*')\n",
    "        #print(lf_files)\n",
    "    lf_ids = list(set([file.split('Largefire/')[1].split('_')[0] for file in lf_files])) \n",
    "    print(lf_ids)\n",
    "    largefire_dict = dict.fromkeys(lf_ids)\n",
    "    \n",
    "    for lf_id in lf_ids:\n",
    "        most_recent_file = [file for file in lf_files if lf_id in file][-1]\n",
    "        largefire_dict[lf_id] = most_recent_file\n",
    "    if(s3_path == True):\n",
    "        gdf = pd.concat([gpd_read_file(file,layer= layer) for key, file in largefire_dict.items()], \n",
    "                       ignore_index=True)\n",
    "    else:\n",
    "        gdf = pd.concat([gpd.read_file(file,layer= layer) for key, file in largefire_dict.items()], \n",
    "                       ignore_index=True)\n",
    "    gdf = gdf.to_crs('EPSG:4326')\n",
    "    gdf['lon'] = gdf.centroid.x\n",
    "    gdf['lat'] = gdf.centroid.y\n",
    "    return gdf"
   ]
  },
  {
   "cell_type": "code",
   "execution_count": 84,
   "id": "5f4ddbf4-290e-4a11-b646-b1b9205a6223",
   "metadata": {
    "tags": []
   },
   "outputs": [
    {
     "name": "stdout",
     "output_type": "stream",
     "text": [
      "['F13165']\n"
     ]
    },
    {
     "name": "stderr",
     "output_type": "stream",
     "text": [
      "/tmp/ipykernel_177/4002652227.py:49: UserWarning: Geometry is in a geographic CRS. Results from 'centroid' are likely incorrect. Use 'GeoSeries.to_crs()' to re-project geometries to a projected CRS before this operation.\n",
      "\n",
      "  gdf['lon'] = gdf.centroid.x\n",
      "/tmp/ipykernel_177/4002652227.py:50: UserWarning: Geometry is in a geographic CRS. Results from 'centroid' are likely incorrect. Use 'GeoSeries.to_crs()' to re-project geometries to a projected CRS before this operation.\n",
      "\n",
      "  gdf['lat'] = gdf.centroid.y\n"
     ]
    },
    {
     "data": {
      "text/html": [
       "<div>\n",
       "<style scoped>\n",
       "    .dataframe tbody tr th:only-of-type {\n",
       "        vertical-align: middle;\n",
       "    }\n",
       "\n",
       "    .dataframe tbody tr th {\n",
       "        vertical-align: top;\n",
       "    }\n",
       "\n",
       "    .dataframe thead th {\n",
       "        text-align: right;\n",
       "    }\n",
       "</style>\n",
       "<table border=\"1\" class=\"dataframe\">\n",
       "  <thead>\n",
       "    <tr style=\"text-align: right;\">\n",
       "      <th></th>\n",
       "      <th>n_pixels</th>\n",
       "      <th>n_newpixels</th>\n",
       "      <th>farea</th>\n",
       "      <th>fperim</th>\n",
       "      <th>flinelen</th>\n",
       "      <th>...</th>\n",
       "      <th>meanFRP</th>\n",
       "      <th>t</th>\n",
       "      <th>geometry</th>\n",
       "      <th>lon</th>\n",
       "      <th>lat</th>\n",
       "    </tr>\n",
       "  </thead>\n",
       "  <tbody>\n",
       "    <tr>\n",
       "      <th>0</th>\n",
       "      <td>77</td>\n",
       "      <td>77</td>\n",
       "      <td>20.093947</td>\n",
       "      <td>34.028644</td>\n",
       "      <td>31.234218</td>\n",
       "      <td>...</td>\n",
       "      <td>1.906494</td>\n",
       "      <td>2023-07-11</td>\n",
       "      <td>MULTIPOLYGON (((-78.20751 51.02346, -78.20754 ...</td>\n",
       "      <td>-78.276415</td>\n",
       "      <td>51.03515</td>\n",
       "    </tr>\n",
       "  </tbody>\n",
       "</table>\n",
       "<p>1 rows × 12 columns</p>\n",
       "</div>"
      ],
      "text/plain": [
       "   n_pixels  n_newpixels      farea     fperim   flinelen  ...   meanFRP  \\\n",
       "0        77           77  20.093947  34.028644  31.234218  ...  1.906494   \n",
       "\n",
       "           t                                           geometry        lon  \\\n",
       "0 2023-07-11  MULTIPOLYGON (((-78.20751 51.02346, -78.20754 ... -78.276415   \n",
       "\n",
       "        lat  \n",
       "0  51.03515  \n",
       "\n",
       "[1 rows x 12 columns]"
      ]
     },
     "execution_count": 84,
     "metadata": {},
     "output_type": "execute_result"
    }
   ],
   "source": [
    "load_large_fire(fireID = '13165', year = '2023', path_region= \"BOREAL_NRT_3571_DPS\", s3_path = True)"
   ]
  },
  {
   "cell_type": "code",
   "execution_count": 74,
   "id": "a732cc44-2e1a-4db4-9a0a-e1a10fffbb2e",
   "metadata": {
    "tags": []
   },
   "outputs": [
    {
     "data": {
      "text/plain": [
       "['maap-ops-workspace/shared/gsfc_landslides/FEDSoutput-s3-conus/BOREAL_NRT_3571_DPS/2023/Largefire/F13165_20230711AM']"
      ]
     },
     "execution_count": 74,
     "metadata": {},
     "output_type": "execute_result"
    }
   ],
   "source": [
    "fireID = '13165'\n",
    "\n",
    "s3.glob('s3://maap-ops-workspace/shared/gsfc_landslides/FEDSoutput-s3-conus/' + path_region +'/'+ year +'/Largefire/F' + fireID + '_*')"
   ]
  },
  {
   "cell_type": "code",
   "execution_count": 80,
   "id": "259d27aa-f458-4f77-a4b1-d82b0baccfd2",
   "metadata": {
    "tags": []
   },
   "outputs": [
    {
     "data": {
      "text/plain": [
       "['s3://maap-ops-workspace/shared/gsfc_landslides/FEDSoutput-s3-conus/BOREAL_NRT_3571_DPS/2023/Largefire/F13165_20230711AM']"
      ]
     },
     "execution_count": 80,
     "metadata": {},
     "output_type": "execute_result"
    }
   ],
   "source": [
    "tmp = s3.glob('s3://maap-ops-workspace/shared/gsfc_landslides/FEDSoutput-s3-conus/' + path_region +'/'+ year +'/Largefire/F' + fireID + '_*')\n",
    "\n",
    "tmp =  [\"s3://\" + t for t in tmp]\n",
    "\n",
    "tmp"
   ]
  },
  {
   "cell_type": "code",
   "execution_count": null,
   "id": "ea25a487-a936-4153-be5e-eae6848b9445",
   "metadata": {},
   "outputs": [],
   "source": []
  }
 ],
 "metadata": {
  "kernelspec": {
   "display_name": "Python (fireatlas_oct4_2)",
   "language": "python",
   "name": "fireatlas_oct4"
  },
  "language_info": {
   "codemirror_mode": {
    "name": "ipython",
    "version": 3
   },
   "file_extension": ".py",
   "mimetype": "text/x-python",
   "name": "python",
   "nbconvert_exporter": "python",
   "pygments_lexer": "ipython3",
   "version": "3.8.16"
  }
 },
 "nbformat": 4,
 "nbformat_minor": 5
}
