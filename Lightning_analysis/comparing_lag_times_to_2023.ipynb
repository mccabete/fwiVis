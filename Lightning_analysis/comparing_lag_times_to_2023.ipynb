{
 "cells": [
  {
   "cell_type": "code",
   "execution_count": 1,
   "id": "cc049081-20a0-429c-bfbb-39b48e05d76c",
   "metadata": {
    "tags": []
   },
   "outputs": [],
   "source": [
    "import s3fs\n",
    "s3 = s3fs.S3FileSystem(anon=False)\n",
    "from math import cos, asin, sqrt\n",
    "import re\n",
    "\n",
    "import numpy as np\n",
    "import geopandas as gpd\n",
    "import pandas as pd\n",
    "from matplotlib import pyplot as plt\n",
    "import os\n",
    "import rioxarray as rio\n",
    "import xarray as xr\n",
    "import rasterio\n",
    "import glob\n",
    "from shapely.errors import ShapelyDeprecationWarning\n",
    "from shapely.geometry import Point\n",
    "import warnings\n",
    "import folium\n",
    "import datetime\n",
    "import time\n",
    "from folium import plugins\n",
    "warnings.filterwarnings(\"ignore\", category=ShapelyDeprecationWarning) \n",
    "warnings.filterwarnings(\"ignore\", category=ShapelyDeprecationWarning) \n",
    "import contextily as cx\n",
    "from shapely.geometry import box\n",
    "import sys\n",
    "from datetime import datetime, timedelta\n",
    "from itertools import chain\n",
    "\n",
    "from datetime import date\n",
    "\n",
    "\n",
    "sys.path.insert(0, '/projects/old_shared/fire_weather_vis/base-fwi-vis/')\n",
    "import fwiVis.fwiVis as fv"
   ]
  },
  {
   "cell_type": "code",
   "execution_count": 2,
   "id": "40a39565-ee25-44f6-a432-0bac60ee08d3",
   "metadata": {
    "tags": []
   },
   "outputs": [],
   "source": [
    "## Read in the other database data\n",
    "\n",
    "censored = pd.read_csv(\"/projects/old_shared/fire_weather_vis/Lightning_analysis/Holdover_dataset/1_censored_data.csv\")\n",
    "uncensored = pd.read_csv(\"/projects/old_shared/fire_weather_vis/Lightning_analysis/Holdover_dataset/2_non_censored_data.csv\")\n",
    "ancill = pd.read_csv(\"/projects/old_shared/fire_weather_vis/Lightning_analysis/Holdover_dataset/3_ancillary_data.csv\")\n"
   ]
  },
  {
   "cell_type": "code",
   "execution_count": 4,
   "id": "28129b45-304f-4da5-bf44-2432227ac9df",
   "metadata": {
    "tags": []
   },
   "outputs": [],
   "source": [
    "can_studies = ancill[ancill.Country == \"Canada\"].Study_id"
   ]
  },
  {
   "cell_type": "code",
   "execution_count": 10,
   "id": "16da527c-1624-42d0-aea2-44c512d4422f",
   "metadata": {
    "tags": []
   },
   "outputs": [
    {
     "data": {
      "text/html": [
       "<div>\n",
       "<style scoped>\n",
       "    .dataframe tbody tr th:only-of-type {\n",
       "        vertical-align: middle;\n",
       "    }\n",
       "\n",
       "    .dataframe tbody tr th {\n",
       "        vertical-align: top;\n",
       "    }\n",
       "\n",
       "    .dataframe thead th {\n",
       "        text-align: right;\n",
       "    }\n",
       "</style>\n",
       "<table border=\"1\" class=\"dataframe\">\n",
       "  <thead>\n",
       "    <tr style=\"text-align: right;\">\n",
       "      <th></th>\n",
       "      <th>Study_id</th>\n",
       "      <th>Reference</th>\n",
       "      <th>Time_interval</th>\n",
       "      <th>Time_interval_d</th>\n",
       "      <th>Lower_limit_d</th>\n",
       "      <th>Upper_limit_d</th>\n",
       "      <th>N_fires</th>\n",
       "      <th>RF</th>\n",
       "      <th>CRF</th>\n",
       "      <th>Original_data</th>\n",
       "      <th>Data_location</th>\n",
       "      <th>Collection_method</th>\n",
       "    </tr>\n",
       "  </thead>\n",
       "  <tbody>\n",
       "    <tr>\n",
       "      <th>13</th>\n",
       "      <td>KOU1967CA01</td>\n",
       "      <td>Kourtz 1967</td>\n",
       "      <td>4 hour</td>\n",
       "      <td>0.166667</td>\n",
       "      <td>0.000000</td>\n",
       "      <td>0.166667</td>\n",
       "      <td>NaN</td>\n",
       "      <td>0.299000</td>\n",
       "      <td>0.299000</td>\n",
       "      <td>P</td>\n",
       "      <td>Table 7</td>\n",
       "      <td>Copied from original</td>\n",
       "    </tr>\n",
       "    <tr>\n",
       "      <th>14</th>\n",
       "      <td>KOU1967CA01</td>\n",
       "      <td>Kourtz 1967</td>\n",
       "      <td>4 hour</td>\n",
       "      <td>0.166667</td>\n",
       "      <td>0.166667</td>\n",
       "      <td>0.333333</td>\n",
       "      <td>NaN</td>\n",
       "      <td>0.048000</td>\n",
       "      <td>0.347000</td>\n",
       "      <td>P</td>\n",
       "      <td>Table 7</td>\n",
       "      <td>Copied from original</td>\n",
       "    </tr>\n",
       "    <tr>\n",
       "      <th>15</th>\n",
       "      <td>KOU1967CA01</td>\n",
       "      <td>Kourtz 1967</td>\n",
       "      <td>4 hour</td>\n",
       "      <td>0.166667</td>\n",
       "      <td>0.333333</td>\n",
       "      <td>0.500000</td>\n",
       "      <td>NaN</td>\n",
       "      <td>0.047000</td>\n",
       "      <td>0.394000</td>\n",
       "      <td>P</td>\n",
       "      <td>Table 7</td>\n",
       "      <td>Copied from original</td>\n",
       "    </tr>\n",
       "    <tr>\n",
       "      <th>16</th>\n",
       "      <td>KOU1967CA01</td>\n",
       "      <td>Kourtz 1967</td>\n",
       "      <td>4 hour</td>\n",
       "      <td>0.166667</td>\n",
       "      <td>0.500000</td>\n",
       "      <td>0.666667</td>\n",
       "      <td>NaN</td>\n",
       "      <td>0.062000</td>\n",
       "      <td>0.456000</td>\n",
       "      <td>P</td>\n",
       "      <td>Table 7</td>\n",
       "      <td>Copied from original</td>\n",
       "    </tr>\n",
       "    <tr>\n",
       "      <th>17</th>\n",
       "      <td>KOU1967CA01</td>\n",
       "      <td>Kourtz 1967</td>\n",
       "      <td>4 hour</td>\n",
       "      <td>0.166667</td>\n",
       "      <td>0.666667</td>\n",
       "      <td>0.833333</td>\n",
       "      <td>NaN</td>\n",
       "      <td>0.074000</td>\n",
       "      <td>0.530000</td>\n",
       "      <td>P</td>\n",
       "      <td>Table 7</td>\n",
       "      <td>Copied from original</td>\n",
       "    </tr>\n",
       "    <tr>\n",
       "      <th>...</th>\n",
       "      <td>...</td>\n",
       "      <td>...</td>\n",
       "      <td>...</td>\n",
       "      <td>...</td>\n",
       "      <td>...</td>\n",
       "      <td>...</td>\n",
       "      <td>...</td>\n",
       "      <td>...</td>\n",
       "      <td>...</td>\n",
       "      <td>...</td>\n",
       "      <td>...</td>\n",
       "      <td>...</td>\n",
       "    </tr>\n",
       "    <tr>\n",
       "      <th>2306</th>\n",
       "      <td>WOT2022CA06</td>\n",
       "      <td>Wotton 2022</td>\n",
       "      <td>1 day</td>\n",
       "      <td>1.000000</td>\n",
       "      <td>17.000000</td>\n",
       "      <td>18.000000</td>\n",
       "      <td>38.0</td>\n",
       "      <td>0.004747</td>\n",
       "      <td>0.988757</td>\n",
       "      <td>N</td>\n",
       "      <td>NaN</td>\n",
       "      <td>Personal communication</td>\n",
       "    </tr>\n",
       "    <tr>\n",
       "      <th>2307</th>\n",
       "      <td>WOT2022CA06</td>\n",
       "      <td>Wotton 2022</td>\n",
       "      <td>1 day</td>\n",
       "      <td>1.000000</td>\n",
       "      <td>18.000000</td>\n",
       "      <td>19.000000</td>\n",
       "      <td>23.0</td>\n",
       "      <td>0.002873</td>\n",
       "      <td>0.991630</td>\n",
       "      <td>N</td>\n",
       "      <td>NaN</td>\n",
       "      <td>Personal communication</td>\n",
       "    </tr>\n",
       "    <tr>\n",
       "      <th>2308</th>\n",
       "      <td>WOT2022CA06</td>\n",
       "      <td>Wotton 2022</td>\n",
       "      <td>1 day</td>\n",
       "      <td>1.000000</td>\n",
       "      <td>19.000000</td>\n",
       "      <td>20.000000</td>\n",
       "      <td>26.0</td>\n",
       "      <td>0.003248</td>\n",
       "      <td>0.994878</td>\n",
       "      <td>N</td>\n",
       "      <td>NaN</td>\n",
       "      <td>Personal communication</td>\n",
       "    </tr>\n",
       "    <tr>\n",
       "      <th>2309</th>\n",
       "      <td>WOT2022CA06</td>\n",
       "      <td>Wotton 2022</td>\n",
       "      <td>1 day</td>\n",
       "      <td>1.000000</td>\n",
       "      <td>20.000000</td>\n",
       "      <td>21.000000</td>\n",
       "      <td>21.0</td>\n",
       "      <td>0.002623</td>\n",
       "      <td>0.997502</td>\n",
       "      <td>N</td>\n",
       "      <td>NaN</td>\n",
       "      <td>Personal communication</td>\n",
       "    </tr>\n",
       "    <tr>\n",
       "      <th>2310</th>\n",
       "      <td>WOT2022CA06</td>\n",
       "      <td>Wotton 2022</td>\n",
       "      <td>1 day</td>\n",
       "      <td>1.000000</td>\n",
       "      <td>21.000000</td>\n",
       "      <td>22.000000</td>\n",
       "      <td>20.0</td>\n",
       "      <td>0.002498</td>\n",
       "      <td>1.000000</td>\n",
       "      <td>N</td>\n",
       "      <td>NaN</td>\n",
       "      <td>Personal communication</td>\n",
       "    </tr>\n",
       "  </tbody>\n",
       "</table>\n",
       "<p>196 rows × 12 columns</p>\n",
       "</div>"
      ],
      "text/plain": [
       "         Study_id    Reference Time_interval  Time_interval_d  Lower_limit_d  \\\n",
       "13    KOU1967CA01  Kourtz 1967        4 hour         0.166667       0.000000   \n",
       "14    KOU1967CA01  Kourtz 1967        4 hour         0.166667       0.166667   \n",
       "15    KOU1967CA01  Kourtz 1967        4 hour         0.166667       0.333333   \n",
       "16    KOU1967CA01  Kourtz 1967        4 hour         0.166667       0.500000   \n",
       "17    KOU1967CA01  Kourtz 1967        4 hour         0.166667       0.666667   \n",
       "...           ...          ...           ...              ...            ...   \n",
       "2306  WOT2022CA06  Wotton 2022         1 day         1.000000      17.000000   \n",
       "2307  WOT2022CA06  Wotton 2022         1 day         1.000000      18.000000   \n",
       "2308  WOT2022CA06  Wotton 2022         1 day         1.000000      19.000000   \n",
       "2309  WOT2022CA06  Wotton 2022         1 day         1.000000      20.000000   \n",
       "2310  WOT2022CA06  Wotton 2022         1 day         1.000000      21.000000   \n",
       "\n",
       "      Upper_limit_d  N_fires        RF       CRF Original_data Data_location  \\\n",
       "13         0.166667      NaN  0.299000  0.299000             P       Table 7   \n",
       "14         0.333333      NaN  0.048000  0.347000             P       Table 7   \n",
       "15         0.500000      NaN  0.047000  0.394000             P       Table 7   \n",
       "16         0.666667      NaN  0.062000  0.456000             P       Table 7   \n",
       "17         0.833333      NaN  0.074000  0.530000             P       Table 7   \n",
       "...             ...      ...       ...       ...           ...           ...   \n",
       "2306      18.000000     38.0  0.004747  0.988757             N           NaN   \n",
       "2307      19.000000     23.0  0.002873  0.991630             N           NaN   \n",
       "2308      20.000000     26.0  0.003248  0.994878             N           NaN   \n",
       "2309      21.000000     21.0  0.002623  0.997502             N           NaN   \n",
       "2310      22.000000     20.0  0.002498  1.000000             N           NaN   \n",
       "\n",
       "           Collection_method  \n",
       "13      Copied from original  \n",
       "14      Copied from original  \n",
       "15      Copied from original  \n",
       "16      Copied from original  \n",
       "17      Copied from original  \n",
       "...                      ...  \n",
       "2306  Personal communication  \n",
       "2307  Personal communication  \n",
       "2308  Personal communication  \n",
       "2309  Personal communication  \n",
       "2310  Personal communication  \n",
       "\n",
       "[196 rows x 12 columns]"
      ]
     },
     "execution_count": 10,
     "metadata": {},
     "output_type": "execute_result"
    }
   ],
   "source": [
    "censored[censored.Study_id.isin(can_studies)]"
   ]
  },
  {
   "cell_type": "code",
   "execution_count": 36,
   "id": "dc84f425-1977-4818-addb-e0027c8be9c3",
   "metadata": {
    "tags": []
   },
   "outputs": [
    {
     "data": {
      "text/plain": [
       "Index(['Study_id', 'Reference', 'Time_interval', 'Time_interval_d',\n",
       "       'Lower_limit_d', 'Upper_limit_d', 'N_fires', 'RF', 'CRF',\n",
       "       'Original_data', 'Data_location', 'Collection_method'],\n",
       "      dtype='object')"
      ]
     },
     "execution_count": 36,
     "metadata": {},
     "output_type": "execute_result"
    }
   ],
   "source": [
    "censored.columns"
   ]
  },
  {
   "cell_type": "code",
   "execution_count": 48,
   "id": "046bcd17-71c9-408c-8baa-422b5ade51b4",
   "metadata": {
    "tags": []
   },
   "outputs": [
    {
     "data": {
      "text/plain": [
       "<AxesSubplot: >"
      ]
     },
     "execution_count": 48,
     "metadata": {},
     "output_type": "execute_result"
    },
    {
     "data": {
      "image/png": "[encoded data removed]",
      "text/plain": [
       "<Figure size 640x480 with 1 Axes>"
      ]
     },
     "metadata": {},
     "output_type": "display_data"
    }
   ],
   "source": [
    "censored[censored.Study_id.isin(can_studies)].Upper_limit_d.hist(alpha = 0.5)\n",
    "\n",
    "censored[censored.Study_id.isin(can_studies)].Lower_limit_d.hist(alpha = 0.5)"
   ]
  },
  {
   "cell_type": "code",
   "execution_count": 49,
   "id": "40c60fba-e109-4886-bbbe-d4f432cab26a",
   "metadata": {
    "tags": []
   },
   "outputs": [
    {
     "name": "stdout",
     "output_type": "stream",
     "text": [
      "28.0\n",
      "27.0\n"
     ]
    }
   ],
   "source": [
    "print(censored[censored.Study_id.isin(can_studies)].Upper_limit_d.max())\n",
    "print(censored[censored.Study_id.isin(can_studies)].Lower_limit_d.max())"
   ]
  },
  {
   "cell_type": "code",
   "execution_count": 52,
   "id": "6c598985-f427-4dda-8bcc-8dde6309c6c4",
   "metadata": {
    "tags": []
   },
   "outputs": [
    {
     "name": "stdout",
     "output_type": "stream",
     "text": [
      "10\n",
      "196\n"
     ]
    }
   ],
   "source": [
    "print(len(censored[censored.Study_id.isin(can_studies)].Study_id.unique()))\n",
    "print(len(censored[censored.Study_id.isin(can_studies)]))\n"
   ]
  },
  {
   "cell_type": "code",
   "execution_count": 34,
   "id": "99d354f7-e411-469a-8338-f46b7bad1cf3",
   "metadata": {
    "tags": []
   },
   "outputs": [
    {
     "data": {
      "text/html": [
       "<div>\n",
       "<style scoped>\n",
       "    .dataframe tbody tr th:only-of-type {\n",
       "        vertical-align: middle;\n",
       "    }\n",
       "\n",
       "    .dataframe tbody tr th {\n",
       "        vertical-align: top;\n",
       "    }\n",
       "\n",
       "    .dataframe thead th {\n",
       "        text-align: right;\n",
       "    }\n",
       "</style>\n",
       "<table border=\"1\" class=\"dataframe\">\n",
       "  <thead>\n",
       "    <tr style=\"text-align: right;\">\n",
       "      <th></th>\n",
       "    </tr>\n",
       "  </thead>\n",
       "  <tbody>\n",
       "    <tr>\n",
       "      <th>0</th>\n",
       "    </tr>\n",
       "    <tr>\n",
       "      <th>1</th>\n",
       "    </tr>\n",
       "    <tr>\n",
       "      <th>2</th>\n",
       "    </tr>\n",
       "    <tr>\n",
       "      <th>3</th>\n",
       "    </tr>\n",
       "    <tr>\n",
       "      <th>4</th>\n",
       "    </tr>\n",
       "    <tr>\n",
       "      <th>...</th>\n",
       "    </tr>\n",
       "    <tr>\n",
       "      <th>6296</th>\n",
       "    </tr>\n",
       "    <tr>\n",
       "      <th>6297</th>\n",
       "    </tr>\n",
       "    <tr>\n",
       "      <th>6298</th>\n",
       "    </tr>\n",
       "    <tr>\n",
       "      <th>6299</th>\n",
       "    </tr>\n",
       "    <tr>\n",
       "      <th>6300</th>\n",
       "    </tr>\n",
       "  </tbody>\n",
       "</table>\n",
       "<p>6301 rows × 0 columns</p>\n",
       "</div>"
      ],
      "text/plain": [
       "Empty DataFrame\n",
       "Columns: []\n",
       "Index: [0, 1, 2, 3, 4, 5, 6, 7, 8, 9, 10, 11, 12, 13, 14, 15, 16, 17, 18, 19, 20, 21, 22, 23, 24, 25, 26, 27, 28, 29, 30, 31, 32, 33, 34, 35, 36, 37, 38, 39, 40, 41, 42, 43, 44, 45, 46, 47, 48, 49, 50, 51, 52, 53, 54, 55, 56, 57, 58, 59, 60, 61, 62, 63, 64, 65, 66, 67, 68, 69, 70, 71, 72, 73, 74, 75, 76, 77, 78, 79, 80, 81, 82, 83, 84, 85, 86, 87, 88, 89, 90, 91, 92, 93, 94, 95, 96, 97, 98, 99, ...]\n",
       "\n",
       "[6301 rows x 0 columns]"
      ]
     },
     "execution_count": 34,
     "metadata": {},
     "output_type": "execute_result"
    }
   ],
   "source": [
    "\n",
    "not_in_uncensored = ['KOU1967CA01', 'NAS1996CA01', 'WOT2005CA01', 'HES2022CA01','WOT2022CA01', 'WOT2022CA02', 'WOT2022CA03', 'WOT2022CA04','WOT2022CA05', 'WOT2022CA06']\n",
    "\n",
    "tmp = can_studies[~can_studies.isin(not_in_uncensored)]\n",
    "\n",
    "uncensored[tmp]"
   ]
  },
  {
   "cell_type": "code",
   "execution_count": 35,
   "id": "3c99dbf5-2810-465e-a78c-84c71c76c439",
   "metadata": {
    "tags": []
   },
   "outputs": [
    {
     "data": {
      "text/plain": [
       "Series([], Name: Study_id, dtype: object)"
      ]
     },
     "execution_count": 35,
     "metadata": {},
     "output_type": "execute_result"
    }
   ],
   "source": [
    "tmp"
   ]
  },
  {
   "cell_type": "code",
   "execution_count": 31,
   "id": "efc1dc2d-81bd-4d2e-be26-5cc071fc8eef",
   "metadata": {
    "tags": []
   },
   "outputs": [
    {
     "ename": "TypeError",
     "evalue": "remove() takes exactly one argument (0 given)",
     "output_type": "error",
     "traceback": [
      "\u001b[0;31m---------------------------------------------------------------------------\u001b[0m",
      "\u001b[0;31mTypeError\u001b[0m                                 Traceback (most recent call last)",
      "Cell \u001b[0;32mIn [31], line 1\u001b[0m\n\u001b[0;32m----> 1\u001b[0m tmp\u001b[38;5;241m.\u001b[39mremove()\n",
      "\u001b[0;31mTypeError\u001b[0m: remove() takes exactly one argument (0 given)"
     ]
    }
   ],
   "source": [
    "tmp.remove()"
   ]
  },
  {
   "cell_type": "code",
   "execution_count": null,
   "id": "9085dcf8-6ae9-4fb8-a0df-5746a4aac129",
   "metadata": {},
   "outputs": [],
   "source": []
  }
 ],
 "metadata": {
  "kernelspec": {
   "display_name": "Python (fireatlas_oct4_2)",
   "language": "python",
   "name": "fireatlas_oct4"
  },
  "language_info": {
   "codemirror_mode": {
    "name": "ipython",
    "version": 3
   },
   "file_extension": ".py",
   "mimetype": "text/x-python",
   "name": "python",
   "nbconvert_exporter": "python",
   "pygments_lexer": "ipython3",
   "version": "3.8.16"
  }
 },
 "nbformat": 4,
 "nbformat_minor": 5
}
