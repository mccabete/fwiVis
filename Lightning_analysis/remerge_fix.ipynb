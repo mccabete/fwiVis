{
 "cells": [
  {
   "cell_type": "code",
   "execution_count": null,
   "id": "dfe45da5-f99f-4433-b677-8a0dce0769ed",
   "metadata": {
    "tags": []
   },
   "outputs": [],
   "source": [
    "#import fwiVis.fwiVis as fv\n",
    "import s3fs\n",
    "s3 = s3fs.S3FileSystem(anon=False)\n",
    "from math import cos, asin, sqrt\n",
    "import re\n",
    "\n",
    "import numpy as np\n",
    "import geopandas as gpd\n",
    "import pandas as pd\n",
    "from matplotlib import pyplot as plt\n",
    "import os\n",
    "import rioxarray as rio\n",
    "import xarray as xr\n",
    "import rasterio\n",
    "import glob\n",
    "from shapely.errors import ShapelyDeprecationWarning\n",
    "from shapely.geometry import Point\n",
    "import warnings\n",
    "import folium\n",
    "import datetime\n",
    "import time\n",
    "from folium import plugins\n",
    "warnings.filterwarnings(\"ignore\", category=ShapelyDeprecationWarning) \n",
    "warnings.filterwarnings(\"ignore\", category=ShapelyDeprecationWarning) \n",
    "import contextily as cx\n",
    "from shapely.geometry import box\n",
    "import sys\n",
    "from datetime import datetime, timedelta\n",
    "from itertools import chain\n",
    "\n",
    "from datetime import date\n",
    "\n",
    "\n",
    "sys.path.insert(0, '/projects/old_shared/fire_weather_vis/base-fwi-vis/')\n",
    "import fwiVis.fwiVis as fv"
   ]
  },
  {
   "cell_type": "code",
   "execution_count": null,
   "id": "81d8af8d-9efc-4588-a2b4-4c3828491868",
   "metadata": {
    "tags": []
   },
   "outputs": [],
   "source": [
    "### Functions that take largefire perimeters that are different overlapping fire and merge them into one. \n",
    "def prep_fire_files(path, crs = \"3571\"):\n",
    "    '''\n",
    "    Read in cvs of previously output GeoDataFrame as a GeoDataFrame with valid geometry column. \n",
    "    '''\n",
    "    fires = pd.read_csv(path)\n",
    "    fires = fires.rename(columns={\"geometry\":\"csv_geometry\"})\n",
    "    fires.t = fires.t.astype(\"str\")\n",
    "    fires.fireID  = fires.fireID.astype(\"str\")\n",
    "    #fires['csv_geometry'] =fires['csv_geometry'].apply(wkt.loads)\n",
    "    fires_geom = gpd.read_file(path, GEOM_POSSIBLE_NAMES=\"geometry\", KEEP_GEOM_COLUMNS=\"NO\")\n",
    "    fires_geom.t = fires_geom.t.astype(\"str\")\n",
    "    fires_geom.fireID  = fires_geom.fireID.astype(\"str\")\n",
    "    fires = fires_geom[[\"fireID\", \"t\", \"geometry\"]].merge(fires, on=[\"fireID\", \"t\"], how = \"left\")\n",
    "    fires = fires.set_crs(crs)\n",
    "    return (fires)\n",
    "\n",
    "def remerge_largefire(fires):\n",
    "    '''\n",
    "    If two final feds perimeters intersect spatialy, check if one ended before the other began. If yes, give it the ID of the earlier perimeter. \n",
    "    Note: Could optionally be spitting out time differences, or sorting by them. For Quebec, was a max of 22 days, min of 1 day. Theoretically, not sure why the 1 day perimeter wasn't merged by feds. \n",
    "    '''\n",
    "    # Get an id, first/ last t per ID, and a geometry\n",
    "    first_perims = fires[~fires.geometry.isnull()].groupby(\"fireID\").t.min().reset_index()\n",
    "    last_perims = fires[~fires.geometry.isnull()].groupby(\"fireID\").t.max().reset_index()\n",
    "    plot_last = fires.merge(last_perims, on = [\"fireID\", \"t\"], how = 'right')\n",
    "    plot_first = fires.merge(first_perims, on = [\"fireID\", \"t\"], how = 'right')\n",
    "    plot_last = plot_last[[\"fireID\", \"t\", \"geometry\"]]\n",
    "    plot_first = plot_first[[\"fireID\", \"t\", \"geometry\"]]\n",
    "                    \n",
    "    # Check what perimeters spatially intersect into anouther one through time\n",
    "    last_in_last = plot_last.sjoin(plot_last, how = \"left\", predicate = \"intersects\")\n",
    "    lil = last_in_last.groupby([\"fireID_left\",]).t_right.min().reset_index()\n",
    "    id_with_max_time = lil.merge(last_in_last[[\"t_right\", \"t_left\", \"geometry\", \"fireID_right\", \"fireID_left\"]], on = [\"t_right\", \"fireID_left\"], how = \"right\")\n",
    "\n",
    "    id_with_max_time = id_with_max_time.rename(columns={\"fireID_right\": \"mergeID\", \n",
    "                                     \"fireID_left\" :\"fireID\",\n",
    "                                     \"t_right\":\"mergeID_t\",\n",
    "                                     \"t_left\":\"fireID_end_t\"\n",
    "    })\n",
    "\n",
    "    id_with_max_time_check = id_with_max_time[id_with_max_time.fireID_end_t < id_with_max_time.mergeID_t]\n",
    "\n",
    "    ### FireID the earlier perimeter that later perimeters are merged into. \"mergeID\" describes the merge-ey ## I actually think this is wrong. I think I made it so the \"fireID\" is what is merged into the \"mergeID\"\n",
    "    fireID_with_merge = id_with_max_time_check.groupby([\"fireID\"]).mergeID.unique().reset_index() \n",
    "    #print(fireID_with_merge)\n",
    "\n",
    "    mergeID_with_fireID  = id_with_max_time_check.groupby([\"mergeID\"]).fireID.unique().reset_index()\n",
    "    #print(mergeID_with_fireID)\n",
    "                    \n",
    "    # Check when the fireID and mergeID started/stopped. \n",
    "    get_merge_start = plot_first[[\"fireID\", \"t\"]].rename(columns={\"fireID\":\"mergeID\", \n",
    "                                                           \"t\":\"mergeID_start_t\"})\n",
    "    #print(get_merge_start)\n",
    "    get_fireID_start =  plot_first[[\"fireID\", \"t\"]].rename(columns={ \"t\":\"fireID_start_t\"})\n",
    "    #print(get_fireID_start)\n",
    "\n",
    "    id_map = id_with_max_time_check.merge(get_merge_start, on = [\"mergeID\"])\n",
    "    id_map = id_map.merge(get_fireID_start, on = [\"fireID\"])\n",
    "    id_map = id_map[[\"fireID\",\"fireID_start_t\",  \"fireID_end_t\", \"mergeID\", \"mergeID_start_t\", \"mergeID_t\"]]\n",
    "    id_map[\"time_diff_fireIDend_mergeIDstart\"] = id_map.fireID_end_t.astype('datetime64[ns]') - id_map.mergeID_start_t.astype('datetime64[ns]') ## Negative means that mergeID started after fireID ended\n",
    "    #print(id_map)\n",
    "    # Below code is just for isolateing perimeters that ended before the later perimetetr began. This is useful for identifying places where the assumptino to invalidate a fire after five days might be wrong. \n",
    "#     # Subset to IDs where one fire \"ended\" before the next fire began                \n",
    "#     only_IDs_with_negative_dates = id_map[id_map.time_diff_fireIDend_mergeIDstart.dt.days < 0]\n",
    "    \n",
    "#     # Go through an reindex just the IDs that overlap in space but not time                \n",
    "#     fires[\"old_id\"] = \"\"\n",
    "#     fire_ids = only_IDs_with_negative_dates.mergeID.unique() ## Gives the IDs of fires to be merged into anouther fire\n",
    "\n",
    "#     for i in fire_ids:\n",
    "#         print(\"start: \")\n",
    "#         print(fire_ids)\n",
    "#         min_t = id_with_max_time_check[id_with_max_time_check.mergeID == i].fireID_end_t.min()\n",
    "#         print(min_t)\n",
    "#         sm_id_map = id_with_max_time_check[(id_with_max_time_check.mergeID == i) & (id_with_max_time_check.fireID_end_t == min_t)]\n",
    "#         print(sm_id_map.fireID.values)\n",
    "#         if(len(sm_id_map) == 0):\n",
    "#             print(\"ID\", i, \" only merges with self\")\n",
    "#             fires[\"old_id\"][fires.fireID == i] = i\n",
    "#         else:\n",
    "#             if(len(sm_id_map) != 1):\n",
    "#                 print(\"There are two perimeters that intersect with ID\",i, \" that started at the same time.\")\n",
    "#                 print(sm_id_map)\n",
    "#                 break\n",
    "\n",
    "#             fires[\"old_id\"][fires.fireID == i] = i\n",
    "#             fires[\"fireID\"][fires.fireID == i] = str(*sm_id_map.fireID.values)\n",
    "                    \n",
    "#     #return(fires)\n",
    "    return(id_map)"
   ]
  },
  {
   "cell_type": "code",
   "execution_count": null,
   "id": "9fb57554-c931-4476-8349-8a6b642141ba",
   "metadata": {
    "tags": []
   },
   "outputs": [],
   "source": [
    "#path = \"/projects/old_shared/fire_weather_vis/Lightning_analysis/fwi_timeline_merge/20_days_fire_stats_only_718270-99999_minT20230301_maxT20230830_BOREAL_NRT_3571_DPSstation20231120.csv\" ## looking for lightning 20 days before start\n",
    "path = \"/projects/old_shared/fire_weather_vis/Lightning_analysis/fwi_timeline_merge/Final_dataset_as_of_20240209.csv\" \n",
    "fires = prep_fire_files(path)"
   ]
  },
  {
   "cell_type": "code",
   "execution_count": null,
   "id": "97c30cc3-3444-4c0e-ab06-46eb6ecefd0f",
   "metadata": {
    "tags": []
   },
   "outputs": [],
   "source": [
    "fires = fires[fires.InterCloud.isna()]\n",
    "fires.t = pd.to_datetime(fires.t, format='ISO8601')"
   ]
  },
  {
   "cell_type": "code",
   "execution_count": null,
   "id": "32f54f38-3e5c-4f2a-91bc-fdafaa4cf44f",
   "metadata": {
    "tags": []
   },
   "outputs": [],
   "source": [
    "new_fires = remerge_largefire(fires)"
   ]
  },
  {
   "cell_type": "code",
   "execution_count": null,
   "id": "543b634f-f670-4929-b71c-bf1cd50a002a",
   "metadata": {
    "tags": []
   },
   "outputs": [],
   "source": [
    "print(len(fires.fireID.unique()))\n",
    "\n",
    "print(len(new_fires.fireID.unique()))"
   ]
  },
  {
   "cell_type": "code",
   "execution_count": null,
   "id": "29466a44-202e-45dc-9bb7-1546e3b6e93d",
   "metadata": {
    "tags": []
   },
   "outputs": [],
   "source": [
    "### Me trying overlay: Doesn't seem to work. \n",
    "\n",
    "fires_exp = fires[fires.fireID.isin([\"10406\", \"8495\"])]\n",
    "\n",
    "##\n",
    "tmp_fires = remerge_largefire(fires_exp)\n",
    "\n",
    "for i in tmp_fires.fireID:\n",
    "    id_map = tmp_fires[tmp_fires.fireID == i]\n",
    "    small_fr = fires_exp[fires_exp.fireID == i]\n",
    "    small_fr.t = small_fr.t.astype(\"datetime64[ns]\")\n",
    "    small_fr[\"date\"] = small_fr.t\n",
    "   \n",
    "    \n",
    "    #small_fr = small_fr.set_index(\"t\")\n",
    "    #small_fr = small_fr.dropna()\n",
    "    \n",
    "    \n",
    "    \n",
    "    big_fire = fires_exp[fires_exp.fireID == id_map.mergeID.values[0]]\n",
    "    big_fire.t = big_fire.t.astype(\"datetime64[ns]\")\n",
    "    big_fire[\"date\"] = big_fire.t\n",
    "   \n",
    "    #big_fire = big_fire.set_index(\"t\")\n",
    "    \n",
    "    ## They need the same index to do the overlay. Gotta merge them both into the same index\n",
    "    \n",
    "    min_t = min(small_fr.t.min(), big_fire.t.min())\n",
    "    max_t = max(small_fr.t.max(), big_fire.t.max())\n",
    "    \n",
    "    times = pd.date_range(start = min_t, end = max_t, freq = \"12H\")\n",
    "    \n",
    "    times = pd.DataFrame({\"t\": times})\n",
    "    \n",
    "    small_fr = small_fr.merge(times, on = [\"t\"], how = \"outer\")\n",
    "    small_fr = small_fr.sort_values(by = [\"t\"])\n",
    "    small_fr = small_fr.reset_index()\n",
    "    big_fire = big_fire.merge(times, on = [\"t\"], how = \"outer\")\n",
    "    big_fire = big_fire.sort_values(by = [\"t\"])\n",
    "    big_fire = big_fire.reset_index()\n",
    "    big_fire = big_fire[[\"t\", \"geometry\", \"date\"]]\n",
    "    small_fr = small_fr[[\"t\", \"geometry\", \"date\"]]\n",
    "    print(\"Big fire min:\",  big_fire.t.min())\n",
    "    print(\"small fire min:\",  small_fr.t.min())\n",
    "    \n",
    "    \n",
    "    both_fires = gpd.overlay(small_fr, big_fire, how = \"union\", keep_geom_type = False)\n",
    "    \n",
    "    \n",
    "#fires_exp[\"former_fire_IDS\"] = fires_exp"
   ]
  },
  {
   "cell_type": "code",
   "execution_count": null,
   "id": "5c47a31f-054c-48ea-b421-7cfa317bb79d",
   "metadata": {
    "tags": []
   },
   "outputs": [],
   "source": [
    "### Correcting or fires that merge into more than one fire\n",
    "def ultimate_merge(new_fires):\n",
    "    \n",
    "    for i in new_fires.fireID.unique(): \n",
    "        print(i)\n",
    "        possible_merge_ids = new_fires[new_fires.fireID == i].mergeID# get the fireIDs assosiated with that\n",
    "        term_pair = []\n",
    "        for m in possible_merge_ids:  \n",
    "            print(\"Possible Merge IDS\", possible_merge_ids)\n",
    "            if not np.any(new_fires.fireID.astype(\"str\").isin([str(m)])): #this implies is a terminator\n",
    "                new_fires.loc[new_fires.fireID.astype(\"str\") == str(i), \"mergeID\"] = m\n",
    "                print(\"M is\", m)\n",
    "                term_pair = list(set(term_pair))\n",
    "        if(len(term_pair) > 1):\n",
    "            print(i, \"has more than one terminator ID!\")\n",
    "            print(term_pair)\n",
    "            next\n",
    "    new_fires = new_fires[[\"fireID\", \"mergeID\"]].drop_duplicates()\n",
    "    return(new_fires)\n",
    "        \n",
    "def assign_last_perimeter(df, col_name = \"is_last_perim\"):\n",
    "    if(np.any(df.columns.isin([col_name]))):\n",
    "        max_t = df[~df.geometry.isna()].t.max()\n",
    "        df.loc[df.t == max_t, col_name] = True\n",
    "        return(df)\n",
    "    else:\n",
    "        print(\"Missing column\" + \" \"+ col_name)\n",
    "        ValueError()\n",
    "    \n",
    "    \n",
    "                    \n",
    "                    \n",
    "                \n",
    "    "
   ]
  },
  {
   "cell_type": "code",
   "execution_count": null,
   "id": "5580f595-1e35-42b2-ad50-39897231bdde",
   "metadata": {
    "tags": []
   },
   "outputs": [],
   "source": [
    "test_new_fires = ultimate_merge(new_fires)"
   ]
  },
  {
   "cell_type": "code",
   "execution_count": null,
   "id": "d544621f-01d7-4706-b548-32dd75fe0f6f",
   "metadata": {
    "tags": []
   },
   "outputs": [],
   "source": [
    "#remerge_largefire(fire_exp)\n",
    "test_new_fires[test_new_fires.mergeID == \"8495\"]"
   ]
  },
  {
   "cell_type": "code",
   "execution_count": null,
   "id": "eefa1112-00dc-475a-81b6-171276158724",
   "metadata": {
    "tags": []
   },
   "outputs": [],
   "source": [
    "## Find terminator ID\n",
    "\n",
    "#def find_term_id(df):\n",
    "    "
   ]
  },
  {
   "cell_type": "code",
   "execution_count": null,
   "id": "5f1bdc04-2e3f-4190-ad4b-dfa739f6a7b8",
   "metadata": {
    "tags": []
   },
   "outputs": [],
   "source": [
    "not np.any([False, False, False])"
   ]
  },
  {
   "cell_type": "code",
   "execution_count": null,
   "id": "5300c569-1706-4548-9470-936db6eeb461",
   "metadata": {
    "tags": []
   },
   "outputs": [],
   "source": [
    "## Trying dissolve\n",
    "\n",
    "#diss = fires_exp.dissolve(by = [\"t\"]) ## This does work.\n",
    "\n",
    "tmp_fires = remerge_largefire(fires_exp)\n",
    "\n",
    "for i in tmp_fires.fireID: # For each fire that will be merged into another fire\n",
    "    id_map = tmp_fires[tmp_fires.fireID == i]\n",
    "    small_fr = fires_exp[fires_exp.fireID == i]\n",
    "    small_fr.t = small_fr.t.astype(\"datetime64[ns]\")\n",
    "    small_fr[\"date\"] = small_fr.t\n",
    "   \n",
    "    \n",
    "    #small_fr = small_fr.set_index(\"t\")\n",
    "    #small_fr = small_fr.dropna()\n",
    "    \n",
    "    \n",
    "    \n",
    "    big_fire = fires_exp[fires_exp.fireID == id_map.mergeID.values[0]]\n",
    "    big_fire.t = big_fire.t.astype(\"datetime64[ns]\")\n",
    "    big_fire[\"date\"] = big_fire.t"
   ]
  },
  {
   "cell_type": "code",
   "execution_count": null,
   "id": "9d13280e-a020-4a77-b876-439c3751dcef",
   "metadata": {
    "tags": []
   },
   "outputs": [],
   "source": [
    "test_if_double_merges = new_fires.groupby([\"fireID\", \"mergeID\"]).count().reset_index()\n",
    "print(len(test_if_double_merges.fireID), len(test_if_double_merges.fireID.unique()))"
   ]
  },
  {
   "cell_type": "code",
   "execution_count": null,
   "id": "c3cd24d4-0a92-4f17-b321-d834a006fa57",
   "metadata": {
    "tags": []
   },
   "outputs": [],
   "source": [
    "test_if_double_merges[test_if_double_merges.fireID.duplicated()]"
   ]
  },
  {
   "cell_type": "code",
   "execution_count": null,
   "id": "47323245-a6e3-4048-9ed6-b93799301867",
   "metadata": {
    "tags": []
   },
   "outputs": [],
   "source": [
    "test_if_double_merges[test_if_double_merges.fireID == \"8746\"]"
   ]
  },
  {
   "cell_type": "code",
   "execution_count": null,
   "id": "22e81a8b-82b8-48ed-b8b8-921778021318",
   "metadata": {
    "tags": []
   },
   "outputs": [],
   "source": [
    "new_fires[new_fires.fireID.isin(new_fires.mergeID)].fireID ## Intermediate fireIDs\n",
    "\n",
    "new_fires[new_fires.fireID.isin(new_fires.mergeID)].mergeID ## The IDS the intermediate fireIDS will become\n",
    "\n",
    "#sudo code: subset to intermediate ids, reassign mergeIDs to be ultimate ID\n",
    "    # then do a while loop to continue the process untill the IDs in the \"fireID\" don't match any in the \"mergeID\". \n"
   ]
  },
  {
   "cell_type": "code",
   "execution_count": null,
   "id": "ee973f1f-487a-4cab-bf64-66811cf65858",
   "metadata": {
    "tags": []
   },
   "outputs": [],
   "source": [
    "tmp_fires"
   ]
  },
  {
   "cell_type": "code",
   "execution_count": null,
   "id": "0d1df789-6ae5-44be-a7a0-ea4b570b8c42",
   "metadata": {
    "tags": []
   },
   "outputs": [],
   "source": [
    "#diss.index = diss.index.astype(\"str\")"
   ]
  },
  {
   "cell_type": "code",
   "execution_count": null,
   "id": "504577d6-c31a-4fe5-ac22-3c9be48ea718",
   "metadata": {
    "tags": []
   },
   "outputs": [],
   "source": [
    "#diss[(diss.index == \"2023-06-23 12:00:00\")][[\"geometry\", \"fireID\"]].explore(style_kwds = {\"fillOpacity\": 0})"
   ]
  },
  {
   "cell_type": "code",
   "execution_count": null,
   "id": "1774f9a4-5fd1-4c1a-bd74-801be8442a3f",
   "metadata": {
    "tags": []
   },
   "outputs": [],
   "source": [
    "#diss[[\"geometry\", \"fireID\"]].dropna()#.explore(style_kwds = {\"fillOpacity\": 0})"
   ]
  },
  {
   "cell_type": "code",
   "execution_count": null,
   "id": "b67503b1-32d0-4ad7-a114-8b44b4e2685a",
   "metadata": {},
   "outputs": [],
   "source": [
    "fires[(fires.fireID == \"16062\") & (~fires.geometry.isnull())][[\"fireID\", \"t\"]].sort_values(by = \"t\")"
   ]
  },
  {
   "cell_type": "code",
   "execution_count": null,
   "id": "528f1dbb-a919-47db-bdee-5dd1429a6baf",
   "metadata": {},
   "outputs": [],
   "source": [
    "# Pull out each fire before it merges with another fire. Treat the fires post-merge as unique, with a composite ID\n",
    "\n",
    "def keep_fires_seperate(newfire, fires):\n",
    "    '''\n",
    "    newfire [DataFrame] output from remerge_largefire. \n",
    "    fires [GeoDataFrame] geodataframe of all largefires. \n",
    "    '''\n",
    "    fires.t = fires.t.astype(\"datetime64[ns]\")\n",
    "    fires[\"modified_id\"] = fires.fireID\n",
    "    newfire = newfire.sort_values(by = [\"fireID\", \"fireID_start_t\"])\n",
    "    newfire.mergeID_start_t = newfire.mergeID_start_t.astype(\"datetime64[ns]\")\n",
    "    newfire.mergeID_t = newfire.mergeID_t.astype(\"datetime64[ns]\")\n",
    "    for m in newfire.mergeID.unique(): ### For each id that had something merged into it\n",
    "        fireIDs = newfire[newfire.mergeID == m].fireID.unique() ## Get all the fireID of things that were merged into it\n",
    "        for f in fireIDs: ## For each of those things that were merged into to \n",
    "            f = str(f)\n",
    "            #print(m)\n",
    "            #print(newfire[(newfire.fireID == i) & (newfire.mergeID == m)].mergeID_start_t.min())\n",
    "            row_mask = (fires.fireID == m) & (fires.t >= newfire[(newfire.fireID == f) & (newfire.mergeID == m)].fireID_end_t.min()) & (fires.t <= newfire[(newfire.fireID == f) & (newfire.mergeID == m)].mergeID_t.max())\n",
    "            #print(fires.loc[row_mask, [\"modified_id\"]])\n",
    "            fires.loc[row_mask, [\"modified_id\"]] = fires.loc[row_mask, [\"modified_id\"]] + \"_\" + str(f) #fires.loc[(fires.fireID == m) & (fires.t >= newfire[(newfire.fireID == i) & (newfire.mergeID == i)].mergeID_start_t.min()) & (fires.t <= newfire[(newfire.fireID == i) & (newfire.mergeID == i)].mergeID_t.max()), [\"modified_id\"]] + \"_\" + str(i)\n",
    "    return(fires)"
   ]
  },
  {
   "cell_type": "code",
   "execution_count": null,
   "id": "281096c5-a5c9-491e-8815-837c8eaa9bec",
   "metadata": {},
   "outputs": [],
   "source": [
    "new_fires[new_fires.mergeID == '8495']\n",
    "\n",
    "#new_fires[(new_fires.fireID == f) & (new_fires.mergeID == m)].fireID_end_t.min()"
   ]
  },
  {
   "cell_type": "code",
   "execution_count": null,
   "id": "2ab13491-5b86-443e-9130-2f28b2dbd623",
   "metadata": {},
   "outputs": [],
   "source": [
    "fires_cp = fires\n",
    "test_keep = keep_fires_seperate(new_fires, fires_cp)"
   ]
  },
  {
   "cell_type": "code",
   "execution_count": null,
   "id": "acae09f8-0dad-41fe-956f-b092d864bd2a",
   "metadata": {},
   "outputs": [],
   "source": [
    "#fires_cp.loc[row_mask, [\"modified_id\"]] = \"derp\""
   ]
  },
  {
   "cell_type": "code",
   "execution_count": null,
   "id": "d23314e1-2e18-4ced-85a6-788afcc9d5b1",
   "metadata": {},
   "outputs": [],
   "source": [
    "test_keep[[\"fireID\", \"t\", \"modified_id\"]]"
   ]
  },
  {
   "cell_type": "code",
   "execution_count": null,
   "id": "59e4d1de-3184-4ad2-a3cc-388109a738de",
   "metadata": {},
   "outputs": [],
   "source": [
    "test_keep.loc[(test_keep.modified_id.str.contains(\"8495_\")),[\"fireID\",\"t\", \"modified_id\"]]\n"
   ]
  },
  {
   "cell_type": "code",
   "execution_count": null,
   "id": "5728cc72-9ecd-4acf-8151-da053ffef76f",
   "metadata": {},
   "outputs": [],
   "source": [
    "test_keep.loc[(test_keep.modified_id.str.contains(\"8505\")),[\"fireID\", \"modified_id\", \"geometry\"]].explore(style_kwds = {\"fillOpacity\": 0}, column = \"modified_id\")"
   ]
  },
  {
   "cell_type": "code",
   "execution_count": null,
   "id": "527eff3d-c7f8-44c5-bc9f-bd8aa40cd78c",
   "metadata": {},
   "outputs": [],
   "source": [
    "find_multi_merges = new_fires.groupby(\"fireID\").count()\n",
    "find_multi_merges[find_multi_merges.mergeID > 1]"
   ]
  },
  {
   "cell_type": "code",
   "execution_count": null,
   "id": "1c1c88a0-d156-42f4-88bc-993da1017075",
   "metadata": {},
   "outputs": [],
   "source": [
    "test_keep.loc[(test_keep.modified_id.str.contains(\"8495\")),[\"fireID\", \"modified_id\", \"geometry\"]]"
   ]
  },
  {
   "cell_type": "code",
   "execution_count": null,
   "id": "38e45fee-40f8-41a3-bcfe-99cedc69031f",
   "metadata": {},
   "outputs": [],
   "source": [
    "### Get the centriods of each subfire. \n",
    "test_keep[\"is_last_perim\"] = False\n",
    "last_of_unmerged_fires = test_keep.groupby(\"modified_id\").apply(assign_last_perimeter)"
   ]
  },
  {
   "cell_type": "code",
   "execution_count": null,
   "id": "ecd1110d-f08c-4aa2-bda2-1dc27d6f8a5e",
   "metadata": {},
   "outputs": [],
   "source": [
    "last_of_unmerged_fires = last_of_unmerged_fires[last_of_unmerged_fires.is_last_perim == True]\n",
    "last_of_unmerged_fires"
   ]
  },
  {
   "cell_type": "code",
   "execution_count": null,
   "id": "2c1466e0-e431-4f64-a8f2-a399ecebcdb8",
   "metadata": {},
   "outputs": [],
   "source": [
    "# gdf_test['lon'] = gdf_test.centroid.x\n",
    "# gdf_test['lat'] = gdf_test.centroid.y\n",
    "\n",
    "last_of_unmerged_fires = last_of_unmerged_fires.to_crs(\"EPSG:4326\")\n",
    "\n",
    "last_of_unmerged_fires['lon'] = last_of_unmerged_fires.centroid.x\n",
    "last_of_unmerged_fires['lat'] = last_of_unmerged_fires.centroid.y\n",
    "\n",
    "\n",
    "\n",
    "last_of_unmerged_fires['fireID'] = last_of_unmerged_fires['modified_id']\n",
    "last_of_unmerged_fires['data_source'] =  \"/projects/old_shared/fire_weather_vis/Lightning_analysis/fwi_timeline_merge/Final_dataset_as_of_20240209.csv\" \n",
    "\n",
    "\n",
    "last_of_unmerged_fires = last_of_unmerged_fires[['lon', 'lat',\n",
    "       'farea','data_source', 'fireID']]"
   ]
  },
  {
   "cell_type": "code",
   "execution_count": null,
   "id": "68b52904-acee-4ace-a5fa-a1e39dd6467a",
   "metadata": {},
   "outputs": [],
   "source": [
    "last_of_unmerged_fires.to_csv(\"/projects/old_shared/fire_weather_vis/Lightning_analysis/lf_centroids/\" + \"March27_centroids_from_lf_kept_umerged_merged_seperate.csv\")\n",
    "\n",
    "#/projects/old_shared/fire_weather_vis/Lightning_analysis/lf_centroids/"
   ]
  },
  {
   "cell_type": "code",
   "execution_count": null,
   "id": "b96bc2d0-333d-4bbd-b351-00ecba2e1b2f",
   "metadata": {},
   "outputs": [],
   "source": [
    "last_of_unmerged_fires.columns"
   ]
  },
  {
   "cell_type": "code",
   "execution_count": null,
   "id": "a654dfff-06b4-4bd9-9b77-31f63a3546dd",
   "metadata": {},
   "outputs": [],
   "source": [
    "# fires_exp.t = fires_exp.t.astype(\"str\")\n",
    "#fires_exp[['fireID', 't', 'geometry']][fires_exp.t == \"2023-06-23 12:00:00\"].explore(style_kwds = {\"fillOpacity\": 0})"
   ]
  },
  {
   "cell_type": "code",
   "execution_count": null,
   "id": "c38b97d2-c8d3-43e6-8c8c-367243411986",
   "metadata": {
    "tags": []
   },
   "outputs": [],
   "source": [
    "bbox = fires[(fires.fireID == \"8495\") & (~fires.geometry.isna()) & (fires.t == fires[(fires.fireID == \"8495\") & (~fires.geometry.isna())].t.max())].bounds\n",
    "fires.t = fires.t.astype(\"datetime64[ns]\")\n",
    "fires = fires.sort_values(by = \"t\", ascending= False)\n",
    "fires.t = fires.t.astype(\"str\")\n",
    "fires[['fireID', 't', 'geometry']].cx[bbox.values[0][0]:bbox.values[0][2], bbox.values[0][1]:bbox.values[0][3]].explore(style_kwds = {\"fillOpacity\": 0}, column = \"fireID\")"
   ]
  },
  {
   "cell_type": "code",
   "execution_count": null,
   "id": "e5a69e45-c3a7-4224-8b4f-6d372eba2a6d",
   "metadata": {
    "tags": []
   },
   "outputs": [],
   "source": [
    "# some_ids = fires[['fireID', 't', 'geometry']].cx[bbox.values[0][0]:bbox.values[0][2], bbox.values[0][1]:bbox.values[0][3]].fireID.unique()\n",
    "\n",
    "# new_fires[new_fires.fireID.isin(some_ids) | new_fires.mergeID.isin(some_ids)]"
   ]
  },
  {
   "cell_type": "code",
   "execution_count": null,
   "id": "44ed800d-6ed1-4cc1-8fb0-7546af984641",
   "metadata": {
    "tags": []
   },
   "outputs": [],
   "source": [
    "#fires[['fireID', 't', 'geometry']][fires.t == \"2023-06-01 12:00:00\"].cx[bbox.values[0][0]:bbox.values[0][2], bbox.values[0][1]:bbox.values[0][3]].explore(style_kwds = {\"fillOpacity\": 0}, column = \"fireID\")"
   ]
  },
  {
   "cell_type": "code",
   "execution_count": null,
   "id": "c9b217e3-d187-4bbf-95a9-52adcd640c2a",
   "metadata": {
    "tags": []
   },
   "outputs": [],
   "source": [
    "#bbox.values[0]"
   ]
  },
  {
   "cell_type": "code",
   "execution_count": null,
   "id": "b097701e-e1a1-4122-8a66-5acc21657b1e",
   "metadata": {
    "tags": []
   },
   "outputs": [],
   "source": [
    "#sub_new = new_fires[new_fires.fireID.isin(some_ids) | new_fires.mergeID.isin(some_ids)]"
   ]
  },
  {
   "cell_type": "code",
   "execution_count": null,
   "id": "186932eb-5fc7-4bd3-90da-9e0a5a302329",
   "metadata": {
    "tags": []
   },
   "outputs": [],
   "source": [
    "#ultimate_merge(sub_new)"
   ]
  },
  {
   "cell_type": "code",
   "execution_count": null,
   "id": "1a019757-1ea0-43a9-95e6-25fce49901ef",
   "metadata": {
    "tags": []
   },
   "outputs": [],
   "source": [
    "#sub_new"
   ]
  },
  {
   "cell_type": "code",
   "execution_count": null,
   "id": "81f7dcd6-b1c6-4d74-9ead-bb12816c16a4",
   "metadata": {
    "tags": []
   },
   "outputs": [],
   "source": [
    "# # 8645\n",
    "# foi = '8645'\n",
    "\n",
    "# bbox = fires[(fires.fireID == foi) & (~fires.geometry.isna()) & (fires.t == fires[(fires.fireID == foi) & (~fires.geometry.isna())].t.max())].bounds\n",
    "# fires.t = fires.t.astype(\"datetime64[ns]\")\n",
    "# fires = fires.sort_values(by = \"t\", ascending= False)\n",
    "# fires.t = fires.t.astype(\"str\")\n",
    "\n",
    "# some_ids = fires[['fireID', 't', 'geometry']].cx[bbox.values[0][0]:bbox.values[0][2], bbox.values[0][1]:bbox.values[0][3]].fireID.unique()\n",
    "# fires[['fireID', 't', 'geometry']].cx[bbox.values[0][0]:bbox.values[0][2], bbox.values[0][1]:bbox.values[0][3]].explore(style_kwds = {\"fillOpacity\": 0}, column = \"fireID\")\n"
   ]
  },
  {
   "cell_type": "code",
   "execution_count": null,
   "id": "08ffda45-49aa-407e-9dac-2768b4074d81",
   "metadata": {
    "tags": []
   },
   "outputs": [],
   "source": [
    "#new_fires[new_fires.fireID.isin(some_ids) | new_fires.mergeID.isin(some_ids)]"
   ]
  },
  {
   "cell_type": "code",
   "execution_count": null,
   "id": "3d62d0b4-faaf-4748-850b-474f2f9bf250",
   "metadata": {
    "tags": []
   },
   "outputs": [],
   "source": [
    "# colors = {'10887':'red', '10978':'pink', '10718':'blue', '8645':'purple'}\n",
    "# tmp_fires.fireID.map(colors)"
   ]
  },
  {
   "cell_type": "code",
   "execution_count": null,
   "id": "aa9961cc-456d-40df-8d12-65ec8300e0a5",
   "metadata": {
    "tags": []
   },
   "outputs": [],
   "source": [
    "#plt.scatter(np.log(fire3.farea_diff), fire3.FWI, c = fire3.field_response_type.map(colors))\n",
    "\n",
    "# tmp_fires = fires[['fireID', 't', 'geometry']][fires.fireID.isin(some_ids)]\n",
    "# tmp_fires = tmp_fires.dropna()\n",
    "# tmp_fires[\"color\"] = tmp_fires.fireID.map(colors)\n",
    "\n",
    "# tmp_fires.t = tmp_fires.t.astype(\"datetime64[ns]\")\n",
    "# tmp_fires = tmp_fires.sort_values(by = [\"t\"])\n",
    "# tmp_fires.t = tmp_fires.t.astype(\"str\")\n",
    "# for t in tmp_fires.t:\n",
    "#     print(t)\n",
    "#     foo = tmp_fires.copy()\n",
    "#     foo[foo.t != t] = None\n",
    "#     foo.plot(facecolor = \"none\", column = tmp_fires.fireID)\n",
    "#     plt.show()\n",
    "    "
   ]
  },
  {
   "cell_type": "code",
   "execution_count": null,
   "id": "f78b3a59-d237-46e9-93bb-04c71020be48",
   "metadata": {
    "tags": []
   },
   "outputs": [],
   "source": [
    "# fires[['fireID', 't', 'geometry']].cx[bbox.values[0][0]:bbox.values[0][2], bbox.values[0][1]:bbox.values[0][3]].plot( facecolor = \"none\", column = \"fireID\")"
   ]
  },
  {
   "cell_type": "code",
   "execution_count": null,
   "id": "fd987404-c77b-47dd-ba5a-3f1d96e9a850",
   "metadata": {
    "tags": []
   },
   "outputs": [],
   "source": [
    "#\t8244\n",
    "\n",
    "\n",
    "# foi = '8244'\n",
    "\n",
    "# bbox = fires[(fires.fireID == foi) & (~fires.geometry.isna()) & (fires.t == fires[(fires.fireID == foi) & (~fires.geometry.isna())].t.max())].bounds\n",
    "# fires.t = fires.t.astype(\"datetime64[ns]\")\n",
    "# fires = fires.sort_values(by = \"t\", ascending= False)\n",
    "# fires.t = fires.t.astype(\"str\")\n",
    "\n",
    "# some_ids = fires[['fireID', 't', 'geometry']].cx[bbox.values[0][0]:bbox.values[0][2], bbox.values[0][1]:bbox.values[0][3]].fireID.unique()\n",
    "# fires[['fireID', 't', 'geometry']].cx[bbox.values[0][0]:bbox.values[0][2], bbox.values[0][1]:bbox.values[0][3]].explore(style_kwds = {\"fillOpacity\": 0}, column = \"fireID\")"
   ]
  },
  {
   "cell_type": "code",
   "execution_count": null,
   "id": "27c0a065-264a-4645-a80d-fa2654e60d80",
   "metadata": {
    "tags": []
   },
   "outputs": [],
   "source": [
    "### Need to fogure out if I can find more of the merge history in the allfire object, because I'm breaking my mind trying to recreate it\n",
    "## Um actually, the fireIDs in the snapshots and the serialization files don't seem to match. This could be something else going on with the file generation, so I wont panic, but seems pretty weird. \n",
    "\n",
    "# def raw_pixel_times(fireID, date_string, year = \"2023\", path_region = \"QuebecGlobalNRT_3571\"):\n",
    "#     '''\n",
    "#     Function that finds raw times assosiated with VIIRS observations given a datetime and a fireID. \n",
    "#     Will open up serialization file pickle object to find data. \n",
    "#     Recommended to make the date-string as late in fire timeseries as possbile. \n",
    "        \n",
    "#     INPUTS:\n",
    "        \n",
    "#         fireID (int): fireID of fire of interest.\n",
    "#         date_string (str): Date of serialization file to read in. Format of %Y%m%d%p  ex: '20230801AM'.\n",
    "#         year (str): Year that fires took place. Default to 2023. Availible options differ by path_region. \n",
    "#         path_region (str): This constructs the path that the fires are stored in. Default to QuebecGlobalNRT_3571/ \n",
    "        \n",
    "#     '''\n",
    "#     import pickle\n",
    "#     import pandas as pd\n",
    "#     import os\n",
    "#     import sys\n",
    "    \n",
    "#     sys.path.insert(0, '/projects/fireatlas_nrt/')\n",
    "#     path = \"/projects/shared-buckets/gsfc_landslides/FEDSoutput-s3-conus/\"+ path_region + \"/\"+ year + \"/Serialization/\" + date_string + \".pkl\"\n",
    "\n",
    "#     # open a file, where you stored the pickled data\n",
    "#     file = open(path, 'rb')\n",
    "\n",
    "#     # dump information to that file\n",
    "#     data = pickle.load(file)\n",
    "\n",
    "#     # close the file\n",
    "#     file.close()\n",
    "    \n",
    "#     fireID = int(fireID)\n",
    "    \n",
    "#     times = []\n",
    "#     for i in range(0, len(data.fires[fireID].pixels)):\n",
    "#         #print(i)\n",
    "#         times.append(data.fires[fireID].pixels[i].datetime)\n",
    "    \n",
    "#     times = pd.DataFrame(times, columns = ['t'])\n",
    "#     times = times.sort_values(by = ['t'])\n",
    "#     times[\"count\"] = 1\n",
    "#     times_grp = times.groupby(\"t\").count()\n",
    "#     times_grp[\"fireID\"] = str(fireID)\n",
    "    \n",
    "#     return(times_grp)"
   ]
  },
  {
   "cell_type": "code",
   "execution_count": null,
   "id": "567aa3ae-60ee-4e52-951c-6121266f0dd5",
   "metadata": {
    "tags": []
   },
   "outputs": [],
   "source": [
    "# import pickle\n",
    "# import pandas as pd\n",
    "# import os\n",
    "# import sys\n",
    "\n",
    "\n",
    "# fireID = 8244\n",
    "# date_string = \"20230601PM\"\n",
    "# year = \"2023\"\n",
    "# path_region = \"QuebecGlobalNRT_3571\"\n",
    "# sys.path.insert(0, '/projects/fireatlas_nrt/')\n",
    "# path = \"/projects/shared-buckets/gsfc_landslides/FEDSoutput-s3-conus/\"+ path_region + \"/\"+ year + \"/Serialization/\" + date_string + \".pkl\"\n",
    "\n",
    "# snapshot = fv.prep_gdf(date = date_string,layer='perimeter', handle_multi=False,only_lf=True,area_lim=5, year = \"2023\", crs = fires.crs, path_region = path_region)\n",
    "\n",
    "# file = open(path, 'rb')\n",
    "\n",
    "# # dump information to that file\n",
    "# data = pickle.load(file)\n",
    "\n",
    "# # close the file\n",
    "# file.close()\n"
   ]
  },
  {
   "cell_type": "code",
   "execution_count": null,
   "id": "a8496103-1a95-4f62-9db1-14f980859588",
   "metadata": {
    "tags": []
   },
   "outputs": [],
   "source": [
    "# snapshot.cx[bbox.values[0][0]:bbox.values[0][2], bbox.values[0][1]:bbox.values[0][3]].explore()"
   ]
  },
  {
   "cell_type": "code",
   "execution_count": null,
   "id": "62526e1e-2692-4f2c-bbf8-636b9393809c",
   "metadata": {
    "tags": []
   },
   "outputs": [],
   "source": [
    "#data.fires[8244]"
   ]
  },
  {
   "cell_type": "code",
   "execution_count": null,
   "id": "3900aa1c-4ea0-487d-b525-65aa1a23455b",
   "metadata": {
    "tags": []
   },
   "outputs": [],
   "source": [
    "#data.fires"
   ]
  },
  {
   "cell_type": "code",
   "execution_count": null,
   "id": "c529f60c-dec6-449e-87d8-2674ce079867",
   "metadata": {},
   "outputs": [],
   "source": []
  },
  {
   "cell_type": "code",
   "execution_count": null,
   "id": "5c7be275-1c78-4da4-a31d-6cb26ee12be6",
   "metadata": {
    "tags": []
   },
   "outputs": [],
   "source": []
  },
  {
   "cell_type": "code",
   "execution_count": null,
   "id": "1f48cadc-5d0e-41b9-ba13-852711681b94",
   "metadata": {
    "tags": []
   },
   "outputs": [],
   "source": [
    "#fires.columns.isin([\"fireID\"])"
   ]
  },
  {
   "cell_type": "code",
   "execution_count": null,
   "id": "138db783-737a-4b21-afdd-8d09605dc9da",
   "metadata": {
    "tags": []
   },
   "outputs": [],
   "source": [
    "fires[\"is_last_perim\"] = False\n",
    "\n",
    "last_only = fires.groupby(\"fireID\").apply(assign_last_perimeter)"
   ]
  },
  {
   "cell_type": "code",
   "execution_count": null,
   "id": "f27bf0cd-4f33-47db-904f-1fc84d737ac2",
   "metadata": {
    "tags": []
   },
   "outputs": [],
   "source": [
    "last_only = last_only[last_only.is_last_perim == True]"
   ]
  },
  {
   "cell_type": "code",
   "execution_count": null,
   "id": "a2e65bc1-62f0-41ef-97b6-0eb1e86541ff",
   "metadata": {
    "tags": []
   },
   "outputs": [],
   "source": [
    "last_only = last_only[~last_only.geometry.isna()]\n",
    "\n",
    "last_only.t = last_only.t.astype(\"str\")\n",
    "last_only[['fireID', 't', 'geometry']].explore(style_kwds = {\"fillOpacity\": 0}, column = \"fireID\")"
   ]
  },
  {
   "cell_type": "code",
   "execution_count": null,
   "id": "80edae1e-1b24-4c15-8cb1-bcb64be60ac8",
   "metadata": {
    "tags": []
   },
   "outputs": [],
   "source": [
    "\n",
    "foi = '12596'\n",
    "\n",
    "bbox = fires[(fires.fireID == foi) & (~fires.geometry.isna()) & (fires.t == fires[(fires.fireID == foi) & (~fires.geometry.isna())].t.max())].bounds\n",
    "fires.t = fires.t.astype(\"datetime64[ns]\")\n",
    "fires = fires.sort_values(by = \"t\", ascending= False)\n",
    "fires.t = fires.t.astype(\"str\")\n",
    "\n",
    "some_ids = fires[['fireID', 't', 'geometry']].cx[bbox.values[0][0]:bbox.values[0][2], bbox.values[0][1]:bbox.values[0][3]].fireID.unique()\n",
    "fires[['fireID', 't', 'geometry']].cx[bbox.values[0][0]:bbox.values[0][2], bbox.values[0][1]:bbox.values[0][3]].explore(style_kwds = {\"fillOpacity\": 0}, column = \"fireID\")"
   ]
  },
  {
   "cell_type": "code",
   "execution_count": null,
   "id": "be818f2e-d9f5-4f21-b131-9b7d31038bd2",
   "metadata": {
    "tags": []
   },
   "outputs": [],
   "source": [
    "#new_fires[new_fires.fireID.isin(some_ids) | new_fires.mergeID.isin(some_ids)][['fireID', 'mergeID', 'fireID_start_t', 'fireID_end_t']].drop_duplicates()"
   ]
  },
  {
   "cell_type": "code",
   "execution_count": null,
   "id": "75b15ef6-9247-4c1a-9bbe-27453a025383",
   "metadata": {
    "tags": []
   },
   "outputs": [],
   "source": [
    "#new_fires[new_fires.fireID == \"12603\"]"
   ]
  },
  {
   "cell_type": "code",
   "execution_count": null,
   "id": "c3b58c08-465e-426d-805d-60711fddf31b",
   "metadata": {
    "tags": []
   },
   "outputs": [],
   "source": [
    "# sample = ultimate_merge(new_fires[new_fires.fireID.isin(some_ids) | new_fires.mergeID.isin(some_ids)][['fireID', 'fireID_start_t', 'fireID_end_t', 'mergeID',\n",
    "#        'mergeID_start_t']].drop_duplicates())\n",
    "# sample[['fireID', 'mergeID','fireID_start_t', 'fireID_end_t']].drop_duplicates()"
   ]
  },
  {
   "cell_type": "code",
   "execution_count": null,
   "id": "e2584cb0-5701-42bd-a336-37c3a5be1077",
   "metadata": {
    "tags": []
   },
   "outputs": [],
   "source": [
    "# fires[['fireID', 't', 'geometry']][(fires.fireID == \"12596\") & (~fires.geometry.isna())].explore(style_kwds = {\"fillOpacity\": 0}, column = \"t\")"
   ]
  },
  {
   "cell_type": "code",
   "execution_count": null,
   "id": "28ecb080-6393-472b-b1ce-d6e8d6379dfe",
   "metadata": {
    "tags": []
   },
   "outputs": [],
   "source": [
    "# fires[['fireID', 't', 'geometry']][(fires.fireID == \"12595\") & (~fires.geometry.isna())].explore(style_kwds = {\"fillOpacity\": 0}, column = \"t\")"
   ]
  },
  {
   "cell_type": "code",
   "execution_count": null,
   "id": "e628d171-e2ff-454f-a974-a20ff3faf2b9",
   "metadata": {
    "tags": []
   },
   "outputs": [],
   "source": [
    "# #new_fires.co\n",
    "\n",
    "# sample.columns"
   ]
  },
  {
   "cell_type": "code",
   "execution_count": null,
   "id": "51ac3b4b-4e1c-46b4-b2f9-d4d3f7641126",
   "metadata": {
    "tags": []
   },
   "outputs": [],
   "source": [
    "# print(fires[['fireID', 't', 'geometry']][(fires.fireID == \"12595\") & (~fires.geometry.isna())].t.min())\n",
    "# print(fires[['fireID', 't', 'geometry']][(fires.fireID == \"12595\") & (~fires.geometry.isna())].t.max())"
   ]
  },
  {
   "cell_type": "code",
   "execution_count": null,
   "id": "fb933a60-b4bf-45ad-8b73-267db1b5ea1f",
   "metadata": {
    "tags": []
   },
   "outputs": [],
   "source": [
    "# print(fires[['fireID', 't', 'geometry']][(fires.fireID == \"12596\") & (~fires.geometry.isna())].t.min())\n",
    "# print(fires[['fireID', 't', 'geometry']][(fires.fireID == \"12596\") & (~fires.geometry.isna())].t.max())"
   ]
  },
  {
   "cell_type": "code",
   "execution_count": null,
   "id": "5ee171a7-c992-474e-a848-71c6eac71a28",
   "metadata": {
    "tags": []
   },
   "outputs": [],
   "source": [
    "# fires[['fireID', 't', 'geometry']][(fires.fireID == \"12595\") & (~fires.geometry.isna()) & (fires.t == \"2023-07-14 00:00:00\" )].explore(style_kwds = {\"fillOpacity\": 0})"
   ]
  },
  {
   "cell_type": "code",
   "execution_count": null,
   "id": "179c7f36-e216-4007-94ed-14c7e578ed80",
   "metadata": {
    "tags": []
   },
   "outputs": [],
   "source": [
    "# fires = fires[fires.fireID.isin([\"12595\", \"12596\", \"12603\"])]\n",
    "# fires"
   ]
  },
  {
   "cell_type": "code",
   "execution_count": null,
   "id": "29a07c42-be4f-4d8f-a239-de4ab38ef96c",
   "metadata": {
    "tags": []
   },
   "outputs": [],
   "source": [
    "# first_perims = fires[~fires.geometry.isnull()].groupby(\"fireID\").t.min().reset_index()\n",
    "# last_perims = fires[~fires.geometry.isnull()].groupby(\"fireID\").t.max().reset_index()\n",
    "# plot_last = fires.merge(last_perims, on = [\"fireID\", \"t\"], how = 'right')\n",
    "# plot_first = fires.merge(first_perims, on = [\"fireID\", \"t\"], how = 'right')\n",
    "# plot_last = plot_last[[\"fireID\", \"t\", \"geometry\"]]\n",
    "# plot_first = plot_first[[\"fireID\", \"t\", \"geometry\"]]\n",
    "\n",
    "# plot_last[[\"fireID\", \"geometry\"]].explore()"
   ]
  },
  {
   "cell_type": "code",
   "execution_count": null,
   "id": "d6765570-d628-41bf-8870-95c930fcbf7e",
   "metadata": {
    "tags": []
   },
   "outputs": [],
   "source": [
    "# # Check what perimeters spatially intersect into anouther one through time\n",
    "# last_in_last = plot_last.sjoin(plot_last, how = \"left\", predicate = \"intersects\")\n",
    "# last_in_last"
   ]
  },
  {
   "cell_type": "code",
   "execution_count": null,
   "id": "09ca4227-7cf9-4ad4-be80-aca00de50a95",
   "metadata": {
    "tags": []
   },
   "outputs": [],
   "source": [
    "# lil = last_in_last.groupby([\"fireID_left\",]).t_right.min().reset_index() ### Should this be t_left??? # Saying \"for each fireID, give me the earlyiest time something that intersected with it ended\"\n",
    "# lil"
   ]
  },
  {
   "cell_type": "code",
   "execution_count": null,
   "id": "72382a2f-8bd4-416b-9ddb-1eef8b1b6649",
   "metadata": {
    "tags": []
   },
   "outputs": [],
   "source": [
    "# id_with_max_time = lil.merge(last_in_last[[\"t_right\", \"t_left\", \"geometry\", \"fireID_right\", \"fireID_left\"]], on = [\"t_right\", \"fireID_left\"], how = \"right\")\n",
    "# id_with_max_time ## Give me the earliest merging. Note: I think this is why some of the merge combinations are missing? Only selects earlies one, but if multiple skips over them? "
   ]
  },
  {
   "cell_type": "code",
   "execution_count": null,
   "id": "c41cab35-fa07-40ac-a669-22a8131af1b3",
   "metadata": {
    "tags": []
   },
   "outputs": [],
   "source": [
    "# id_with_max_time = id_with_max_time.rename(columns={\"fireID_right\": \"mergeID\", \n",
    "#                                  \"fireID_left\" :\"fireID\",\n",
    "#                                  \"t_right\":\"mergeID_t\",\n",
    "#                                  \"t_left\":\"fireID_end_t\"\n",
    "# })\n",
    "# id_with_max_time\n"
   ]
  },
  {
   "cell_type": "code",
   "execution_count": null,
   "id": "9efac2bb-8e55-4617-8c11-5073603b58e2",
   "metadata": {
    "tags": []
   },
   "outputs": [],
   "source": [
    "# id_with_max_time_check = id_with_max_time[id_with_max_time.fireID_end_t < id_with_max_time.mergeID_t]\n",
    "# id_with_max_time_check ## Well, this actually looks correct. Although, I don't understand why there are two 12603 values? Oh, it merges first into 12596 then into 12595"
   ]
  },
  {
   "cell_type": "code",
   "execution_count": null,
   "id": "06dc147d-54a3-4049-a811-6e6da7607323",
   "metadata": {
    "tags": []
   },
   "outputs": [],
   "source": [
    "# ### FireID the earlier perimeter that later perimeters are merged into. \"mergeID\" describes the merge-ey ## I actually think this is wrong. I think I made it so the \"fireID\" is what is merged into the \"mergeID\"\n",
    "# ## Aka \"FireID\" is merged into \"MergeID\"\n",
    "# fireID_with_merge = id_with_max_time_check.groupby([\"fireID\"]).mergeID.unique().reset_index() \n",
    "# fireID_with_merge\n",
    "# #print(fireID_with_merge)"
   ]
  },
  {
   "cell_type": "code",
   "execution_count": null,
   "id": "4f285bbd-15e8-4c03-a5ab-5a2009d52d40",
   "metadata": {
    "tags": []
   },
   "outputs": [],
   "source": [
    "# mergeID_with_fireID  = id_with_max_time_check.groupby([\"mergeID\"]).fireID.unique().reset_index()\n",
    "# mergeID_with_fireID\n",
    "# #print(mergeID_with_fireID)"
   ]
  },
  {
   "cell_type": "code",
   "execution_count": null,
   "id": "87476fbc-ee44-4fd7-984f-49155b6e77e3",
   "metadata": {
    "tags": []
   },
   "outputs": [],
   "source": [
    "# # Check when the fireID and mergeID started/stopped. \n",
    "# get_merge_start = plot_first[[\"fireID\", \"t\"]].rename(columns={\"fireID\":\"mergeID\", \n",
    "#                                                        \"t\":\"mergeID_start_t\"})\n",
    "# get_merge_start ## Correct? "
   ]
  },
  {
   "cell_type": "code",
   "execution_count": null,
   "id": "0eee4531-b0d8-4755-aa97-23b2b1750d91",
   "metadata": {
    "tags": []
   },
   "outputs": [],
   "source": [
    "# #print(get_merge_start)\n",
    "# get_fireID_start =  plot_first[[\"fireID\", \"t\"]].rename(columns={ \"t\":\"fireID_start_t\"}) ### UMMM mistake? \n",
    "# #print(get_fireID_start)\n",
    "\n",
    "# get_fireID_start"
   ]
  },
  {
   "cell_type": "code",
   "execution_count": null,
   "id": "6738e67f-3ed8-4b25-9861-19eab5bb19e3",
   "metadata": {
    "tags": []
   },
   "outputs": [],
   "source": [
    "# id_map = id_with_max_time_check.merge(get_merge_start, on = [\"mergeID\"])\n",
    "# id_map"
   ]
  },
  {
   "cell_type": "code",
   "execution_count": null,
   "id": "753bc3d8-635c-492c-a108-67ced3ac0ce9",
   "metadata": {
    "tags": []
   },
   "outputs": [],
   "source": [
    "# id_map = id_map.merge(get_fireID_start, on = [\"fireID\"])\n",
    "# id_map"
   ]
  },
  {
   "cell_type": "code",
   "execution_count": null,
   "id": "cfea9131-b536-4376-9ed8-d9a45c856027",
   "metadata": {
    "tags": []
   },
   "outputs": [],
   "source": [
    "# id_map = id_map[[\"fireID\",\"fireID_start_t\",  \"fireID_end_t\", \"mergeID\", \"mergeID_start_t\", \"mergeID_t\"]]\n",
    "# id_map"
   ]
  },
  {
   "cell_type": "code",
   "execution_count": null,
   "id": "f01366b1-160b-4434-ba44-ec13477d7be3",
   "metadata": {
    "tags": []
   },
   "outputs": [],
   "source": [
    "# id_map[\"time_diff_fireIDend_mergeIDstart\"] = id_map.fireID_end_t.astype('datetime64[ns]') - id_map.mergeID_start_t.astype('datetime64[ns]') ## Negative means that mergeID started after fireID ended\n",
    "# id_map"
   ]
  },
  {
   "cell_type": "code",
   "execution_count": null,
   "id": "3fc2eeed-3712-4167-917c-4150a9553279",
   "metadata": {
    "tags": []
   },
   "outputs": [],
   "source": [
    "# test_ult = ultimate_merge(id_map)\n",
    "# test_ult"
   ]
  },
  {
   "cell_type": "code",
   "execution_count": null,
   "id": "bde1c457-2bef-4679-af4b-17303dcc8869",
   "metadata": {
    "tags": []
   },
   "outputs": [],
   "source": []
  },
  {
   "cell_type": "code",
   "execution_count": null,
   "id": "05a03111-71f9-46a0-a5f3-f9fb89a13506",
   "metadata": {
    "tags": []
   },
   "outputs": [],
   "source": [
    "# print(fires[['fireID', 't']][(fires.fireID == \"12603\") & (~fires.geometry.isnull())].t.min())\n",
    "# print(fires[['fireID', 't']][(fires.fireID == \"12603\") & (~fires.geometry.isnull())].t.max())"
   ]
  },
  {
   "cell_type": "code",
   "execution_count": null,
   "id": "a4925237-bb58-4391-b021-8e0b191f4798",
   "metadata": {
    "tags": []
   },
   "outputs": [],
   "source": []
  },
  {
   "cell_type": "code",
   "execution_count": null,
   "id": "6678b0b0-3d43-4304-8598-8ce91eb170d2",
   "metadata": {},
   "outputs": [],
   "source": []
  },
  {
   "cell_type": "code",
   "execution_count": null,
   "id": "96671b80-86f7-4238-be9f-5602e17524cb",
   "metadata": {},
   "outputs": [],
   "source": []
  }
 ],
 "metadata": {
  "kernelspec": {
   "display_name": "Python (fireatlas_oct4_2)",
   "language": "python",
   "name": "fireatlas_oct4"
  },
  "language_info": {
   "codemirror_mode": {
    "name": "ipython",
    "version": 3
   },
   "file_extension": ".py",
   "mimetype": "text/x-python",
   "name": "python",
   "nbconvert_exporter": "python",
   "pygments_lexer": "ipython3",
   "version": "3.11.7"
  }
 },
 "nbformat": 4,
 "nbformat_minor": 5
}
