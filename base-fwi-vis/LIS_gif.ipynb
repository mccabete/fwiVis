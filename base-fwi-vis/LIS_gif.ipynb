{
 "cells": [
  {
   "cell_type": "code",
   "execution_count": 1,
   "id": "initial-minority",
   "metadata": {},
   "outputs": [
    {
     "ename": "ModuleNotFoundError",
     "evalue": "No module named 'imageio'",
     "output_type": "error",
     "traceback": [
      "\u001b[0;31m---------------------------------------------------------------------------\u001b[0m",
      "\u001b[0;31mModuleNotFoundError\u001b[0m                       Traceback (most recent call last)",
      "Cell \u001b[0;32mIn [1], line 1\u001b[0m\n\u001b[0;32m----> 1\u001b[0m \u001b[38;5;28;01mimport\u001b[39;00m \u001b[38;5;21;01mimageio\u001b[39;00m \u001b[38;5;66;03m## Need run a conda install -c conda-forge imageio on base\u001b[39;00m\n\u001b[1;32m      2\u001b[0m \u001b[38;5;28;01mimport\u001b[39;00m \u001b[38;5;21;01mos\u001b[39;00m\n",
      "\u001b[0;31mModuleNotFoundError\u001b[0m: No module named 'imageio'"
     ]
    }
   ],
   "source": [
    "import imageio ## Need run a conda install -c conda-forge imageio on base\n",
    "import os"
   ]
  },
  {
   "cell_type": "code",
   "execution_count": 2,
   "id": "hundred-custom",
   "metadata": {},
   "outputs": [
    {
     "data": {
      "text/plain": [
       "['FWI_Caldor_01.png',\n",
       " 'FWI_Caldor_02.png',\n",
       " 'FWI_Caldor_03.png',\n",
       " 'FWI_Caldor_04.png',\n",
       " 'FWI_Caldor_05.png',\n",
       " 'FWI_Caldor_06.png',\n",
       " 'FWI_Caldor_07.png',\n",
       " 'FWI_Caldor_08.png',\n",
       " 'FWI_Caldor_09.png',\n",
       " 'FWI_Caldor_10.png',\n",
       " 'FWI_Caldor_11.png',\n",
       " 'FWI_Caldor_12.png',\n",
       " 'FWI_Caldor_13.png',\n",
       " 'FWI_Caldor_14.png',\n",
       " 'FWI_Caldor_15.png',\n",
       " 'FWI_Caldor_16.png',\n",
       " 'FWI_Caldor_17.png',\n",
       " 'FWI_Caldor_18.png',\n",
       " 'FWI_Caldor_19.png',\n",
       " 'FWI_Caldor_20.png',\n",
       " 'FWI_Caldor_21.png',\n",
       " 'FWI_Caldor_22.png',\n",
       " 'FWI_Caldor_23.png',\n",
       " 'FWI_Caldor_24.png',\n",
       " 'FWI_Caldor_25.png',\n",
       " 'FWI_Caldor_26.png',\n",
       " 'FWI_Caldor_27.png',\n",
       " 'FWI_Caldor_28.png',\n",
       " 'FWI_Caldor_29.png',\n",
       " 'FWI_Caldor_30.png',\n",
       " 'FWI_Caldor_31.png',\n",
       " 'FWI_Caldor_32.png',\n",
       " 'FWI_Caldor_33.png',\n",
       " 'FWI_Caldor_34.png',\n",
       " 'FWI_Caldor_35.png',\n",
       " 'FWI_Caldor_36.png',\n",
       " 'FWI_Caldor_37.png',\n",
       " 'FWI_Caldor_38.png',\n",
       " 'FWI_Caldor_39.png',\n",
       " 'FWI_Caldor_40.png',\n",
       " 'FWI_Caldor_41.png',\n",
       " 'FWI_Caldor_42.png',\n",
       " 'FWI_Caldor_43.png',\n",
       " 'FWI_Caldor_44.png',\n",
       " 'FWI_Caldor_45.png',\n",
       " 'FWI_Caldor_46.png',\n",
       " 'FWI_Caldor_47.png',\n",
       " 'FWI_Caldor_48.png',\n",
       " 'FWI_Caldor_49.png',\n",
       " 'FWI_Caldor_50.png',\n",
       " 'FWI_Caldor_51.png',\n",
       " 'FWI_Caldor_52.png',\n",
       " 'FWI_Caldor_53.png',\n",
       " 'FWI_Caldor_54.png',\n",
       " 'FWI_Caldor_55.png',\n",
       " 'FWI_Caldor_56.png',\n",
       " 'FWI_Caldor_57.png',\n",
       " 'FWI_Caldor_58.png',\n",
       " 'FWI_Caldor_59.png',\n",
       " 'FWI_Caldor_60.png']"
      ]
     },
     "execution_count": 2,
     "metadata": {},
     "output_type": "execute_result"
    }
   ],
   "source": [
    "#filenames = os.listdir(\"/projects/my-public-bucket/fire_weather_vis/base-fwi-vis/LIS_visualize/SW_fig/\")\n",
    "filenames = os.listdir(\"/projects/my-public-bucket/fire_weather_vis/base-fwi-vis/LIS_visualize/imerge_caldor/\")\n",
    "\n",
    "filenames = filenames[1:]\n",
    "filenames\n",
    "\n"
   ]
  },
  {
   "cell_type": "code",
   "execution_count": 16,
   "id": "explicit-copper",
   "metadata": {},
   "outputs": [],
   "source": [
    "with imageio.get_writer('/projects/my-public-bucket/fire_weather_vis/base-fwi-vis/LIS_visualize/SW_gif/Imerge_only_imageo.gif', mode='I') as writer:\n",
    "   for filename in filenames:\n",
    "       image = imageio.imread((\"/projects/my-public-bucket/fire_weather_vis/base-fwi-vis/LIS_visualize/imerge_caldor/\" + filename))\n",
    "       writer.append_data(image)\n",
    "\n",
    "\n",
    "#images = []\n",
    "#for filename in filenames:\n",
    "#    images.append(imageio.imread(filename))\n",
    "#imageio.mimsave('/projects/my-public-bucket/fire_weather_vis/base-fwi-vis/LIS_visualize/SW_gif/SW.gif', images)"
   ]
  },
  {
   "cell_type": "code",
   "execution_count": 4,
   "id": "harmful-intelligence",
   "metadata": {},
   "outputs": [],
   "source": [
    "# Try with new package to preserve transparency\n",
    "\n",
    "from PIL import Image # I think comes with imageio\n",
    "import glob\n",
    "\n",
    "def gen_frame(path):\n",
    "    im = Image.open(path)\n",
    "    alpha = im.getchannel('A')#\n",
    "\n",
    "    # Convert the image into P mode but only use 255 colors in the palette out of 256\n",
    "    im = im.convert('RGB').convert('P', palette=Image.ADAPTIVE, colors=255)\n",
    "\n",
    "    # Set all pixel values below 128 to 255 , and the rest to 0\n",
    "    mask = Image.eval(alpha, lambda a: 255 if a <=128 else 0)\n",
    "\n",
    "    # Paste the color of index 255 and use alpha as a mask\n",
    "    im.paste(255, mask)\n",
    "\n",
    "    # The transparency index is 255\n",
    "    im.info['transparency'] = 255\n",
    "\n",
    "    return im\n",
    "\n",
    "\n",
    "#im1 = gen_frame('/projects/my-public-bucket/fire_weather_vis/base-fwi-vis/LIS_visualize/SW_fig/Caldor_Soil_moisture_raster_01.png')\n",
    "#im2 = gen_frame('/projects/my-public-bucket/fire_weather_vis/base-fwi-vis/LIS_visualize/SW_fig/Caldor_Soil_moisture_raster_02.png')        \n",
    "#im1.save('/projects/my-public-bucket/fire_weather_vis/base-fwi-vis/LIS_visualize/SW_gif/SGIF.gif', save_all=True, append_images=[im2], loop=5, duration=200, optimize=False)\n",
    "\n",
    "#im1 = gen_frame('/projects/my-public-bucket/fire_weather_vis/base-fwi-vis/LIS_visualize/SW_fig/Caldor_Soil_moisture_raster_01.png')\n",
    "#images = []\n",
    "#for i in range(2 ,len(filenames)):\n",
    "#    im2 = gen_frame((\"/projects/my-public-bucket/fire_weather_vis/base-fwi-vis/LIS_visualize/SW_fig/\" + filenames[i]))\n",
    "#    images = [images, im2]\n",
    "#im1.save('/projects/my-public-bucket/fire_weather_vis/base-fwi-vis/LIS_visualize/SW_gif/SGIF.gif', save_all=True, append_images=images, loop=5, duration=200, optimize=False)\n",
    "    \n",
    "# import glob\n",
    "# from PIL import Image\n",
    "\n",
    "# # filepaths\n",
    "# fp_in = \"/projects/my-public-bucket/fire_weather_vis/base-fwi-vis/LIS_visualize/fwi_fig/Caldor_Soil_moisture_raster_*.png\"\n",
    "# fp_out = \"/projects/my-public-bucket/fire_weather_vis/base-fwi-vis/LIS_visualize/SW_gif/Test2_fake.gif\"\n",
    "\n",
    "# # https://pillow.readthedocs.io/en/stable/handbook/image-file-formats.html#gif\n",
    "# imgs = (Image.open(f) for f in sorted(glob.glob(fp_in)))\n",
    "# imgs_2 = (gen_frame(f) for f in sorted(glob.glob(fp_in)))\n",
    "# img = next(imgs_2)  # extract first image from iterator\n",
    "# img.save(fp=fp_out, format='GIF', append_images=imgs_2,\n",
    "#          save_all=True, duration=200, loop=0)\n"
   ]
  },
  {
   "cell_type": "code",
   "execution_count": 5,
   "id": "round-kinase",
   "metadata": {},
   "outputs": [],
   "source": [
    "## Now the combination figures\n",
    "\n",
    "# import glob\n",
    "# from PIL import Image\n",
    "\n",
    "# # filepaths\n",
    "\n",
    "# fp_in = \"/projects/my-public-bucket/fire_weather_vis/base-fwi-vis/LIS_visualize/fwi_fig/FWI_*.png\"\n",
    "# fp_out = \"/projects/my-public-bucket/fire_weather_vis/base-fwi-vis/LIS_visualize/SW_gif/combo.gif\"\n",
    "\n",
    "# # https://pillow.readthedocs.io/en/stable/handbook/image-file-formats.html#gif\n",
    "# imgs = (Image.open(f) for f in sorted(glob.glob(fp_in)))\n",
    "# imgs_2 = (gen_frame(f) for f in sorted(glob.glob(fp_in)))\n",
    "# img = next(imgs_2)  # extract first image from iterator\n",
    "# img.save(fp=fp_out, format='GIF', append_images=imgs_2,\n",
    "#          save_all=True, duration=200, loop=0)\n"
   ]
  },
  {
   "cell_type": "code",
   "execution_count": 5,
   "id": "naval-truck",
   "metadata": {},
   "outputs": [],
   "source": [
    "### Imerge and LIS\n",
    "\n",
    "import glob\n",
    "from PIL import Image\n",
    "\n",
    "# filepaths\n",
    "\n",
    "fp_in = \"/projects/my-public-bucket/fire_weather_vis/base-fwi-vis/LIS_visualize/fwi_fig_multi/FWI_mulit_*.png\"\n",
    "fp_out = \"/projects/my-public-bucket/fire_weather_vis/base-fwi-vis/LIS_visualize/SW_gif/Imerge_LIS_fwi.gif\"\n",
    "\n",
    "# https://pillow.readthedocs.io/en/stable/handbook/image-file-formats.html#gif\n",
    "imgs = (Image.open(f) for f in sorted(glob.glob(fp_in)))\n",
    "imgs_2 = (gen_frame(f) for f in sorted(glob.glob(fp_in)))\n",
    "img = next(imgs_2)  # extract first image from iterator\n",
    "img.save(fp=fp_out, format='GIF', append_images=imgs_2,\n",
    "         save_all=True, duration=200, loop=0, optimize=True,quality=95)"
   ]
  },
  {
   "cell_type": "code",
   "execution_count": null,
   "id": "exotic-madness",
   "metadata": {},
   "outputs": [],
   "source": [
    "# import glob\n",
    "# from PIL import Image\n",
    "\n",
    "# def gen_frame(path):\n",
    "#     im = Image.open(path)\n",
    "#     alpha = im.getchannel('A')#\n",
    "\n",
    "#     # Convert the image into P mode but only use 255 colors in the palette out of 256\n",
    "#     im = im.convert('RGB').convert('P', palette=Image.ADAPTIVE, colors=255)\n",
    "\n",
    "#     # Set all pixel values below 128 to 255 , and the rest to 0\n",
    "#     mask = Image.eval(alpha, lambda a: 255 if a <=128 else 0)\n",
    "\n",
    "#     # Paste the color of index 255 and use alpha as a mask\n",
    "#     im.paste(255, mask)\n",
    "\n",
    "#     # The transparency index is 255\n",
    "#     im.info['transparency'] = 255\n",
    "\n",
    "#     return im\n",
    "\n",
    "# # filepaths\n",
    "\n",
    "# fp_in = \"/projects/my-public-bucket/fire_weather_vis/base-fwi-vis/LIS_visualize/imerge_caldor/FWI_Caldor_*.png\"\n",
    "# fp_out = \"/projects/my-public-bucket/fire_weather_vis/base-fwi-vis/LIS_visualize/SW_gif/Imerge_only.gif\"\n",
    "\n",
    "# # https://pillow.readthedocs.io/en/stable/handbook/image-file-formats.html#gif\n",
    "# imgs = (Image.open(f) for f in sorted(glob.glob(fp_in)))\n",
    "# imgs_2 = (gen_frame(f) for f in sorted(glob.glob(fp_in)))\n",
    "# img = next(imgs_2)  # extract first image from iterator\n",
    "# img.save(fp=fp_out, format='GIF', append_images=imgs_2,\n",
    "#          save_all=True, duration=200, loop=0, optimize=True,quality=95)"
   ]
  },
  {
   "cell_type": "code",
   "execution_count": 2,
   "id": "exciting-mouse",
   "metadata": {},
   "outputs": [
    {
     "name": "stderr",
     "output_type": "stream",
     "text": [
      "/tmp/ipykernel_6725/2988871888.py:9: DeprecationWarning: ADAPTIVE is deprecated and will be removed in Pillow 10 (2023-07-01). Use Palette.ADAPTIVE instead.\n",
      "  im = im.convert('RGB').convert('P', palette=Image.ADAPTIVE, colors=255)\n"
     ]
    }
   ],
   "source": [
    "import glob\n",
    "from PIL import Image\n",
    "\n",
    "def gen_frame(path):\n",
    "    im = Image.open(path)\n",
    "    alpha = im.getchannel('A')#\n",
    "\n",
    "    # Convert the image into P mode but only use 255 colors in the palette out of 256\n",
    "    im = im.convert('RGB').convert('P', palette=Image.ADAPTIVE, colors=255)\n",
    "\n",
    "    # Set all pixel values below 128 to 255 , and the rest to 0\n",
    "    mask = Image.eval(alpha, lambda a: 255 if a <=128 else 0)\n",
    "\n",
    "    # Paste the color of index 255 and use alpha as a mask\n",
    "    im.paste(255, mask)\n",
    "\n",
    "    # The transparency index is 255\n",
    "    im.info['transparency'] = 255\n",
    "\n",
    "    return im\n",
    "\n",
    "# filepaths\n",
    "#modis\n",
    "\n",
    "#fp_in = \"/projects/my-public-bucket/fire_weather_vis/base-fwi-vis/quebec/openstreet_quebec_snap_*.png\"\n",
    "#fp_out = \"/projects/my-public-bucket/fire_weather_vis/base-fwi-vis/quebec/gif/openstreet.gif\"\n",
    "\n",
    "fp_in = \"/projects/my-public-bucket/fire_weather_vis/base-fwi-vis/quebec/modis_quebec_snap_*.png\"\n",
    "fp_out = \"/projects/old_shared/fire_weather_vis/base-fwi-vis/quebec/gif/modis.gif\"\n",
    "\n",
    "# https://pillow.readthedocs.io/en/stable/handbook/image-file-formats.html#gif\n",
    "imgs = (Image.open(f) for f in sorted(glob.glob(fp_in)))\n",
    "imgs_2 = (gen_frame(f) for f in sorted(glob.glob(fp_in)))\n",
    "img = next(imgs_2)  # extract first image from iterator\n",
    "img.save(fp=fp_out, format='GIF', append_images=imgs_2,\n",
    "         save_all=True, duration=700, loop=0, optimize=True,quality=95)"
   ]
  },
  {
   "cell_type": "code",
   "execution_count": 3,
   "id": "directed-caribbean",
   "metadata": {},
   "outputs": [
    {
     "data": {
      "text/plain": [
       "\u001b[0;31mSignature:\u001b[0m \u001b[0mimg\u001b[0m\u001b[0;34m.\u001b[0m\u001b[0msave\u001b[0m\u001b[0;34m(\u001b[0m\u001b[0mfp\u001b[0m\u001b[0;34m,\u001b[0m \u001b[0mformat\u001b[0m\u001b[0;34m=\u001b[0m\u001b[0;32mNone\u001b[0m\u001b[0;34m,\u001b[0m \u001b[0;34m**\u001b[0m\u001b[0mparams\u001b[0m\u001b[0;34m)\u001b[0m\u001b[0;34m\u001b[0m\u001b[0;34m\u001b[0m\u001b[0m\n",
       "\u001b[0;31mDocstring:\u001b[0m\n",
       "Saves this image under the given filename.  If no format is\n",
       "specified, the format to use is determined from the filename\n",
       "extension, if possible.\n",
       "\n",
       "Keyword options can be used to provide additional instructions\n",
       "to the writer. If a writer doesn't recognise an option, it is\n",
       "silently ignored. The available options are described in the\n",
       ":doc:`image format documentation\n",
       "<../handbook/image-file-formats>` for each writer.\n",
       "\n",
       "You can use a file object instead of a filename. In this case,\n",
       "you must always specify the format. The file object must\n",
       "implement the ``seek``, ``tell``, and ``write``\n",
       "methods, and be opened in binary mode.\n",
       "\n",
       ":param fp: A filename (string), pathlib.Path object or file object.\n",
       ":param format: Optional format override.  If omitted, the\n",
       "   format to use is determined from the filename extension.\n",
       "   If a file object was used instead of a filename, this\n",
       "   parameter should always be used.\n",
       ":param params: Extra parameters to the image writer.\n",
       ":returns: None\n",
       ":exception ValueError: If the output format could not be determined\n",
       "   from the file name.  Use the format option to solve this.\n",
       ":exception OSError: If the file could not be written.  The file\n",
       "   may have been created, and may contain partial data.\n",
       "\u001b[0;31mFile:\u001b[0m      ~/myenvs/fireatlas_oct4/lib/python3.8/site-packages/PIL/Image.py\n",
       "\u001b[0;31mType:\u001b[0m      method\n"
      ]
     },
     "metadata": {},
     "output_type": "display_data"
    }
   ],
   "source": [
    "?img.save"
   ]
  },
  {
   "cell_type": "code",
   "execution_count": 11,
   "id": "conventional-league",
   "metadata": {
    "tags": []
   },
   "outputs": [
    {
     "name": "stderr",
     "output_type": "stream",
     "text": [
      "/tmp/ipykernel_836/1638111651.py:9: DeprecationWarning: ADAPTIVE is deprecated and will be removed in Pillow 10 (2023-07-01). Use Palette.ADAPTIVE instead.\n",
      "  im = im.convert('RGB').convert('P', palette=Image.ADAPTIVE, colors=255)\n"
     ]
    }
   ],
   "source": [
    "import glob\n",
    "from PIL import Image\n",
    "\n",
    "def gen_frame(path):\n",
    "    im = Image.open(path)\n",
    "    alpha = im.getchannel('A')#\n",
    "\n",
    "    # Convert the image into P mode but only use 255 colors in the palette out of 256\n",
    "    im = im.convert('RGB').convert('P', palette=Image.ADAPTIVE, colors=255)\n",
    "\n",
    "    # Set all pixel values below 128 to 255 , and the rest to 0\n",
    "    mask = Image.eval(alpha, lambda a: 255 if a <=128 else 0)\n",
    "\n",
    "    # Paste the color of index 255 and use alpha as a mask\n",
    "    im.paste(255, mask)\n",
    "\n",
    "    # The transparency index is 255\n",
    "    im.info['transparency'] = 255\n",
    "\n",
    "    return im\n",
    "\n",
    "# filepaths\n",
    "#modis\n",
    "\n",
    "#fp_in = \"/projects/my-public-bucket/fire_weather_vis/base-fwi-vis/quebec/openstreet_quebec_snap_*.png\"\n",
    "#fp_out = \"/projects/my-public-bucket/fire_weather_vis/base-fwi-vis/quebec/gif/openstreet.gif\"\n",
    "\n",
    "fp_in = \"/projects/old_shared/fire_weather_vis/flats_fire/modis*.png\"\n",
    "fp_out = \"/projects/old_shared/fire_weather_vis/flats_fire/gif/flats_modis.gif\"\n",
    "\n",
    "# https://pillow.readthedocs.io/en/stable/handbook/image-file-formats.html#gif\n",
    "imgs = (Image.open(f) for f in sorted(glob.glob(fp_in)))\n",
    "imgs_2 = (gen_frame(f) for f in sorted(glob.glob(fp_in)))\n",
    "img = next(imgs_2)  # extract first image from iterator\n",
    "img.save(fp=fp_out, format='GIF', append_images=imgs_2,\n",
    "         save_all=True, duration=700, loop=0, optimize=True,quality=95)"
   ]
  },
  {
   "cell_type": "code",
   "execution_count": 10,
   "id": "a7a58aee-b788-4a8f-ab95-3adcdba487a7",
   "metadata": {
    "tags": []
   },
   "outputs": [
    {
     "name": "stderr",
     "output_type": "stream",
     "text": [
      "/tmp/ipykernel_836/3749464307.py:9: DeprecationWarning: ADAPTIVE is deprecated and will be removed in Pillow 10 (2023-07-01). Use Palette.ADAPTIVE instead.\n",
      "  im = im.convert('RGB').convert('P', palette=Image.ADAPTIVE, colors=255)\n"
     ]
    }
   ],
   "source": [
    "import glob\n",
    "from PIL import Image\n",
    "\n",
    "def gen_frame(path):\n",
    "    im = Image.open(path)\n",
    "    alpha = im.getchannel('A')#\n",
    "\n",
    "    # Convert the image into P mode but only use 255 colors in the palette out of 256\n",
    "    im = im.convert('RGB').convert('P', palette=Image.ADAPTIVE, colors=255)\n",
    "\n",
    "    # Set all pixel values below 128 to 255 , and the rest to 0\n",
    "    mask = Image.eval(alpha, lambda a: 255 if a <=128 else 0)\n",
    "\n",
    "    # Paste the color of index 255 and use alpha as a mask\n",
    "    im.paste(255, mask)\n",
    "\n",
    "    # The transparency index is 255\n",
    "    im.info['transparency'] = 255\n",
    "\n",
    "    return im\n",
    "\n",
    "# filepaths\n",
    "#modis\n",
    "\n",
    "#fp_in = \"/projects/my-public-bucket/fire_weather_vis/base-fwi-vis/quebec/openstreet_quebec_snap_*.png\"\n",
    "#fp_out = \"/projects/my-public-bucket/fire_weather_vis/base-fwi-vis/quebec/gif/openstreet.gif\"\n",
    "\n",
    "fp_in = \"/projects/old_shared/fire_weather_vis/base-fwi-vis/california_sept/openstreet_CA_snap_*.png\"\n",
    "fp_out = \"/projects/old_shared/fire_weather_vis/base-fwi-vis/california_sept/CA_algo_demo_snap.gif\"\n",
    "\n",
    "# https://pillow.readthedocs.io/en/stable/handbook/image-file-formats.html#gif\n",
    "imgs = (Image.open(f) for f in sorted(glob.glob(fp_in)))\n",
    "imgs_2 = (gen_frame(f) for f in sorted(glob.glob(fp_in)))\n",
    "img = next(imgs_2)  # extract first image from iterator\n",
    "img.save(fp=fp_out, format='GIF', append_images=imgs_2,\n",
    "         save_all=True, duration=496, loop=0, optimize=True,quality=95)"
   ]
  },
  {
   "cell_type": "code",
   "execution_count": 6,
   "id": "34f82663-e355-47ba-84a4-7820b5d10801",
   "metadata": {
    "tags": []
   },
   "outputs": [
    {
     "data": {
      "text/plain": [
       "\u001b[0;31mSignature:\u001b[0m \u001b[0mimg\u001b[0m\u001b[0;34m.\u001b[0m\u001b[0msave\u001b[0m\u001b[0;34m(\u001b[0m\u001b[0mfp\u001b[0m\u001b[0;34m,\u001b[0m \u001b[0mformat\u001b[0m\u001b[0;34m=\u001b[0m\u001b[0;32mNone\u001b[0m\u001b[0;34m,\u001b[0m \u001b[0;34m**\u001b[0m\u001b[0mparams\u001b[0m\u001b[0;34m)\u001b[0m\u001b[0;34m\u001b[0m\u001b[0;34m\u001b[0m\u001b[0m\n",
       "\u001b[0;31mDocstring:\u001b[0m\n",
       "Saves this image under the given filename.  If no format is\n",
       "specified, the format to use is determined from the filename\n",
       "extension, if possible.\n",
       "\n",
       "Keyword options can be used to provide additional instructions\n",
       "to the writer. If a writer doesn't recognise an option, it is\n",
       "silently ignored. The available options are described in the\n",
       ":doc:`image format documentation\n",
       "<../handbook/image-file-formats>` for each writer.\n",
       "\n",
       "You can use a file object instead of a filename. In this case,\n",
       "you must always specify the format. The file object must\n",
       "implement the ``seek``, ``tell``, and ``write``\n",
       "methods, and be opened in binary mode.\n",
       "\n",
       ":param fp: A filename (string), pathlib.Path object or file object.\n",
       ":param format: Optional format override.  If omitted, the\n",
       "   format to use is determined from the filename extension.\n",
       "   If a file object was used instead of a filename, this\n",
       "   parameter should always be used.\n",
       ":param params: Extra parameters to the image writer.\n",
       ":returns: None\n",
       ":exception ValueError: If the output format could not be determined\n",
       "   from the file name.  Use the format option to solve this.\n",
       ":exception OSError: If the file could not be written.  The file\n",
       "   may have been created, and may contain partial data.\n",
       "\u001b[0;31mFile:\u001b[0m      ~/myenvs/fireatlas_oct4/lib/python3.8/site-packages/PIL/Image.py\n",
       "\u001b[0;31mType:\u001b[0m      method\n"
      ]
     },
     "metadata": {},
     "output_type": "display_data"
    }
   ],
   "source": [
    "?img.save"
   ]
  },
  {
   "cell_type": "code",
   "execution_count": null,
   "id": "2122e815-9d00-4307-97cb-7b931a9bbd47",
   "metadata": {},
   "outputs": [],
   "source": []
  }
 ],
 "metadata": {
  "kernelspec": {
   "display_name": "Python (fireatlas_oct4_2)",
   "language": "python",
   "name": "fireatlas_oct4"
  },
  "language_info": {
   "codemirror_mode": {
    "name": "ipython",
    "version": 3
   },
   "file_extension": ".py",
   "mimetype": "text/x-python",
   "name": "python",
   "nbconvert_exporter": "python",
   "pygments_lexer": "ipython3",
   "version": "3.8.16"
  }
 },
 "nbformat": 4,
 "nbformat_minor": 5
}
