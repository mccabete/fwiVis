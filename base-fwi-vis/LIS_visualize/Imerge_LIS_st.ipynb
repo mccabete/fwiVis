{
 "cells": [
  {
   "cell_type": "code",
   "execution_count": 7,
   "id": "aa554540",
   "metadata": {},
   "outputs": [],
   "source": [
    "import fwiVis.fwiVis as fv #somehow not including updates to code? \n",
    "\n",
    "import s3fs\n",
    "s3 = s3fs.S3FileSystem(anon=False)\n",
    "from math import cos, asin, sqrt\n",
    "import re\n",
    "\n",
    "import numpy as np\n",
    "import geopandas as gpd\n",
    "import pandas as pd\n",
    "from matplotlib import pyplot as plt\n",
    "import os\n",
    "import rioxarray as rio\n",
    "import xarray as xr\n",
    "import rasterio\n",
    "import glob\n",
    "from geocube.api.core import make_geocube\n",
    "from shapely.errors import ShapelyDeprecationWarning\n",
    "from shapely.geometry import Point\n",
    "import warnings\n",
    "import folium\n",
    "from folium import plugins\n",
    "warnings.filterwarnings(\"ignore\", category=ShapelyDeprecationWarning)\n",
    "import zarr #Didn't build into the env, needed to run \"mamba install -c conda-forge zarr\" took awhile, and was killed w/out mamba. Wait, it actually only worked with pip? \n",
    "import rasterio\n",
    "from rasterio.plot import plotting_extent\n",
    "import datetime as dt\n",
    "from datetime import timedelta, date\n",
    "#import imageio ## Need a diff script for image porcessing. \n",
    "#conda install -c conda-forge netCDF4 #maybe pip install? May have already been satisfied\n",
    "# pip install h5netcdf\n"
   ]
  },
  {
   "cell_type": "code",
   "execution_count": 2,
   "id": "d326f8c6",
   "metadata": {},
   "outputs": [],
   "source": [
    "def daterange(date1, date2):\n",
    "    for n in range(int ((date2 - date1).days)+1):\n",
    "        yield date1 + timedelta(n)\n",
    "\n",
    "start_dt = date(2021, 8, 1)\n",
    "end_dt = date(2021, 9, 30)\n",
    "dates = []\n",
    "for dt in daterange(start_dt, end_dt):\n",
    "    date = dt.strftime(\"%Y%m%d\")\n",
    "    #print(date)\n",
    "    dates.append(date)"
   ]
  },
  {
   "cell_type": "code",
   "execution_count": 3,
   "id": "b2497131",
   "metadata": {},
   "outputs": [],
   "source": [
    "#s3.ls(\"s3://veda-data-store-staging/EIS/COG/LIS_FORC_FWI_WEST_US/FWI\")"
   ]
  },
  {
   "cell_type": "code",
   "execution_count": 5,
   "id": "be27be1c",
   "metadata": {},
   "outputs": [
    {
     "name": "stderr",
     "output_type": "stream",
     "text": [
      "/tmp/ipykernel_8679/388185563.py:1: DeprecationWarning: open_rasterio is Deprecated in favor of rioxarray. For information about transitioning, see: https://corteva.github.io/rioxarray/stable/getting_started/getting_started.html\n",
      "  fwi = xr.open_rasterio(\"s3://veda-data-store-staging/EIS/COG/LIS_FORC_FWI_WEST_US/FWI/LIS_FWI_COMP_20UTC_200207040000.d01.FWI.cog\")\n"
     ]
    }
   ],
   "source": [
    "fwi = xr.open_rasterio(\"s3://veda-data-store-staging/EIS/COG/LIS_FORC_FWI_WEST_US/FWI/LIS_FWI_COMP_20UTC_200207040000.d01.FWI.cog\")"
   ]
  },
  {
   "cell_type": "code",
   "execution_count": 6,
   "id": "f0d66f92",
   "metadata": {},
   "outputs": [],
   "source": [
    "#fwi.plot()\n",
    "\n",
    "min_lat = 38.5\n",
    "max_lat = 39\n",
    "min_lon = -121\n",
    "max_lon = -119.50\n",
    "\n",
    "subset = fwi.rio.clip_box(minx=min_lon, miny=min_lat, maxx=max_lon, maxy=max_lat)\n",
    "#subset.plot()\n"
   ]
  },
  {
   "cell_type": "code",
   "execution_count": null,
   "id": "5e96e850",
   "metadata": {},
   "outputs": [],
   "source": []
  },
  {
   "cell_type": "code",
   "execution_count": 8,
   "id": "12c2086b",
   "metadata": {},
   "outputs": [
    {
     "ename": "TypeError",
     "evalue": "st_avail() got an unexpected keyword argument 'path_s3'",
     "output_type": "error",
     "traceback": [
      "\u001b[0;31m---------------------------------------------------------------------------\u001b[0m",
      "\u001b[0;31mTypeError\u001b[0m                                 Traceback (most recent call last)",
      "Cell \u001b[0;32mIn [8], line 5\u001b[0m\n\u001b[1;32m      2\u001b[0m st_id_map \u001b[38;5;241m=\u001b[39m pd\u001b[38;5;241m.\u001b[39mread_csv(\u001b[38;5;124m\"\u001b[39m\u001b[38;5;124m/projects/my-public-bucket/fire_weather_vis/ref_data/isd-history.csv\u001b[39m\u001b[38;5;124m\"\u001b[39m) \u001b[38;5;66;03m## For mappting ID's to lat lon\u001b[39;00m\n\u001b[1;32m      4\u001b[0m \u001b[38;5;66;03m# Helper Variable\u001b[39;00m\n\u001b[0;32m----> 5\u001b[0m stations \u001b[38;5;241m=\u001b[39m fv\u001b[38;5;241m.\u001b[39mst_avail(files, st_id_map \u001b[38;5;241m=\u001b[39m st_id_map, path_s3 \u001b[38;5;241m=\u001b[39m \u001b[38;5;124m\"\u001b[39m\u001b[38;5;124mveda-data-store-staging/EIS/other/station-FWI/20170101.20221108.hrlyInterp/FWI/\u001b[39m\u001b[38;5;124m\"\u001b[39m)\n\u001b[1;32m      6\u001b[0m stations\n\u001b[1;32m      7\u001b[0m st_dict \u001b[38;5;241m=\u001b[39m stations[[\u001b[38;5;124m'\u001b[39m\u001b[38;5;124mLat\u001b[39m\u001b[38;5;124m'\u001b[39m, \u001b[38;5;124m'\u001b[39m\u001b[38;5;124mLon\u001b[39m\u001b[38;5;124m'\u001b[39m]]\u001b[38;5;241m.\u001b[39mto_dict(\u001b[38;5;124m'\u001b[39m\u001b[38;5;124mrecords\u001b[39m\u001b[38;5;124m'\u001b[39m)\n",
      "\u001b[0;31mTypeError\u001b[0m: st_avail() got an unexpected keyword argument 'path_s3'"
     ]
    }
   ],
   "source": [
    "files = s3.ls(\"s3://veda-data-store-staging/EIS/other/station-FWI/20170101.20221108.hrlyInterp/FWI/\") # This will update through time. Not nessisary now because focus on 2019\n",
    "st_id_map = pd.read_csv(\"/projects/my-public-bucket/fire_weather_vis/ref_data/isd-history.csv\") ## For mappting ID's to lat lon\n",
    "\n",
    "# Helper Variable\n",
    "stations = fv.st_avail(files, st_id_map = st_id_map, path_s3 = \"veda-data-store-staging/EIS/other/station-FWI/20170101.20221108.hrlyInterp/FWI/\")\n",
    "stations\n",
    "st_dict = stations[['Lat', 'Lon']].to_dict('records')\n",
    "\n",
    "#\n",
    "\n",
    "foi = [{\"Lat\":38.586 , \n",
    "        \"Lon\":-120.537833 \n",
    "    \n",
    "}]\n",
    "foi = pd.DataFrame(foi)\n",
    "st_cls = fv.closest(st_dict, foi)\n",
    "st = fv.get_st(lat = st_cls[\"Lat\"], lon = st_cls[\"Lon\"], stations = stations)\n",
    "\n",
    "#gdf = gdf.sort_values(by = ['t']) ## Need to sort or timeseries jumps around\n",
    "#gdf['t'] = gdf['t'].astype('datetime64[ns]')\n",
    "\n",
    "#full_fr = fv.fr_st_merge(gdf, st, sub = True)\n",
    "#full_fr\n",
    "st\n",
    "\n",
    "## Subset to relvatn dates (from CAL FIRE)\n",
    "\n",
    "# Start 08/14/21 6:54 PM,  End 10/21/21 8:18AM\n",
    "\n",
    "st = st[st.time > \"2021-08-01 12:00:00\"]\n",
    "\n",
    "st = st[st.time < \"2021-09-30 12:00:00\"]"
   ]
  },
  {
   "cell_type": "code",
   "execution_count": 8,
   "id": "9965293e",
   "metadata": {},
   "outputs": [
    {
     "ename": "AttributeError",
     "evalue": "module 'fwiVis.fwiVis' has no attribute 'load_large_fire'",
     "output_type": "error",
     "traceback": [
      "\u001b[0;31m---------------------------------------------------------------------------\u001b[0m",
      "\u001b[0;31mAttributeError\u001b[0m                            Traceback (most recent call last)",
      "Cell \u001b[0;32mIn [8], line 2\u001b[0m\n\u001b[1;32m      1\u001b[0m fireID \u001b[38;5;241m=\u001b[39m \u001b[38;5;124m'\u001b[39m\u001b[38;5;124m0\u001b[39m\u001b[38;5;124m'\u001b[39m\n\u001b[0;32m----> 2\u001b[0m gdf \u001b[38;5;241m=\u001b[39m fv\u001b[38;5;241m.\u001b[39mload_large_fire(fireID, year \u001b[38;5;241m=\u001b[39m \u001b[38;5;124m\"\u001b[39m\u001b[38;5;124m2021\u001b[39m\u001b[38;5;124m\"\u001b[39m, path_region\u001b[38;5;241m=\u001b[39m\u001b[38;5;124m\"\u001b[39m\u001b[38;5;124mCaldor\u001b[39m\u001b[38;5;124m\"\u001b[39m)\n\u001b[1;32m      3\u001b[0m gdf[\u001b[38;5;124m'\u001b[39m\u001b[38;5;124mtimediff\u001b[39m\u001b[38;5;124m'\u001b[39m] \u001b[38;5;241m=\u001b[39m gdf\u001b[38;5;241m.\u001b[39mt\u001b[38;5;241m.\u001b[39mastype(\u001b[38;5;124m\"\u001b[39m\u001b[38;5;124mdatetime64[ns]\u001b[39m\u001b[38;5;124m\"\u001b[39m) \u001b[38;5;241m-\u001b[39m pd\u001b[38;5;241m.\u001b[39mto_datetime(\u001b[38;5;124m\"\u001b[39m\u001b[38;5;124m2021-08-14 18:00:00\u001b[39m\u001b[38;5;124m\"\u001b[39m)\n\u001b[1;32m      4\u001b[0m gdf[\u001b[38;5;124m'\u001b[39m\u001b[38;5;124mtimediff\u001b[39m\u001b[38;5;124m'\u001b[39m] \u001b[38;5;241m=\u001b[39m gdf\u001b[38;5;241m.\u001b[39mtimediff\u001b[38;5;241m.\u001b[39mastype(\u001b[38;5;124m\"\u001b[39m\u001b[38;5;124mint\u001b[39m\u001b[38;5;124m\"\u001b[39m)\n",
      "\u001b[0;31mAttributeError\u001b[0m: module 'fwiVis.fwiVis' has no attribute 'load_large_fire'"
     ]
    }
   ],
   "source": [
    "fireID = '0'\n",
    "gdf = fv.load_large_fire(fireID, year = \"2021\", path_region=\"Caldor\")\n",
    "gdf['timediff'] = gdf.t.astype(\"datetime64[ns]\") - pd.to_datetime(\"2021-08-14 18:00:00\")\n",
    "gdf['timediff'] = gdf.timediff.astype(\"int\")\n",
    "#gdf[\"t\"] = gdf[\"t\"].astype(\"str\")\n",
    "gdf.t.astype(\"datetime64[ns]\")\n",
    "gdf = gdf.sort_values(by = [\"t\"])\n",
    "#gdf.set_index(\"t\")"
   ]
  },
  {
   "cell_type": "code",
   "execution_count": null,
   "id": "fe6be37c",
   "metadata": {},
   "outputs": [],
   "source": [
    "# veda-data-store-staging/EIS/COG/LIS_FORC_FWI_WEST_US/FWI/LIS_FWI_COMP_20UTC_200207040000.d01.FWI.cog \n",
    "d0 = 0\n",
    "len_days = len(dates)\n",
    "for i in range(len_days - 1, len_days):\n",
    "    print(i)\n",
    "    root_moist = xr.open_rasterio(\"s3://veda-data-store-staging/EIS/COG/LIS_FORC_FWI_WEST_US/FWI/LIS_FWI_COMP_20UTC_\" + dates[i] +\"0000.d01.FWI.cog\")\n",
    "    subset = root_moist.rio.clip_box(minx=min_lon, miny=min_lat, maxx=max_lon, maxy=max_lat)\n",
    "    f, ax = plt.subplots()\n",
    "    subset.plot(ax = ax, cmap = \"bwr\",  vmin = 0, vmax = 100, label = \"FWI\") # vmin = 0, vmax = 1,\n",
    "    #ax.set_xlable(\"Longitude\")\n",
    "    #ax.xlable(\"Longitude\")\n",
    "    #sub_plot = ax.plot(subset, cmap = \"bwr_r\", vmin= 1, vmax = 1)\n",
    "    if(i <= 6):\n",
    "\n",
    "        gdf[d0:i].plot(ax=ax, facecolor=\"none\", edgecolor='none')\n",
    "    if(i > 6):\n",
    "        index = i - 6\n",
    "        gdf[d0:index].plot(ax=ax, facecolor=\"yellow\", edgecolor='black') #facecolor=\"None\"\n",
    "    #ax.xlable(\"Longitude\")\n",
    "    ax.set_ylabel(\"Latitude\", color = \"black\")\n",
    "    ax.set_xlabel(\"Longitude\", color = \"black\")\n",
    "    ax.set_title(\"FWI\", color = \"black\")\n",
    "    #ax.spines[\"bottom\"].set_color('white')\n",
    "    #ax.spines[\"top\"].set_color('white')\n",
    "    #ax.spines[\"left\"].set_color('white')\n",
    "    #ax.spines[\"right\"].set_color('white')\n",
    "    #ax.xaxis.label.set_color('white')\n",
    "    #ax.tick_params(colors='white')\n",
    "    #plt.savefig(fname = (\"\"+ m + \"_vs_\" + f+\".pdf\"))\n",
    "    #params = {\"text.color\" : \"white\",\n",
    "    #      \"xtick.color\" : \"white\",\n",
    "    #      \"ytick.color\" : \"white\"}\n",
    "    #plt.rcParams.update(params)\n",
    "    if(i < 10):\n",
    "        i_write = \"0\" + str(i)\n",
    "    else:\n",
    "        i_write = str(i)\n",
    "    #plt.savefig('/projects/my-public-bucket/fire_weather_vis/base-fwi-vis/LIS_visualize/SW_fig/Caldor_Soil_moisture_raster_' + i_write + '.png', transparent=True, dpi = 450)\n",
    "    plt.show()"
   ]
  },
  {
   "cell_type": "code",
   "execution_count": null,
   "id": "b5227ede",
   "metadata": {},
   "outputs": [],
   "source": [
    "# IMERGE Data Read in. \n",
    "s3.ls(\"s3://veda-data-store-staging/EIS/zarr/GEOS5_FWI_GPM_LATE_v5_Daily.zarr/GPM.LATE.v5_FWI/0.0.0\")\n",
    "geos_fwi = xr.open_dataset(\"s3://veda-data-store-staging/EIS/zarr/GEOS5_FWI_GPM_LATE_v5_Daily.zarr\", engine=\"zarr\")\n",
    "geos_fwi\n"
   ]
  },
  {
   "cell_type": "code",
   "execution_count": 8,
   "id": "20e764ae",
   "metadata": {},
   "outputs": [],
   "source": [
    "\n",
    "#geos_fwi.\n",
    "#geos_short = geos_fwi.where((geos_fwi.time.astype(\"datetime64[ns]\") > dt.datetime.strptime(\"2021-08-01\", \"%Y-%m-%d\")) & (geos_fwi.time.astype(\"datetime64[ns]\") < dt.strptime(\"2021-09-30\", \"%Y-%m-%d\")))"
   ]
  },
  {
   "cell_type": "code",
   "execution_count": null,
   "id": "49f22e4c",
   "metadata": {},
   "outputs": [],
   "source": [
    "#geos_fwi = geos_fwi.rio.set_spatial_dims(x_dim= \"lat\", y_dim = \"lon\") # \n",
    "#?geos_fwi.set_coords"
   ]
  },
  {
   "cell_type": "code",
   "execution_count": 35,
   "id": "414b0907",
   "metadata": {},
   "outputs": [
    {
     "ename": "NameError",
     "evalue": "name 'fio' is not defined",
     "output_type": "error",
     "traceback": [
      "\u001b[0;31m---------------------------------------------------------------------------\u001b[0m",
      "\u001b[0;31mNameError\u001b[0m                                 Traceback (most recent call last)",
      "Cell \u001b[0;32mIn [35], line 15\u001b[0m\n\u001b[1;32m     13\u001b[0m gsmall \u001b[38;5;241m=\u001b[39m g_fwi\u001b[38;5;241m.\u001b[39msel(time \u001b[38;5;241m=\u001b[39m\u001b[38;5;124m\"\u001b[39m\u001b[38;5;124m2021-08\u001b[39m\u001b[38;5;124m\"\u001b[39m, lat \u001b[38;5;241m=\u001b[39m \u001b[38;5;28mslice\u001b[39m(min_lat, max_lat), lon \u001b[38;5;241m=\u001b[39m \u001b[38;5;28mslice\u001b[39m(min_lon, max_lon))\n\u001b[1;32m     14\u001b[0m gsmall\u001b[38;5;241m.\u001b[39msel(time \u001b[38;5;241m=\u001b[39m \u001b[38;5;124m\"\u001b[39m\u001b[38;5;124m2021-08-01\u001b[39m\u001b[38;5;124m\"\u001b[39m)\u001b[38;5;241m.\u001b[39mplot()\n\u001b[0;32m---> 15\u001b[0m gsmall\u001b[38;5;241m.\u001b[39msel(lat \u001b[38;5;241m=\u001b[39m fio\u001b[38;5;241m.\u001b[39mlat, lon \u001b[38;5;241m=\u001b[39m fio\u001b[38;5;241m.\u001b[39mlon)\u001b[38;5;241m.\u001b[39mplot()\n",
      "\u001b[0;31mNameError\u001b[0m: name 'fio' is not defined"
     ]
    },
    {
     "data": {
      "image/png": "[encoded data removed]",
      "text/plain": [
       "<Figure size 640x480 with 2 Axes>"
      ]
     },
     "metadata": {},
     "output_type": "display_data"
    }
   ],
   "source": [
    "g_fwi  = geos_fwi[\"GPM.LATE.v5_FWI\"]\n",
    "#g_fwi = g_fwi.rio.set_spatial_dims(x_dim= \"lat\", y_dim = \"lon\")\n",
    "#print(min_lon)\n",
    "#g_fwi.lon\n",
    "\n",
    "#gsmall = g_fwi.sel(time =\"2021-08\", drop = True)\n",
    "\n",
    "min_lat = 38.5\n",
    "max_lat = 39.0\n",
    "min_lon = -121.0 \n",
    "max_lon = -119.50\n",
    "\n",
    "gsmall = g_fwi.sel(time =\"2021-08\", lat = slice(min_lat, max_lat), lon = slice(min_lon, max_lon))\n",
    "gsmall.sel(time = \"2021-08-01\").plot()\n",
    "gsmall.sel(lat = foi.lat, lon = foi.lon).plot()\n"
   ]
  },
  {
   "cell_type": "code",
   "execution_count": 15,
   "id": "b05c5e6e",
   "metadata": {},
   "outputs": [],
   "source": [
    "\n",
    "\n",
    "#geos_fwi_sub = g_fwi.rio.clip_box(minx=min_lon, miny=min_lat, maxx=max_lon, maxy=max_lat)\n",
    "\n",
    "#tmp = g_fwi.where((g_fwi.lat > min_lat) & (g_fwi.lat < max_lat), drop=True) #THIS MAXES OUT THE MEMORY"
   ]
  },
  {
   "cell_type": "code",
   "execution_count": 21,
   "id": "1910e7ee",
   "metadata": {},
   "outputs": [
    {
     "data": {
      "text/plain": [
       "\u001b[0;31mSignature:\u001b[0m\n",
       "\u001b[0mg_fwi\u001b[0m\u001b[0;34m.\u001b[0m\u001b[0msel\u001b[0m\u001b[0;34m(\u001b[0m\u001b[0;34m\u001b[0m\n",
       "\u001b[0;34m\u001b[0m    \u001b[0mindexers\u001b[0m\u001b[0;34m:\u001b[0m \u001b[0;34m'Mapping[Any, Any]'\u001b[0m \u001b[0;34m=\u001b[0m \u001b[0;32mNone\u001b[0m\u001b[0;34m,\u001b[0m\u001b[0;34m\u001b[0m\n",
       "\u001b[0;34m\u001b[0m    \u001b[0mmethod\u001b[0m\u001b[0;34m:\u001b[0m \u001b[0;34m'str'\u001b[0m \u001b[0;34m=\u001b[0m \u001b[0;32mNone\u001b[0m\u001b[0;34m,\u001b[0m\u001b[0;34m\u001b[0m\n",
       "\u001b[0;34m\u001b[0m    \u001b[0mtolerance\u001b[0m\u001b[0;34m=\u001b[0m\u001b[0;32mNone\u001b[0m\u001b[0;34m,\u001b[0m\u001b[0;34m\u001b[0m\n",
       "\u001b[0;34m\u001b[0m    \u001b[0mdrop\u001b[0m\u001b[0;34m:\u001b[0m \u001b[0;34m'bool'\u001b[0m \u001b[0;34m=\u001b[0m \u001b[0;32mFalse\u001b[0m\u001b[0;34m,\u001b[0m\u001b[0;34m\u001b[0m\n",
       "\u001b[0;34m\u001b[0m    \u001b[0;34m**\u001b[0m\u001b[0mindexers_kwargs\u001b[0m\u001b[0;34m:\u001b[0m \u001b[0;34m'Any'\u001b[0m\u001b[0;34m,\u001b[0m\u001b[0;34m\u001b[0m\n",
       "\u001b[0;34m\u001b[0m\u001b[0;34m)\u001b[0m \u001b[0;34m->\u001b[0m \u001b[0;34m'T_DataArray'\u001b[0m\u001b[0;34m\u001b[0m\u001b[0;34m\u001b[0m\u001b[0m\n",
       "\u001b[0;31mDocstring:\u001b[0m\n",
       "Return a new DataArray whose data is given by selecting index\n",
       "labels along the specified dimension(s).\n",
       "\n",
       "In contrast to `DataArray.isel`, indexers for this method should use\n",
       "labels instead of integers.\n",
       "\n",
       "Under the hood, this method is powered by using pandas's powerful Index\n",
       "objects. This makes label based indexing essentially just as fast as\n",
       "using integer indexing.\n",
       "\n",
       "It also means this method uses pandas's (well documented) logic for\n",
       "indexing. This means you can use string shortcuts for datetime indexes\n",
       "(e.g., '2000-01' to select all values in January 2000). It also means\n",
       "that slices are treated as inclusive of both the start and stop values,\n",
       "unlike normal Python indexing.\n",
       "\n",
       ".. warning::\n",
       "\n",
       "  Do not try to assign values when using any of the indexing methods\n",
       "  ``isel`` or ``sel``::\n",
       "\n",
       "    da = xr.DataArray([0, 1, 2, 3], dims=['x'])\n",
       "    # DO NOT do this\n",
       "    da.isel(x=[0, 1, 2])[1] = -1\n",
       "\n",
       "  Assigning values with the chained indexing using ``.sel`` or\n",
       "  ``.isel`` fails silently.\n",
       "\n",
       "Parameters\n",
       "----------\n",
       "indexers : dict, optional\n",
       "    A dict with keys matching dimensions and values given\n",
       "    by scalars, slices or arrays of tick labels. For dimensions with\n",
       "    multi-index, the indexer may also be a dict-like object with keys\n",
       "    matching index level names.\n",
       "    If DataArrays are passed as indexers, xarray-style indexing will be\n",
       "    carried out. See :ref:`indexing` for the details.\n",
       "    One of indexers or indexers_kwargs must be provided.\n",
       "method : {None, \"nearest\", \"pad\", \"ffill\", \"backfill\", \"bfill\"}, optional\n",
       "    Method to use for inexact matches:\n",
       "\n",
       "    - None (default): only exact matches\n",
       "    - pad / ffill: propagate last valid index value forward\n",
       "    - backfill / bfill: propagate next valid index value backward\n",
       "    - nearest: use nearest valid index value\n",
       "\n",
       "tolerance : optional\n",
       "    Maximum distance between original and new labels for inexact\n",
       "    matches. The values of the index at the matching locations must\n",
       "    satisfy the equation ``abs(index[indexer] - target) <= tolerance``.\n",
       "drop : bool, optional\n",
       "    If ``drop=True``, drop coordinates variables in `indexers` instead\n",
       "    of making them scalar.\n",
       "**indexers_kwargs : {dim: indexer, ...}, optional\n",
       "    The keyword arguments form of ``indexers``.\n",
       "    One of indexers or indexers_kwargs must be provided.\n",
       "\n",
       "Returns\n",
       "-------\n",
       "obj : DataArray\n",
       "    A new DataArray with the same contents as this DataArray, except the\n",
       "    data and each dimension is indexed by the appropriate indexers.\n",
       "    If indexer DataArrays have coordinates that do not conflict with\n",
       "    this object, then these coordinates will be attached.\n",
       "    In general, each array's data will be a view of the array's data\n",
       "    in this DataArray, unless vectorized indexing was triggered by using\n",
       "    an array indexer, in which case the data will be a copy.\n",
       "\n",
       "See Also\n",
       "--------\n",
       "Dataset.sel\n",
       "DataArray.isel\n",
       "\n",
       "Examples\n",
       "--------\n",
       ">>> da = xr.DataArray(\n",
       "...     np.arange(25).reshape(5, 5),\n",
       "...     coords={\"x\": np.arange(5), \"y\": np.arange(5)},\n",
       "...     dims=(\"x\", \"y\"),\n",
       "... )\n",
       ">>> da\n",
       "<xarray.DataArray (x: 5, y: 5)>\n",
       "array([[ 0,  1,  2,  3,  4],\n",
       "       [ 5,  6,  7,  8,  9],\n",
       "       [10, 11, 12, 13, 14],\n",
       "       [15, 16, 17, 18, 19],\n",
       "       [20, 21, 22, 23, 24]])\n",
       "Coordinates:\n",
       "  * x        (x) int64 0 1 2 3 4\n",
       "  * y        (y) int64 0 1 2 3 4\n",
       "\n",
       ">>> tgt_x = xr.DataArray(np.linspace(0, 4, num=5), dims=\"points\")\n",
       ">>> tgt_y = xr.DataArray(np.linspace(0, 4, num=5), dims=\"points\")\n",
       ">>> da = da.sel(x=tgt_x, y=tgt_y, method=\"nearest\")\n",
       ">>> da\n",
       "<xarray.DataArray (points: 5)>\n",
       "array([ 0,  6, 12, 18, 24])\n",
       "Coordinates:\n",
       "    x        (points) int64 0 1 2 3 4\n",
       "    y        (points) int64 0 1 2 3 4\n",
       "Dimensions without coordinates: points\n",
       "\u001b[0;31mFile:\u001b[0m      ~/myenvs/fireatlas_oct4/lib/python3.8/site-packages/xarray/core/dataarray.py\n",
       "\u001b[0;31mType:\u001b[0m      method\n"
      ]
     },
     "metadata": {},
     "output_type": "display_data"
    }
   ],
   "source": [
    "?g_fwi.sel"
   ]
  },
  {
   "cell_type": "code",
   "execution_count": null,
   "id": "52cd959d",
   "metadata": {},
   "outputs": [],
   "source": []
  }
 ],
 "metadata": {
  "kernelspec": {
   "display_name": "Python (fireatlas_oct4_2)",
   "language": "python",
   "name": "fireatlas_oct4"
  },
  "language_info": {
   "codemirror_mode": {
    "name": "ipython",
    "version": 3
   },
   "file_extension": ".py",
   "mimetype": "text/x-python",
   "name": "python",
   "nbconvert_exporter": "python",
   "pygments_lexer": "ipython3",
   "version": "3.8.13"
  }
 },
 "nbformat": 4,
 "nbformat_minor": 5
}
