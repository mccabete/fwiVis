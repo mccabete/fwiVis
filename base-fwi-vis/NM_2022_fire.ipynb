{
 "cells": [
  {
   "cell_type": "code",
   "execution_count": 1,
   "id": "23da3f3a",
   "metadata": {},
   "outputs": [],
   "source": [
    "import s3fs\n",
    "s3 = s3fs.S3FileSystem(anon=False)\n",
    "import fwiVis.fwiVis as fv\n",
    "\n",
    "\n",
    "from math import cos, asin, sqrt\n",
    "import re\n",
    "import dask ## Needed to install, but didn't update env\n",
    "\n",
    "import numpy as np\n",
    "import geopandas as gpd\n",
    "\n",
    "import pandas as pd\n",
    "from pandas.errors import SettingWithCopyWarning\n",
    "from matplotlib import pyplot as plt\n",
    "import os\n",
    "import rioxarray as rio\n",
    "import xarray as xr\n",
    "\n",
    "\n",
    "from shapely.errors import ShapelyDeprecationWarning\n",
    "from shapely.geometry import Point\n",
    "import warnings\n",
    "\n",
    "import datetime\n",
    "from datetime import date\n",
    "import traceback\n",
    "\n",
    "warnings.filterwarnings(\"ignore\", category=ShapelyDeprecationWarning) \n",
    "warnings.filterwarnings(\"ignore\", category=SettingWithCopyWarning) \n",
    "# SettingWithCopyWarning\n",
    "#UserWarning"
   ]
  },
  {
   "cell_type": "code",
   "execution_count": 16,
   "id": "fa91f227",
   "metadata": {},
   "outputs": [],
   "source": [
    "#snap = fv.prep_gdf(date = '20220525PM',handle_multi=False,only_lf=True,area_lim=4.7, path_region = \"CONUS_NRT\", year = \"2022\")"
   ]
  },
  {
   "cell_type": "code",
   "execution_count": 17,
   "id": "067a4224",
   "metadata": {},
   "outputs": [],
   "source": [
    "#snap.explore()"
   ]
  },
  {
   "cell_type": "code",
   "execution_count": 23,
   "id": "e78e4544",
   "metadata": {},
   "outputs": [
    {
     "data": {
      "text/plain": [
       "'/projects/shared-buckets/gsfc_landslides/FEDSoutput-s3-conus/CONUS_NRT/2022/Largefire/F52776'"
      ]
     },
     "execution_count": 23,
     "metadata": {},
     "output_type": "execute_result"
    }
   ],
   "source": [
    "### Hermit's Peak/ Calf Canyon Fire in New Mexico \n",
    "path_region =  \"CONUS_NRT\"\n",
    "year = \"2022\"\n",
    "fireID = '52776'\n",
    "#gdf = fv.load_large_fire('52776', year = year, path_region= path_region)\n",
    "\n",
    "'/projects/shared-buckets/gsfc_landslides/FEDSoutput-s3-conus/' + path_region +'/'+ year +'/Largefire/F' + fireID "
   ]
  },
  {
   "cell_type": "code",
   "execution_count": null,
   "id": "c2b86c58",
   "metadata": {},
   "outputs": [],
   "source": []
  }
 ],
 "metadata": {
  "kernelspec": {
   "display_name": "Python (fireatlas_oct4_2)",
   "language": "python",
   "name": "fireatlas_oct4"
  },
  "language_info": {
   "codemirror_mode": {
    "name": "ipython",
    "version": 3
   },
   "file_extension": ".py",
   "mimetype": "text/x-python",
   "name": "python",
   "nbconvert_exporter": "python",
   "pygments_lexer": "ipython3",
   "version": "3.8.16"
  }
 },
 "nbformat": 4,
 "nbformat_minor": 5
}
