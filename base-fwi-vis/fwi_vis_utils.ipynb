{
 "cells": [
  {
   "cell_type": "code",
   "execution_count": 1,
   "id": "6a4c53ed",
   "metadata": {},
   "outputs": [],
   "source": [
    "import fwiVis.fwiVis as fv\n",
    "import s3fs\n",
    "s3 = s3fs.S3FileSystem(anon=False)\n",
    "from math import cos, asin, sqrt\n",
    "import re\n",
    "\n",
    "import numpy as np\n",
    "import geopandas as gpd\n",
    "import pandas as pd\n",
    "from matplotlib import pyplot as plt\n",
    "import os\n",
    "import rioxarray as rio\n",
    "import xarray as xr\n",
    "import rasterio\n",
    "import glob\n",
    "from geocube.api.core import make_geocube\n",
    "from shapely.errors import ShapelyDeprecationWarning\n",
    "from shapely.geometry import Point\n",
    "import warnings\n",
    "import folium\n",
    "from folium import plugins\n",
    "warnings.filterwarnings(\"ignore\", category=ShapelyDeprecationWarning) \n"
   ]
  },
  {
   "cell_type": "code",
   "execution_count": 2,
   "id": "a9c01e1e",
   "metadata": {},
   "outputs": [],
   "source": [
    "## Load up helper objects\n",
    "\n",
    "files = s3.ls(\"s3://veda-data-store-staging/EIS/other/station-FWI/20000101.20220925.hrlyInterp/FWI/\") # This will update through time. Not nessisary now because focus on 2019\n",
    "st_id_map = pd.read_csv(\"/projects/my-public-bucket/fire_weather_vis/ref_data/isd-history.csv\") ## For mappting ID's to lat lon\n",
    "\n",
    "# Helper Variable\n",
    "stations = fv.st_avail(files, st_id_map = st_id_map)\n",
    "#stations"
   ]
  },
  {
   "cell_type": "code",
   "execution_count": null,
   "id": "480de6ab",
   "metadata": {},
   "outputs": [],
   "source": []
  },
  {
   "cell_type": "code",
   "execution_count": null,
   "id": "ba3978a1",
   "metadata": {},
   "outputs": [],
   "source": []
  }
 ],
 "metadata": {
  "kernelspec": {
   "display_name": "Python (fireatlas_oct4_2)",
   "language": "python",
   "name": "fireatlas_oct4"
  },
  "language_info": {
   "codemirror_mode": {
    "name": "ipython",
    "version": 3
   },
   "file_extension": ".py",
   "mimetype": "text/x-python",
   "name": "python",
   "nbconvert_exporter": "python",
   "pygments_lexer": "ipython3",
   "version": "3.8.13"
  }
 },
 "nbformat": 4,
 "nbformat_minor": 5
}
