{
 "cells": [
  {
   "cell_type": "code",
   "execution_count": null,
   "id": "8a259c78",
   "metadata": {},
   "outputs": [],
   "source": [
    "import xarray as xr\n",
    "import s3sf as s3\n",
    "import geopandas as gpd"
   ]
  },
  {
   "cell_type": "code",
   "execution_count": null,
   "id": "4b4646b1",
   "metadata": {},
   "outputs": [],
   "source": [
    "\n",
    "\n",
    "## Read in IMERGE (is this the best place for this?)\n",
    "\n",
    "if (time_freq == \"daily\"):\n",
    "    imerge = xr.open_dataset(\"s3://veda-data-store-staging/EIS/zarr/GEOS5_FWI_GPM_LATE_v5_Daily.zarr\", engine=\"zarr\")\n",
    "    imerge.rio.write_crs(\"epsg:4326\", inplace=True)\n",
    "    imerge.rio.set_spatial_dims(x_dim = \"lon\", y_dim = \"lat\", inplace = True)\n",
    "if (time_freq == \"hourly\"):\n",
    "    imerge = xr.open_dataset(\"s3://veda-data-store-staging/EIS/zarr/FWI-GEOS-5-Hourly\", engine=\"zarr\")\n",
    "    imerge = imerge[\"GEOS-5_FWI\"]\n",
    "    imerge.rio.write_crs(\"epsg:4326\", inplace=True)\n",
    "    imerge.rio.set_spatial_dims(x_dim = \"lon\", y_dim = \"lat\", inplace = True)\n",
    "\n",
    "\n",
    "## Get imerge -- Need to do on whole area? How manke more computationally efficient?\n",
    "final_perimeter = max(gdf[gdf.t == max(gdf.t)].geometry)\n",
    "#print(final_perimeter.envelope.exterior.coords.xy)\n",
    "lons = final_perimeter.envelope.exterior.coords.xy[0]\n",
    "lats = final_perimeter.envelope.exterior.coords.xy[1]\n",
    "img_clip = imerge.rio.clip_box(minx = min(lons), miny = min(lats), maxx=max(lons), maxy = max(lats), auto_expand= True)\n",
    "\n",
    "if(add_anomolies):\n",
    "    img_clip = fv.imerge_climate(img_clip ,clim = [\"rank\", \"anomolie\",\"rank_anomolie\"], var = [\"FWI\"])\n",
    "\n",
    "img_clip = img_clip.sel(time = slice(min(gdf.t), max(gdf.t))).mean(dim = [\"lat\", \"lon\"])\n",
    "img_clip = img_clip.to_dataframe()\n",
    "img_clip.drop(columns = \"spatial_ref\", inplace = True)\n",
    "img_clip.dropna(inplace = True)\n",
    "\n",
    "#gdf[\"fireID\"] = id\n",
    "gdf = gdf.rename(columns = {\"t\" : \"time\"})\n",
    "gdf['time'] = gdf['time'].astype('datetime64[ns]')\n",
    "full = pd.merge(gdf,img_clip, on = \"time\", how = \"outer\")\n",
    "full = full.rename(columns = {\"time\": \"t\"}) ## Seems silly but I cant get the img_clip to convert it's name\n"
   ]
  }
 ],
 "metadata": {
  "kernelspec": {
   "display_name": "Python (fireatlas_oct4_2)",
   "language": "python",
   "name": "fireatlas_oct4"
  },
  "language_info": {
   "codemirror_mode": {
    "name": "ipython",
    "version": 3
   },
   "file_extension": ".py",
   "mimetype": "text/x-python",
   "name": "python",
   "nbconvert_exporter": "python",
   "pygments_lexer": "ipython3",
   "version": "3.8.16"
  }
 },
 "nbformat": 4,
 "nbformat_minor": 5
}
