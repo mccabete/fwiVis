{
 "cells": [
  {
   "cell_type": "code",
   "execution_count": 4,
   "id": "1b2db09c",
   "metadata": {},
   "outputs": [],
   "source": [
    "import fwiVis.fwiVis as fv\n",
    "import s3fs\n",
    "s3 = s3fs.S3FileSystem(anon=False)\n",
    "from math import cos, asin, sqrt\n",
    "import re\n",
    "\n",
    "import numpy as np\n",
    "import geopandas as gpd\n",
    "import pandas as pd\n",
    "from matplotlib import pyplot as plt\n",
    "import os\n",
    "import rioxarray as rio\n",
    "import xarray as xr\n",
    "import rasterio\n",
    "import glob\n",
    "from geocube.api.core import make_geocube\n",
    "from shapely.errors import ShapelyDeprecationWarning\n",
    "from shapely.geometry import Point\n",
    "import warnings\n",
    "import folium\n",
    "import datetime\n",
    "from folium import plugins\n",
    "warnings.filterwarnings(\"ignore\", category=ShapelyDeprecationWarning) "
   ]
  },
  {
   "cell_type": "code",
   "execution_count": 5,
   "id": "0b1c0b7b",
   "metadata": {},
   "outputs": [],
   "source": [
    "def load_large_fire(fireID, year = \"2019\", path_region = \"WesternUS\"):\n",
    "    '''\n",
    "    loads in largefire file based on fireID and layer, then preps it for \"explore\" by adding centriod data. Currently limited to one year. \n",
    "    \n",
    "    INPUTS:\n",
    "        \n",
    "        fireID (str): fireID offire of interest. Can be found in gdf files read in by prep_gdf and load_file. Can be selected interactivly form a gdf if use gdf.explore()\n",
    "        year (str): Year that fires took place. Default to 2019. Availible options differ by path_region. \n",
    "        path_region (str): This constructs the path that the fires are stored in. WesternUS and CONUS availible. \n",
    "    '''\n",
    "    lf_files = glob.glob('/projects/shared-buckets/gsfc_landslides/FEDSoutput-s3-conus/' + path_region +'/'+ year +'/Largefire/F' + fireID + '_*') \n",
    "    lf_ids = list(set([file.split('Largefire/')[1].split('_')[0] for file in lf_files])) \n",
    "    largefire_dict = dict.fromkeys(lf_ids)\n",
    "    \n",
    "    for lf_id in lf_ids:\n",
    "         most_recent_file = [file for file in lf_files if lf_id in file][-1]\n",
    "         largefire_dict[lf_id] = most_recent_file\n",
    "    \n",
    "    gdf = pd.concat([gpd.read_file(file,layer='perimeter') for key, file in largefire_dict.items()], \n",
    "                   ignore_index=True)\n",
    "    gdf = gdf.to_crs('EPSG:4326')\n",
    "    gdf['lon'] = gdf.centroid.x\n",
    "    gdf['lat'] = gdf.centroid.y\n",
    "    return gdf"
   ]
  },
  {
   "cell_type": "code",
   "execution_count": 7,
   "id": "ecf60b30",
   "metadata": {},
   "outputs": [],
   "source": [
    "def load_latest_large_fire(fireID, year = \"2019\", path_region = \"WesternUS\"):\n",
    "    '''\n",
    "    loads in largefire file based on fireID and layer, then preps it for \"explore\" by adding centriod data. Currently limited to one year. \n",
    "    \n",
    "    INPUTS:\n",
    "        \n",
    "        fireID (str): fireID offire of interest. Can be found in gdf files read in by prep_gdf and load_file. Can be selected interactivly form a gdf if use gdf.explore()\n",
    "        year (str): Year that fires took place. Default to 2019. Availible options differ by path_region. \n",
    "        path_region (str): This constructs the path that the fires are stored in. WesternUS and CONUS availible. \n",
    "    '''\n",
    "    lf_files = glob.glob('/projects/shared-buckets/gsfc_landslides/FEDSoutput-s3-conus/' + path_region +'/'+ year +'/Largefire/F' + fireID + '_*') \n",
    "    lf_ids = list(set([file.split('Largefire/')[1].split('_')[0] for file in lf_files])) \n",
    "    largefire_dict = dict.fromkeys(lf_ids)\n",
    "    \n",
    "    for lf_id in lf_ids:\n",
    "        most_recent_file = [file for file in lf_files if lf_id in file][-1]\n",
    "        print(most_recent_file)\n",
    "         #largefire_dict[lf_id] = most_recent_file\n",
    "    \n",
    "#     gdf = pd.concat([gpd.read_file(file,layer='perimeter') for key, file in largefire_dict.items()], \n",
    "#                    ignore_index=True)\n",
    "#     gdf = gdf.to_crs('EPSG:4326')\n",
    "#     gdf['lon'] = gdf.centroid.x\n",
    "#     gdf['lat'] = gdf.centroid.y\n",
    "#     return gdf"
   ]
  },
  {
   "cell_type": "code",
   "execution_count": 9,
   "id": "47683d31",
   "metadata": {},
   "outputs": [
    {
     "name": "stdout",
     "output_type": "stream",
     "text": [
      "/projects/shared-buckets/gsfc_landslides/FEDSoutput-s3-conus/CONUS_NRT/2022/Largefire/F10215_20220302AM\n"
     ]
    }
   ],
   "source": [
    "fireID = '10215'\n",
    "load_latest_large_fire(fireID, year = \"2022\", path_region = \"CONUS_NRT\")\n"
   ]
  },
  {
   "cell_type": "code",
   "execution_count": null,
   "id": "aefc49ab",
   "metadata": {},
   "outputs": [],
   "source": []
  }
 ],
 "metadata": {
  "kernelspec": {
   "display_name": "Python (fireatlas_oct4_2)",
   "language": "python",
   "name": "fireatlas_oct4"
  },
  "language_info": {
   "codemirror_mode": {
    "name": "ipython",
    "version": 3
   },
   "file_extension": ".py",
   "mimetype": "text/x-python",
   "name": "python",
   "nbconvert_exporter": "python",
   "pygments_lexer": "ipython3",
   "version": "3.8.16"
  }
 },
 "nbformat": 4,
 "nbformat_minor": 5
}
