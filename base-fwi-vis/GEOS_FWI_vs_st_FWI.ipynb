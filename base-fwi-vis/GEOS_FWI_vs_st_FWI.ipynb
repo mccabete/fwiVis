{
 "cells": [
  {
   "cell_type": "code",
   "execution_count": 8,
   "id": "1d21e5b8",
   "metadata": {},
   "outputs": [],
   "source": [
    "import s3fs\n",
    "s3 = s3fs.S3FileSystem(anon=False)\n",
    "from math import cos, asin, sqrt\n",
    "import re\n",
    "\n",
    "import numpy as np\n",
    "import geopandas as gpd\n",
    "import pandas as pd\n",
    "from matplotlib import pyplot as plt\n",
    "import os\n",
    "import rioxarray as rio\n",
    "import xarray as xr\n",
    "import rasterio\n",
    "import glob\n",
    "from geocube.api.core import make_geocube\n",
    "from shapely.errors import ShapelyDeprecationWarning\n",
    "from shapely.geometry import Point\n",
    "import warnings\n",
    "import folium\n",
    "from folium import plugins\n",
    "warnings.filterwarnings(\"ignore\", category=ShapelyDeprecationWarning)"
   ]
  },
  {
   "cell_type": "code",
   "execution_count": 9,
   "id": "c6743bff",
   "metadata": {},
   "outputs": [
    {
     "data": {
      "text/plain": [
       "['veda-data-store-staging/EIS/Bangladesh_Data',\n",
       " 'veda-data-store-staging/EIS/CEOS_DATA',\n",
       " 'veda-data-store-staging/EIS/CFMinput',\n",
       " 'veda-data-store-staging/EIS/CMS_FLUX_DATA',\n",
       " 'veda-data-store-staging/EIS/COG',\n",
       " 'veda-data-store-staging/EIS/Global_TWS_data',\n",
       " 'veda-data-store-staging/EIS/JPL_BIOMASS_DATA',\n",
       " 'veda-data-store-staging/EIS/LIS_FWI',\n",
       " 'veda-data-store-staging/EIS/LIS_FWI_wComp',\n",
       " 'veda-data-store-staging/EIS/LIS_WESTERNUS_MULTIDA',\n",
       " 'veda-data-store-staging/EIS/cog',\n",
       " 'veda-data-store-staging/EIS/geoparquet',\n",
       " 'veda-data-store-staging/EIS/netcdf3',\n",
       " 'veda-data-store-staging/EIS/other',\n",
       " 'veda-data-store-staging/EIS/zarr']"
      ]
     },
     "execution_count": 9,
     "metadata": {},
     "output_type": "execute_result"
    }
   ],
   "source": [
    "s3.ls(\"s3://veda-data-store-staging/EIS/\")"
   ]
  },
  {
   "cell_type": "code",
   "execution_count": 10,
   "id": "3b19f335",
   "metadata": {},
   "outputs": [
    {
     "data": {
      "text/plain": [
       "['veda-data-store-staging/EIS/zarr/.zgroup',\n",
       " 'veda-data-store-staging/EIS/zarr/FWI.GEOS-5.zarr',\n",
       " 'veda-data-store-staging/EIS/zarr/FWI_GPM_LATE_v5_Daily.zarr',\n",
       " 'veda-data-store-staging/EIS/zarr/GEOS5_FWI_GPM_LATE_v5_Daily.zarr',\n",
       " 'veda-data-store-staging/EIS/zarr/OCO2_GEOS_L3CO2_day.zarr',\n",
       " 'veda-data-store-staging/EIS/zarr/SPL3SMP.zarr']"
      ]
     },
     "execution_count": 10,
     "metadata": {},
     "output_type": "execute_result"
    }
   ],
   "source": [
    "s3.ls(\"s3://veda-data-store-staging/EIS/zarr\")"
   ]
  },
  {
   "cell_type": "code",
   "execution_count": null,
   "id": "a6cea647",
   "metadata": {},
   "outputs": [],
   "source": [
    "# s3://veda-data-store-staging/EIS/zarr/GEOS5_FWI_GPM_LATE_v5_Daily.zarr/\n",
    "\n",
    "\n"
   ]
  }
 ],
 "metadata": {
  "kernelspec": {
   "display_name": "Python (fireatlas_oct4_2)",
   "language": "python",
   "name": "fireatlas_oct4"
  },
  "language_info": {
   "codemirror_mode": {
    "name": "ipython",
    "version": 3
   },
   "file_extension": ".py",
   "mimetype": "text/x-python",
   "name": "python",
   "nbconvert_exporter": "python",
   "pygments_lexer": "ipython3",
   "version": "3.8.13"
  }
 },
 "nbformat": 4,
 "nbformat_minor": 5
}
